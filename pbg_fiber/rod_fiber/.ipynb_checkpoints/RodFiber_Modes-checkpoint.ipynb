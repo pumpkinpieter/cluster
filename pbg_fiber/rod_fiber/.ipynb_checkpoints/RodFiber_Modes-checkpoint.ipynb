{
 "cells": [
  {
   "cell_type": "markdown",
   "id": "5481d90e",
   "metadata": {},
   "source": [
    "# Rod Fiber Mode Notebook\n",
    "\n",
    "This notebook is used to find and view modes for the PBG fiber from : Litchinitser et al., “Resonances in Microstructured Optical Waveguides.\"  We expect this fiber to have ripples in the high index region."
   ]
  },
  {
   "cell_type": "code",
   "execution_count": 1,
   "id": "c3158f26",
   "metadata": {},
   "outputs": [],
   "source": [
    "import ngsolve as ng\n",
    "from ngsolve.webgui import Draw\n",
    "\n",
    "from fiberamp.fiber.microstruct.pbg import PBG, load_pbg_mode\n",
    "from fiberamp.fiber.microstruct.pbg.fiber_dicts.rod import params"
   ]
  },
  {
   "cell_type": "code",
   "execution_count": 2,
   "id": "7eb8a119",
   "metadata": {},
   "outputs": [
    {
     "name": "stdout",
     "output_type": "stream",
     "text": [
      "no buffer no polymer\n",
      "Generating mesh.\n",
      "Mesh created.\n",
      "ModeSolver: Checking if mesh has required regions\n",
      "Mesh has  14982  elements,  7510  points,  and  22491  edges.\n"
     ]
    }
   ],
   "source": [
    "A = PBG(params)\n"
   ]
  },
  {
   "cell_type": "code",
   "execution_count": 3,
   "id": "9c58d10d",
   "metadata": {},
   "outputs": [
    {
     "data": {
      "application/vnd.jupyter.widget-view+json": {
       "model_id": "74a1da19b60a4a419488c9fcac6c3361",
       "version_major": 2,
       "version_minor": 0
      },
      "text/plain": [
       "WebGuiWidget(layout=Layout(height='50vh', width='100%'), value={'gui_settings': {}, 'ngsolve_version': '6.2.23…"
      ]
     },
     "metadata": {},
     "output_type": "display_data"
    },
    {
     "data": {
      "text/plain": [
       "BaseWebGuiScene"
      ]
     },
     "execution_count": 3,
     "metadata": {},
     "output_type": "execute_result"
    }
   ],
   "source": [
    "Draw(A.index, A.mesh)\n"
   ]
  },
  {
   "cell_type": "markdown",
   "id": "b56f6863",
   "metadata": {},
   "source": [
    "# Scalar Modes"
   ]
  },
  {
   "cell_type": "code",
   "execution_count": 4,
   "id": "5f089991",
   "metadata": {},
   "outputs": [
    {
     "name": "stdout",
     "output_type": "stream",
     "text": [
      "ModeSolver.leakymode called on object with these settings:\n",
      " <fiberamp.fiber.microstruct.pbg.PBG.PBG object at 0x7f72cb860c10>\n",
      "Set freq-dependent PML with p= 3  alpha= 5 and thickness=2.000\n",
      "\n",
      "SpectralProj: Setting shifted trapezoidal rule on elliptical contour\n",
      "SpectralProjNGPoly: Checking if A[d] is nonzero & Hermitian.\n",
      "SpectralProjNG: Checking if inverse.H works for umfpack\n",
      "SpectralProjNGPoly: Computing resolvents along the contour using\n",
      "                    inverse type umfpack (installed default umfpack)\n",
      "SpectralProjNGPoly: Factorizing 67474x67474 system at z =  +1.251 -0.005j\n",
      "SpectralProjNGPoly: Factorizing 67474x67474 system at z =  +1.237 -0.005j\n",
      "SpectralProjNGPoly: Factorizing 67474x67474 system at z =  +1.237 -0.007j\n",
      "SpectralProjNGPoly: Factorizing 67474x67474 system at z =  +1.251 -0.007j\n",
      "\n",
      "=========== Starting FEAST iterations ===========\n",
      "Trying with 4 vectors:\n",
      "\n",
      " ITERATION 1 with 4 vectors and 4 left vectors\n",
      "   During kernel cleaning abs(g):\n",
      "   [9.7e-12 3.1e-12 1.0e-11 4.7e-12]\n",
      "   Real part of computed eigenvalues:\n",
      "   [1.11662646 1.11989125 1.1243175  1.12685235]\n",
      "   Imag part of computed eigenvalues:\n",
      "   [ 0.00048374 -0.00226773  0.00409367 -0.00115109]\n",
      "   Relative Hausdorff distance from prior iterate: 7.976e+99\n",
      "\n",
      " ITERATION 2 with 4 vectors and 4 left vectors\n",
      "   During kernel cleaning abs(g):\n",
      "   [0.5 0.4 0.3 0.2]\n",
      "   Real part of computed eigenvalues:\n",
      "   [1.11563306 1.12001493 1.12320162 1.12520218]\n",
      "   Imag part of computed eigenvalues:\n",
      "   [ 0.00234633  0.00136167 -0.00172963 -0.00127369]\n",
      "   Relative Hausdorff distance from prior iterate: 4.065e-03\n",
      "\n",
      " ITERATION 3 with 4 vectors and 4 left vectors\n",
      "   During kernel cleaning abs(g):\n",
      "   [7.8e-12 7.7e-12 9.2e-12 9.1e-12]\n",
      "   Real part of computed eigenvalues:\n",
      "   [1.11436342 1.12061582 1.1224829  1.12590297]\n",
      "   Imag part of computed eigenvalues:\n",
      "   [ 0.006279    0.00056191 -0.00136261 -0.00064207]\n",
      "   Relative Hausdorff distance from prior iterate: 3.296e-03\n",
      "\n",
      " ITERATION 4 with 4 vectors and 4 left vectors\n",
      "   During kernel cleaning abs(g):\n",
      "   [0.3 0.7 0.4 0.4]\n",
      "   Real part of computed eigenvalues:\n",
      "   [1.11924618 1.12135613 1.1220331  1.12610703]\n",
      "   Imag part of computed eigenvalues:\n",
      "   [ 0.01414698 -0.00137725 -0.00015027 -0.00018102]\n",
      "   Relative Hausdorff distance from prior iterate: 7.385e-03\n",
      "\n",
      " ITERATION 5 with 4 vectors and 4 left vectors\n",
      "   During kernel cleaning abs(g):\n",
      "   [2.0e-11 1.0e-11 1.1e-11 1.1e-11]\n",
      "   Real part of computed eigenvalues:\n",
      "   [1.12104921 1.12278671 1.1262303  1.12910867]\n",
      "   Imag part of computed eigenvalues:\n",
      "   [-0.00259597  0.00010011  0.00013739  0.00886216]\n",
      "   Relative Hausdorff distance from prior iterate: 8.924e-03\n",
      "\n",
      " ITERATION 6 with 4 vectors and 4 left vectors\n"
     ]
    },
    {
     "ename": "KeyboardInterrupt",
     "evalue": "",
     "output_type": "error",
     "traceback": [
      "\u001b[0;31m---------------------------------------------------------------------------\u001b[0m",
      "\u001b[0;31mKeyboardInterrupt\u001b[0m                         Traceback (most recent call last)",
      "Cell \u001b[0;32mIn[4], line 5\u001b[0m\n\u001b[1;32m      2\u001b[0m radius \u001b[38;5;241m=\u001b[39m \u001b[38;5;241m.01\u001b[39m\n\u001b[1;32m      3\u001b[0m p \u001b[38;5;241m=\u001b[39m \u001b[38;5;241m3\u001b[39m\n\u001b[0;32m----> 5\u001b[0m z, y, yl, beta, P, _ \u001b[38;5;241m=\u001b[39m \u001b[43mA\u001b[49m\u001b[38;5;241;43m.\u001b[39;49m\u001b[43mleakymode\u001b[49m\u001b[43m(\u001b[49m\u001b[43mp\u001b[49m\u001b[43m,\u001b[49m\u001b[43m \u001b[49m\u001b[43mrad\u001b[49m\u001b[38;5;241;43m=\u001b[39;49m\u001b[43mradius\u001b[49m\u001b[43m,\u001b[49m\u001b[43m \u001b[49m\u001b[43mctr\u001b[49m\u001b[38;5;241;43m=\u001b[39;49m\u001b[43mcenter\u001b[49m\u001b[43m,\u001b[49m\n\u001b[1;32m      6\u001b[0m \u001b[43m                                   \u001b[49m\u001b[43malpha\u001b[49m\u001b[38;5;241;43m=\u001b[39;49m\u001b[38;5;241;43m5\u001b[39;49m\u001b[43m,\u001b[49m\u001b[43m \u001b[49m\u001b[43mstop_tol\u001b[49m\u001b[38;5;241;43m=\u001b[39;49m\u001b[38;5;241;43m1e-8\u001b[39;49m\u001b[43m,\u001b[49m\n\u001b[1;32m      7\u001b[0m \u001b[43m                                   \u001b[49m\u001b[43mquadrule\u001b[49m\u001b[38;5;241;43m=\u001b[39;49m\u001b[38;5;124;43m'\u001b[39;49m\u001b[38;5;124;43mellipse_trapez_shift\u001b[39;49m\u001b[38;5;124;43m'\u001b[39;49m\u001b[43m,\u001b[49m\n\u001b[1;32m      8\u001b[0m \u001b[43m                                   \u001b[49m\u001b[43mrhoinv\u001b[49m\u001b[38;5;241;43m=\u001b[39;49m\u001b[38;5;241;43m.9\u001b[39;49m\u001b[43m,\u001b[49m\u001b[43m \u001b[49m\n\u001b[1;32m      9\u001b[0m \u001b[43m                                   \u001b[49m\u001b[43mniterations\u001b[49m\u001b[38;5;241;43m=\u001b[39;49m\u001b[38;5;241;43m8\u001b[39;49m\u001b[43m,\u001b[49m\u001b[43m \u001b[49m\u001b[43mnpts\u001b[49m\u001b[38;5;241;43m=\u001b[39;49m\u001b[38;5;241;43m4\u001b[39;49m\u001b[43m,\u001b[49m\n\u001b[1;32m     10\u001b[0m \u001b[43m                                   \u001b[49m\u001b[43mnspan\u001b[49m\u001b[38;5;241;43m=\u001b[39;49m\u001b[38;5;241;43m4\u001b[39;49m\u001b[43m,\u001b[49m\u001b[43m \u001b[49m\u001b[43mnrestarts\u001b[49m\u001b[38;5;241;43m=\u001b[39;49m\u001b[38;5;241;43m0\u001b[39;49m\u001b[43m)\u001b[49m\n",
      "File \u001b[0;32m~/local/fiberamp/fiber/modesolver.py:368\u001b[0m, in \u001b[0;36mModeSolver.leakymode\u001b[0;34m(self, p, ctr, rad, alpha, npts, within, rhoinv, quadrule, nspan, seed, inverse, verbose, **feastkwargs)\u001b[0m\n\u001b[1;32m    355\u001b[0m Yl\u001b[38;5;241m.\u001b[39msetrandom(seed\u001b[38;5;241m=\u001b[39mseed)\n\u001b[1;32m    357\u001b[0m P \u001b[38;5;241m=\u001b[39m SpectralProjNGPoly(AA,\n\u001b[1;32m    358\u001b[0m                        X,\n\u001b[1;32m    359\u001b[0m                        radius\u001b[38;5;241m=\u001b[39mrad,\n\u001b[0;32m   (...)\u001b[0m\n\u001b[1;32m    365\u001b[0m                        verbose\u001b[38;5;241m=\u001b[39mverbose,\n\u001b[1;32m    366\u001b[0m                        inverse\u001b[38;5;241m=\u001b[39minverse)\n\u001b[0;32m--> 368\u001b[0m Z, Y, hist, Yl \u001b[38;5;241m=\u001b[39m \u001b[43mP\u001b[49m\u001b[38;5;241;43m.\u001b[39;49m\u001b[43mfeast\u001b[49m\u001b[43m(\u001b[49m\u001b[43mY\u001b[49m\u001b[43m,\u001b[49m\u001b[43m \u001b[49m\u001b[43mYl\u001b[49m\u001b[38;5;241;43m=\u001b[39;49m\u001b[43mYl\u001b[49m\u001b[43m,\u001b[49m\u001b[43m \u001b[49m\u001b[43mhermitian\u001b[49m\u001b[38;5;241;43m=\u001b[39;49m\u001b[38;5;28;43;01mFalse\u001b[39;49;00m\u001b[43m,\u001b[49m\u001b[43m \u001b[49m\u001b[38;5;241;43m*\u001b[39;49m\u001b[38;5;241;43m*\u001b[39;49m\u001b[43mfeastkwargs\u001b[49m\u001b[43m)\u001b[49m\n\u001b[1;32m    369\u001b[0m ews, cgd \u001b[38;5;241m=\u001b[39m hist[\u001b[38;5;241m-\u001b[39m\u001b[38;5;241m2\u001b[39m], hist[\u001b[38;5;241m-\u001b[39m\u001b[38;5;241m1\u001b[39m]\n\u001b[1;32m    370\u001b[0m \u001b[38;5;28;01mif\u001b[39;00m \u001b[38;5;129;01mnot\u001b[39;00m cgd:\n",
      "File \u001b[0;32m~/local/pyeigfeast/spectralproj/spectralproj.py:670\u001b[0m, in \u001b[0;36mSpectralProj.feast\u001b[0;34m(self, Y, Yl, hermitian, stop_tol, cut_tol, eta_tol, nrestarts, niterations, check_contour, check_kpt_spurious, reportresiduals, exactewf)\u001b[0m\n\u001b[1;32m    667\u001b[0m \u001b[38;5;28;01melse\u001b[39;00m:\n\u001b[1;32m    668\u001b[0m     \u001b[38;5;28;01mif\u001b[39;00m biorth:\n\u001b[1;32m    669\u001b[0m         lam, Yl, Y \u001b[38;5;241m=\u001b[39m \\\n\u001b[0;32m--> 670\u001b[0m             \u001b[38;5;28;43mself\u001b[39;49m\u001b[38;5;241;43m.\u001b[39;49m\u001b[43mfeast_nsa_biorth_step\u001b[49m\u001b[43m(\u001b[49m\u001b[43mYl\u001b[49m\u001b[43m,\u001b[49m\u001b[43m \u001b[49m\u001b[43mY\u001b[49m\u001b[43m,\u001b[49m\n\u001b[1;32m    671\u001b[0m \u001b[43m                                       \u001b[49m\u001b[43meta_tol\u001b[49m\u001b[38;5;241;43m=\u001b[39;49m\u001b[43meta_tol\u001b[49m\u001b[43m,\u001b[49m\n\u001b[1;32m    672\u001b[0m \u001b[43m                                       \u001b[49m\u001b[43mcut_tol\u001b[49m\u001b[38;5;241;43m=\u001b[39;49m\u001b[43mcut_tol\u001b[49m\u001b[43m)\u001b[49m\n\u001b[1;32m    673\u001b[0m     \u001b[38;5;28;01melse\u001b[39;00m:\n\u001b[1;32m    674\u001b[0m         lam, Y \u001b[38;5;241m=\u001b[39m \u001b[38;5;28mself\u001b[39m\u001b[38;5;241m.\u001b[39mfeast_nsa_step(Y, cut_tol)\n",
      "File \u001b[0;32m~/local/pyeigfeast/spectralproj/spectralproj.py:503\u001b[0m, in \u001b[0;36mSpectralProj.feast_nsa_biorth_step\u001b[0;34m(self, yl, yr, cut_tol, eta_tol)\u001b[0m\n\u001b[1;32m    491\u001b[0m \u001b[38;5;28;01mdef\u001b[39;00m \u001b[38;5;21mfeast_nsa_biorth_step\u001b[39m(\u001b[38;5;28mself\u001b[39m, yl, yr, cut_tol\u001b[38;5;241m=\u001b[39m\u001b[38;5;241m1.e-16\u001b[39m, eta_tol\u001b[38;5;241m=\u001b[39m\u001b[38;5;241m1e-16\u001b[39m):\n\u001b[1;32m    492\u001b[0m \u001b[38;5;250m    \u001b[39m\u001b[38;5;124;03m\"\"\"\u001b[39;00m\n\u001b[1;32m    493\u001b[0m \u001b[38;5;124;03m    Perform one step of the FEAST algorithm for NSA (non-selfadjoint)\u001b[39;00m\n\u001b[1;32m    494\u001b[0m \u001b[38;5;124;03m    operators with biorthogonal left and right eigenvectors.\u001b[39;00m\n\u001b[0;32m   (...)\u001b[0m\n\u001b[1;32m    500\u001b[0m \u001b[38;5;124;03m        yl, yr -  updated left and right eigenspaces\u001b[39;00m\n\u001b[1;32m    501\u001b[0m \u001b[38;5;124;03m    \"\"\"\u001b[39;00m\n\u001b[0;32m--> 503\u001b[0m     qr \u001b[38;5;241m=\u001b[39m \u001b[38;5;28;43mself\u001b[39;49m\u001b[43m \u001b[49m\u001b[38;5;241;43m*\u001b[39;49m\u001b[43m \u001b[49m\u001b[43myr\u001b[49m\n\u001b[1;32m    504\u001b[0m     ql \u001b[38;5;241m=\u001b[39m yl \u001b[38;5;241m*\u001b[39m \u001b[38;5;28mself\u001b[39m\n\u001b[1;32m    506\u001b[0m     \u001b[38;5;28;01mif\u001b[39;00m \u001b[38;5;28mid\u001b[39m(ql) \u001b[38;5;241m==\u001b[39m \u001b[38;5;28mid\u001b[39m(qr):\n",
      "File \u001b[0;32m~/local/pyeigfeast/spectralproj/ngs/spectralprojpoly.py:403\u001b[0m, in \u001b[0;36mSpectralProjNGPoly.__mul__\u001b[0;34m(self, v)\u001b[0m\n\u001b[1;32m    401\u001b[0m     \u001b[38;5;28;01mfor\u001b[39;00m i \u001b[38;5;129;01min\u001b[39;00m \u001b[38;5;28mrange\u001b[39m(\u001b[38;5;28mlen\u001b[39m(\u001b[38;5;28mself\u001b[39m\u001b[38;5;241m.\u001b[39mz)):\n\u001b[1;32m    402\u001b[0m         \u001b[38;5;28;01mfor\u001b[39;00m k \u001b[38;5;129;01min\u001b[39;00m \u001b[38;5;28mrange\u001b[39m(v\u001b[38;5;241m.\u001b[39mm):\n\u001b[0;32m--> 403\u001b[0m             \u001b[38;5;28;43mself\u001b[39;49m\u001b[38;5;241;43m.\u001b[39;49m\u001b[43mshiftedinv\u001b[49m\u001b[43m(\u001b[49m\u001b[43mi\u001b[49m\u001b[43m,\u001b[49m\u001b[43m \u001b[49m\u001b[43mvv\u001b[49m\u001b[38;5;241;43m.\u001b[39;49m\u001b[43m_mv\u001b[49m\u001b[43m[\u001b[49m\u001b[43mk\u001b[49m\u001b[43m]\u001b[49m\u001b[43m,\u001b[49m\u001b[43m \u001b[49m\u001b[43mRv\u001b[49m\u001b[43m)\u001b[49m\n\u001b[1;32m    404\u001b[0m             v\u001b[38;5;241m.\u001b[39m_mv[k]\u001b[38;5;241m.\u001b[39mdata \u001b[38;5;241m+\u001b[39m\u001b[38;5;241m=\u001b[39m \u001b[38;5;28mcomplex\u001b[39m(\u001b[38;5;28mself\u001b[39m\u001b[38;5;241m.\u001b[39mw[i]) \u001b[38;5;241m*\u001b[39m Rv\n\u001b[1;32m    406\u001b[0m \u001b[38;5;28;01mreturn\u001b[39;00m v\n",
      "File \u001b[0;32m~/local/pyeigfeast/spectralproj/ngs/spectralprojpoly.py:305\u001b[0m, in \u001b[0;36mSpectralProjNGPoly.shiftedinv\u001b[0;34m(self, i, yy, Ryy)\u001b[0m\n\u001b[1;32m    302\u001b[0m sumouter\u001b[38;5;241m.\u001b[39mdata \u001b[38;5;241m+\u001b[39m\u001b[38;5;241m=\u001b[39m \u001b[38;5;28mself\u001b[39m\u001b[38;5;241m.\u001b[39mAs[d]\u001b[38;5;241m.\u001b[39mmat \u001b[38;5;241m*\u001b[39m suminner \u001b[38;5;241m-\u001b[39m ys[d \u001b[38;5;241m-\u001b[39m \u001b[38;5;241m1\u001b[39m]\n\u001b[1;32m    304\u001b[0m Rys[\u001b[38;5;241m0\u001b[39m]\u001b[38;5;241m.\u001b[39mdata \u001b[38;5;241m=\u001b[39m \u001b[38;5;28mself\u001b[39m\u001b[38;5;241m.\u001b[39mR[i] \u001b[38;5;241m*\u001b[39m sumouter\n\u001b[0;32m--> 305\u001b[0m \u001b[38;5;28;01mfor\u001b[39;00m k \u001b[38;5;129;01min\u001b[39;00m \u001b[38;5;28;43mrange\u001b[39;49m\u001b[43m(\u001b[49m\u001b[38;5;241;43m1\u001b[39;49m\u001b[43m,\u001b[49m\u001b[43m \u001b[49m\u001b[43md\u001b[49m\u001b[43m)\u001b[49m:\n\u001b[1;32m    306\u001b[0m     Rys[k]\u001b[38;5;241m.\u001b[39mdata \u001b[38;5;241m=\u001b[39m \u001b[38;5;28mcomplex\u001b[39m(z) \u001b[38;5;241m*\u001b[39m Rys[k \u001b[38;5;241m-\u001b[39m \u001b[38;5;241m1\u001b[39m] \u001b[38;5;241m-\u001b[39m ys[k \u001b[38;5;241m-\u001b[39m \u001b[38;5;241m1\u001b[39m]\n",
      "\u001b[0;31mKeyboardInterrupt\u001b[0m: "
     ]
    }
   ],
   "source": [
    "center = 1.24381527-0.00585777j\n",
    "radius = .01\n",
    "p = 3\n",
    "\n",
    "z, y, yl, beta, P, _ = A.leakymode(p, rad=radius, ctr=center,\n",
    "                                   alpha=5, stop_tol=1e-8,\n",
    "                                   quadrule='ellipse_trapez_shift',\n",
    "                                   rhoinv=.9, \n",
    "                                   niterations=8, npts=4,\n",
    "                                   nspan=4, nrestarts=0)\n"
   ]
  },
  {
   "cell_type": "code",
   "execution_count": null,
   "id": "5cab8894",
   "metadata": {},
   "outputs": [],
   "source": [
    "C=1e0\n",
    "for f in y:\n",
    "    Draw(C*f.Norm(), A.mesh)"
   ]
  },
  {
   "cell_type": "markdown",
   "id": "d4e2a1e8",
   "metadata": {},
   "source": [
    "### Small radius search "
   ]
  },
  {
   "cell_type": "code",
   "execution_count": 6,
   "id": "47d8c1ba",
   "metadata": {},
   "outputs": [
    {
     "name": "stdout",
     "output_type": "stream",
     "text": [
      "ModeSolver.leakymode called on object with these settings:\n",
      " <fiberamp.fiber.microstruct.pbg.PBG.PBG object at 0x7f72cb860c10>\n",
      "Set freq-dependent PML with p= 2  alpha= 5 and thickness=2.000\n",
      "\n",
      "SpectralProj: Setting shifted trapezoidal rule quadrature on circular contour\n",
      "SpectralProj: Radius=0.01, Center=1.73806-0.0138882j\n",
      "SpectralProjNGPoly: Checking if A[d] is nonzero & Hermitian.\n",
      "SpectralProjNG: Checking if inverse.H works for umfpack\n",
      "SpectralProjNGPoly: Computing resolvents along the contour using\n",
      "                    inverse type umfpack (installed default umfpack)\n",
      "SpectralProjNGPoly: Factorizing 30001x30001 system at z =  +1.745 -0.007j\n",
      "SpectralProjNGPoly: Factorizing 30001x30001 system at z =  +1.731 -0.007j\n",
      "SpectralProjNGPoly: Factorizing 30001x30001 system at z =  +1.731 -0.021j\n",
      "SpectralProjNGPoly: Factorizing 30001x30001 system at z =  +1.745 -0.021j\n",
      "\n",
      "=========== Starting FEAST iterations ===========\n",
      "Trying with 2 vectors:\n",
      "\n",
      " ITERATION 1 with 2 vectors and 2 left vectors\n",
      "   During kernel cleaning abs(g):\n",
      "   [3.5e-14 4.2e+02]\n",
      "   Scipy small eig solver failed!\n",
      "   Last ditch retry after mod-Gram-Schmidt on left/right spans:\n",
      "   QR found abs(diag(R)):\n",
      "   [2.7e+07 8.9e-02]\n",
      "   QR found abs(diag(R)):\n",
      "   [4.5e+09 2.4e+00]\n",
      "   Real part of computed eigenvalues:\n",
      "   [1.08713682 1.73988571]\n",
      "   Imag part of computed eigenvalues:\n",
      "   [-0.01581039 -0.01437995]\n",
      "   Relative Hausdorff distance from prior iterate: 5.720e+99\n",
      "\n",
      " ITERATION 2 with 2 vectors and 2 left vectors\n",
      "   During kernel cleaning abs(g):\n",
      "   [4.9e-18 1.1e-02]\n",
      "   Removing ew#[0]\n",
      "   Real part of computed eigenvalues:\n",
      "   [1.73988571]\n",
      "   Imag part of computed eigenvalues:\n",
      "   [-0.01437995]\n",
      "   Relative Hausdorff distance from prior iterate: 3.734e-01\n",
      "\n",
      " ITERATION 3 with 1 vectors and 1 left vectors\n",
      "   During kernel cleaning abs(g):\n",
      "   [1.]\n",
      "   Real part of computed eigenvalues:\n",
      "   [1.73988571]\n",
      "   Imag part of computed eigenvalues:\n",
      "   [-0.01437995]\n",
      "   Relative Hausdorff distance from prior iterate: 1.810e-16\n",
      "\n",
      "\n",
      "***FEAST converged with:\n",
      "\tRelative Hausdorff distance = 1.810e-16\n",
      "\n",
      "============= FEAST iterations done =============\n",
      "   Normalizing by M-norms: max=4.3e-01, min=4.3e-01\n",
      "   Normalizing by M-norms: max=5.6e+00, min=5.6e+00\n",
      "Results:\n",
      " Z: [1.73988571-0.01437995j]\n",
      " beta: [10950449.89018588+274.03252085j]\n",
      " CL dB/m: [2380.21623338]\n",
      "Mode boundary L² norm = 7.0e-06\n",
      "*** Mode boundary L2 norm > 1e-6!\n",
      "PML decay estimates boundary norm ~ 1.1e-03\n"
     ]
    }
   ],
   "source": [
    "center = 1.73806037-0.01388821j   # fundamental mode!\n",
    "radius = .01\n",
    "p = 2\n",
    "\n",
    "z2, y2, yl2, beta2, P2, _ = A.leakymode(p, rad=radius, ctr=center, alpha=A.alpha,\n",
    "                                   niterations=5, npts=4, nspan=2, nrestarts=0)"
   ]
  },
  {
   "cell_type": "code",
   "execution_count": 7,
   "id": "23531215",
   "metadata": {
    "scrolled": false
   },
   "outputs": [
    {
     "data": {
      "application/vnd.jupyter.widget-view+json": {
       "model_id": "bff990e629c7423caf5ae8dc286cad8c",
       "version_major": 2,
       "version_minor": 0
      },
      "text/plain": [
       "WebGuiWidget(layout=Layout(height='50vh', width='100%'), value={'gui_settings': {}, 'ngsolve_version': '6.2.23…"
      ]
     },
     "metadata": {},
     "output_type": "display_data"
    },
    {
     "data": {
      "application/vnd.jupyter.widget-view+json": {
       "model_id": "07c7948ec4d94ff39aeb2cfad3cc4d0e",
       "version_major": 2,
       "version_minor": 0
      },
      "text/plain": [
       "WebGuiWidget(layout=Layout(height='50vh', width='100%'), value={'gui_settings': {}, 'ngsolve_version': '6.2.23…"
      ]
     },
     "metadata": {},
     "output_type": "display_data"
    }
   ],
   "source": [
    "C=1e2\n",
    "for f in y2:\n",
    "    Draw(C*f, A.mesh)\n",
    "    Draw(C*f, A.mesh)"
   ]
  },
  {
   "cell_type": "code",
   "execution_count": 10,
   "id": "0cfcbd9e",
   "metadata": {},
   "outputs": [
    {
     "name": "stdout",
     "output_type": "stream",
     "text": [
      "ModeSolver.leakymode called on object with these settings:\n",
      " <fiberamp.fiber.microstruct.pbg.PBG.PBG object at 0x7fbbdb2e0a30>\n",
      "Set freq-dependent PML with p= 3  alpha= 5 and thickness=2.000\n",
      "\n",
      "SpectralProj: Setting shifted trapezoidal rule quadrature on circular contour\n",
      "SpectralProj: Radius=0.01, Center=2.71099-0.0240913j\n",
      "SpectralProjNGPoly: Checking if A[d] is nonzero & Hermitian.\n",
      "SpectralProjNG: Checking if inverse.H works for umfpack\n",
      "SpectralProjNGPoly: Computing resolvents along the contour using\n",
      "                    inverse type umfpack (installed default umfpack)\n",
      "SpectralProjNGPoly: Factorizing 67474x67474 system at z =  +2.718 -0.017j\n",
      "SpectralProjNGPoly: Factorizing 67474x67474 system at z =  +2.704 -0.017j\n",
      "SpectralProjNGPoly: Factorizing 67474x67474 system at z =  +2.704 -0.031j\n",
      "SpectralProjNGPoly: Factorizing 67474x67474 system at z =  +2.718 -0.031j\n",
      "\n",
      "=========== Starting FEAST iterations ===========\n",
      "Trying with 2 vectors:\n",
      "\n",
      " ITERATION 1 with 2 vectors and 2 left vectors\n",
      "   During kernel cleaning abs(g):\n",
      "   [0.1 0.2]\n",
      "   Real part of computed eigenvalues:\n",
      "   [2.70884955 2.70885105]\n",
      "   Imag part of computed eigenvalues:\n",
      "   [-0.02352976 -0.02353067]\n",
      "   Relative Hausdorff distance from prior iterate: 3.675e+99\n",
      "\n",
      " ITERATION 2 with 2 vectors and 2 left vectors\n",
      "   During kernel cleaning abs(g):\n",
      "   [3.7 3.3]\n",
      "   Real part of computed eigenvalues:\n",
      "   [2.70884955 2.70885105]\n",
      "   Imag part of computed eigenvalues:\n",
      "   [-0.02352976 -0.02353067]\n",
      "   Relative Hausdorff distance from prior iterate: 1.484e-13\n",
      "\n",
      "\n",
      "***FEAST converged with:\n",
      "\tRelative Hausdorff distance = 1.484e-13\n",
      "\n",
      "============= FEAST iterations done =============\n",
      "   Normalizing by M-norms: max=1.8e-01, min=1.5e-01\n",
      "   Normalizing by M-norms: max=2.1e+01, min=2.0e+01\n",
      "Results:\n",
      " Z: [2.70884955-0.02352976j 2.70885105-0.02353067j]\n",
      " beta: [10926819.45397546+699.62392237j 10926819.40966427+699.65147688j]\n",
      " CL dB/m: [6076.85617788 6077.09551327]\n",
      "Mode boundary L² norm = 3.2e-06\n",
      "*** Mode boundary L2 norm > 1e-6!\n",
      "PML decay estimates boundary norm ~ 8.8e-04\n"
     ]
    }
   ],
   "source": [
    "center = 2.71099165-0.0240913j\n",
    "radius = .01\n",
    "p = 3\n",
    "\n",
    "z2, y2, yl2, beta2, P2, _ = A.leakymode(p, rad=radius, ctr=center, alpha=A.alpha,\n",
    "                                   niterations=5, npts=4, nspan=2, nrestarts=0)"
   ]
  },
  {
   "cell_type": "code",
   "execution_count": 8,
   "id": "3eebf2c8",
   "metadata": {},
   "outputs": [
    {
     "data": {
      "application/vnd.jupyter.widget-view+json": {
       "model_id": "ef219ef9d10a4bbca15a5c6dd3d085f3",
       "version_major": 2,
       "version_minor": 0
      },
      "text/plain": [
       "WebGuiWidget(layout=Layout(height='50vh', width='100%'), value={'gui_settings': {}, 'ngsolve_version': '6.2.23…"
      ]
     },
     "metadata": {},
     "output_type": "display_data"
    }
   ],
   "source": [
    "C=1e2\n",
    "for f in y2:\n",
    "    Draw(C*f, A.mesh)"
   ]
  },
  {
   "cell_type": "markdown",
   "id": "bb969c20",
   "metadata": {},
   "source": [
    "# Vector Modes"
   ]
  },
  {
   "cell_type": "code",
   "execution_count": 9,
   "id": "707114a7",
   "metadata": {},
   "outputs": [
    {
     "name": "stdout",
     "output_type": "stream",
     "text": [
      "Set NGSolve automatic PML with p= 1  alpha= 5 and thickness=2.000\n",
      "Using FEAST to search for vector leaky modes in\n",
      "circle of radius 0.1 centered at  (3.0206609673875326-0.0482770948224754j)\n",
      "assuming not more than 2 modes in this interval\n",
      "System size: 74946  x  74946   Inverse type: umfpack\n",
      "\n",
      "SpectralProj: Setting shifted trapezoidal rule quadrature on circular contour\n",
      "SpectralProj: Radius=0.1, Center=3.02066-0.0482771j\n",
      "SpectralProjNGR:   Making resolvent at z =  +3.021 +0.052j\n",
      "SpectralProjNGR:   Making resolvent at z =  +3.021 -0.148j\n",
      "\n",
      "=========== Starting FEAST iterations ===========\n",
      "Trying with 2 vectors:\n",
      "\n",
      " ITERATION 1 with 2 vectors and 2 left vectors\n",
      "   During kernel cleaning abs(g):\n",
      "   [0.  0.3]\n",
      "   Real part of computed eigenvalues:\n",
      "   [3.13929307 3.14191214]\n",
      "   Imag part of computed eigenvalues:\n",
      "   [-0.08595376 -0.10152827]\n",
      "   Relative Hausdorff distance from prior iterate: 3.204e+99\n",
      "\n",
      " ITERATION 2 with 2 vectors and 2 left vectors\n",
      "   During kernel cleaning abs(g):\n",
      "   [1.9 0.3]\n",
      "   Real part of computed eigenvalues:\n",
      "   [3.13943124 3.13943526]\n",
      "   Imag part of computed eigenvalues:\n",
      "   [-0.0858146  -0.08614368]\n",
      "   Relative Hausdorff distance from prior iterate: 4.993e-03\n",
      "\n",
      " ITERATION 3 with 2 vectors and 2 left vectors\n",
      "   During kernel cleaning abs(g):\n",
      "   [0.4 0. ]\n",
      "   Real part of computed eigenvalues:\n",
      "   [3.13943163 3.13943686]\n",
      "   Imag part of computed eigenvalues:\n",
      "   [-0.08581431 -0.08614476]\n",
      "   Relative Hausdorff distance from prior iterate: 6.186e-07\n",
      "\n",
      " ITERATION 4 with 2 vectors and 2 left vectors\n",
      "   During kernel cleaning abs(g):\n",
      "   [0.2 0. ]\n",
      "   Real part of computed eigenvalues:\n",
      "   [3.13943163 3.13943686]\n",
      "   Imag part of computed eigenvalues:\n",
      "   [-0.08581431 -0.08614477]\n",
      "   Relative Hausdorff distance from prior iterate: 1.098e-09\n",
      "\n",
      " ITERATION 5 with 2 vectors and 2 left vectors\n",
      "   During kernel cleaning abs(g):\n",
      "   [1.5e-07 8.9e-01]\n",
      "   Scipy small eig solver failed!\n",
      "   Last ditch retry after mod-Gram-Schmidt on left/right spans:\n",
      "   QR found abs(diag(R)):\n",
      "   [9.5e+06 7.6e-03]\n",
      "   QR found abs(diag(R)):\n",
      "   [5.5e+06 7.1e-04]\n",
      "   Real part of computed eigenvalues:\n",
      "   [3.13943163 3.13943686]\n",
      "   Imag part of computed eigenvalues:\n",
      "   [-0.08581431 -0.08614477]\n",
      "   Relative Hausdorff distance from prior iterate: 1.945e-10\n",
      "\n",
      "\n",
      "***FEAST converged with:\n",
      "\tRelative Hausdorff distance = 1.945e-10\n",
      "\n",
      "============= FEAST iterations done =============\n",
      "Results:\n",
      " Z²: [3.13943163-0.08581431j 3.13943686-0.08614477j]\n",
      " beta: [10949834.13582818+469.97870612j 10949834.10726431+471.7885245j ]\n",
      " CL dB/m: [4082.18317357 4097.90305633]\n"
     ]
    }
   ],
   "source": [
    "center = (1.73806037-0.01388821j)**2\n",
    "radius = .1\n",
    "p = 1\n",
    "\n",
    "betas, Zsqrs, Es, phis, _ = A.leakyvecmodes(p=p, rad=radius, ctr=center, alpha=A.alpha,\n",
    "                                   niterations=5, npts=2, nspan=2, nrestarts=0)"
   ]
  },
  {
   "cell_type": "code",
   "execution_count": 10,
   "id": "511f4123",
   "metadata": {},
   "outputs": [
    {
     "data": {
      "application/vnd.jupyter.widget-view+json": {
       "model_id": "28baf1591c5d4618b4bafd8bc459a625",
       "version_major": 2,
       "version_minor": 0
      },
      "text/plain": [
       "WebGuiWidget(layout=Layout(height='50vh', width='100%'), value={'gui_settings': {}, 'ngsolve_version': '6.2.23…"
      ]
     },
     "metadata": {},
     "output_type": "display_data"
    },
    {
     "data": {
      "application/vnd.jupyter.widget-view+json": {
       "model_id": "a485fcefba3040ffa6d3ba3337f533c9",
       "version_major": 2,
       "version_minor": 0
      },
      "text/plain": [
       "WebGuiWidget(layout=Layout(height='50vh', width='100%'), value={'gui_settings': {}, 'ngsolve_version': '6.2.23…"
      ]
     },
     "metadata": {},
     "output_type": "display_data"
    }
   ],
   "source": [
    "C=1e0\n",
    "for e in Es:\n",
    "    Draw(C*e.real, A.mesh, vectors={'grid_size':500})"
   ]
  },
  {
   "cell_type": "code",
   "execution_count": 11,
   "id": "782b18c8",
   "metadata": {},
   "outputs": [
    {
     "data": {
      "application/vnd.jupyter.widget-view+json": {
       "model_id": "7ad4fe387be847248df0c0abf38f293d",
       "version_major": 2,
       "version_minor": 0
      },
      "text/plain": [
       "WebGuiWidget(layout=Layout(height='50vh', width='100%'), value={'gui_settings': {}, 'ngsolve_version': '6.2.23…"
      ]
     },
     "metadata": {},
     "output_type": "display_data"
    },
    {
     "data": {
      "application/vnd.jupyter.widget-view+json": {
       "model_id": "ef1ef5facd354c9db4721b885e1342b5",
       "version_major": 2,
       "version_minor": 0
      },
      "text/plain": [
       "WebGuiWidget(layout=Layout(height='50vh', width='100%'), value={'gui_settings': {}, 'ngsolve_version': '6.2.23…"
      ]
     },
     "metadata": {},
     "output_type": "display_data"
    }
   ],
   "source": [
    "C=1e0\n",
    "for phi in phis:\n",
    "    Draw(C*phi, A.mesh)"
   ]
  },
  {
   "cell_type": "code",
   "execution_count": null,
   "id": "1b2dcd69",
   "metadata": {},
   "outputs": [
    {
     "name": "stdout",
     "output_type": "stream",
     "text": [
      "Set NGSolve automatic PML with p= 1  alpha= 5 and thickness=2.000\n",
      "Using FEAST to search for vector leaky modes in\n",
      "circle of radius 0.01 centered at  (7.49443801-0.20447834j)\n",
      "assuming not more than 2 modes in this interval\n",
      "System size: 74946  x  74946   Inverse type: umfpack\n",
      "\n",
      "SpectralProj: Setting shifted trapezoidal rule quadrature on circular contour\n",
      "SpectralProj: Radius=0.01, Center=7.49444-0.204478j\n",
      "SpectralProjNGR:   Making resolvent at z =  +7.502 -0.197j\n"
     ]
    }
   ],
   "source": [
    "center = 7.49443801-0.20447834j\n",
    "radius = .01\n",
    "p = 1\n",
    "\n",
    "betas, Zsqrs, Es, phis, _ = A.leakyvecmodes(p=p, rad=radius, ctr=center, alpha=A.alpha,\n",
    "                                   niterations=5, npts=4, nspan=2, nrestarts=0)"
   ]
  },
  {
   "cell_type": "code",
   "execution_count": null,
   "id": "d063d487",
   "metadata": {},
   "outputs": [],
   "source": [
    "C=1e2\n",
    "for e in Es:\n",
    "    Draw(C*e.real, A.mesh, vectors={'grid_size':500})"
   ]
  },
  {
   "cell_type": "code",
   "execution_count": null,
   "id": "073cf587",
   "metadata": {},
   "outputs": [],
   "source": [
    "C=1e1\n",
    "for phi in phis:\n",
    "    Draw(C*phi, A.mesh)"
   ]
  }
 ],
 "metadata": {
  "kernelspec": {
   "display_name": "Python 3 (ipykernel)",
   "language": "python",
   "name": "python3"
  },
  "language_info": {
   "codemirror_mode": {
    "name": "ipython",
    "version": 3
   },
   "file_extension": ".py",
   "mimetype": "text/x-python",
   "name": "python",
   "nbconvert_exporter": "python",
   "pygments_lexer": "ipython3",
   "version": "3.10.6"
  }
 },
 "nbformat": 4,
 "nbformat_minor": 5
}
