{
 "cells": [
  {
   "cell_type": "markdown",
   "id": "dfc53ddd",
   "metadata": {},
   "source": [
    "# Search centers for PBG rod fiber spectral loss profile computation."
   ]
  },
  {
   "cell_type": "code",
   "execution_count": null,
   "id": "weekly-establishment",
   "metadata": {},
   "outputs": [],
   "source": [
    "import numpy as np\n",
    "import matplotlib.pyplot as plt"
   ]
  },
  {
   "cell_type": "markdown",
   "id": "46675e24",
   "metadata": {},
   "source": [
    "## Vector"
   ]
  },
  {
   "cell_type": "code",
   "execution_count": null,
   "id": "bf08fb37",
   "metadata": {},
   "outputs": [],
   "source": [
    "# Center interpolation\n",
    "wls = np.linspace(.7, 1.2, 200) * 1e-6"
   ]
  },
  {
   "cell_type": "markdown",
   "id": "raising-freeware",
   "metadata": {},
   "source": [
    "i = 100, c = 4.9\n",
    "\n",
    "i = 125, c = 4.967\n",
    "\n",
    "i = 150, c = 5.018\n",
    "\n",
    "i = 175, c = 5.071\n",
    "\n",
    "i = 199, c = 5.12\n",
    "\n",
    "i = 75, c = 4.786\n",
    "\n",
    "i = 65, c = 4.7"
   ]
  },
  {
   "cell_type": "code",
   "execution_count": null,
   "id": "headed-sociology",
   "metadata": {},
   "outputs": [],
   "source": [
    "xs = np.array([wls[65], wls[75], wls[100], wls[125], wls[150], wls[175], wls[199]])\n",
    "ys = np.array([4.7, 4.786, 4.9, 4.967, 5.018, 5.071, 5.12])"
   ]
  },
  {
   "cell_type": "code",
   "execution_count": null,
   "id": "subtle-miniature",
   "metadata": {},
   "outputs": [],
   "source": [
    "a,b,c, d = np.polyfit(xs, ys, 3)\n",
    "a,b,c,d"
   ]
  },
  {
   "cell_type": "code",
   "execution_count": null,
   "id": "czech-flower",
   "metadata": {},
   "outputs": [],
   "source": [
    "awls=a* wls**3 + b*wls**2 + c*wls + d"
   ]
  },
  {
   "cell_type": "code",
   "execution_count": null,
   "id": "israeli-personality",
   "metadata": {},
   "outputs": [],
   "source": [
    "plt.plot(xs, ys)\n",
    "plt.plot(wls, awls)"
   ]
  },
  {
   "cell_type": "code",
   "execution_count": null,
   "id": "productive-trial",
   "metadata": {},
   "outputs": [],
   "source": []
  }
 ],
 "metadata": {
  "kernelspec": {
   "display_name": "Python 3 (ipykernel)",
   "language": "python",
   "name": "python3"
  },
  "language_info": {
   "codemirror_mode": {
    "name": "ipython",
    "version": 3
   },
   "file_extension": ".py",
   "mimetype": "text/x-python",
   "name": "python",
   "nbconvert_exporter": "python",
   "pygments_lexer": "ipython3",
   "version": "3.10.6"
  }
 },
 "nbformat": 4,
 "nbformat_minor": 5
}
