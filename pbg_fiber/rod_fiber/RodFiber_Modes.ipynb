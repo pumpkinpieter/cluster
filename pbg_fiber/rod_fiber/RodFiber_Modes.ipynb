{
 "cells": [
  {
   "cell_type": "markdown",
   "id": "5481d90e",
   "metadata": {},
   "source": [
    "# Rod Fiber Mode Notebook\n",
    "\n",
    "This notebook is used to find and view modes for the PBG fiber from : Litchinitser et al., “Resonances in Microstructured Optical Waveguides.\"  We expect this fiber to have ripples in the high index region."
   ]
  },
  {
   "cell_type": "code",
   "execution_count": null,
   "id": "c3158f26",
   "metadata": {},
   "outputs": [],
   "source": [
    "import ngsolve as ng\n",
    "from ngsolve.webgui import Draw\n",
    "\n",
    "from fiberamp.fiber.microstruct.pbg import PBG, load_pbg_mode\n",
    "from fiberamp.fiber.microstruct.pbg.fiber_dicts.rod import params"
   ]
  },
  {
   "cell_type": "code",
   "execution_count": null,
   "id": "7eb8a119",
   "metadata": {},
   "outputs": [],
   "source": [
    "A = PBG(params)\n"
   ]
  },
  {
   "cell_type": "code",
   "execution_count": null,
   "id": "9c58d10d",
   "metadata": {},
   "outputs": [],
   "source": [
    "Draw(A.index, A.mesh)\n"
   ]
  },
  {
   "cell_type": "markdown",
   "id": "b56f6863",
   "metadata": {},
   "source": [
    "# Scalar Modes"
   ]
  },
  {
   "cell_type": "code",
   "execution_count": null,
   "id": "5f089991",
   "metadata": {},
   "outputs": [],
   "source": [
    "center = 1.24381527-0.00585777j\n",
    "radius = .01\n",
    "p = 3\n",
    "\n",
    "z, y, yl, beta, P, _ = A.leakymode(p, rad=radius, ctr=center,\n",
    "                                   alpha=5, stop_tol=1e-8,\n",
    "                                   quadrule='ellipse_trapez_shift',\n",
    "                                   rhoinv=.9, \n",
    "                                   niterations=8, npts=4,\n",
    "                                   nspan=4, nrestarts=0)\n"
   ]
  },
  {
   "cell_type": "code",
   "execution_count": null,
   "id": "5cab8894",
   "metadata": {},
   "outputs": [],
   "source": [
    "C=1e0\n",
    "for f in y:\n",
    "    Draw(C*f.Norm(), A.mesh)"
   ]
  },
  {
   "cell_type": "markdown",
   "id": "d4e2a1e8",
   "metadata": {},
   "source": [
    "### Small radius search "
   ]
  },
  {
   "cell_type": "code",
   "execution_count": null,
   "id": "47d8c1ba",
   "metadata": {},
   "outputs": [],
   "source": [
    "center = 1.73806037-0.01388821j   # fundamental mode!\n",
    "radius = .01\n",
    "p = 2\n",
    "\n",
    "z2, y2, yl2, beta2, P2, _ = A.leakymode(p, rad=radius, ctr=center, alpha=A.alpha,\n",
    "                                   niterations=5, npts=4, nspan=2, nrestarts=0)"
   ]
  },
  {
   "cell_type": "code",
   "execution_count": null,
   "id": "23531215",
   "metadata": {},
   "outputs": [],
   "source": [
    "C=1e2\n",
    "for f in y2:\n",
    "    Draw(C*f, A.mesh)\n",
    "    Draw(C*f, A.mesh)"
   ]
  },
  {
   "cell_type": "code",
   "execution_count": null,
   "id": "0cfcbd9e",
   "metadata": {},
   "outputs": [],
   "source": [
    "center = 2.71099165-0.0240913j\n",
    "radius = .01\n",
    "p = 3\n",
    "\n",
    "z2, y2, yl2, beta2, P2, _ = A.leakymode(p, rad=radius, ctr=center, alpha=A.alpha,\n",
    "                                   niterations=5, npts=4, nspan=2, nrestarts=0)"
   ]
  },
  {
   "cell_type": "code",
   "execution_count": null,
   "id": "3eebf2c8",
   "metadata": {},
   "outputs": [],
   "source": [
    "C=1e2\n",
    "for f in y2:\n",
    "    Draw(C*f, A.mesh)"
   ]
  },
  {
   "cell_type": "markdown",
   "id": "bb969c20",
   "metadata": {},
   "source": [
    "# Vector Modes"
   ]
  },
  {
   "cell_type": "code",
   "execution_count": null,
   "id": "707114a7",
   "metadata": {},
   "outputs": [],
   "source": [
    "center = (1.73806037-0.01388821j)**2\n",
    "radius = .1\n",
    "p = 1\n",
    "\n",
    "betas, Zsqrs, Es, phis, _ = A.leakyvecmodes(p=p, rad=radius, ctr=center, alpha=A.alpha,\n",
    "                                   niterations=5, npts=2, nspan=2, nrestarts=0)"
   ]
  },
  {
   "cell_type": "code",
   "execution_count": null,
   "id": "511f4123",
   "metadata": {},
   "outputs": [],
   "source": [
    "C=1e0\n",
    "for e in Es:\n",
    "    Draw(C*e.real, A.mesh, vectors={'grid_size':500})"
   ]
  },
  {
   "cell_type": "code",
   "execution_count": null,
   "id": "782b18c8",
   "metadata": {},
   "outputs": [],
   "source": [
    "C=1e0\n",
    "for phi in phis:\n",
    "    Draw(C*phi, A.mesh)"
   ]
  },
  {
   "cell_type": "code",
   "execution_count": null,
   "id": "1b2dcd69",
   "metadata": {},
   "outputs": [],
   "source": [
    "center = 7.49443801-0.20447834j\n",
    "radius = .01\n",
    "p = 1\n",
    "\n",
    "betas, Zsqrs, Es, phis, _ = A.leakyvecmodes(p=p, rad=radius, ctr=center, alpha=A.alpha,\n",
    "                                   niterations=5, npts=4, nspan=2, nrestarts=0)"
   ]
  },
  {
   "cell_type": "code",
   "execution_count": null,
   "id": "d063d487",
   "metadata": {},
   "outputs": [],
   "source": [
    "C=1e2\n",
    "for e in Es:\n",
    "    Draw(C*e.real, A.mesh, vectors={'grid_size':500})"
   ]
  },
  {
   "cell_type": "code",
   "execution_count": null,
   "id": "073cf587",
   "metadata": {},
   "outputs": [],
   "source": [
    "C=1e1\n",
    "for phi in phis:\n",
    "    Draw(C*phi, A.mesh)"
   ]
  }
 ],
 "metadata": {
  "kernelspec": {
   "display_name": "Python 3 (ipykernel)",
   "language": "python",
   "name": "python3"
  },
  "language_info": {
   "codemirror_mode": {
    "name": "ipython",
    "version": 3
   },
   "file_extension": ".py",
   "mimetype": "text/x-python",
   "name": "python",
   "nbconvert_exporter": "python",
   "pygments_lexer": "ipython3",
   "version": "3.10.6"
  }
 },
 "nbformat": 4,
 "nbformat_minor": 5
}
