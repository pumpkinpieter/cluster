{
 "cells": [
  {
   "cell_type": "markdown",
   "id": "5481d90e",
   "metadata": {},
   "source": [
    "# Rod Fiber Mode Notebook\n",
    "\n",
    "This notebook is used to find and view modes for the PBG fiber from : Litchinitser et al., “Resonances in Microstructured Optical Waveguides.\"  We expect this fiber to have ripples in the high index region."
   ]
  },
  {
   "cell_type": "code",
   "execution_count": 1,
   "id": "c3158f26",
   "metadata": {},
   "outputs": [],
   "source": [
    "import ngsolve as ng\n",
    "from ngsolve.webgui import Draw\n",
    "\n",
    "from fiberamp.fiber.microstruct.pbg import PBG, load_pbg_mode\n",
    "from fiberamp.fiber.microstruct.pbg.fiber_dicts.rod import params"
   ]
  },
  {
   "cell_type": "code",
   "execution_count": 2,
   "id": "7eb8a119",
   "metadata": {},
   "outputs": [
    {
     "name": "stdout",
     "output_type": "stream",
     "text": [
      "no buffer no polymer\n",
      "Generating mesh.\n",
      "Mesh created.\n",
      "ModeSolver: Checking if mesh has required regions\n",
      "Mesh has  14982  elements,  7510  points,  and  22491  edges.\n"
     ]
    }
   ],
   "source": [
    "A = PBG(params, refine=0, curve=10)\n"
   ]
  },
  {
   "cell_type": "code",
   "execution_count": 3,
   "id": "6333ed30",
   "metadata": {},
   "outputs": [
    {
     "data": {
      "text/plain": [
       "8.25e-07"
      ]
     },
     "execution_count": 3,
     "metadata": {},
     "output_type": "execute_result"
    }
   ],
   "source": [
    "A.wavelength\n",
    "\n"
   ]
  },
  {
   "cell_type": "code",
   "execution_count": 4,
   "id": "9c58d10d",
   "metadata": {},
   "outputs": [
    {
     "data": {
      "application/vnd.jupyter.widget-view+json": {
       "model_id": "bc27f886fb9943e7a630f0e58f5f9440",
       "version_major": 2,
       "version_minor": 0
      },
      "text/plain": [
       "WebGuiWidget(layout=Layout(height='75vh', width='100%'), value={'gui_settings': {}, 'ngsolve_version': '6.2.23…"
      ]
     },
     "metadata": {},
     "output_type": "display_data"
    },
    {
     "data": {
      "text/plain": [
       "BaseWebGuiScene"
      ]
     },
     "execution_count": 4,
     "metadata": {},
     "output_type": "execute_result"
    }
   ],
   "source": [
    "Draw(A.index, A.mesh)\n"
   ]
  },
  {
   "cell_type": "markdown",
   "id": "b56f6863",
   "metadata": {},
   "source": [
    "# Scalar Modes"
   ]
  },
  {
   "cell_type": "code",
   "execution_count": 5,
   "id": "5f089991",
   "metadata": {},
   "outputs": [
    {
     "name": "stdout",
     "output_type": "stream",
     "text": [
      "ModeSolver.leakymode called on object with these settings:\n",
      " <fiberamp.fiber.microstruct.pbg.PBG.PBG object at 0x7f8bc3f873a0>\n",
      "Set freq-dependent PML with p= 1  alpha= 5 and thickness=2.000\n",
      "\n",
      "SpectralProj: Setting shifted trapezoidal rule on elliptical contour\n",
      "SpectralProjNGPoly: Checking if A[d] is nonzero & Hermitian.\n",
      "SpectralProjNG: Checking if inverse.H works for umfpack\n",
      "SpectralProjNGPoly: Computing resolvents along the contour using\n",
      "                    inverse type umfpack (installed default umfpack)\n",
      "SpectralProjNGPoly: Factorizing 7510x7510 system at z =  +1.251 -0.005j\n",
      "SpectralProjNGPoly: Factorizing 7510x7510 system at z =  +1.237 -0.005j\n",
      "SpectralProjNGPoly: Factorizing 7510x7510 system at z =  +1.237 -0.007j\n",
      "SpectralProjNGPoly: Factorizing 7510x7510 system at z =  +1.251 -0.007j\n",
      "\n",
      "=========== Starting FEAST iterations ===========\n",
      "Trying with 4 vectors:\n",
      "\n",
      " ITERATION 1 with 4 vectors and 4 left vectors\n",
      "   During kernel cleaning abs(g):\n",
      "   [7.4e-10 8.9e-17 8.6e-17 3.8e-17]\n",
      "   Removing ew#[1, 2, 3]\n",
      "   Real part of computed eigenvalues:\n",
      "   [1.41665253]\n",
      "   Imag part of computed eigenvalues:\n",
      "   [-0.0582395]\n",
      "   Relative Hausdorff distance from prior iterate: 7.976e+99\n",
      "\n",
      " ITERATION 2 with 1 vectors and 1 left vectors\n",
      "   During kernel cleaning abs(g):\n",
      "   [2.5e-13]\n",
      "   Real part of computed eigenvalues:\n",
      "   [1.41664322]\n",
      "   Imag part of computed eigenvalues:\n",
      "   [-0.05824938]\n",
      "   Relative Hausdorff distance from prior iterate: 1.083e-05\n",
      "\n",
      " ITERATION 3 with 1 vectors and 1 left vectors\n",
      "   During kernel cleaning abs(g):\n",
      "   [1.]\n",
      "   Real part of computed eigenvalues:\n",
      "   [1.41664322]\n",
      "   Imag part of computed eigenvalues:\n",
      "   [-0.05824938]\n",
      "   Relative Hausdorff distance from prior iterate: 3.580e-10\n",
      "\n",
      "\n",
      "***FEAST converged with:\n",
      "\tRelative Hausdorff distance = 3.580e-10\n",
      "\n",
      "============= FEAST iterations done =============\n",
      "   Normalizing by M-norms: max=5.8e-01, min=5.8e-01\n",
      "   Normalizing by M-norms: max=8.2e+01, min=8.2e+01\n",
      "Results:\n",
      " Z: [1.41664322-0.05824938j]\n",
      " beta: [10956053.62864583+903.34507421j]\n",
      " CL dB/m: [7846.35561964]\n",
      "Mode boundary L² norm = 6.5e-05\n",
      "*** Mode boundary L2 norm > 1e-6!\n",
      "PML decay estimates boundary norm ~ 1.4e-03\n"
     ]
    }
   ],
   "source": [
    "center = 1.24381527-0.00585777j\n",
    "radius = .01\n",
    "p = 1\n",
    "\n",
    "z, y, yl, beta, P, _ = A.leakymode(p, rad=radius, ctr=center,\n",
    "                                   alpha=5, stop_tol=1e-8,\n",
    "                                   quadrule='ellipse_trapez_shift',\n",
    "                                   rhoinv=.9, \n",
    "                                   niterations=8, npts=4,\n",
    "                                   nspan=4, nrestarts=0)\n"
   ]
  },
  {
   "cell_type": "code",
   "execution_count": 7,
   "id": "5cab8894",
   "metadata": {},
   "outputs": [
    {
     "data": {
      "application/vnd.jupyter.widget-view+json": {
       "model_id": "32185b954f9a4f77adcddc4fa6ae0593",
       "version_major": 2,
       "version_minor": 0
      },
      "text/plain": [
       "WebGuiWidget(layout=Layout(height='75vh', width='100%'), value={'gui_settings': {}, 'ngsolve_version': '6.2.23…"
      ]
     },
     "metadata": {},
     "output_type": "display_data"
    }
   ],
   "source": [
    "C=1e2\n",
    "for f in y:\n",
    "    Draw(C*f.Norm(), A.mesh)"
   ]
  },
  {
   "cell_type": "markdown",
   "id": "d4e2a1e8",
   "metadata": {},
   "source": [
    "### Small radius search "
   ]
  },
  {
   "cell_type": "code",
   "execution_count": null,
   "id": "47d8c1ba",
   "metadata": {},
   "outputs": [],
   "source": [
    "center = 1.73806037-0.01388821j   # fundamental mode!\n",
    "radius = .01\n",
    "p = 2\n",
    "\n",
    "z2, y2, yl2, beta2, P2, _ = A.leakymode(p, rad=radius, ctr=center, alpha=A.alpha,\n",
    "                                   niterations=5, npts=4, nspan=2, nrestarts=0)"
   ]
  },
  {
   "cell_type": "code",
   "execution_count": null,
   "id": "23531215",
   "metadata": {},
   "outputs": [],
   "source": [
    "C=1e2\n",
    "for f in y2:\n",
    "    Draw(C*f, A.mesh)\n",
    "    Draw(C*f, A.mesh)"
   ]
  },
  {
   "cell_type": "code",
   "execution_count": null,
   "id": "0cfcbd9e",
   "metadata": {},
   "outputs": [],
   "source": [
    "center = 2.71099165-0.0240913j\n",
    "radius = .01\n",
    "p = 3\n",
    "\n",
    "z2, y2, yl2, beta2, P2, _ = A.leakymode(p, rad=radius, ctr=center, alpha=A.alpha,\n",
    "                                   niterations=5, npts=4, nspan=2, nrestarts=0)"
   ]
  },
  {
   "cell_type": "code",
   "execution_count": null,
   "id": "3eebf2c8",
   "metadata": {},
   "outputs": [],
   "source": [
    "C=1e2\n",
    "for f in y2:\n",
    "    Draw(C*f, A.mesh)"
   ]
  },
  {
   "cell_type": "markdown",
   "id": "bb969c20",
   "metadata": {},
   "source": [
    "# Vector Modes"
   ]
  },
  {
   "cell_type": "code",
   "execution_count": 16,
   "id": "707114a7",
   "metadata": {},
   "outputs": [
    {
     "name": "stdout",
     "output_type": "stream",
     "text": [
      "Set NGSolve automatic PML with p= 2  alpha= 5 and thickness=2.000\n",
      "Using FEAST to search for vector leaky modes in\n",
      "circle of radius 0.1 centered at  (3.0206609673875326-0.0482770948224754j)\n",
      "assuming not more than 4 modes in this interval\n",
      "System size: 157365  x  157365   Inverse type: umfpack\n",
      "\n",
      "SpectralProj: Setting shifted trapezoidal rule quadrature on circular contour\n",
      "SpectralProj: Radius=0.1, Center=3.02066-0.0482771j\n",
      "SpectralProjNGR:   Making resolvent at z =  +3.021 +0.052j\n",
      "SpectralProjNGR:   Making resolvent at z =  +3.021 -0.148j\n",
      "\n",
      "=========== Starting FEAST iterations ===========\n",
      "Trying with 4 vectors:\n",
      "\n",
      " ITERATION 1 with 4 vectors and 4 left vectors\n",
      "   During kernel cleaning abs(g):\n",
      "   [3.8e-01 9.4e-02 6.0e-05 7.2e-06]\n",
      "   Real part of computed eigenvalues:\n",
      "   [-0.8112261   0.203833    3.13122712  3.13170169]\n",
      "   Imag part of computed eigenvalues:\n",
      "   [-6.07892704 -0.60061794 -0.08477598 -0.08511637]\n",
      "   Relative Hausdorff distance from prior iterate: 3.204e+99\n",
      "\n",
      " ITERATION 2 with 4 vectors and 4 left vectors\n",
      "   During kernel cleaning abs(g):\n",
      "   [8.4e-01 9.5e-01 1.8e-09 2.6e-09]\n",
      "   Real part of computed eigenvalues:\n",
      "   [-1.41680082  3.13188914  3.13193404  3.13196717]\n",
      "   Imag part of computed eigenvalues:\n",
      "   [-1.64439958 -0.08536027 -0.08502151 -0.0849808 ]\n",
      "   Relative Hausdorff distance from prior iterate: 1.434e+00\n",
      "\n",
      " ITERATION 3 with 4 vectors and 4 left vectors\n",
      "   During kernel cleaning abs(g):\n",
      "   [7.7e-01 1.0e-01 1.3e-15 4.5e-16]\n",
      "   Real part of computed eigenvalues:\n",
      "   [3.08187159 3.13199264 3.13362908 4.32321242]\n",
      "   Imag part of computed eigenvalues:\n",
      "   [-2.24992843 -0.08499012 -0.08362049 -0.33766671]\n",
      "   Relative Hausdorff distance from prior iterate: 1.454e+00\n",
      "\n",
      " ITERATION 4 with 4 vectors and 4 left vectors\n",
      "   During kernel cleaning abs(g):\n",
      "   [3.5e+05 1.9e+02 5.6e-12 3.4e-11]\n",
      "   Real part of computed eigenvalues:\n",
      "   [ 1.26449903  3.13199741  3.64052328 13.8343935 ]\n",
      "   Imag part of computed eigenvalues:\n",
      "   [ 0.90721774 -0.08498857 -0.4302559   2.34281712]\n",
      "   Relative Hausdorff distance from prior iterate: 3.166e+00\n",
      "\n",
      " ITERATION 5 with 4 vectors and 4 left vectors\n",
      "   During kernel cleaning abs(g):\n",
      "   [8.7e+07 1.1e-01 4.3e-09 8.7e-15]\n",
      "   Real part of computed eigenvalues:\n",
      "   [0.94455526 1.39488478 2.87623739 3.13199743]\n",
      "   Imag part of computed eigenvalues:\n",
      "   [ 0.37523331 -0.9287312  -1.20196819 -0.08498858]\n",
      "   Relative Hausdorff distance from prior iterate: 3.516e+00\n",
      "\n",
      " ITERATION 6 with 4 vectors and 4 left vectors\n",
      "   During kernel cleaning abs(g):\n",
      "   [1.4e+15 1.2e-01 1.1e-01 4.5e-07]\n",
      "   Real part of computed eigenvalues:\n",
      "   [-0.56006881  0.60839943  3.13199744  5.6152963 ]\n",
      "   Imag part of computed eigenvalues:\n",
      "   [-1.00119121 -0.55918277 -0.0849886   5.8557898 ]\n",
      "   Relative Hausdorff distance from prior iterate: 2.063e+00\n",
      "\n",
      " ITERATION 7 with 4 vectors and 4 left vectors\n",
      "   During kernel cleaning abs(g):\n",
      "   [3.5e-16 1.7e+06 1.0e-09 1.4e-11]\n",
      "   Scipy small eig solver failed!\n",
      "   Last ditch retry after mod-Gram-Schmidt on left/right spans:\n",
      "   QR found abs(diag(R)):\n",
      "   [2.8e+03 8.3e-21 6.3e-08 9.5e-08]\n",
      "   Removing 1 vector(s).\n",
      "   QR found abs(diag(R)):\n",
      "   [7.3e+32 2.3e+09 1.0e+22 5.3e+20]\n",
      "   Real part of computed eigenvalues:\n",
      "   [3.13194074 3.13198153 6.01787704]\n",
      "   Imag part of computed eigenvalues:\n",
      "   [ -0.08498443  -0.08497364 -11.73680618]\n",
      "   Relative Hausdorff distance from prior iterate: 3.846e+00\n",
      "\n",
      " ITERATION 8 with 3 vectors and 3 left vectors\n",
      "   During kernel cleaning abs(g):\n",
      "   [1.6e-01 1.6e-10 8.4e-15]\n",
      "   Real part of computed eigenvalues:\n",
      "   [ -2.10693503   3.13199141 306.17458201]\n",
      "   Imag part of computed eigenvalues:\n",
      "   [-4.22849738e-01 -8.49690710e-02  2.68504669e+03]\n",
      "   Relative Hausdorff distance from prior iterate: 8.658e+02\n",
      "\n",
      " ITERATION 9 with 3 vectors and 3 left vectors\n",
      "   During kernel cleaning abs(g):\n",
      "   [8.6e+10 3.3e-02 6.1e-07]\n",
      "   Real part of computed eigenvalues:\n",
      "   [ -0.91784712   3.13198866 113.92251673]\n",
      "   Imag part of computed eigenvalues:\n",
      "   [  0.50289166  -0.0849717  -30.23896454]\n",
      "   Relative Hausdorff distance from prior iterate: 8.658e+02\n",
      "\n",
      " ITERATION 10 with 3 vectors and 3 left vectors\n",
      "   During kernel cleaning abs(g):\n",
      "   [5.9e+06 1.2e-08 6.0e-09]\n",
      "   Real part of computed eigenvalues:\n",
      "   [-4.82951839  0.08531457  3.13198867]\n",
      "   Imag part of computed eigenvalues:\n",
      "   [ 1.46381153  0.96120106 -0.0849717 ]\n",
      "   Relative Hausdorff distance from prior iterate: 3.679e+01\n",
      "\n",
      " ITERATION 11 with 3 vectors and 3 left vectors\n",
      "   During kernel cleaning abs(g):\n",
      "   [3.7e+07 8.9e-08 6.5e-08]\n",
      "   Real part of computed eigenvalues:\n",
      "   [ 2.29831124  3.13198867 10.47008075]\n",
      "   Imag part of computed eigenvalues:\n",
      "   [-0.81909455 -0.08497169 -9.13366438]\n",
      "   Relative Hausdorff distance from prior iterate: 3.733e+00\n",
      "\n",
      " ITERATION 12 with 3 vectors and 3 left vectors\n",
      "   During kernel cleaning abs(g):\n",
      "   [6.7e+05 3.3e-10 2.8e-09]\n",
      "   Real part of computed eigenvalues:\n",
      "   [-1.77857252  3.13198868  4.56811007]\n",
      "   Imag part of computed eigenvalues:\n",
      "   [-0.49789928 -0.08497169  1.42256267]\n",
      "   Relative Hausdorff distance from prior iterate: 3.733e+00\n",
      "\n",
      " ITERATION 13 with 3 vectors and 3 left vectors\n",
      "   During kernel cleaning abs(g):\n",
      "   [8.3e+06 6.9e-09 2.8e-07]\n",
      "   Real part of computed eigenvalues:\n",
      "   [-1.01954031  2.07792962  3.13198868]\n",
      "   Imag part of computed eigenvalues:\n",
      "   [-4.51498732  0.2724284  -0.08497169]\n",
      "   Relative Hausdorff distance from prior iterate: 1.310e+00\n",
      "\n",
      " ITERATION 14 with 3 vectors and 3 left vectors\n",
      "   During kernel cleaning abs(g):\n",
      "   [1.8e+06 7.0e-08 5.5e-09]\n",
      "   Real part of computed eigenvalues:\n",
      "   [ 0.91234421  3.13198869 16.14453876]\n",
      "   Imag part of computed eigenvalues:\n",
      "   [ 4.32060277 -0.08497169 30.01213458]\n",
      "   Relative Hausdorff distance from prior iterate: 1.051e+01\n",
      "\n",
      " ITERATION 15 with 3 vectors and 3 left vectors\n",
      "   During kernel cleaning abs(g):\n",
      "   [1.3e+06 1.5e-09 2.4e-08]\n",
      "   Real part of computed eigenvalues:\n",
      "   [-16.02311633   0.45232252   3.1319887 ]\n",
      "   Imag part of computed eigenvalues:\n",
      "   [ 3.74204179 -1.97966558 -0.08497168]\n",
      "   Relative Hausdorff distance from prior iterate: 1.051e+01\n",
      "\n",
      "\n",
      "***FEAST did not converge!\n",
      "\n",
      "============= FEAST iterations done =============\n",
      "Results:\n",
      " Z²: [  3.1319887 -0.08497168j   0.45232252-1.97966558j\n",
      " -16.02311633+3.74204179j]\n",
      " beta: [10949874.89822805  +465.36217787j 10964546.0700752 +10827.47510757j\n",
      " 11054302.01280705-20300.34065113j]\n",
      " CL dB/m: [   4042.08451872   94046.25384321 -176326.51851081]\n"
     ]
    }
   ],
   "source": [
    "center = (1.73806037-0.01388821j)**2\n",
    "radius = .1\n",
    "p = 2\n",
    "\n",
    "betas, Zsqrs, Es, phis, _ = A.leakyvecmodes(p=p, rad=radius, ctr=center, alpha=A.alpha,\n",
    "                                   niterations=15, npts=2, nspan=4, nrestarts=0)"
   ]
  },
  {
   "cell_type": "code",
   "execution_count": 14,
   "id": "511f4123",
   "metadata": {},
   "outputs": [
    {
     "data": {
      "application/vnd.jupyter.widget-view+json": {
       "model_id": "cca9081700be4e9a86bfb551a1a913dc",
       "version_major": 2,
       "version_minor": 0
      },
      "text/plain": [
       "WebGuiWidget(layout=Layout(height='75vh', width='100%'), value={'gui_settings': {}, 'ngsolve_version': '6.2.23…"
      ]
     },
     "metadata": {},
     "output_type": "display_data"
    }
   ],
   "source": [
    "C=1e0\n",
    "for e in Es:\n",
    "    Draw(C*e.real, A.mesh, vectors={'grid_size':500})"
   ]
  },
  {
   "cell_type": "code",
   "execution_count": null,
   "id": "782b18c8",
   "metadata": {},
   "outputs": [],
   "source": [
    "C=1e0\n",
    "for phi in phis:\n",
    "    Draw(C*phi, A.mesh)"
   ]
  },
  {
   "cell_type": "code",
   "execution_count": null,
   "id": "1b2dcd69",
   "metadata": {},
   "outputs": [],
   "source": [
    "center = 7.49443801-0.20447834j\n",
    "radius = .01\n",
    "p = 1\n",
    "\n",
    "betas, Zsqrs, Es, phis, _ = A.leakyvecmodes(p=p, rad=radius, ctr=center, alpha=A.alpha,\n",
    "                                   niterations=5, npts=4, nspan=2, nrestarts=0)"
   ]
  },
  {
   "cell_type": "code",
   "execution_count": null,
   "id": "d063d487",
   "metadata": {},
   "outputs": [],
   "source": [
    "C=1e2\n",
    "for e in Es:\n",
    "    Draw(C*e.real, A.mesh, vectors={'grid_size':500})"
   ]
  },
  {
   "cell_type": "code",
   "execution_count": null,
   "id": "073cf587",
   "metadata": {},
   "outputs": [],
   "source": [
    "C=1e1\n",
    "for phi in phis:\n",
    "    Draw(C*phi, A.mesh)"
   ]
  }
 ],
 "metadata": {
  "kernelspec": {
   "display_name": "Python 3 (ipykernel)",
   "language": "python",
   "name": "python3"
  },
  "language_info": {
   "codemirror_mode": {
    "name": "ipython",
    "version": 3
   },
   "file_extension": ".py",
   "mimetype": "text/x-python",
   "name": "python",
   "nbconvert_exporter": "python",
   "pygments_lexer": "ipython3",
   "version": "3.10.12"
  }
 },
 "nbformat": 4,
 "nbformat_minor": 5
}
