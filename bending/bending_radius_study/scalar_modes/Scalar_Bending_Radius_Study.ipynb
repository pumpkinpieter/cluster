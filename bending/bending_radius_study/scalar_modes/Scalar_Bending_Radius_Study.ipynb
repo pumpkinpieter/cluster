{
 "cells": [
  {
   "cell_type": "markdown",
   "id": "a6c2339c",
   "metadata": {},
   "source": [
    "# Bend Radius Study:\n",
    "\n",
    "Nufern fiber, fundamental mode, bend radius now varies.  Our original bend radius was 4000 * R_core"
   ]
  },
  {
   "cell_type": "code",
   "execution_count": null,
   "id": "154e7ffd",
   "metadata": {},
   "outputs": [],
   "source": [
    "import numpy as np\n",
    "import ngsolve as ng\n",
    "import os\n",
    "import matplotlib.pyplot as plt\n",
    "import cmasher as cmr\n",
    "\n",
    "from IPython.display import Video\n",
    "from celluloid import Camera\n",
    "from fiberamp import FiberMode\n",
    "\n",
    "np.set_printoptions(suppress=True)"
   ]
  },
  {
   "cell_type": "code",
   "execution_count": null,
   "id": "8fc0778b",
   "metadata": {},
   "outputs": [],
   "source": [
    "main = os.path.expanduser('~/local/convergence/bending/bending_radius_study')\n",
    "studyname = 'scalar_modes'\n",
    "\n",
    "path = main + '/' + studyname + '/outputs'\n",
    "\n",
    "if not os.path.isdir(os.path.relpath(path)):\n",
    "    print('Making directory: ' + path)\n",
    "    os.makedirs(os.path.relpath(path))\n"
   ]
  },
  {
   "cell_type": "code",
   "execution_count": null,
   "id": "79b21237",
   "metadata": {},
   "outputs": [],
   "source": [
    "ref = 2\n",
    "p = 3\n",
    "\n",
    "a = FiberMode(fibername='Nufern_Yb', R=8, Rout=10, h=80, refine=ref,\n",
    "              curveorder=max(p, 3))"
   ]
  },
  {
   "cell_type": "code",
   "execution_count": null,
   "id": "2e9ceeb5",
   "metadata": {},
   "outputs": [],
   "source": [
    "# Center, radius and span\n",
    "center = 11468.5009866+4.85458815e-05j\n",
    "radius = .2\n",
    "nspan = 4\n",
    "npts = 4\n",
    "\n",
    "# Array of bend radii\n",
    "N = 1\n",
    "R_bends = np.linspace(4000,4000,N)\n",
    "CLs = np.zeros(N)\n"
   ]
  },
  {
   "cell_type": "code",
   "execution_count": null,
   "id": "c6e1ba0c",
   "metadata": {
    "scrolled": true
   },
   "outputs": [],
   "source": [
    "\n",
    "for i, R in enumerate(R_bends):\n",
    "    \n",
    "    Nusqrs, Modes, _, _, CL = a.bentscalarmodes(rad=radius, ctr=center, R_bend=R,\n",
    "                                    alpha=3, p=p, nspan=nspan,\n",
    "                                    npts=npts, niterations=12)\n",
    "    \n",
    "    center = Nusqrs[0]\n",
    "    CLs[i] = CL[0]"
   ]
  },
  {
   "cell_type": "code",
   "execution_count": null,
   "id": "5e5ef813",
   "metadata": {
    "scrolled": true
   },
   "outputs": [],
   "source": [
    "plt.plot(R_bends[:], CLs[:])\n",
    "plt.ylim(0.000)"
   ]
  },
  {
   "cell_type": "code",
   "execution_count": null,
   "id": "e3a03c73",
   "metadata": {},
   "outputs": [],
   "source": [
    "np.save(os.path.relpath(path + 'CLs'), CLs)"
   ]
  },
  {
   "cell_type": "code",
   "execution_count": null,
   "id": "1604febd",
   "metadata": {},
   "outputs": [],
   "source": [
    "np.save(os.path.relpath(path + 'alphas'), alphas)"
   ]
  },
  {
   "cell_type": "markdown",
   "id": "b0ba35a9",
   "metadata": {},
   "source": [
    "# Observations\n",
    "\n",
    "Initially we had R=3, Rout=5.  We got a fairly strong curvature, peaking at about alpha=1 CL=1.01.  Moving out the starting of PML to R=4 and Rout=6 gave a much flatter line, hovering near .008 for most all of the alpha values tested.  This persisted for R=5,6, Rout=7,8.\n",
    "\n",
    "As we moved it further out to R=7, Rout=9 the loss started to increase as we increased alpha. But then it went back to normal."
   ]
  },
  {
   "cell_type": "markdown",
   "id": "fe8706ad",
   "metadata": {},
   "source": [
    "# Visualization\n",
    "\n",
    "Makin a movie yo!"
   ]
  },
  {
   "cell_type": "code",
   "execution_count": null,
   "id": "6ca8b70e",
   "metadata": {},
   "outputs": [],
   "source": [
    "N, M = 100, 100\n",
    "rs = np.linspace(0, 3, N)\n",
    "thetas = np.linspace(0, 2*np.pi, M)\n",
    "\n",
    "Rs, Thetas = np.meshgrid(rs, thetas)\n",
    "X, Y = Rs * np.cos(Thetas), Rs * np.sin(Thetas)\n"
   ]
  },
  {
   "cell_type": "code",
   "execution_count": null,
   "id": "655b72a8",
   "metadata": {},
   "outputs": [],
   "source": [
    "# Center, radius and span\n",
    "center = 11467.78876477\n",
    "radius = .2\n",
    "nspan = 4\n",
    "npts = 4\n",
    "\n",
    "# Array of bend radii\n",
    "N_R = 40\n",
    "R_bends = np.linspace(8000, 4000, N_R)\n",
    "CLs = np.zeros(N_R)\n",
    "Z = np.zeros((N_R, X.shape[0], X.shape[1]), dtype=complex)\n",
    "\n",
    "\n",
    "for k, R in enumerate(R_bends):\n",
    "    \n",
    "    Nusqrs, Modes, _, _, CL = a.bentscalarmodes(rad=radius, ctr=center, R_bend=R,\n",
    "                                    alpha=3, p=p, nspan=nspan,\n",
    "                                    npts=npts, niterations=12)\n",
    "    y = ng.Norm(Modes[0])\n",
    "    \n",
    "    for i in range(X.shape[0]):\n",
    "        for j in range(X.shape[1]):\n",
    "            Z[k,i,j]=y(a.mesh(X[i, j], Y[i, j]))\n",
    "            \n",
    "    center = Nusqrs[0]\n",
    "    CLs[k] = CL[0]"
   ]
  },
  {
   "cell_type": "code",
   "execution_count": null,
   "id": "5a6b86a5",
   "metadata": {},
   "outputs": [],
   "source": [
    "cmap = cmr.get_sub_cmap('jet', 0.2, 0.89)\n",
    "\n",
    "fig = plt.figure(figsize=(8,8))\n",
    "camera = Camera(fig)\n",
    "plt.box()\n",
    "for q in range(N_R):\n",
    "    plt.plot(np.cos(thetas), np.sin(thetas), 'b--', linewidth=1.6)\n",
    "    plt.contourf(X, Y, Z[q].real, levels=60, cmap=cmap)\n",
    "    plt.axis('square')\n",
    "    plt.box()\n",
    "    plt.xticks([])\n",
    "    plt.yticks([])\n",
    "    camera.snap()\n"
   ]
  },
  {
   "cell_type": "code",
   "execution_count": null,
   "id": "14028e54",
   "metadata": {},
   "outputs": [],
   "source": [
    "animation = camera.animate(interval=38.25)\n",
    "\n"
   ]
  },
  {
   "cell_type": "code",
   "execution_count": null,
   "id": "591fc763",
   "metadata": {},
   "outputs": [],
   "source": [
    "animation.save('mode_animation.mp4')"
   ]
  },
  {
   "cell_type": "code",
   "execution_count": null,
   "id": "0199236a",
   "metadata": {
    "scrolled": true
   },
   "outputs": [],
   "source": [
    "Video('mode_animation.mp4')"
   ]
  },
  {
   "cell_type": "code",
   "execution_count": null,
   "id": "072e2a36",
   "metadata": {
    "scrolled": false
   },
   "outputs": [],
   "source": [
    "fig, ax = plt.subplots(figsize=(10.5,8))\n",
    "ax.set_title('Confinement Loss vs Curvature\\n Fundamental Mode Nufern fiber\\n', name=\"Serif\", fontsize=22)\n",
    "ax.plot(1/R_bends[:], CLs[:])\n",
    "# ax.set_yscale('log')\n",
    "ax.set_xlabel('\\nCurvature', fontsize=16)\n",
    "ax.set_ylabel('Loss\\n', fontsize=16)\n",
    "\n",
    "ax.grid()\n"
   ]
  },
  {
   "cell_type": "code",
   "execution_count": null,
   "id": "cd9945f8",
   "metadata": {},
   "outputs": [],
   "source": [
    "np.log(CLs)"
   ]
  },
  {
   "cell_type": "markdown",
   "id": "f0f8d012",
   "metadata": {},
   "source": [
    "# Save if you like\n"
   ]
  },
  {
   "cell_type": "code",
   "execution_count": null,
   "id": "d3b67a6d",
   "metadata": {},
   "outputs": [],
   "source": [
    "np.save(os.path.relpath(path + '/CLs'), CLs)\n",
    "\n",
    "np.save(os.path.relpath(path + '/R_bends'), R_bends)\n",
    "\n",
    "np.save(os.path.relpath(path + '/Zs'), Z)"
   ]
  },
  {
   "cell_type": "markdown",
   "id": "c86cb53a",
   "metadata": {},
   "source": [
    "# Load if you need"
   ]
  },
  {
   "cell_type": "code",
   "execution_count": null,
   "id": "b88ba2b2",
   "metadata": {},
   "outputs": [],
   "source": [
    "CLs = np.load(os.path.relpath(path + '/CLs.npy'))\n",
    "\n",
    "R_bends = np.load(os.path.relpath(path + '/R_bends.npy'))\n",
    "\n",
    "Z = np.load(os.path.relpath(path + '/Zs.npy'))"
   ]
  },
  {
   "cell_type": "code",
   "execution_count": null,
   "id": "5304b852",
   "metadata": {},
   "outputs": [],
   "source": []
  }
 ],
 "metadata": {
  "kernelspec": {
   "display_name": "Python 3 (ipykernel)",
   "language": "python",
   "name": "python3"
  },
  "language_info": {
   "codemirror_mode": {
    "name": "ipython",
    "version": 3
   },
   "file_extension": ".py",
   "mimetype": "text/x-python",
   "name": "python",
   "nbconvert_exporter": "python",
   "pygments_lexer": "ipython3",
   "version": "3.8.10"
  }
 },
 "nbformat": 4,
 "nbformat_minor": 5
}
