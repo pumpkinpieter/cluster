{
 "cells": [
  {
   "cell_type": "markdown",
   "id": "a6c2339c",
   "metadata": {},
   "source": [
    "# PML Study:\n",
    "\n",
    "Nufern fiber, fundamental mode, bend radius 4000 * r_core.  We have a good convergence study, now we see it loss is stable to pml strength."
   ]
  },
  {
   "cell_type": "code",
   "execution_count": null,
   "id": "154e7ffd",
   "metadata": {},
   "outputs": [],
   "source": [
    "import numpy as np\n",
    "import os\n",
    "import matplotlib.pyplot as plt\n",
    "from fiberamp import FiberMode"
   ]
  },
  {
   "cell_type": "code",
   "execution_count": null,
   "id": "8fc0778b",
   "metadata": {},
   "outputs": [],
   "source": [
    "main = os.path.expanduser('~/local/convergence/bending/pml_study')\n",
    "studyname = 'scalar_modes'\n",
    "\n",
    "path = main + '/' + studyname + '/outputs'\n",
    "\n",
    "if not os.path.isdir(os.path.relpath(path)):\n",
    "    print('Making directory: ' + path)\n",
    "    os.makedirs(os.path.relpath(path))\n"
   ]
  },
  {
   "cell_type": "code",
   "execution_count": null,
   "id": "79b21237",
   "metadata": {},
   "outputs": [],
   "source": [
    "# Bend Radius\n",
    "R_bend = 4000\n",
    "\n",
    "# Center, radius and span\n",
    "center = 11468\n",
    "radius = 1\n",
    "nspan = 2\n",
    "npts = 4\n",
    "\n",
    "ref = 2\n",
    "p = 3\n",
    "\n",
    "\n",
    "a = FiberMode(fibername='Nufern_Yb', R=5, Rout=7, h=80, refine=ref,\n",
    "              curveorder=max(p, 3))\n"
   ]
  },
  {
   "cell_type": "code",
   "execution_count": null,
   "id": "2e9ceeb5",
   "metadata": {},
   "outputs": [],
   "source": [
    "N = 11\n",
    "alphas = np.linspace(.1, 4,N)\n",
    "CLs = np.zeros(N)\n"
   ]
  },
  {
   "cell_type": "code",
   "execution_count": null,
   "id": "c6e1ba0c",
   "metadata": {},
   "outputs": [],
   "source": [
    "\n",
    "for i, alpha in enumerate(alphas):\n",
    "    _, _, _, _, CL = a.bentscalarmodes(rad=radius, ctr=center, R_bend=R_bend,\n",
    "                                    alpha=alpha, p=p, nspan=nspan,\n",
    "                                    npts=npts, niterations=12)\n",
    "\n",
    "    CLs[i] = CL[0]"
   ]
  },
  {
   "cell_type": "code",
   "execution_count": null,
   "id": "5e5ef813",
   "metadata": {},
   "outputs": [],
   "source": [
    "plt.plot(alphas[1:], CLs[1:])\n",
    "plt.ylim(0.000, .012)"
   ]
  },
  {
   "cell_type": "code",
   "execution_count": null,
   "id": "e3a03c73",
   "metadata": {},
   "outputs": [],
   "source": [
    "np.save(os.path.relpath(path + 'CLs'), CLs)"
   ]
  },
  {
   "cell_type": "code",
   "execution_count": null,
   "id": "1604febd",
   "metadata": {},
   "outputs": [],
   "source": [
    "np.save(os.path.relpath(path + 'alphas'), alphas)"
   ]
  },
  {
   "cell_type": "markdown",
   "id": "b0ba35a9",
   "metadata": {},
   "source": [
    "# Observations\n",
    "\n",
    "Initially we had R=3, Rout=5.  We got a fairly strong curvature, peaking at about alpha=1 CL=1.01.  Moving out the starting of PML to R=4 and Rout=6 gave a much flatter line, hovering near .008 for most all of the alpha values tested.  This persisted for R=5,6, Rout=7,8.\n",
    "\n",
    "As we moved it further out to R=7, Rout=9 the loss started to increase as we increased alpha. But then it went back to normal."
   ]
  }
 ],
 "metadata": {
  "kernelspec": {
   "display_name": "Python 3 (ipykernel)",
   "language": "python",
   "name": "python3"
  },
  "language_info": {
   "codemirror_mode": {
    "name": "ipython",
    "version": 3
   },
   "file_extension": ".py",
   "mimetype": "text/x-python",
   "name": "python",
   "nbconvert_exporter": "python",
   "pygments_lexer": "ipython3",
   "version": "3.8.10"
  }
 },
 "nbformat": 4,
 "nbformat_minor": 5
}
