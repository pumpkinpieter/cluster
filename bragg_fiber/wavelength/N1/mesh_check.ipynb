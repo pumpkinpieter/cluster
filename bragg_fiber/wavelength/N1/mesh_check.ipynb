{
 "cells": [
  {
   "cell_type": "code",
   "execution_count": 19,
   "id": "664ce3d7",
   "metadata": {},
   "outputs": [],
   "source": [
    "import numpy as np\n",
    "from fiberamp.fiber.microstruct.bragg import Bragg\n",
    "from ngsolve.webgui import Draw"
   ]
  },
  {
   "cell_type": "code",
   "execution_count": 25,
   "id": "1d895ead",
   "metadata": {},
   "outputs": [
    {
     "name": "stdout",
     "output_type": "stream",
     "text": [
      "Boundary names not provided, using default names.\n",
      "ModeSolver: Checking if mesh has required regions\n",
      "Mesh has  31624  elements,  15865  points,  and  47488  edges.\n"
     ]
    }
   ],
   "source": [
    "n_air = 1.00027717\n",
    "n_glass = 1.4388164768221814\n",
    "ts = [15*2.7183333333333333e-6, 15*2/3*1e-6, 15*1e-6, 15*1e-6]\n",
    "ns = [lambda x: n_air, lambda x: n_glass, lambda x: n_air, lambda x: n_air]\n",
    "maxhs = [.1, .01, .04, .06]\n",
    "scale = 15e-6\n",
    "\n",
    "a = Bragg(ts=ts, scale=scale, maxhs=maxhs, ns=ns, wl=1.8e-6)\n"
   ]
  },
  {
   "cell_type": "code",
   "execution_count": 26,
   "id": "132d3a81",
   "metadata": {},
   "outputs": [
    {
     "data": {
      "application/vnd.jupyter.widget-view+json": {
       "model_id": "89a71d81a4434f238d45f0039b508bb8",
       "version_major": 2,
       "version_minor": 0
      },
      "text/plain": [
       "WebGuiWidget(layout=Layout(height='50vh', width='100%'), value={'gui_settings': {}, 'ngsolve_version': '6.2.23…"
      ]
     },
     "metadata": {},
     "output_type": "display_data"
    },
    {
     "data": {
      "text/plain": [
       "BaseWebGuiScene"
      ]
     },
     "execution_count": 26,
     "metadata": {},
     "output_type": "execute_result"
    }
   ],
   "source": [
    "Draw(a.mesh)"
   ]
  },
  {
   "cell_type": "code",
   "execution_count": null,
   "id": "00b49471",
   "metadata": {},
   "outputs": [],
   "source": []
  }
 ],
 "metadata": {
  "kernelspec": {
   "display_name": "Python 3 (ipykernel)",
   "language": "python",
   "name": "python3"
  },
  "language_info": {
   "codemirror_mode": {
    "name": "ipython",
    "version": 3
   },
   "file_extension": ".py",
   "mimetype": "text/x-python",
   "name": "python",
   "nbconvert_exporter": "python",
   "pygments_lexer": "ipython3",
   "version": "3.10.6"
  }
 },
 "nbformat": 4,
 "nbformat_minor": 5
}
