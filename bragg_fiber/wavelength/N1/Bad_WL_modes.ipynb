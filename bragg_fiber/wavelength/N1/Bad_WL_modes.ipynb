{
 "cells": [
  {
   "cell_type": "code",
   "execution_count": null,
   "id": "664ce3d7",
   "metadata": {},
   "outputs": [],
   "source": [
    "import numpy as np\n",
    "import matplotlib.pyplot as plt\n",
    "\n",
    "from step_exact import RadialStep, plotlogf\n",
    "from scipy.optimize import newton"
   ]
  },
  {
   "cell_type": "code",
   "execution_count": null,
   "id": "30f4dd59",
   "metadata": {},
   "outputs": [],
   "source": [
    "n = 300\n",
    "wls = np.linspace(1.4e-6, 2e-6, n+1)\n",
    "betas = np.zeros_like(wls, dtype=complex)\n",
    "outer = 'h2'\n",
    "nu = 1"
   ]
  },
  {
   "cell_type": "markdown",
   "id": "0b5b89c6",
   "metadata": {},
   "source": [
    "# Visual Modes at bad wls"
   ]
  },
  {
   "cell_type": "code",
   "execution_count": null,
   "id": "86fc2134",
   "metadata": {},
   "outputs": [],
   "source": [
    "wl1 = wls[70]\n",
    "wl2 = wls[195]\n",
    "wl1, wls[69]"
   ]
  },
  {
   "cell_type": "code",
   "execution_count": null,
   "id": "81226ec5",
   "metadata": {},
   "outputs": [],
   "source": [
    "\n",
    "A = RadialStep(r1=15*2.7183333333333333e-6, t1=15*2/3*1e-6, t2=15*.4e-6, \n",
    "               scale=15e-6, R1_maxh=5, R2_maxh=5, R3_maxh=5, wavelength=wl1)\n",
    "\n",
    "k_low = A.k1 * A.scale\n",
    "guess = np.array(.999999 * k_low)\n",
    "imag = 0\n",
    "flag = True\n",
    "reduce = 0\n",
    "\n",
    "while flag:\n",
    "    try:\n",
    "        x0 = np.array(guess + imag*1j)\n",
    "        beta = newton(A.hybrid_det_matrix, x0, args=(nu, outer), tol = 1e-17)\n",
    "        if beta.real > k_low:\n",
    "            print(\"Captured wrong mode, retrying.\")\n",
    "            raise RuntimeError\n",
    "        elif beta.imag > 0:\n",
    "            print(\"Positive imaginary part, retrying.\")\n",
    "            imag = -beta.imag\n",
    "            guess *= 1/.9999\n",
    "            raise RuntimeError\n",
    "        else:\n",
    "            print(\"Scaled beta: \", beta, \". Residual of determinant: \", \n",
    "                  abs(A.hybrid_det_matrix(beta, nu, outer)), '\\n\\n' )\n",
    "            imag = beta.imag\n",
    "            flag=False\n",
    "    except RuntimeError:\n",
    "        guess *= .99999\n",
    "        reduce += 1\n",
    "        print(\"scaling guess: \" + str(reduce), flush=True)\n"
   ]
  },
  {
   "cell_type": "code",
   "execution_count": null,
   "id": "7017a529",
   "metadata": {},
   "outputs": [],
   "source": [
    "k_low = A.k1 * A.scale\n",
    "k_high = A.k2 * A.scale\n",
    "k_low, k_high"
   ]
  },
  {
   "cell_type": "code",
   "execution_count": null,
   "id": "cab9eb3d",
   "metadata": {},
   "outputs": [],
   "source": [
    "outer = 'h2'\n",
    "nu = 1"
   ]
  },
  {
   "cell_type": "code",
   "execution_count": null,
   "id": "7ac1de67",
   "metadata": {},
   "outputs": [],
   "source": [
    "plotlogf(A.hybrid_det_matrix, .999*k_low, 1.001*k_low, -.01,.01, nu, outer,\n",
    "         iref=100, rref=100, levels=100, loop=True)"
   ]
  },
  {
   "cell_type": "code",
   "execution_count": null,
   "id": "7286ab75",
   "metadata": {},
   "outputs": [],
   "source": [
    "plotlogf(A.hybrid_det_matrix, .9998*k_low, 1.00001*k_low, -.002,.001, nu, outer,\n",
    "         iref=100, rref=100, levels=100, loop=True)"
   ]
  },
  {
   "cell_type": "code",
   "execution_count": null,
   "id": "c5b9c975",
   "metadata": {},
   "outputs": [],
   "source": []
  }
 ],
 "metadata": {
  "kernelspec": {
   "display_name": "Python 3 (ipykernel)",
   "language": "python",
   "name": "python3"
  },
  "language_info": {
   "codemirror_mode": {
    "name": "ipython",
    "version": 3
   },
   "file_extension": ".py",
   "mimetype": "text/x-python",
   "name": "python",
   "nbconvert_exporter": "python",
   "pygments_lexer": "ipython3",
   "version": "3.8.10"
  }
 },
 "nbformat": 4,
 "nbformat_minor": 5
}
