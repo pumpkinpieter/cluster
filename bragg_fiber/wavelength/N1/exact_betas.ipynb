{
 "cells": [
  {
   "cell_type": "markdown",
   "id": "720129b6",
   "metadata": {},
   "source": [
    "# Loss vs Wavelength in Glass Tube\n",
    "\n",
    "This uses the 3 layer exact RadialStep class and 2 layer StepExact class"
   ]
  },
  {
   "cell_type": "code",
   "execution_count": null,
   "id": "664ce3d7",
   "metadata": {},
   "outputs": [],
   "source": [
    "import numpy as np\n",
    "import matplotlib.pyplot as plt\n",
    "\n",
    "from step_exact import RadialStep\n",
    "from scipy.optimize import newton"
   ]
  },
  {
   "cell_type": "markdown",
   "id": "d358a48f",
   "metadata": {},
   "source": [
    "# Initialize"
   ]
  },
  {
   "cell_type": "code",
   "execution_count": null,
   "id": "30f4dd59",
   "metadata": {},
   "outputs": [],
   "source": [
    "n = 300\n",
    "wls = np.linspace(1.4e-6, 2e-6, n+1)\n",
    "betas = np.zeros_like(wls, dtype=complex)\n",
    "outer = 'h2'\n",
    "nu = 1"
   ]
  },
  {
   "cell_type": "markdown",
   "id": "0b5b89c6",
   "metadata": {},
   "source": [
    "# Three Layer Study: Air Outside Cladding"
   ]
  },
  {
   "cell_type": "code",
   "execution_count": null,
   "id": "81226ec5",
   "metadata": {
    "scrolled": true
   },
   "outputs": [],
   "source": [
    "for i, wl in enumerate(wls):\n",
    "    print(5 * ' ' +  + 20 * '-' + '  ' + str(i+1) + '/' + str(n+1) + ': ' +\n",
    "          'wavelength: ' +  str(wls[i]) + '  ' +  20 * '-' +5 * ' '+'\\n')\n",
    "          \n",
    "    A = RadialStep(r1=15*2.7183333333333333e-6, t1=15*2/3*1e-6, t2=15*.4e-6, \n",
    "                   scale=15e-6, R1_maxh=5, R2_maxh=5, R3_maxh=5, wavelength=wl)\n",
    "\n",
    "    k_low = A.k1 * A.scale\n",
    "    guess = np.array(.99999 * k_low)\n",
    "    imag = 0\n",
    "    flag = True\n",
    "    reduce = 0\n",
    "\n",
    "    while flag:\n",
    "        try:\n",
    "            x0 = np.array(guess + imag*1j)\n",
    "            beta = newton(A.hybrid_det_matrix, x0, args=(nu, outer), tol = 1e-17)\n",
    "            if beta.real > k_low:\n",
    "                print(\"Captured wrong mode, retrying.\")\n",
    "                raise RuntimeError\n",
    "            elif beta.imag > 0:\n",
    "                print(\"Positive imaginary part, retrying.\")\n",
    "                imag = -beta.imag\n",
    "                guess *= 1/.9999\n",
    "                raise RuntimeError\n",
    "            else:\n",
    "                print(\"Scaled beta: \", beta, \". Residual of determinant: \", \n",
    "                      abs(A.hybrid_det_matrix(beta, nu, outer)), '\\n\\n' )\n",
    "                imag = beta.imag\n",
    "                flag=False\n",
    "        except RuntimeError:\n",
    "            guess *= .99999\n",
    "            reduce += 1\n",
    "            print(\"scaling guess: \" + str(reduce), flush=True)\n",
    "    betas[i] = beta\n",
    "    "
   ]
  },
  {
   "cell_type": "code",
   "execution_count": null,
   "id": "a024c592",
   "metadata": {},
   "outputs": [],
   "source": [
    "# Formula for loss spikes from article\n",
    "\n",
    "ms = np.arange(11,15,1)\n",
    "\n",
    "n1 = A.n1  # Inner (core) index\n",
    "n2 = A.n2  # Cladding index\n",
    "\n",
    "d = 15*2/3*1e-6\n",
    "\n",
    "ls = (2 * n1 * d / ms * ((n2/n1)**2 - 1)**.5)  # when n2 depends on ls, need solver"
   ]
  },
  {
   "cell_type": "code",
   "execution_count": null,
   "id": "1f62d654",
   "metadata": {
    "scrolled": false
   },
   "outputs": [],
   "source": [
    "%matplotlib notebook\n",
    "plt.figure(figsize=(8,5))\n",
    "plt.plot(wls, -betas.imag, color='green', linewidth=.9)\n",
    "for l in ls:\n",
    "    plt.ylim(-.001, .012)\n",
    "    plt.plot([l,l], [0, .012],  linewidth=1, linestyle=':')"
   ]
  },
  {
   "cell_type": "code",
   "execution_count": null,
   "id": "31a42b46",
   "metadata": {
    "scrolled": false
   },
   "outputs": [],
   "source": [
    "%matplotlib notebook\n",
    "plt.figure(figsize=(8,5))\n",
    "plt.plot(wls, betas.real, color='green', linewidth=.9)\n"
   ]
  },
  {
   "cell_type": "code",
   "execution_count": null,
   "id": "bfe41fe2",
   "metadata": {},
   "outputs": [],
   "source": [
    "np.save('exact_scaled_betas', betas)"
   ]
  }
 ],
 "metadata": {
  "kernelspec": {
   "display_name": "Python 3 (ipykernel)",
   "language": "python",
   "name": "python3"
  },
  "language_info": {
   "codemirror_mode": {
    "name": "ipython",
    "version": 3
   },
   "file_extension": ".py",
   "mimetype": "text/x-python",
   "name": "python",
   "nbconvert_exporter": "python",
   "pygments_lexer": "ipython3",
   "version": "3.8.10"
  }
 },
 "nbformat": 4,
 "nbformat_minor": 5
}
