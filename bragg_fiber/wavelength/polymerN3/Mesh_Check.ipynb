{
 "cells": [
  {
   "cell_type": "code",
   "execution_count": 1,
   "id": "83a9a57c",
   "metadata": {},
   "outputs": [
    {
     "name": "stdout",
     "output_type": "stream",
     "text": [
      "importing NGSolve-6.2.2203-56-g47f483033\n"
     ]
    }
   ],
   "source": [
    "import numpy as np\n",
    "from fiberamp.fiber.microstruct.bragg import Bragg\n",
    "from ngsolve.webgui import Draw"
   ]
  },
  {
   "cell_type": "code",
   "execution_count": 14,
   "id": "00216a67",
   "metadata": {},
   "outputs": [
    {
     "name": "stdout",
     "output_type": "stream",
     "text": [
      "ModeSolver: Checking if mesh has required regions\n",
      "Mesh has  67566  elements,  33836  points,  and  101401  edges.\n"
     ]
    }
   ],
   "source": [
    "i=0\n",
    "n_air = 1.00027717\n",
    "n_glass = 1.4388164768221814\n",
    "n_poly = 1.5 - .001j\n",
    "wls = np.linspace(1.4, 2, 301) * 1e-6\n",
    "\n",
    "ts = [15*2.7183333333333333e-6, 15*2/3*1e-6, 15*2.7183333333333333e-6,\n",
    "      15*2e-6, 15*2e-6]\n",
    "ns = [lambda x: n_air, lambda x: n_glass, lambda x: n_poly,\n",
    "      lambda x: n_air, lambda x: n_air]\n",
    "mats = ['air', 'glass', 'polymer', 'buffer', 'Outer']\n",
    "maxhs = [.1, .015, .01, .04, .06]\n",
    "scale = 15e-6\n",
    "\n",
    "a = Bragg(ts=ts, scale=scale, maxhs=maxhs, ns=ns,\n",
    "          mats=mats, ref=0, wl=wls[i])\n"
   ]
  },
  {
   "cell_type": "code",
   "execution_count": 15,
   "id": "7a5e6925",
   "metadata": {},
   "outputs": [
    {
     "data": {
      "application/vnd.jupyter.widget-view+json": {
       "model_id": "a7bbc53fbe284424ab795947bae18f94",
       "version_major": 2,
       "version_minor": 0
      },
      "text/plain": [
       "WebGuiWidget(value={'ngsolve_version': '6.2.2203-56-g47f483033', 'mesh_dim': 2, 'order2d': 2, 'order3d': 2, 'd…"
      ]
     },
     "metadata": {},
     "output_type": "display_data"
    },
    {
     "data": {
      "text/plain": [
       "BaseWebGuiScene"
      ]
     },
     "execution_count": 15,
     "metadata": {},
     "output_type": "execute_result"
    }
   ],
   "source": [
    "Draw(a.mesh)"
   ]
  },
  {
   "cell_type": "code",
   "execution_count": 16,
   "id": "d0ce5050",
   "metadata": {},
   "outputs": [],
   "source": [
    "\n",
    "# Set result arrays\n",
    "nspan = 4\n",
    "betas = np.zeros(nspan, dtype=complex)\n",
    "\n",
    "# Get exact search centers\n",
    "\n",
    "# Embedding parameter array\n",
    "wls = np.linspace(1.4, 2, 301) * 1e-6\n",
    "\n",
    "# PML strength\n",
    "alpha = 5\n"
   ]
  },
  {
   "cell_type": "code",
   "execution_count": 18,
   "id": "503bed12",
   "metadata": {
    "scrolled": false
   },
   "outputs": [
    {
     "name": "stdout",
     "output_type": "stream",
     "text": [
      "Set NGSolve automatic PML with alpha= 5 and thickness=2.000\n",
      "Using FEAST to search for vector leaky modes in\n",
      "circle of radius 0.2 centered at  (0.7612037599028554-0.019013418546906607j)\n",
      "assuming not more than 4 modes in this interval\n",
      "System size: 101401  x  101401   Inverse type: umfpack\n",
      "\n",
      "SpectralProj: Setting shifted trapezoidal rule quadrature on circular contour\n",
      "SpectralProj: Radius=0.2, Center=0.761204-0.0190134j\n",
      "SpectralProjNGR:   Making resolvent at z =  +0.903 +0.122j\n",
      "SpectralProjNGR:   Making resolvent at z =  +0.620 +0.122j\n",
      "SpectralProjNGR:   Making resolvent at z =  +0.620 -0.160j\n",
      "SpectralProjNGR:   Making resolvent at z =  +0.903 -0.160j\n",
      "\n",
      "=========== Starting FEAST iterations ===========\n",
      "Trying with 4 vectors:\n",
      "\n",
      " ITERATION 1 with 4 vectors and 4 left vectors\n",
      "   During kernel cleaning abs(g):\n",
      "   [3.1e+00 3.1e-01 6.1e-04 1.4e-03]\n",
      "   Real part of computed eigenvalues:\n",
      "   [0.7852347  0.78813508 0.96385778 1.02835699]\n",
      "   Imag part of computed eigenvalues:\n",
      "   [ 0.00466489  0.01411286  0.19235034 -0.38955435]\n",
      "   Relative Hausdorff distance from prior iterate: 1.040e+100\n",
      "\n",
      " ITERATION 2 with 4 vectors and 4 left vectors\n",
      "   During kernel cleaning abs(g):\n",
      "   [1.8 0.4 0.1 0. ]\n",
      "   Real part of computed eigenvalues:\n",
      "   [0.78473762 0.78681071 0.93384061 1.23157766]\n",
      "   Imag part of computed eigenvalues:\n",
      "   [0.0056194  0.01260184 0.08218786 0.16245288]\n",
      "   Relative Hausdorff distance from prior iterate: 4.829e-01\n",
      "\n",
      " ITERATION 3 with 4 vectors and 4 left vectors\n",
      "   During kernel cleaning abs(g):\n",
      "   [0.  0.  0.8 0.4]\n",
      "   Real part of computed eigenvalues:\n",
      "   [0.78473742 0.7868108  0.94719507 1.26744767]\n",
      "   Imag part of computed eigenvalues:\n",
      "   [ 0.00561908  0.01260194 -0.10399069  0.07761427]\n",
      "   Relative Hausdorff distance from prior iterate: 1.941e-01\n",
      "\n",
      "   Removing ew#[0, 1] not enclosed by contour\n",
      " ITERATION 4 with 2 vectors and 2 left vectors\n",
      "   During kernel cleaning abs(g):\n",
      "   [1.2 2.6]\n",
      "   Real part of computed eigenvalues:\n",
      "   [0.7847374 0.7868108]\n",
      "   Imag part of computed eigenvalues:\n",
      "   [0.00561911 0.01260195]\n",
      "   Relative Hausdorff distance from prior iterate: 3.712e-08\n",
      "\n",
      " ITERATION 5 with 2 vectors and 2 left vectors\n",
      "   During kernel cleaning abs(g):\n",
      "   [0.8 0.4]\n",
      "   Real part of computed eigenvalues:\n",
      "   [0.7847374 0.7868108]\n",
      "   Imag part of computed eigenvalues:\n",
      "   [0.00561911 0.01260195]\n",
      "   Relative Hausdorff distance from prior iterate: 1.474e-09\n",
      "\n",
      " ITERATION 6 with 2 vectors and 2 left vectors\n",
      "   During kernel cleaning abs(g):\n",
      "   [1.2 2.6]\n",
      "   Real part of computed eigenvalues:\n",
      "   [0.7847374 0.7868108]\n",
      "   Imag part of computed eigenvalues:\n",
      "   [0.00561911 0.01260195]\n",
      "   Relative Hausdorff distance from prior iterate: 3.258e-11\n",
      "\n",
      "\n",
      "***FEAST converged with:\n",
      "\tRelative Hausdorff distance = 3.258e-11\n",
      "\n",
      "============= FEAST iterations done =============\n",
      "Results:\n",
      " Z²: [0.7847374+0.00561911j 0.7868108+0.01260195j]\n",
      " beta: [4488844.97032797-2.78176527j 4488843.94388381-6.23865129j]\n",
      " CL dB/m: [-24.16210611 -54.18823658]\n"
     ]
    }
   ],
   "source": [
    "centers = np.load('exact_betas/k_001_scaled_betas.npy')\n",
    "\n",
    "centers = a.sqrZfrom(centers/a.L).conjugate()\n",
    "center = centers[i]\n",
    "radius = 0.2\n",
    "npts = 4\n",
    "\n",
    "beta, _, Es, phis, _ = a.leakyvecmodes(ctr=center,\n",
    "                                    rad=radius,\n",
    "                                    alpha=alpha,\n",
    "                                    nspan=nspan,\n",
    "                                    npts=npts,\n",
    "                                    p=0,\n",
    "                                    niterations=10,\n",
    "                                    nrestarts=0,\n",
    "                                    stop_tol=1e-9,)\n"
   ]
  },
  {
   "cell_type": "code",
   "execution_count": 19,
   "id": "13bd9200",
   "metadata": {},
   "outputs": [
    {
     "data": {
      "application/vnd.jupyter.widget-view+json": {
       "model_id": "7884922125d34aba9924a7dfebdb7046",
       "version_major": 2,
       "version_minor": 0
      },
      "text/plain": [
       "WebGuiWidget(value={'ngsolve_version': '6.2.2203-56-g47f483033', 'mesh_dim': 2, 'order2d': 2, 'order3d': 2, 'd…"
      ]
     },
     "metadata": {},
     "output_type": "display_data"
    },
    {
     "data": {
      "application/vnd.jupyter.widget-view+json": {
       "model_id": "2a311fd6cbd44a61a3d37d01bd560d29",
       "version_major": 2,
       "version_minor": 0
      },
      "text/plain": [
       "WebGuiWidget(value={'ngsolve_version': '6.2.2203-56-g47f483033', 'mesh_dim': 2, 'order2d': 2, 'order3d': 2, 'd…"
      ]
     },
     "metadata": {},
     "output_type": "display_data"
    }
   ],
   "source": [
    "for e in Es:\n",
    "    Draw(e.real, a.mesh)"
   ]
  },
  {
   "cell_type": "code",
   "execution_count": 20,
   "id": "6a34755d",
   "metadata": {},
   "outputs": [
    {
     "data": {
      "application/vnd.jupyter.widget-view+json": {
       "model_id": "6e893a99a2754971a0a50f3815506057",
       "version_major": 2,
       "version_minor": 0
      },
      "text/plain": [
       "WebGuiWidget(value={'ngsolve_version': '6.2.2203-56-g47f483033', 'mesh_dim': 2, 'order2d': 2, 'order3d': 2, 'd…"
      ]
     },
     "metadata": {},
     "output_type": "display_data"
    },
    {
     "data": {
      "application/vnd.jupyter.widget-view+json": {
       "model_id": "22f19f1b56b5424bbcbe088a3a568451",
       "version_major": 2,
       "version_minor": 0
      },
      "text/plain": [
       "WebGuiWidget(value={'ngsolve_version': '6.2.2203-56-g47f483033', 'mesh_dim': 2, 'order2d': 2, 'order3d': 2, 'd…"
      ]
     },
     "metadata": {},
     "output_type": "display_data"
    }
   ],
   "source": [
    "for phi in phis:\n",
    "    Draw(phi, a.mesh)"
   ]
  },
  {
   "cell_type": "code",
   "execution_count": null,
   "id": "d181b616",
   "metadata": {},
   "outputs": [],
   "source": []
  }
 ],
 "metadata": {
  "kernelspec": {
   "display_name": "Python 3 (ipykernel)",
   "language": "python",
   "name": "python3"
  },
  "language_info": {
   "codemirror_mode": {
    "name": "ipython",
    "version": 3
   },
   "file_extension": ".py",
   "mimetype": "text/x-python",
   "name": "python",
   "nbconvert_exporter": "python",
   "pygments_lexer": "ipython3",
   "version": "3.8.10"
  }
 },
 "nbformat": 4,
 "nbformat_minor": 5
}
