{
 "cells": [
  {
   "cell_type": "markdown",
   "id": "720129b6",
   "metadata": {},
   "source": [
    "# Loss vs Wavelength in Glass Tube\n",
    "\n",
    "This uses the 3 layer exact RadialStep class and 2 layer StepExact class"
   ]
  },
  {
   "cell_type": "code",
   "execution_count": null,
   "id": "664ce3d7",
   "metadata": {},
   "outputs": [],
   "source": [
    "import numpy as np\n",
    "import matplotlib.pyplot as plt\n",
    "from scipy.optimize import newton\n",
    "\n",
    "from step_exact import StepExact\n",
    "from step_exact.param_dicts.glass_annulus import params"
   ]
  },
  {
   "cell_type": "markdown",
   "id": "d358a48f",
   "metadata": {},
   "source": [
    "# Initialize"
   ]
  },
  {
   "cell_type": "code",
   "execution_count": null,
   "id": "30f4dd59",
   "metadata": {},
   "outputs": [],
   "source": [
    "n = 300\n",
    "wls = np.linspace(1.4e-6, 2e-6, n+1)\n",
    "betas = np.zeros_like(wls, dtype=complex)\n",
    "outer = 'h2'\n",
    "nu = 1"
   ]
  },
  {
   "cell_type": "markdown",
   "id": "92f605c3",
   "metadata": {},
   "source": [
    "# Two layer Study: Infinite Cladding"
   ]
  },
  {
   "cell_type": "code",
   "execution_count": null,
   "id": "8cc88e7f",
   "metadata": {},
   "outputs": [],
   "source": [
    "F = StepExact(params)\n",
    "F.wavelength=1e-6"
   ]
  },
  {
   "cell_type": "code",
   "execution_count": null,
   "id": "cab9eb3d",
   "metadata": {},
   "outputs": [],
   "source": [
    "outer = 'h2'\n",
    "nu = 1\n",
    "k_low = F.scale * min(F.k_clad, F.k_core)"
   ]
  },
  {
   "cell_type": "code",
   "execution_count": null,
   "id": "8e42e192",
   "metadata": {},
   "outputs": [],
   "source": [
    "\n",
    "for i, wl in enumerate(wls):\n",
    "    print(5 * ' ' +  + 20 * '-' + '  ' + str(i+1) + '/' + str(n+1)+  '  ' +  20 * '-' +5 * ' '+'\\n')\n",
    "    F.wavelength = wl\n",
    "    guess = np.array(.999999 * F.k_core * F.scale - 1.5e-4j)\n",
    "    flag=True\n",
    "    while flag:\n",
    "        try:\n",
    "            beta = newton(F.hybrid_det, guess, args=(nu, outer), tol = 1e-18)\n",
    "            print(\"Scaled beta: \", beta, \". Residual of determinant: \", \n",
    "                  abs(F.hybrid_det(beta, nu, outer)), '\\n' )\n",
    "            flag=False\n",
    "        except RuntimeError:\n",
    "            print('Newton method did not converge, refining guess.')\n",
    "            guess *= .99999\n",
    "            print(guess)\n",
    "    betas[i] = beta"
   ]
  },
  {
   "cell_type": "code",
   "execution_count": null,
   "id": "c84c7985",
   "metadata": {},
   "outputs": [],
   "source": [
    "%matplotlib notebook\n",
    "plt.figure(figsize=(10,5))\n",
    "plt.plot(wls, -betas.imag, color='green', linewidth=.9)\n"
   ]
  },
  {
   "cell_type": "code",
   "execution_count": null,
   "id": "ad956e8d",
   "metadata": {},
   "outputs": [],
   "source": [
    "%matplotlib notebook\n",
    "plt.figure(figsize=(10,5))\n",
    "plt.plot(wls,  betas.real, color='orange', linewidth=.9)\n"
   ]
  },
  {
   "cell_type": "code",
   "execution_count": null,
   "id": "3147e171",
   "metadata": {},
   "outputs": [],
   "source": [
    "np.save('exact_scaled_betas', betas)"
   ]
  },
  {
   "cell_type": "code",
   "execution_count": null,
   "id": "5c10d97e",
   "metadata": {},
   "outputs": [],
   "source": []
  }
 ],
 "metadata": {
  "kernelspec": {
   "display_name": "Python 3 (ipykernel)",
   "language": "python",
   "name": "python3"
  },
  "language_info": {
   "codemirror_mode": {
    "name": "ipython",
    "version": 3
   },
   "file_extension": ".py",
   "mimetype": "text/x-python",
   "name": "python",
   "nbconvert_exporter": "python",
   "pygments_lexer": "ipython3",
   "version": "3.8.10"
  }
 },
 "nbformat": 4,
 "nbformat_minor": 5
}
