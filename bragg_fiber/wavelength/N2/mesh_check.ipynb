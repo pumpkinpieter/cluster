{
 "cells": [
  {
   "cell_type": "code",
   "execution_count": null,
   "id": "19b20c8f",
   "metadata": {},
   "outputs": [],
   "source": [
    "import numpy as np\n",
    "from fiberamp.fiber.microstruct.bragg import Bragg\n",
    "from ngsolve.webgui import Draw"
   ]
  },
  {
   "cell_type": "code",
   "execution_count": null,
   "id": "35a48781",
   "metadata": {},
   "outputs": [],
   "source": [
    "\n",
    "n_air = 1.00027717\n",
    "n_glass = 1.4388164768221814\n",
    "ts = [15*2.7183333333333333e-6, 15*2/3*1e-6,\n",
    "      15*2.7183333333333333e-6, 15*1e-6, 15*2e-6]\n",
    "ns = [lambda x: n_air, lambda x: n_glass, lambda x: n_air,\n",
    "      lambda x: n_glass, lambda x: n_glass]\n",
    "mats = ['core', 'glass', 'air', 'buffer', 'Outer']\n",
    "maxhs = [.2, .03, .06, .02, .06]\n",
    "scale = 15e-6\n",
    "\n",
    "a = Bragg(ts=ts, scale=scale, maxhs=maxhs, ns=ns, mats=mats)"
   ]
  },
  {
   "cell_type": "code",
   "execution_count": null,
   "id": "93231ec8",
   "metadata": {
    "scrolled": true
   },
   "outputs": [],
   "source": [
    "Draw(a.mesh)"
   ]
  },
  {
   "cell_type": "code",
   "execution_count": null,
   "id": "7bc4fbcc",
   "metadata": {},
   "outputs": [],
   "source": []
  }
 ],
 "metadata": {
  "kernelspec": {
   "display_name": "Python 3 (ipykernel)",
   "language": "python",
   "name": "python3"
  },
  "language_info": {
   "codemirror_mode": {
    "name": "ipython",
    "version": 3
   },
   "file_extension": ".py",
   "mimetype": "text/x-python",
   "name": "python",
   "nbconvert_exporter": "python",
   "pygments_lexer": "ipython3",
   "version": "3.8.10"
  }
 },
 "nbformat": 4,
 "nbformat_minor": 5
}
