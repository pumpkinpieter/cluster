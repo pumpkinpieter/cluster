{
 "cells": [
  {
   "cell_type": "code",
   "execution_count": 4,
   "id": "19b20c8f",
   "metadata": {},
   "outputs": [],
   "source": [
    "import numpy as np\n",
    "from fiberamp.fiber.microstruct.bragg import Bragg\n",
    "from ngsolve.webgui import Draw"
   ]
  },
  {
   "cell_type": "code",
   "execution_count": 17,
   "id": "35a48781",
   "metadata": {},
   "outputs": [
    {
     "name": "stdout",
     "output_type": "stream",
     "text": [
      "Boundary names not provided, using default names.\n",
      "ModeSolver: Checking if mesh has required regions\n",
      "Mesh has  41466  elements,  20812  points,  and  62277  edges.\n"
     ]
    }
   ],
   "source": [
    "\n",
    "n_air = 1.00027717\n",
    "n_glass = 1.4388164768221814\n",
    "\n",
    "ts = [15*2.7183333333333333e-6, 15*2/3*1e-6,\n",
    "      15*2.7183333333333333e-6, 15*1e-6, 15*2e-6]\n",
    "ns = [lambda x: n_air, lambda x: n_glass, lambda x: n_air,\n",
    "      lambda x: n_glass, lambda x: n_glass]\n",
    "mats = ['core', 'glass', 'air', 'buffer', 'Outer']\n",
    "maxhs = [.1, .015, .06, .01, .04]\n",
    "# maxhs = [.15, .012, .06, .007, .05]\n",
    "scale = 15e-6\n",
    "\n",
    "a = Bragg(ts=ts, scale=scale, maxhs=maxhs, ns=ns, mats=mats)"
   ]
  },
  {
   "cell_type": "code",
   "execution_count": 18,
   "id": "93231ec8",
   "metadata": {
    "scrolled": false
   },
   "outputs": [
    {
     "data": {
      "application/vnd.jupyter.widget-view+json": {
       "model_id": "8e28234c5ba245b481c8ef10e4d2bfe8",
       "version_major": 2,
       "version_minor": 0
      },
      "text/plain": [
       "WebGuiWidget(layout=Layout(height='50vh', width='100%'), value={'gui_settings': {}, 'ngsolve_version': '6.2.23…"
      ]
     },
     "metadata": {},
     "output_type": "display_data"
    },
    {
     "data": {
      "text/plain": [
       "BaseWebGuiScene"
      ]
     },
     "execution_count": 18,
     "metadata": {},
     "output_type": "execute_result"
    }
   ],
   "source": [
    "Draw(a.mesh)"
   ]
  },
  {
   "cell_type": "code",
   "execution_count": null,
   "id": "7bc4fbcc",
   "metadata": {},
   "outputs": [],
   "source": []
  }
 ],
 "metadata": {
  "kernelspec": {
   "display_name": "Python 3 (ipykernel)",
   "language": "python",
   "name": "python3"
  },
  "language_info": {
   "codemirror_mode": {
    "name": "ipython",
    "version": 3
   },
   "file_extension": ".py",
   "mimetype": "text/x-python",
   "name": "python",
   "nbconvert_exporter": "python",
   "pygments_lexer": "ipython3",
   "version": "3.10.6"
  }
 },
 "nbformat": 4,
 "nbformat_minor": 5
}
