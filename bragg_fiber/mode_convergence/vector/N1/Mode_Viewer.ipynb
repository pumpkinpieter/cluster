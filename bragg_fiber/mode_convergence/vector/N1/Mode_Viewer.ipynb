{
 "cells": [
  {
   "cell_type": "markdown",
   "id": "45f7e2e0",
   "metadata": {},
   "source": [
    "# View modes in current mode folder\n"
   ]
  },
  {
   "cell_type": "code",
   "execution_count": 1,
   "id": "36fdb4d2",
   "metadata": {},
   "outputs": [],
   "source": [
    "from fiberamp.fiber.microstruct.bragg import Bragg\n",
    "from ngsolve.webgui import Draw\n",
    "from ngsolve import Norm\n",
    "import ngsolve as ng\n",
    "import numpy as np\n",
    "\n",
    "# import netgen.gui"
   ]
  },
  {
   "cell_type": "code",
   "execution_count": 2,
   "id": "ac7d5119-226c-41d4-be97-a1cbba968c3d",
   "metadata": {},
   "outputs": [
    {
     "name": "stdout",
     "output_type": "stream",
     "text": [
      "betas_ref_0_p1.npy  Es_ref_0_p1.npy  mesh_ref_0_p1.pkl  phis_ref_0_p1.npy\n"
     ]
    }
   ],
   "source": [
    "ls modes/"
   ]
  },
  {
   "cell_type": "code",
   "execution_count": 40,
   "id": "edb92c49",
   "metadata": {
    "scrolled": true
   },
   "outputs": [
    {
     "name": "stdout",
     "output_type": "stream",
     "text": [
      "Boundary names not provided, using default names.\n",
      "ModeSolver: Checking if mesh has required regions\n",
      "Mesh has  6444  elements,  3251  points,  and  9694  edges.\n"
     ]
    }
   ],
   "source": [
    "ref = 0\n",
    "p = 7\n",
    "a = Bragg()"
   ]
  },
  {
   "cell_type": "code",
   "execution_count": 41,
   "id": "8a6ba486",
   "metadata": {},
   "outputs": [],
   "source": [
    "mesh_path = 'modes/mesh_ref_%i_p%i.pkl' %(ref, p)\n",
    "Es_path = 'modes/Es_ref_%i_p%i.npy' %(ref, p)\n",
    "phis_path = 'modes/phis_ref_%i_p%i.npy' %(ref, p)\n",
    "betas_path = 'modes/betas_ref_%i_p%i.npy' %(ref, p)"
   ]
  },
  {
   "cell_type": "code",
   "execution_count": 42,
   "id": "b47ac05c",
   "metadata": {},
   "outputs": [
    {
     "data": {
      "text/plain": [
       "<ngsolve.comp.Mesh at 0x7f5c15bc4a90>"
      ]
     },
     "execution_count": 42,
     "metadata": {},
     "output_type": "execute_result"
    }
   ],
   "source": [
    "mesh = a.load_mesh(mesh_path)\n",
    "mesh.Curve(max(p+3,8))\n"
   ]
  },
  {
   "cell_type": "code",
   "execution_count": 43,
   "id": "5a45e0c3-ea2c-497b-9efc-0b181ce7c749",
   "metadata": {},
   "outputs": [],
   "source": [
    "Es = a.load_E_modes(mesh_path, Es_path, p=p)\n",
    "phis = a.load_phi_modes(mesh_path, phis_path, p=p)\n",
    "betas = np.load(betas_path)"
   ]
  },
  {
   "cell_type": "code",
   "execution_count": 46,
   "id": "eed5bfaa-c0a3-49b5-b429-712003712a5f",
   "metadata": {},
   "outputs": [
    {
     "data": {
      "application/vnd.jupyter.widget-view+json": {
       "model_id": "b6121eca0b594388852269bce0cf3899",
       "version_major": 2,
       "version_minor": 0
      },
      "text/plain": [
       "WebGuiWidget(layout=Layout(height='75vh', width='100%'), value={'gui_settings': {}, 'ngsolve_version': '6.2.23…"
      ]
     },
     "metadata": {},
     "output_type": "display_data"
    },
    {
     "data": {
      "application/vnd.jupyter.widget-view+json": {
       "model_id": "819988df6adf474dae7fbdf750807cd0",
       "version_major": 2,
       "version_minor": 0
      },
      "text/plain": [
       "WebGuiWidget(layout=Layout(height='75vh', width='100%'), value={'gui_settings': {}, 'ngsolve_version': '6.2.23…"
      ]
     },
     "metadata": {},
     "output_type": "display_data"
    }
   ],
   "source": [
    "for phi in phis:\n",
    "    Draw(1e3*phi, mesh)"
   ]
  },
  {
   "cell_type": "code",
   "execution_count": 39,
   "id": "0326f979-9d40-4f33-8a6a-8aaa6adbbe35",
   "metadata": {},
   "outputs": [
    {
     "data": {
      "application/vnd.jupyter.widget-view+json": {
       "model_id": "cbd1a27cbef64ad5a226713edea8ec55",
       "version_major": 2,
       "version_minor": 0
      },
      "text/plain": [
       "WebGuiWidget(layout=Layout(height='75vh', width='100%'), value={'gui_settings': {}, 'ngsolve_version': '6.2.23…"
      ]
     },
     "metadata": {},
     "output_type": "display_data"
    },
    {
     "data": {
      "application/vnd.jupyter.widget-view+json": {
       "model_id": "679be8b6be6b4daba022340a65385e1b",
       "version_major": 2,
       "version_minor": 0
      },
      "text/plain": [
       "WebGuiWidget(layout=Layout(height='75vh', width='100%'), value={'gui_settings': {}, 'ngsolve_version': '6.2.23…"
      ]
     },
     "metadata": {},
     "output_type": "display_data"
    }
   ],
   "source": [
    "for e in Es:\n",
    "    f = e.real.Norm()(mesh(0,0))\n",
    "    Draw(1/f * e.real, mesh, min=0, max=1,\n",
    "        vectors={'grid_size':200})"
   ]
  },
  {
   "cell_type": "code",
   "execution_count": null,
   "id": "abc97e39-10e5-4d55-850e-493a7199a664",
   "metadata": {},
   "outputs": [],
   "source": []
  }
 ],
 "metadata": {
  "kernelspec": {
   "display_name": "Python 3 (ipykernel)",
   "language": "python",
   "name": "python3"
  },
  "language_info": {
   "codemirror_mode": {
    "name": "ipython",
    "version": 3
   },
   "file_extension": ".py",
   "mimetype": "text/x-python",
   "name": "python",
   "nbconvert_exporter": "python",
   "pygments_lexer": "ipython3",
   "version": "3.10.12"
  }
 },
 "nbformat": 4,
 "nbformat_minor": 5
}
