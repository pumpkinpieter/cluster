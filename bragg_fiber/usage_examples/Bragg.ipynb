{
 "cells": [
  {
   "cell_type": "markdown",
   "id": "f4006980",
   "metadata": {},
   "source": [
    "# Hollow Glass tube, glass extending infinitely"
   ]
  },
  {
   "cell_type": "code",
   "execution_count": 50,
   "id": "c9ba1893",
   "metadata": {},
   "outputs": [],
   "source": [
    "from fiberamp.fiber.microstruct.bragg import Bragg\n",
    "from ngsolve.webgui import Draw\n",
    "import ngsolve as ng\n",
    "import numpy as np"
   ]
  },
  {
   "cell_type": "code",
   "execution_count": 51,
   "id": "5d0e3313",
   "metadata": {},
   "outputs": [],
   "source": [
    "n_air = 1.00027717\n",
    "n_glass = 1.4388164768221814"
   ]
  },
  {
   "cell_type": "code",
   "execution_count": 71,
   "id": "89f33d87",
   "metadata": {},
   "outputs": [],
   "source": [
    "d = 15*2/3*1e-6\n",
    "ts=[15*2.7183333333333333e-6, d, 15*1e-6]\n",
    "ns=[lambda x: n_air, lambda x: n_glass, lambda x: n_glass]\n",
    "mats=['air','glass','Outer']\n",
    "maxhs=[.2, .02, .1]\n",
    "scale=15e-6"
   ]
  },
  {
   "cell_type": "code",
   "execution_count": 72,
   "id": "b13636c3",
   "metadata": {},
   "outputs": [],
   "source": [
    "i = 0\n",
    "wls = np.linspace(1.4, 2, 301) * 1e-6"
   ]
  },
  {
   "cell_type": "code",
   "execution_count": 73,
   "id": "3f2d047b",
   "metadata": {
    "scrolled": true
   },
   "outputs": [
    {
     "name": "stdout",
     "output_type": "stream",
     "text": [
      "ModeSolver: Checking if mesh has required regions\n",
      "Mesh has  9727  elements,  4897  points,  and  14623  edges.\n"
     ]
    }
   ],
   "source": [
    "B = Bragg(ts=ts, scale=scale, maxhs=maxhs, ns=ns, mats=mats, wl=wls[i])"
   ]
  },
  {
   "cell_type": "code",
   "execution_count": 74,
   "id": "eda96205",
   "metadata": {
    "scrolled": true
   },
   "outputs": [
    {
     "data": {
      "application/vnd.jupyter.widget-view+json": {
       "model_id": "57b8d34f38b2414dba2e3e07174d6e9c",
       "version_major": 2,
       "version_minor": 0
      },
      "text/plain": [
       "WebGuiWidget(value={'ngsolve_version': '6.2.2203-56-g47f483033', 'mesh_dim': 2, 'order2d': 2, 'order3d': 2, 'd…"
      ]
     },
     "metadata": {},
     "output_type": "display_data"
    },
    {
     "data": {
      "text/plain": [
       "BaseWebGuiScene"
      ]
     },
     "execution_count": 74,
     "metadata": {},
     "output_type": "execute_result"
    }
   ],
   "source": [
    "Draw(B.index, B.mesh)"
   ]
  },
  {
   "cell_type": "code",
   "execution_count": 75,
   "id": "7937d15b",
   "metadata": {},
   "outputs": [],
   "source": [
    "exact_betas = np.load(\"../wavelength/N0/exact_scaled_betas.npy\")"
   ]
  },
  {
   "cell_type": "code",
   "execution_count": 76,
   "id": "4ffb91d5",
   "metadata": {},
   "outputs": [],
   "source": [
    "exact_zs = B.sqrZfrom(exact_betas / B.L)"
   ]
  },
  {
   "cell_type": "code",
   "execution_count": 91,
   "id": "79d992ef",
   "metadata": {},
   "outputs": [],
   "source": [
    "center = exact_zs[i]\n",
    "radius = .05\n",
    "nspan = 4\n",
    "npts = 2\n",
    "p = 2"
   ]
  },
  {
   "cell_type": "code",
   "execution_count": 95,
   "id": "2cf47703",
   "metadata": {
    "scrolled": true
   },
   "outputs": [
    {
     "name": "stdout",
     "output_type": "stream",
     "text": [
      "Set NGSolve automatic PML with alpha= 1 and thickness=1.000\n",
      "Using FEAST to search for vector leaky modes in\n",
      "circle of radius 0.05 centered at  (4848.342367014139+0.012689514720893767j)\n",
      "assuming not more than 4 modes in this interval\n",
      "System size: 102231  x  102231   Inverse type: umfpack\n",
      "\n",
      "SpectralProj: Setting shifted trapezoidal rule quadrature on circular contour\n",
      "SpectralProj: Radius=0.05, Center=4848.34+0.0126895j\n",
      "SpectralProjNGR:   Making resolvent at z = +4848.342 +0.063j\n",
      "SpectralProjNGR:   Making resolvent at z = +4848.342 -0.037j\n",
      "\n",
      "=========== Starting FEAST iterations ===========\n",
      "Trying with 4 vectors:\n",
      "\n",
      " ITERATION 1 with 4 vectors and 4 left vectors\n",
      "   During kernel cleaning abs(g):\n",
      "   [4.0e+00 5.6e-01 3.6e-07 1.0e-04]\n",
      "   Real part of computed eigenvalues:\n",
      "   [4848.34273328 4848.34276179 4849.55480718 4850.25441971]\n",
      "   Imag part of computed eigenvalues:\n",
      "   [-0.01372394 -0.01366118 -0.04933272 -0.03889499]\n",
      "   Relative Hausdorff distance from prior iterate: 2.063e+96\n",
      "\n",
      " ITERATION 2 with 4 vectors and 4 left vectors\n",
      "   During kernel cleaning abs(g):\n",
      "   [2.  1.  0.4 0. ]\n",
      "   Real part of computed eigenvalues:\n",
      "   [4848.34273223 4848.34275977 4849.55031584 4849.56995694]\n",
      "   Imag part of computed eigenvalues:\n",
      "   [-0.01372396 -0.0136614  -0.0492918  -0.02968278]\n",
      "   Relative Hausdorff distance from prior iterate: 1.412e-04\n",
      "\n",
      " ITERATION 3 with 4 vectors and 4 left vectors\n",
      "   During kernel cleaning abs(g):\n",
      "   [3.4e+00 1.5e+00 1.6e-06 9.3e-05]\n",
      "   Real part of computed eigenvalues:\n",
      "   [4848.34273223 4848.34275977 4849.54774092 4849.54995253]\n",
      "   Imag part of computed eigenvalues:\n",
      "   [-0.01372396 -0.0136614  -0.0287155  -0.04956084]\n",
      "   Relative Hausdorff distance from prior iterate: 4.586e-06\n",
      "\n",
      "   Removing ew#[1, 2] not enclosed by contour\n",
      " ITERATION 4 with 2 vectors and 2 left vectors\n",
      "   During kernel cleaning abs(g):\n",
      "   [0.6 1.3]\n",
      "   Real part of computed eigenvalues:\n",
      "   [4848.34273223 4848.34275977]\n",
      "   Imag part of computed eigenvalues:\n",
      "   [-0.01372396 -0.0136614 ]\n",
      "   Relative Hausdorff distance from prior iterate: 3.940e-15\n",
      "\n",
      "\n",
      "***FEAST converged with:\n",
      "\tRelative Hausdorff distance = 3.940e-15\n",
      "\n",
      "============= FEAST iterations done =============\n",
      "Results:\n",
      " Z²: [4848.34275977-0.0136614j  4848.34273223-0.01372396j]\n",
      " beta: [4488845.89991208+6.76313304j 4488845.91354292+6.79410245j]\n",
      " CL dB/m: [58.74382722 59.01282411]\n"
     ]
    }
   ],
   "source": [
    "beta, zs, Es, phis,_ = B.leakyvecmodes(p=p, ctr=center, rad=radius,\n",
    "                                       alpha=1,\n",
    "                                       nspan=nspan, npts=npts,\n",
    "                                       niterations=4, nrestarts=0,\n",
    "                                       stop_tol=1e-11)"
   ]
  },
  {
   "cell_type": "code",
   "execution_count": 96,
   "id": "74b3f882",
   "metadata": {
    "scrolled": false
   },
   "outputs": [
    {
     "data": {
      "application/vnd.jupyter.widget-view+json": {
       "model_id": "c4c3faa2e2cf4bf6a64b9cccdecd84d2",
       "version_major": 2,
       "version_minor": 0
      },
      "text/plain": [
       "WebGuiWidget(value={'ngsolve_version': '6.2.2203-56-g47f483033', 'mesh_dim': 2, 'order2d': 2, 'order3d': 2, 'd…"
      ]
     },
     "metadata": {},
     "output_type": "display_data"
    },
    {
     "data": {
      "application/vnd.jupyter.widget-view+json": {
       "model_id": "4f361569bdb644518ee0a44b3791491a",
       "version_major": 2,
       "version_minor": 0
      },
      "text/plain": [
       "WebGuiWidget(value={'ngsolve_version': '6.2.2203-56-g47f483033', 'mesh_dim': 2, 'order2d': 2, 'order3d': 2, 'd…"
      ]
     },
     "metadata": {},
     "output_type": "display_data"
    }
   ],
   "source": [
    "for e in Es:\n",
    "    Draw(e.real, B.mesh, vectors={'grid_size' : 200})"
   ]
  },
  {
   "cell_type": "code",
   "execution_count": 97,
   "id": "a5a082a3",
   "metadata": {
    "scrolled": false
   },
   "outputs": [
    {
     "data": {
      "application/vnd.jupyter.widget-view+json": {
       "model_id": "660177a311ca48bca15bdce3a4053aa0",
       "version_major": 2,
       "version_minor": 0
      },
      "text/plain": [
       "WebGuiWidget(value={'ngsolve_version': '6.2.2203-56-g47f483033', 'mesh_dim': 2, 'order2d': 2, 'order3d': 2, 'd…"
      ]
     },
     "metadata": {},
     "output_type": "display_data"
    },
    {
     "data": {
      "application/vnd.jupyter.widget-view+json": {
       "model_id": "d97f91a3ad514b8184975cd8619d2b82",
       "version_major": 2,
       "version_minor": 0
      },
      "text/plain": [
       "WebGuiWidget(value={'ngsolve_version': '6.2.2203-56-g47f483033', 'mesh_dim': 2, 'order2d': 2, 'order3d': 2, 'd…"
      ]
     },
     "metadata": {},
     "output_type": "display_data"
    }
   ],
   "source": [
    "for phi in phis:\n",
    "    Draw(1e1*phi, B.mesh)"
   ]
  },
  {
   "cell_type": "code",
   "execution_count": null,
   "id": "d958504c",
   "metadata": {},
   "outputs": [],
   "source": []
  }
 ],
 "metadata": {
  "kernelspec": {
   "display_name": "Python 3 (ipykernel)",
   "language": "python",
   "name": "python3"
  },
  "language_info": {
   "codemirror_mode": {
    "name": "ipython",
    "version": 3
   },
   "file_extension": ".py",
   "mimetype": "text/x-python",
   "name": "python",
   "nbconvert_exporter": "python",
   "pygments_lexer": "ipython3",
   "version": "3.8.10"
  }
 },
 "nbformat": 4,
 "nbformat_minor": 5
}
