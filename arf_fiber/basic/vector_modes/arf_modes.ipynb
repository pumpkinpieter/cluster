{
 "cells": [
  {
   "cell_type": "markdown",
   "id": "7e10e7fb",
   "metadata": {},
   "source": [
    "# Mode locations for ARF basic"
   ]
  },
  {
   "cell_type": "code",
   "execution_count": 1,
   "id": "76086311",
   "metadata": {},
   "outputs": [
    {
     "name": "stdout",
     "output_type": "stream",
     "text": [
      "importing NGSolve-6.2.2203-56-g47f483033\n"
     ]
    }
   ],
   "source": [
    "from fiberamp.fiber.microstruct.pbg import ARF2\n",
    "from ngsolve.webgui import Draw\n",
    "import ngsolve as ng"
   ]
  },
  {
   "cell_type": "code",
   "execution_count": 2,
   "id": "943a171a",
   "metadata": {
    "scrolled": true
   },
   "outputs": [
    {
     "name": "stdout",
     "output_type": "stream",
     "text": [
      "ModeSolver: Checking if mesh has required regions\n",
      "Mesh has  3791  elements,  1911  points,  and  5701  edges.\n"
     ]
    }
   ],
   "source": [
    "A = ARF2(poly_core=True, name='basic', curve=3, refine=0, e=.025/.42)\n"
   ]
  },
  {
   "cell_type": "code",
   "execution_count": 3,
   "id": "295db014",
   "metadata": {
    "scrolled": false
   },
   "outputs": [
    {
     "data": {
      "application/vnd.jupyter.widget-view+json": {
       "model_id": "f85b0e2c4b504349a062f4506e04398a",
       "version_major": 2,
       "version_minor": 0
      },
      "text/plain": [
       "WebGuiWidget(value={'ngsolve_version': '6.2.2203-56-g47f483033', 'mesh_dim': 2, 'order2d': 2, 'order3d': 2, 'd…"
      ]
     },
     "metadata": {},
     "output_type": "display_data"
    },
    {
     "data": {
      "text/plain": [
       "BaseWebGuiScene"
      ]
     },
     "execution_count": 3,
     "metadata": {},
     "output_type": "execute_result"
    }
   ],
   "source": [
    "Draw(A.mesh)"
   ]
  },
  {
   "cell_type": "markdown",
   "id": "890c55d5",
   "metadata": {},
   "source": [
    "# Fundamental Mode"
   ]
  },
  {
   "cell_type": "code",
   "execution_count": 44,
   "id": "18522452",
   "metadata": {},
   "outputs": [
    {
     "name": "stdout",
     "output_type": "stream",
     "text": [
      "Set NGSolve automatic PML with p= 2  alpha= 5 and thickness=2.000\n",
      "Using FEAST to search for vector leaky modes in\n",
      "circle of radius 0.1 centered at  3.34147686\n",
      "assuming not more than 4 modes in this interval\n",
      "System size: 39849  x  39849   Inverse type: umfpack\n",
      "\n",
      "SpectralProj: Setting shifted trapezoidal rule quadrature on circular contour\n",
      "SpectralProj: Radius=0.1, Center=3.34148+0j\n",
      "SpectralProjNGR:   Making resolvent at z =  +3.412 +0.071j\n",
      "SpectralProjNGR:   Making resolvent at z =  +3.271 +0.071j\n",
      "SpectralProjNGR:   Making resolvent at z =  +3.271 -0.071j\n",
      "SpectralProjNGR:   Making resolvent at z =  +3.412 -0.071j\n",
      "\n",
      "=========== Starting FEAST iterations ===========\n",
      "Trying with 4 vectors:\n",
      "\n",
      " ITERATION 1 with 4 vectors and 4 left vectors\n",
      "   During kernel cleaning abs(g):\n",
      "   [2.8e+00 5.1e-01 3.3e-05 1.0e-08]\n",
      "   Real part of computed eigenvalues:\n",
      "   [2.73202094 3.07479615 3.33337438 3.34147686]\n",
      "   Imag part of computed eigenvalues:\n",
      "   [-0.09652003 -0.10411148 -0.00103542 -0.00554339]\n",
      "   Relative Hausdorff distance from prior iterate: 2.993e+99\n",
      "\n",
      " ITERATION 2 with 4 vectors and 4 left vectors\n",
      "   During kernel cleaning abs(g):\n",
      "   [3.6 0.2 0.2 0.6]\n",
      "   Real part of computed eigenvalues:\n",
      "   [2.7216501  3.07479209 3.33337436 3.34147686]\n",
      "   Imag part of computed eigenvalues:\n",
      "   [-0.08201168 -0.1041145  -0.00103544 -0.0055434 ]\n",
      "   Relative Hausdorff distance from prior iterate: 5.337e-03\n",
      "\n",
      " ITERATION 3 with 4 vectors and 4 left vectors\n",
      "   During kernel cleaning abs(g):\n",
      "   [2.7e-01 1.1e-01 6.8e-08 5.6e-04]\n",
      "   Real part of computed eigenvalues:\n",
      "   [2.72121362 3.07479211 3.33337436 3.34147686]\n",
      "   Imag part of computed eigenvalues:\n",
      "   [-0.08151675 -0.1041145  -0.00103544 -0.0055434 ]\n",
      "   Relative Hausdorff distance from prior iterate: 1.975e-04\n",
      "\n",
      "   Removing ew#[1, 3] not enclosed by contour\n",
      " ITERATION 4 with 2 vectors and 2 left vectors\n",
      "   During kernel cleaning abs(g):\n",
      "   [3.7 9.3]\n",
      "   Real part of computed eigenvalues:\n",
      "   [3.33337436 3.34147686]\n",
      "   Imag part of computed eigenvalues:\n",
      "   [-0.00103544 -0.0055434 ]\n",
      "   Relative Hausdorff distance from prior iterate: 7.465e-15\n",
      "\n",
      "\n",
      "***FEAST converged with:\n",
      "\tRelative Hausdorff distance = 7.465e-15\n",
      "\n",
      "============= FEAST iterations done =============\n",
      "Results:\n",
      " Z²: [3.33337436-0.00103544j 3.34147686-0.0055434j ]\n",
      " beta: [3489503.86089439+0.65939793j 3489498.70097225+3.53021312j]\n",
      " CL dB/m: [ 5.72745765 30.66304157]\n"
     ]
    }
   ],
   "source": [
    "center = 3.34147686\n",
    "radius = .1     \n",
    "alpha = 5\n",
    "\n",
    "\n",
    "betas_fund, _, Es_fund, phis_fund, _ = A.leakyvecmodes(ctr=center, rad=radius, alpha=alpha,\n",
    "                                          nspan=4, npts=4, p=2, niterations=10,\n",
    "#                                           rhoinv=.99, quadrule='ellipse_trapez_shift',\n",
    "                                          nrestarts=0, stop_tol=1e-9)"
   ]
  },
  {
   "cell_type": "code",
   "execution_count": 45,
   "id": "6044f147",
   "metadata": {
    "scrolled": false
   },
   "outputs": [
    {
     "data": {
      "application/vnd.jupyter.widget-view+json": {
       "model_id": "15db7f4af85748589bfe385763af2068",
       "version_major": 2,
       "version_minor": 0
      },
      "text/plain": [
       "WebGuiWidget(value={'ngsolve_version': '6.2.2203-56-g47f483033', 'mesh_dim': 2, 'order2d': 2, 'order3d': 2, 'd…"
      ]
     },
     "metadata": {},
     "output_type": "display_data"
    },
    {
     "data": {
      "application/vnd.jupyter.widget-view+json": {
       "model_id": "57f1828897384b29b9c927122c6479db",
       "version_major": 2,
       "version_minor": 0
      },
      "text/plain": [
       "WebGuiWidget(value={'ngsolve_version': '6.2.2203-56-g47f483033', 'mesh_dim': 2, 'order2d': 2, 'order3d': 2, 'd…"
      ]
     },
     "metadata": {},
     "output_type": "display_data"
    }
   ],
   "source": [
    "for e in Es_fund:\n",
    "    Draw(e.real, A.mesh, vectors={'grid_size':200})"
   ]
  },
  {
   "cell_type": "markdown",
   "id": "7e23d307",
   "metadata": {},
   "source": [
    "# Higher Order Modes"
   ]
  },
  {
   "cell_type": "markdown",
   "id": "5a4bd757",
   "metadata": {},
   "source": [
    "ctr=6.25 r = .05\n",
    "\n"
   ]
  },
  {
   "cell_type": "code",
   "execution_count": 39,
   "id": "f43aee7b",
   "metadata": {},
   "outputs": [
    {
     "name": "stdout",
     "output_type": "stream",
     "text": [
      "Set NGSolve automatic PML with p= 1  alpha= 5 and thickness=2.000\n",
      "Using FEAST to search for vector leaky modes in\n",
      "circle of radius 2 centered at  6.5\n",
      "assuming not more than 10 modes in this interval\n",
      "System size: 18984  x  18984   Inverse type: umfpack\n",
      "\n",
      "SpectralProj: Setting shifted trapezoidal rule on elliptical contour\n",
      "SpectralProjNGR:   Making resolvent at z =  +8.232 +0.010j\n",
      "SpectralProjNGR:   Making resolvent at z =  +6.500 +0.020j\n",
      "SpectralProjNGR:   Making resolvent at z =  +4.768 +0.010j\n",
      "SpectralProjNGR:   Making resolvent at z =  +4.768 -0.010j\n",
      "SpectralProjNGR:   Making resolvent at z =  +6.500 -0.020j\n",
      "SpectralProjNGR:   Making resolvent at z =  +8.232 -0.010j\n",
      "\n",
      "=========== Starting FEAST iterations ===========\n",
      "Trying with 10 vectors:\n",
      "\n",
      " ITERATION 1 with 10 vectors and 10 left vectors\n",
      "   During kernel cleaning abs(g):\n",
      "   [2.1e+02 1.1e+01 8.5e-01 4.8e-01 1.3e-01 1.2e-02 3.6e-03 9.5e-04 1.5e-04\n",
      " 3.1e-04]\n",
      "   Real part of computed eigenvalues:\n",
      "   [6.26144706 6.37518724 6.38987683 6.54158248 6.59755725 6.67689943\n",
      " 6.93632098 7.27637461 7.32956107 7.42821735]\n",
      "   Imag part of computed eigenvalues:\n",
      "   [-2.26334877e-03  2.40973364e-05 -2.74259479e-05 -1.02679372e-04\n",
      " -3.23000787e-05 -3.02577988e-05 -9.65349965e-04  7.12732447e-04\n",
      " -2.77906508e-03  3.15063891e-03]\n",
      "   Relative Hausdorff distance from prior iterate: 1.538e+99\n",
      "\n",
      " ITERATION 2 with 10 vectors and 10 left vectors\n",
      "   During kernel cleaning abs(g):\n",
      "   [1.4 1.2 1.2 0.  0.1 0.3 0.5 0.7 0.7 0.7]\n",
      "   Real part of computed eigenvalues:\n",
      "   [6.21476768 6.37441353 6.38971583 6.54157215 6.59742788 6.67609899\n",
      " 6.92771    7.27413284 7.32717546 7.42331534]\n",
      "   Imag part of computed eigenvalues:\n",
      "   [-1.65019941e-04 -1.77130965e-05 -2.20148693e-05 -1.02335565e-04\n",
      " -2.52247802e-05 -1.64338969e-05 -1.75115328e-04  5.53027856e-04\n",
      " -2.81509040e-03  3.97309243e-03]\n",
      "   Relative Hausdorff distance from prior iterate: 7.189e-03\n",
      "\n",
      " ITERATION 3 with 10 vectors and 10 left vectors\n",
      "   During kernel cleaning abs(g):\n",
      "   [1.1e+02 8.3e+01 9.3e-01 9.4e-01 2.2e-01 2.4e-01 9.1e-03 7.2e-04 9.1e-04\n",
      " 2.5e-03]\n",
      "   Real part of computed eigenvalues:\n",
      "   [6.21283473 6.37441258 6.38971568 6.54157215 6.59742781 6.67609436\n",
      " 6.92628952 7.27081425 7.32302711 7.41743162]\n",
      "   Imag part of computed eigenvalues:\n",
      "   [-7.65364389e-05 -1.77786806e-05 -2.20118514e-05 -1.02335559e-04\n",
      " -2.52209107e-05 -1.63742380e-05 -5.14454982e-05  4.02008766e-04\n",
      " -2.75507677e-03  4.71361534e-03]\n",
      "   Relative Hausdorff distance from prior iterate: 9.123e-04\n",
      "\n",
      " ITERATION 4 with 10 vectors and 10 left vectors\n",
      "   During kernel cleaning abs(g):\n",
      "   [1.4 0.1 0.  0.5 1.2 1.2 0.3 0.8 0.8 0.8]\n",
      "   Real part of computed eigenvalues:\n",
      "   [6.2127598  6.37441258 6.38971568 6.54157215 6.59742781 6.67609434\n",
      " 6.92606404 7.26746845 7.31864661 7.41136547]\n",
      "   Imag part of computed eigenvalues:\n",
      "   [-7.33595885e-05 -1.77787774e-05 -2.20118495e-05 -1.02335559e-04\n",
      " -2.52209084e-05 -1.63738986e-05 -3.26149205e-05  2.69274214e-04\n",
      " -2.58035606e-03  5.37663225e-03]\n",
      "   Relative Hausdorff distance from prior iterate: 9.388e-04\n",
      "\n",
      " ITERATION 5 with 10 vectors and 10 left vectors\n",
      "   During kernel cleaning abs(g):\n",
      "   [1.1e+02 8.3e+01 9.3e-01 9.4e-01 2.2e-01 2.4e-01 7.2e-04 9.2e-04 2.5e-03\n",
      " 9.1e-03]\n",
      "   Real part of computed eigenvalues:\n",
      "   [6.21275694 6.37441258 6.38971568 6.54157215 6.59742781 6.67609434\n",
      " 6.92602847 7.26410114 7.31417902 7.40532474]\n",
      "   Imag part of computed eigenvalues:\n",
      "   [-7.32505194e-05 -1.77787780e-05 -2.20118489e-05 -1.02335559e-04\n",
      " -2.52209084e-05 -1.63738962e-05 -2.97654949e-05  1.63321752e-04\n",
      " -2.30007558e-03  5.90037288e-03]\n",
      "   Relative Hausdorff distance from prior iterate: 9.328e-04\n",
      "\n",
      " ITERATION 6 with 10 vectors and 10 left vectors\n",
      "   During kernel cleaning abs(g):\n",
      "   [1.4 0.1 0.5 0.  0.3 1.2 1.2 0.8 0.8 0.8]\n",
      "   Real part of computed eigenvalues:\n",
      "   [6.21275683 6.37441258 6.38971568 6.54157215 6.59742781 6.67609434\n",
      " 6.92602288 7.26074617 7.30979614 7.39949555]\n",
      "   Imag part of computed eigenvalues:\n",
      "   [-7.32469541e-05 -1.77787774e-05 -2.20118495e-05 -1.02335559e-04\n",
      " -2.52209084e-05 -1.63738961e-05 -2.93344915e-05  9.04904956e-05\n",
      " -1.94626035e-03  6.24633657e-03]\n",
      "   Relative Hausdorff distance from prior iterate: 8.984e-04\n",
      "\n",
      " ITERATION 7 with 10 vectors and 10 left vectors\n",
      "   During kernel cleaning abs(g):\n",
      "   [1.1e+02 8.3e+01 9.4e-01 9.3e-01 7.3e-04 9.3e-04 2.5e-03 9.1e-03 2.2e-01\n",
      " 2.4e-01]\n",
      "   Real part of computed eigenvalues:\n",
      "   [6.21275683 6.37441258 6.38971568 6.54157215 6.59742781 6.67609434\n",
      " 6.92602201 7.25746366 7.30566166 7.39401295]\n",
      "   Imag part of computed eigenvalues:\n",
      "   [-7.32468445e-05 -1.77787776e-05 -2.20118493e-05 -1.02335559e-04\n",
      " -2.52209084e-05 -1.63738961e-05 -2.92692122e-05  5.21897951e-05\n",
      " -1.56468162e-03  6.40662497e-03]\n",
      "   Relative Hausdorff distance from prior iterate: 8.438e-04\n",
      "\n",
      " ITERATION 8 with 10 vectors and 10 left vectors\n",
      "   During kernel cleaning abs(g):\n",
      "   [1.4 0.5 0.1 0.  0.3 1.2 1.2 0.8 0.8 0.8]\n",
      "   Real part of computed eigenvalues:\n",
      "   [6.21275683 6.37441258 6.38971568 6.54157215 6.59742781 6.67609434\n",
      " 6.92602187 7.25433301 7.30190049 7.38895234]\n",
      "   Imag part of computed eigenvalues:\n",
      "   [-7.32468411e-05 -1.77787774e-05 -2.20118495e-05 -1.02335559e-04\n",
      " -2.52209084e-05 -1.63738961e-05 -2.92592953e-05  4.31848565e-05\n",
      " -1.19969040e-03  6.39954361e-03]\n",
      "   Relative Hausdorff distance from prior iterate: 7.786e-04\n",
      "\n",
      " ITERATION 9 with 10 vectors and 10 left vectors\n",
      "   During kernel cleaning abs(g):\n",
      "   [1.1e+02 8.3e+01 9.4e-01 9.3e-01 7.3e-04 9.4e-04 2.5e-03 9.1e-03 2.2e-01\n",
      " 2.4e-01]\n",
      "   Real part of computed eigenvalues:\n",
      "   [6.21275683 6.37441258 6.38971568 6.54157215 6.59742781 6.67609434\n",
      " 6.92602185 7.25143734 7.29858327 7.38433683]\n",
      "   Imag part of computed eigenvalues:\n",
      "   [-7.32468409e-05 -1.77787772e-05 -2.20118498e-05 -1.02335559e-04\n",
      " -2.52209084e-05 -1.63738961e-05 -2.92577784e-05  5.28835866e-05\n",
      " -8.82056743e-04  6.25839719e-03]\n",
      "   Relative Hausdorff distance from prior iterate: 7.104e-04\n",
      "\n",
      " ITERATION 10 with 10 vectors and 10 left vectors\n",
      "   During kernel cleaning abs(g):\n",
      "   [0.1 1.4 0.  0.3 0.5 1.2 1.2 0.8 0.8 0.8]\n",
      "   Real part of computed eigenvalues:\n",
      "   [6.21275683 6.37441258 6.38971568 6.54157215 6.59742781 6.67609434\n",
      " 6.92602185 7.2488454  7.29572871 7.3801528 ]\n",
      "   Imag part of computed eigenvalues:\n",
      "   [-7.32468408e-05 -1.77787774e-05 -2.20118495e-05 -1.02335559e-04\n",
      " -2.52209084e-05 -1.63738961e-05 -2.92575425e-05  6.91872931e-05\n",
      " -6.25336684e-04  6.02018936e-03]\n",
      "   Relative Hausdorff distance from prior iterate: 6.447e-04\n",
      "\n",
      "\n",
      "***FEAST did not converge!\n",
      "\n",
      "============= FEAST iterations done =============\n",
      "Results:\n",
      " Z²: [6.21275683-7.32468408e-05j 7.3801528 +6.02018936e-03j\n",
      " 7.2488454 +6.91872931e-05j 7.29572871-6.25336684e-04j\n",
      " 6.92602185-2.92575425e-05j 6.67609434-1.63738961e-05j\n",
      " 6.54157215-1.02335559e-04j 6.37441258-1.77787774e-05j\n",
      " 6.38971568-2.20118495e-05j 6.59742781-2.52209084e-05j]\n",
      " beta: [3487669.7005019 +0.04667035j 3486925.7969246 -3.8366743j\n",
      " 3487009.47829202-0.04409209j 3486979.60008919+0.39852171j\n",
      " 3487215.20314318+0.01864432j 3487374.46540755+0.01043376j\n",
      " 3487460.18448167+0.06520859j 3487566.69753666+0.01132836j\n",
      " 3487556.94663204+0.01402564j 3487424.59287512+0.01607102j]\n",
      " CL dB/m: [  0.40537349 -33.32492951  -0.38297904   3.4615156    0.16194252\n",
      "   0.09062651   0.5663946    0.09839684   0.12182517   0.13959109]\n"
     ]
    }
   ],
   "source": [
    "center = 6.5\n",
    "radius = 2   \n",
    "alpha = 5\n",
    "\n",
    "\n",
    "betas_hom, _, Es_hom, phis_hom, _ = A.leakyvecmodes(ctr=center, rad=radius, alpha=alpha,\n",
    "                                          nspan=10, npts=6, p=1, niterations=10,\n",
    "                                          rhoinv=.99, quadrule='ellipse_trapez_shift',\n",
    "                                          nrestarts=0, stop_tol=1e-9)"
   ]
  },
  {
   "cell_type": "code",
   "execution_count": 40,
   "id": "af8d2751",
   "metadata": {
    "scrolled": false
   },
   "outputs": [
    {
     "data": {
      "application/vnd.jupyter.widget-view+json": {
       "model_id": "e9dd26a5a0a94aafb0a1c99a88e5fa73",
       "version_major": 2,
       "version_minor": 0
      },
      "text/plain": [
       "WebGuiWidget(value={'ngsolve_version': '6.2.2203-56-g47f483033', 'mesh_dim': 2, 'order2d': 2, 'order3d': 2, 'd…"
      ]
     },
     "metadata": {},
     "output_type": "display_data"
    },
    {
     "data": {
      "application/vnd.jupyter.widget-view+json": {
       "model_id": "cf20d673d06e454fa18547806dc12ae4",
       "version_major": 2,
       "version_minor": 0
      },
      "text/plain": [
       "WebGuiWidget(value={'ngsolve_version': '6.2.2203-56-g47f483033', 'mesh_dim': 2, 'order2d': 2, 'order3d': 2, 'd…"
      ]
     },
     "metadata": {},
     "output_type": "display_data"
    },
    {
     "data": {
      "application/vnd.jupyter.widget-view+json": {
       "model_id": "5c07c872c70a4aaa802ff74884311d60",
       "version_major": 2,
       "version_minor": 0
      },
      "text/plain": [
       "WebGuiWidget(value={'ngsolve_version': '6.2.2203-56-g47f483033', 'mesh_dim': 2, 'order2d': 2, 'order3d': 2, 'd…"
      ]
     },
     "metadata": {},
     "output_type": "display_data"
    },
    {
     "data": {
      "application/vnd.jupyter.widget-view+json": {
       "model_id": "49823ac8d82841f8b79015cb01c150f5",
       "version_major": 2,
       "version_minor": 0
      },
      "text/plain": [
       "WebGuiWidget(value={'ngsolve_version': '6.2.2203-56-g47f483033', 'mesh_dim': 2, 'order2d': 2, 'order3d': 2, 'd…"
      ]
     },
     "metadata": {},
     "output_type": "display_data"
    },
    {
     "data": {
      "application/vnd.jupyter.widget-view+json": {
       "model_id": "6bb574d1745440e7a072e6056340d55d",
       "version_major": 2,
       "version_minor": 0
      },
      "text/plain": [
       "WebGuiWidget(value={'ngsolve_version': '6.2.2203-56-g47f483033', 'mesh_dim': 2, 'order2d': 2, 'order3d': 2, 'd…"
      ]
     },
     "metadata": {},
     "output_type": "display_data"
    },
    {
     "data": {
      "application/vnd.jupyter.widget-view+json": {
       "model_id": "d389df6d6e614293b6b4de385a6b8411",
       "version_major": 2,
       "version_minor": 0
      },
      "text/plain": [
       "WebGuiWidget(value={'ngsolve_version': '6.2.2203-56-g47f483033', 'mesh_dim': 2, 'order2d': 2, 'order3d': 2, 'd…"
      ]
     },
     "metadata": {},
     "output_type": "display_data"
    },
    {
     "data": {
      "application/vnd.jupyter.widget-view+json": {
       "model_id": "4a1685359e5848bf8e85dd13d7768e51",
       "version_major": 2,
       "version_minor": 0
      },
      "text/plain": [
       "WebGuiWidget(value={'ngsolve_version': '6.2.2203-56-g47f483033', 'mesh_dim': 2, 'order2d': 2, 'order3d': 2, 'd…"
      ]
     },
     "metadata": {},
     "output_type": "display_data"
    },
    {
     "data": {
      "application/vnd.jupyter.widget-view+json": {
       "model_id": "7c8bb947dfed4613a16fefd3a479caf5",
       "version_major": 2,
       "version_minor": 0
      },
      "text/plain": [
       "WebGuiWidget(value={'ngsolve_version': '6.2.2203-56-g47f483033', 'mesh_dim': 2, 'order2d': 2, 'order3d': 2, 'd…"
      ]
     },
     "metadata": {},
     "output_type": "display_data"
    },
    {
     "data": {
      "application/vnd.jupyter.widget-view+json": {
       "model_id": "73fb52bb87ca40c5a25d3d537f8dd8e5",
       "version_major": 2,
       "version_minor": 0
      },
      "text/plain": [
       "WebGuiWidget(value={'ngsolve_version': '6.2.2203-56-g47f483033', 'mesh_dim': 2, 'order2d': 2, 'order3d': 2, 'd…"
      ]
     },
     "metadata": {},
     "output_type": "display_data"
    },
    {
     "data": {
      "application/vnd.jupyter.widget-view+json": {
       "model_id": "d01fb29e400743e9bcf8241c1eaabf84",
       "version_major": 2,
       "version_minor": 0
      },
      "text/plain": [
       "WebGuiWidget(value={'ngsolve_version': '6.2.2203-56-g47f483033', 'mesh_dim': 2, 'order2d': 2, 'order3d': 2, 'd…"
      ]
     },
     "metadata": {},
     "output_type": "display_data"
    }
   ],
   "source": [
    "for e in Es_hom:\n",
    "    Draw(e.real, A.mesh, vectors={'grid_size':200})"
   ]
  },
  {
   "cell_type": "markdown",
   "id": "948bb68a",
   "metadata": {},
   "source": [
    "# Refined search\n",
    "\n",
    "### Transverse Electric:"
   ]
  },
  {
   "cell_type": "code",
   "execution_count": 16,
   "id": "fa400cbb",
   "metadata": {},
   "outputs": [
    {
     "name": "stdout",
     "output_type": "stream",
     "text": [
      "Set NGSolve automatic PML with p= 2  alpha= 5 and thickness=2.000\n",
      "Using FEAST to search for vector leaky modes in\n",
      "circle of radius 0.005 centered at  12.744\n",
      "assuming not more than 4 modes in this interval\n",
      "System size: 37401  x  37401   Inverse type: umfpack\n",
      "\n",
      "SpectralProj: Setting shifted trapezoidal rule quadrature on circular contour\n",
      "SpectralProj: Radius=0.005, Center=12.744+0j\n",
      "SpectralProjNGR:   Making resolvent at z = +12.748 +0.004j\n",
      "SpectralProjNGR:   Making resolvent at z = +12.740 +0.004j\n",
      "SpectralProjNGR:   Making resolvent at z = +12.740 -0.004j\n",
      "SpectralProjNGR:   Making resolvent at z = +12.748 -0.004j\n",
      "\n",
      "=========== Starting FEAST iterations ===========\n",
      "Trying with 4 vectors:\n",
      "\n",
      " ITERATION 1 with 4 vectors and 4 left vectors\n",
      "   During kernel cleaning abs(g):\n",
      "   [3.4e-01 8.5e-05 1.8e-07 5.2e-07]\n",
      "   Real part of computed eigenvalues:\n",
      "   [12.74419303 12.76540952 12.76597527 12.77241553]\n",
      "   Imag part of computed eigenvalues:\n",
      "   [-0.00055921 -0.00091146 -0.00087467 -0.00159777]\n",
      "   Relative Hausdorff distance from prior iterate: 7.847e+98\n",
      "\n",
      " ITERATION 2 with 4 vectors and 4 left vectors\n",
      "   During kernel cleaning abs(g):\n",
      "   [2.  0.3 0.1 0. ]\n",
      "   Real part of computed eigenvalues:\n",
      "   [12.74419303 12.76540948 12.76597527 12.77241555]\n",
      "   Imag part of computed eigenvalues:\n",
      "   [-0.00055921 -0.00091151 -0.00087473 -0.00159777]\n",
      "   Relative Hausdorff distance from prior iterate: 5.192e-09\n",
      "\n",
      " ITERATION 3 with 4 vectors and 4 left vectors\n",
      "   During kernel cleaning abs(g):\n",
      "   [4.9e-01 1.3e-04 9.4e-05 2.7e-05]\n",
      "   Real part of computed eigenvalues:\n",
      "   [12.74419303 12.76540948 12.76597527 12.77241555]\n",
      "   Imag part of computed eigenvalues:\n",
      "   [-0.00055921 -0.00091151 -0.00087473 -0.00159777]\n",
      "   Relative Hausdorff distance from prior iterate: 9.767e-16\n",
      "\n",
      "   Removing ew#[1, 2, 3] not enclosed by contour\n",
      "\n",
      "***FEAST converged with:\n",
      "\tRelative Hausdorff distance = 9.767e-16\n",
      "\n",
      "============= FEAST iterations done =============\n",
      "Results:\n",
      " Z²: [12.74419303-0.00055921j]\n",
      " beta: [3483505.60993731+0.35673551j]\n",
      " CL dB/m: [3.09856524]\n"
     ]
    }
   ],
   "source": [
    "center_te =12.744\n",
    "radius = .005   \n",
    "alpha = 5\n",
    "\n",
    "\n",
    "betas_te, _, Es_te, phis_te, _ = A.leakyvecmodes(ctr=center_te, rad=radius, alpha=alpha,\n",
    "                                          nspan=4, npts=4, p=2, niterations=10,\n",
    "                                          nrestarts=0, stop_tol=1e-9)"
   ]
  },
  {
   "cell_type": "code",
   "execution_count": 17,
   "id": "967132e9",
   "metadata": {
    "scrolled": false
   },
   "outputs": [
    {
     "data": {
      "application/vnd.jupyter.widget-view+json": {
       "model_id": "8d056f427e4c41c9a426221c64293765",
       "version_major": 2,
       "version_minor": 0
      },
      "text/plain": [
       "WebGuiWidget(value={'ngsolve_version': '6.2.2203-55-ge6a1832fc', 'mesh_dim': 2, 'order2d': 2, 'order3d': 2, 'd…"
      ]
     },
     "metadata": {},
     "output_type": "display_data"
    }
   ],
   "source": [
    "for e in Es_te:\n",
    "    Draw(e.real, A.mesh, vectors={'grid_size':200})"
   ]
  },
  {
   "cell_type": "markdown",
   "id": "d1a9e7d7",
   "metadata": {},
   "source": [
    "### HOM"
   ]
  },
  {
   "cell_type": "code",
   "execution_count": 22,
   "id": "22b2faf8",
   "metadata": {
    "scrolled": true
   },
   "outputs": [
    {
     "name": "stdout",
     "output_type": "stream",
     "text": [
      "Set NGSolve automatic PML with p= 2  alpha= 5 and thickness=2.000\n",
      "Using FEAST to search for vector leaky modes in\n",
      "circle of radius 0.005 centered at  12.766\n",
      "assuming not more than 4 modes in this interval\n",
      "System size: 37401  x  37401   Inverse type: umfpack\n",
      "\n",
      "SpectralProj: Setting shifted trapezoidal rule quadrature on circular contour\n",
      "SpectralProj: Radius=0.005, Center=12.766+0j\n",
      "SpectralProjNGR:   Making resolvent at z = +12.770 +0.004j\n",
      "SpectralProjNGR:   Making resolvent at z = +12.762 +0.004j\n",
      "SpectralProjNGR:   Making resolvent at z = +12.762 -0.004j\n",
      "SpectralProjNGR:   Making resolvent at z = +12.770 -0.004j\n",
      "\n",
      "=========== Starting FEAST iterations ===========\n",
      "Trying with 4 vectors:\n",
      "\n",
      " ITERATION 1 with 4 vectors and 4 left vectors\n",
      "   During kernel cleaning abs(g):\n",
      "   [1.1e+01 5.5e-01 1.4e-07 3.1e-02]\n",
      "   Real part of computed eigenvalues:\n",
      "   [12.74419308 12.76540948 12.76597527 12.77241555]\n",
      "   Imag part of computed eigenvalues:\n",
      "   [-0.00055913 -0.00091151 -0.0008747  -0.00159775]\n",
      "   Relative Hausdorff distance from prior iterate: 7.833e+98\n",
      "\n",
      " ITERATION 2 with 4 vectors and 4 left vectors\n",
      "   During kernel cleaning abs(g):\n",
      "   [2.  0.8 0.2 0. ]\n",
      "   Real part of computed eigenvalues:\n",
      "   [12.74419303 12.76540948 12.76597527 12.77241555]\n",
      "   Imag part of computed eigenvalues:\n",
      "   [-0.00055921 -0.00091151 -0.00087473 -0.00159777]\n",
      "   Relative Hausdorff distance from prior iterate: 7.688e-09\n",
      "\n",
      " ITERATION 3 with 4 vectors and 4 left vectors\n",
      "   During kernel cleaning abs(g):\n",
      "   [1.0e-06 1.7e+00 2.0e+00 1.8e-01]\n",
      "   Real part of computed eigenvalues:\n",
      "   [12.74419303 12.76540948 12.76597527 12.77241555]\n",
      "   Imag part of computed eigenvalues:\n",
      "   [-0.00055921 -0.00091151 -0.00087473 -0.00159777]\n",
      "   Relative Hausdorff distance from prior iterate: 1.085e-13\n",
      "\n",
      "   Removing ew#[0, 1] not enclosed by contour\n",
      "\n",
      "***FEAST converged with:\n",
      "\tRelative Hausdorff distance = 1.085e-13\n",
      "\n",
      "============= FEAST iterations done =============\n",
      "Results:\n",
      " Z²: [12.76540948-0.00091151j 12.76597527-0.00087473j]\n",
      " beta: [3483492.0753602 +0.58148193j 3483491.71443109+0.55801319j]\n",
      " CL dB/m: [5.05068789 4.84684094]\n"
     ]
    }
   ],
   "source": [
    "center_te =12.766\n",
    "radius = .005   \n",
    "alpha = 5\n",
    "\n",
    "\n",
    "betas_hom, _, Es_hom, phis_hom, _ = A.leakyvecmodes(ctr=center_te, rad=radius, alpha=alpha,\n",
    "                                          nspan=4, npts=4, p=2, niterations=10,\n",
    "                                          nrestarts=0, stop_tol=1e-9)"
   ]
  },
  {
   "cell_type": "code",
   "execution_count": 21,
   "id": "c249cd55",
   "metadata": {
    "scrolled": false
   },
   "outputs": [
    {
     "data": {
      "application/vnd.jupyter.widget-view+json": {
       "model_id": "647efab2b30042239a6b4d8884e676c0",
       "version_major": 2,
       "version_minor": 0
      },
      "text/plain": [
       "WebGuiWidget(value={'ngsolve_version': '6.2.2203-55-ge6a1832fc', 'mesh_dim': 2, 'order2d': 2, 'order3d': 2, 'd…"
      ]
     },
     "metadata": {},
     "output_type": "display_data"
    },
    {
     "data": {
      "application/vnd.jupyter.widget-view+json": {
       "model_id": "e5edd578bc7f41fda3b3b99b4b6b5f1f",
       "version_major": 2,
       "version_minor": 0
      },
      "text/plain": [
       "WebGuiWidget(value={'ngsolve_version': '6.2.2203-55-ge6a1832fc', 'mesh_dim': 2, 'order2d': 2, 'order3d': 2, 'd…"
      ]
     },
     "metadata": {},
     "output_type": "display_data"
    },
    {
     "data": {
      "application/vnd.jupyter.widget-view+json": {
       "model_id": "529e62a9906344cbb8038a71194ed194",
       "version_major": 2,
       "version_minor": 0
      },
      "text/plain": [
       "WebGuiWidget(value={'ngsolve_version': '6.2.2203-55-ge6a1832fc', 'mesh_dim': 2, 'order2d': 2, 'order3d': 2, 'd…"
      ]
     },
     "metadata": {},
     "output_type": "display_data"
    }
   ],
   "source": [
    "for e in Es_hom:\n",
    "    Draw(e.real, A.mesh, vectors={'grid_size':200})"
   ]
  },
  {
   "cell_type": "markdown",
   "id": "4fc741f5",
   "metadata": {},
   "source": [
    "# Orthogonality Check\n",
    "\n"
   ]
  },
  {
   "cell_type": "code",
   "execution_count": 11,
   "id": "34bde670",
   "metadata": {},
   "outputs": [
    {
     "data": {
      "text/plain": [
       "(0.01203267849644094-1.8891809112782526e-12j)"
      ]
     },
     "execution_count": 11,
     "metadata": {},
     "output_type": "execute_result"
    }
   ],
   "source": [
    "# Set choice for fundamental mode\n",
    "Etv_fund, phi_fund, beta_fund = Es_fund[0], phis_fund[0], betas_fund[0]\n",
    "\n",
    "# Get H field for fundamental mode\n",
    "Htv_fund, Hz_fund = A.HfromE(Etv_fund, phi_fund, beta_fund)\n",
    "\n",
    "# Find current modal power\n",
    "E_fund_power = A.power(Etv_fund, Htv_fund)\n",
    "E_fund_power"
   ]
  },
  {
   "cell_type": "code",
   "execution_count": 12,
   "id": "a497fdb4",
   "metadata": {},
   "outputs": [
    {
     "data": {
      "text/plain": [
       "(0.0917096511986571-1.4254766413984806e-08j)"
      ]
     },
     "execution_count": 12,
     "metadata": {},
     "output_type": "execute_result"
    }
   ],
   "source": [
    "# Set choice for higher order mode (here Transverse Electric type)\n",
    "Etv_TE, Ephi_TE, beta_TE = Es_hom[1], phis_hom[1], betas_hom[1]\n",
    "\n",
    "# Get H field for hom\n",
    "Htv_TE, Hz_TE = A.HfromE(Etv_TE, Ephi_TE, beta_TE)\n",
    "\n",
    "# Find current modal power\n",
    "E_hom_power = A.power(Etv_TE, Htv_TE)\n",
    "\n",
    "E_hom_power"
   ]
  },
  {
   "cell_type": "code",
   "execution_count": 13,
   "id": "a027968b",
   "metadata": {},
   "outputs": [
    {
     "data": {
      "text/plain": [
       "(-6.332943820038884e-08+9.601983581182522e-08j)"
      ]
     },
     "execution_count": 13,
     "metadata": {},
     "output_type": "execute_result"
    }
   ],
   "source": [
    "# Check orthogonality (for power (maxwell) inner product)\n",
    "A.power(Etv_fund, Htv_TE)"
   ]
  },
  {
   "cell_type": "code",
   "execution_count": 14,
   "id": "92d9ae1a",
   "metadata": {},
   "outputs": [],
   "source": [
    "# Create full E field for fundamental\n",
    "Ez_fund = -1j/beta_fund * phi_fund\n",
    "E_fund_full = ng.CoefficientFunction((Etv_fund[0], Etv_fund[1], Ez_fund))\n",
    "\n",
    "# Create full H field for fundamental\n",
    "H_fund_full = ng.CoefficientFunction((Htv_fund[0], Htv_fund[1], Hz_fund))\n",
    "\n",
    "# Create full E field for higher order mode\n",
    "Ez_TE = -1j/beta_TE * Ephi_TE\n",
    "E_TE_full = ng.CoefficientFunction((Etv_TE[0], Etv_TE[1], Ez_TE))\n",
    "\n",
    "# Create full hom H field\n",
    "H_TE_full = ng.CoefficientFunction((Htv_TE[0], Htv_TE[1], Hz_TE))\n",
    "\n",
    "\n",
    "\n"
   ]
  },
  {
   "cell_type": "markdown",
   "id": "a5a9814b",
   "metadata": {},
   "source": [
    "# Full Field dot product Orthogonality"
   ]
  },
  {
   "cell_type": "code",
   "execution_count": 16,
   "id": "48c6cc10",
   "metadata": {},
   "outputs": [
    {
     "data": {
      "text/plain": [
       "(-5.0170729662532586e-05+7.612293830944044e-05j)"
      ]
     },
     "execution_count": 16,
     "metadata": {},
     "output_type": "execute_result"
    }
   ],
   "source": [
    "t1 = ng.InnerProduct(E_fund_full, E_TE_full)\n",
    "t2 = ng.InnerProduct(H_fund_full, H_TE_full)\n",
    "ng.Integrate(t1 + t2, A.mesh)"
   ]
  },
  {
   "cell_type": "markdown",
   "id": "b994b729",
   "metadata": {},
   "source": [
    "# Component-wise Orthogonality"
   ]
  },
  {
   "cell_type": "code",
   "execution_count": 30,
   "id": "b588ae07",
   "metadata": {},
   "outputs": [
    {
     "name": "stdout",
     "output_type": "stream",
     "text": [
      "(0.0014905709414112375-0.002274950021806864j)\n",
      "(-0.001540743989453481+0.0023510764664003074j)\n",
      "(2.4759794596647735e-14-3.736012976638767e-14j)\n"
     ]
    }
   ],
   "source": [
    "# E field componentwise \n",
    "\n",
    "for i in range(3):\n",
    "    print(ng.Integrate(ng.InnerProduct(E_fund_full[i], E_TE_full[i]), A.mesh))"
   ]
  },
  {
   "cell_type": "code",
   "execution_count": 31,
   "id": "2edce0b5",
   "metadata": {},
   "outputs": [
    {
     "name": "stdout",
     "output_type": "stream",
     "text": [
      "(-1.0786673301174444e-08+1.6459452689543943e-08j)\n",
      "(1.1190435025634115e-08-1.7065943983594505e-08j)\n",
      "(1.9145934662877483e-09-2.8997557152927946e-09j)\n"
     ]
    }
   ],
   "source": [
    "# H field componentwise \n",
    "\n",
    "for i in range(3):\n",
    "    print(ng.Integrate(ng.InnerProduct(H_fund_full[i], H_TE_full[i]), A.mesh))"
   ]
  },
  {
   "cell_type": "code",
   "execution_count": 32,
   "id": "849cd320",
   "metadata": {},
   "outputs": [
    {
     "name": "stdout",
     "output_type": "stream",
     "text": [
      "(-6.649384153258813e-06+1.009331915785952e-05j)\n",
      "(-3.6304671608325234e-06+5.5396238351823175e-06j)\n",
      "(4.017680952642773e-13-6.147793609230448e-13j)\n"
     ]
    }
   ],
   "source": [
    "# E field componentwise \n",
    "\n",
    "for i in range(3):\n",
    "    print(ng.Integrate(ng.InnerProduct(E_fund_full[i], H_TE_full[i]), A.mesh))"
   ]
  }
 ],
 "metadata": {
  "kernelspec": {
   "display_name": "Python 3 (ipykernel)",
   "language": "python",
   "name": "python3"
  },
  "language_info": {
   "codemirror_mode": {
    "name": "ipython",
    "version": 3
   },
   "file_extension": ".py",
   "mimetype": "text/x-python",
   "name": "python",
   "nbconvert_exporter": "python",
   "pygments_lexer": "ipython3",
   "version": "3.8.10"
  }
 },
 "nbformat": 4,
 "nbformat_minor": 5
}
