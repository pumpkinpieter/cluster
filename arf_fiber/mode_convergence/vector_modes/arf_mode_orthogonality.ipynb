{
 "cells": [
  {
   "cell_type": "markdown",
   "id": "0c203f91",
   "metadata": {},
   "source": [
    "# We have run convergence studies and found a few different modes \n",
    "\n",
    "Now we see about their orthogonality properties"
   ]
  },
  {
   "cell_type": "code",
   "execution_count": null,
   "id": "76086311",
   "metadata": {},
   "outputs": [],
   "source": [
    "import ngsolve as ng\n",
    "import numpy as np\n",
    "\n",
    "from fiberamp.fiber.microstruct.pbg import ARF2\n",
    "from ngsolve.webgui import Draw"
   ]
  },
  {
   "cell_type": "markdown",
   "id": "f86ae5a9",
   "metadata": {},
   "source": [
    "# Load the modes"
   ]
  },
  {
   "cell_type": "code",
   "execution_count": null,
   "id": "edb92c49",
   "metadata": {},
   "outputs": [],
   "source": [
    "ref = 0\n",
    "p = 14\n",
    "a = ARF2(refine=ref, curve=max(p+1,3), poly_core=True)\n"
   ]
  },
  {
   "cell_type": "code",
   "execution_count": null,
   "id": "8a6ba486",
   "metadata": {},
   "outputs": [],
   "source": [
    "# HE11\n",
    "Es_path = 'HE11/modes/Es_ref' + str(ref) + 'p' + str(p)\n",
    "phis_path = 'HE11/modes/phis_ref' + str(ref) + 'p' + str(p)\n",
    "betas_path = 'HE11/outputs/ref' + str(ref) + 'p' + str(p) + 'betas.npy'\n",
    "\n",
    "HE11_tv = a.load_E_modes(mesh_path, Es_path, p=p)\n",
    "HE11_phi = a.load_phi_modes(mesh_path, phis_path, p=p)\n",
    "HE11_betas = np.load(betas_path)"
   ]
  },
  {
   "cell_type": "code",
   "execution_count": null,
   "id": "812aa54e",
   "metadata": {},
   "outputs": [],
   "source": [
    "# TE\n",
    "Es_path = 'TE/modes/Es_ref' + str(ref) + 'p' + str(p)\n",
    "phis_path = 'TE/modes/phis_ref' + str(ref) + 'p' + str(p)\n",
    "betas_path = 'TE/outputs/ref' + str(ref) + 'p' + str(p) + 'betas.npy'\n",
    "\n",
    "TE_tv = a.load_E_modes(mesh_path, Es_path, p=p)\n",
    "TE_phi = a.load_phi_modes(mesh_path, phis_path, p=p)\n",
    "TE_betas = np.load(betas_path)"
   ]
  },
  {
   "cell_type": "code",
   "execution_count": null,
   "id": "a2c725a5",
   "metadata": {},
   "outputs": [],
   "source": [
    "# HOMs\n",
    "Es_path = 'HOMS/modes/Es_ref' + str(ref) + 'p' + str(p)\n",
    "phis_path = 'HOMS/modes/phis_ref' + str(ref) + 'p' + str(p)\n",
    "betas_path = 'HOMS/outputs/ref' + str(ref) + 'p' + str(p) + 'betas.npy'\n",
    "\n",
    "HOMS_tv = a.load_E_modes(mesh_path, Es_path, p=p)\n",
    "HOMS_phi = a.load_phi_modes(mesh_path, phis_path, p=p)\n",
    "HOMS_betas = np.load(betas_path)"
   ]
  },
  {
   "cell_type": "markdown",
   "id": "3b57ea69",
   "metadata": {},
   "source": [
    "# Draw Modes"
   ]
  },
  {
   "cell_type": "markdown",
   "id": "e7e444c7",
   "metadata": {},
   "source": [
    "## HE11"
   ]
  },
  {
   "cell_type": "code",
   "execution_count": null,
   "id": "882d239e",
   "metadata": {},
   "outputs": [],
   "source": [
    "for e in HE11_tv:\n",
    "    Draw(e.real, a.mesh, vectors={'grid_size':300})"
   ]
  },
  {
   "cell_type": "markdown",
   "id": "80b6ab19",
   "metadata": {},
   "source": [
    "## TE"
   ]
  },
  {
   "cell_type": "code",
   "execution_count": null,
   "id": "7098f196",
   "metadata": {},
   "outputs": [],
   "source": [
    "for e in TE_tv:\n",
    "    Draw(e.real, a.mesh, vectors={'grid_size':300})"
   ]
  },
  {
   "cell_type": "markdown",
   "id": "dac2116a",
   "metadata": {},
   "source": [
    "## HOMS"
   ]
  },
  {
   "cell_type": "code",
   "execution_count": null,
   "id": "21620b3e",
   "metadata": {},
   "outputs": [],
   "source": [
    "for e in HOMS_tv:\n",
    "    Draw(e.real, a.mesh, vectors={'grid_size':300})"
   ]
  },
  {
   "cell_type": "markdown",
   "id": "4fc741f5",
   "metadata": {},
   "source": [
    "# Orthogonality Check\n",
    "\n"
   ]
  },
  {
   "cell_type": "code",
   "execution_count": null,
   "id": "34bde670",
   "metadata": {},
   "outputs": [],
   "source": [
    "# Set choice for fundamental mode\n",
    "Etv_fund, phi_fund, beta_fund = HE11_tv[0], HE11_phi[0], HE11_betas[0]\n",
    "\n",
    "# Get H field for fundamental mode\n",
    "Htv_fund, Hz_fund = A.HfromE(Etv_fund, phi_fund, beta_fund)\n",
    "\n",
    "# Find current modal power\n",
    "E_fund_power = A.power(Etv_fund, Htv_fund)\n",
    "E_fund_power"
   ]
  },
  {
   "cell_type": "code",
   "execution_count": null,
   "id": "a497fdb4",
   "metadata": {},
   "outputs": [],
   "source": [
    "# Set choice for higher order mode (here Transverse Electric type)\n",
    "Etv_TE, Ephi_TE, beta_TE = TE_tv[2], TE_phi[2], TE_betas[2]\n",
    "\n",
    "# Get H field for hom\n",
    "Htv_TE, Hz_TE = A.HfromE(Etv_TE, Ephi_TE, beta_TE)\n",
    "\n",
    "# Find current modal power\n",
    "E_TE_power = A.power(Etv_TE, Htv_TE)\n",
    "\n",
    "E_TE_power"
   ]
  },
  {
   "cell_type": "code",
   "execution_count": null,
   "id": "9f8126b1",
   "metadata": {},
   "outputs": [],
   "source": [
    "# Set choice for higher order mode (here Transverse Electric type)\n",
    "Etv_HOM, Ephi_HOM, beta_HOM = HOMS_tv[0], HOMS_phi[0], HOMS_betas[2]\n",
    "\n",
    "# Get H field for hom\n",
    "Htv_HOM, Hz_HOM = A.HfromE(Etv_HOM, Ephi_HOM, beta_HOM)\n",
    "\n",
    "# Find current modal power\n",
    "E_hom_power = A.power(Etv_HOM, Htv_HOM)\n",
    "\n",
    "E_hom_power"
   ]
  },
  {
   "cell_type": "code",
   "execution_count": null,
   "id": "a027968b",
   "metadata": {},
   "outputs": [],
   "source": [
    "# Un-normalized inner product\n",
    "fund_TE_ip = A.power(Etv_fund, Htv_TE)"
   ]
  },
  {
   "cell_type": "code",
   "execution_count": null,
   "id": "217198c4",
   "metadata": {},
   "outputs": [],
   "source": [
    "# Normalized inner product\n",
    "fund_TE_ip/ (E_fund_power * E_TE_power)**.5"
   ]
  },
  {
   "cell_type": "code",
   "execution_count": null,
   "id": "8723c6f5",
   "metadata": {},
   "outputs": [],
   "source": [
    "# Un-normalized inner product\n",
    "fund_HOM_ip = A.power(Etv_fund, Htv_HOM)"
   ]
  },
  {
   "cell_type": "code",
   "execution_count": null,
   "id": "43b8c43a",
   "metadata": {},
   "outputs": [],
   "source": [
    "# Normalized inner product\n",
    "fund_HOM_ip/ (E_fund_power * E_hom_power)**.5"
   ]
  },
  {
   "cell_type": "code",
   "execution_count": null,
   "id": "43b353ad",
   "metadata": {},
   "outputs": [],
   "source": [
    "# Un-normalized inner productL\n",
    "HOM_TE_ip = A.power(Etv_HOM, Htv_TE)"
   ]
  },
  {
   "cell_type": "code",
   "execution_count": null,
   "id": "69295432",
   "metadata": {},
   "outputs": [],
   "source": [
    "# Normalized inner product\n",
    "HOM_TE_ip/ (E_hom_power * E_TE_power)**.5"
   ]
  },
  {
   "cell_type": "markdown",
   "id": "b3e9fced",
   "metadata": {},
   "source": [
    "# Other types of orthogonality"
   ]
  },
  {
   "cell_type": "code",
   "execution_count": null,
   "id": "92d9ae1a",
   "metadata": {},
   "outputs": [],
   "source": [
    "# Create full E field for fundamental\n",
    "Ez_fund = -1j/beta_fund * phi_fund\n",
    "E_fund_full = ng.CoefficientFunction((Etv_fund[0], Etv_fund[1], Ez_fund))\n",
    "\n",
    "# Create full H field for fundamental\n",
    "H_fund_full = ng.CoefficientFunction((Htv_fund[0], Htv_fund[1], Hz_fund))\n",
    "\n",
    "\n",
    "# Create full E field for TE mode\n",
    "Ez_TE = -1j/beta_TE * Ephi_TE\n",
    "E_TE_full = ng.CoefficientFunction((Etv_TE[0], Etv_TE[1], Ez_TE))\n",
    "\n",
    "# Create full hom H field\n",
    "H_TE_full = ng.CoefficientFunction((Htv_TE[0], Htv_TE[1], Hz_TE))\n",
    "\n",
    "\n",
    "# Create full E field for higher order mode\n",
    "Ez_HOM = -1j/beta_HOM * Ephi_HOM\n",
    "E_HOM_full = ng.CoefficientFunction((Etv_HOM[0], Etv_HOM[1], Ez_HOM))\n",
    "\n",
    "# Create full hom H field\n",
    "H_HOM_full = ng.CoefficientFunction((Htv_HOM[0], Htv_HOM[1], Hz_HOM))\n",
    "\n"
   ]
  },
  {
   "cell_type": "markdown",
   "id": "a5a9814b",
   "metadata": {},
   "source": [
    "# Full Field dot product Orthogonality"
   ]
  },
  {
   "cell_type": "code",
   "execution_count": null,
   "id": "ffdbde21",
   "metadata": {},
   "outputs": [],
   "source": [
    "HE11_norm_sqrd = ng.Integrate(ng.Norm(E_fund_full)**2, A.mesh) + ng.Integrate(ng.Norm(H_fund_full)**2, A.mesh)\n"
   ]
  },
  {
   "cell_type": "code",
   "execution_count": null,
   "id": "24acbf25",
   "metadata": {},
   "outputs": [],
   "source": [
    "TE_norm_sqrd = ng.Integrate(ng.Norm(E_TE_full)**2, A.mesh) + ng.Integrate(ng.Norm(H_TE_full)**2, A.mesh)\n"
   ]
  },
  {
   "cell_type": "code",
   "execution_count": null,
   "id": "4cc1381c",
   "metadata": {},
   "outputs": [],
   "source": [
    "HOM_norm_sqrd = ng.Integrate(ng.Norm(E_HOM_full)**2, A.mesh) + ng.Integrate(ng.Norm(H_HOM_full)**2, A.mesh)\n"
   ]
  },
  {
   "cell_type": "code",
   "execution_count": null,
   "id": "48c6cc10",
   "metadata": {},
   "outputs": [],
   "source": [
    "t1 = ng.InnerProduct(E_fund_full, E_TE_full)\n",
    "t2 = ng.InnerProduct(H_fund_full, H_TE_full)\n",
    "HE11_TE_full = ng.Integrate(t1 + t2, A.mesh)"
   ]
  },
  {
   "cell_type": "code",
   "execution_count": null,
   "id": "1c511547",
   "metadata": {},
   "outputs": [],
   "source": [
    "HE11_TE_full / (HE11_norm_sqrd * TE_norm_sqrd)**.5"
   ]
  },
  {
   "cell_type": "code",
   "execution_count": null,
   "id": "595cfdc5",
   "metadata": {},
   "outputs": [],
   "source": [
    "t1 = ng.InnerProduct(E_fund_full, E_HOM_full)\n",
    "t2 = ng.InnerProduct(H_fund_full, H_HOM_full)\n",
    "HE11_HOM_full = ng.Integrate(t1 + t2, A.mesh)"
   ]
  },
  {
   "cell_type": "code",
   "execution_count": null,
   "id": "1bc66beb",
   "metadata": {},
   "outputs": [],
   "source": [
    "HE11_HOM_full / (HE11_norm_sqrd * HOM_norm_sqrd)**.5"
   ]
  },
  {
   "cell_type": "markdown",
   "id": "b994b729",
   "metadata": {},
   "source": [
    "# Component-wise Orthogonality"
   ]
  },
  {
   "cell_type": "code",
   "execution_count": null,
   "id": "b588ae07",
   "metadata": {},
   "outputs": [],
   "source": [
    "# E field componentwise \n",
    "\n",
    "for i in range(3):\n",
    "    print(ng.Integrate(ng.InnerProduct(E_fund_full[i], E_TE_full[i]), A.mesh))"
   ]
  },
  {
   "cell_type": "code",
   "execution_count": null,
   "id": "2edce0b5",
   "metadata": {},
   "outputs": [],
   "source": [
    "# H field componentwise \n",
    "\n",
    "for i in range(3):\n",
    "    print(ng.Integrate(ng.InnerProduct(H_fund_full[i], H_TE_full[i]), A.mesh))"
   ]
  },
  {
   "cell_type": "code",
   "execution_count": null,
   "id": "849cd320",
   "metadata": {},
   "outputs": [],
   "source": [
    "# Mixed\n",
    "\n",
    "for i in range(3):\n",
    "    print(ng.Integrate(ng.InnerProduct(E_fund_full[i], H_TE_full[i]), A.mesh))"
   ]
  }
 ],
 "metadata": {
  "kernelspec": {
   "display_name": "Python 3 (ipykernel)",
   "language": "python",
   "name": "python3"
  },
  "language_info": {
   "codemirror_mode": {
    "name": "ipython",
    "version": 3
   },
   "file_extension": ".py",
   "mimetype": "text/x-python",
   "name": "python",
   "nbconvert_exporter": "python",
   "pygments_lexer": "ipython3",
   "version": "3.8.10"
  }
 },
 "nbformat": 4,
 "nbformat_minor": 5
}
