{
 "cells": [
  {
   "cell_type": "code",
   "execution_count": 1,
   "id": "4503f531",
   "metadata": {},
   "outputs": [
    {
     "name": "stdout",
     "output_type": "stream",
     "text": [
      "importing NGSolve-6.2.2202-77-g3d04412d0\n"
     ]
    }
   ],
   "source": [
    "import sys\n",
    "import os\n",
    "import ngsolve as ng\n",
    "from ngsolve.webgui import Draw\n",
    "from fiberamp.fiber.microstruct.arf import ARF\n"
   ]
  },
  {
   "cell_type": "code",
   "execution_count": 2,
   "id": "faccaa3c",
   "metadata": {},
   "outputs": [
    {
     "name": "stdout",
     "output_type": "stream",
     "text": [
      "  Generating new mesh.\n",
      "  Refining ARF mesh uniformly 0 times: each element split into four\n",
      "  Elements/wavelength revised:3 (capillary), 0.48 (air), 1.2 (inner core)\n",
      "  Elements/wavelength revised: 0.363636 (glass), 0.06 (outer)\n",
      "ModeSolver: Checking if mesh has required regions\n",
      "Mesh has  9994  elements,  5010  points,  and  15003  edges.\n"
     ]
    }
   ],
   "source": [
    "a = ARF(name='poletti')"
   ]
  },
  {
   "cell_type": "code",
   "execution_count": 3,
   "id": "hundred-novelty",
   "metadata": {},
   "outputs": [
    {
     "data": {
      "application/vnd.jupyter.widget-view+json": {
       "model_id": "a1fa3253598f4794b0397e4261a2e683",
       "version_major": 2,
       "version_minor": 0
      },
      "text/plain": [
       "WebGuiWidget(value={'ngsolve_version': '6.2.2202-77-g3d04412d0', 'mesh_dim': 2, 'order2d': 2, 'order3d': 2, 'd…"
      ]
     },
     "metadata": {},
     "output_type": "display_data"
    },
    {
     "data": {
      "text/plain": [
       "BaseWebGuiScene"
      ]
     },
     "execution_count": 3,
     "metadata": {},
     "output_type": "execute_result"
    }
   ],
   "source": [
    "Draw(a.mesh)"
   ]
  },
  {
   "cell_type": "code",
   "execution_count": null,
   "id": "fitting-paragraph",
   "metadata": {},
   "outputs": [],
   "source": []
  }
 ],
 "metadata": {
  "kernelspec": {
   "display_name": "Python 3 (ipykernel)",
   "language": "python",
   "name": "python3"
  },
  "language_info": {
   "codemirror_mode": {
    "name": "ipython",
    "version": 3
   },
   "file_extension": ".py",
   "mimetype": "text/x-python",
   "name": "python",
   "nbconvert_exporter": "python",
   "pygments_lexer": "ipython3",
   "version": "3.8.10"
  }
 },
 "nbformat": 4,
 "nbformat_minor": 5
}
