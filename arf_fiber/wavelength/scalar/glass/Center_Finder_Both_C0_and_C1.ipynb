{
 "cells": [
  {
   "cell_type": "markdown",
   "id": "45f7e2e0",
   "metadata": {},
   "source": [
    "# Find centers for Wavelength studies of Scalar solver for C0 and C1 ARF (6 tube)\n"
   ]
  },
  {
   "cell_type": "code",
   "execution_count": 1,
   "id": "36fdb4d2",
   "metadata": {},
   "outputs": [
    {
     "name": "stdout",
     "output_type": "stream",
     "text": [
      "importing NGSolve-6.2.2203-56-g47f483033\n"
     ]
    }
   ],
   "source": [
    "import numpy as np\n",
    "import ngsolve as ng\n",
    "import matplotlib.pyplot as plt\n",
    "\n",
    "from fiberamp.fiber.microstruct.pbg import ARF2\n",
    "from ngsolve.webgui import Draw\n"
   ]
  },
  {
   "cell_type": "markdown",
   "id": "e3b6dab5",
   "metadata": {},
   "source": [
    "## Build arf object"
   ]
  },
  {
   "cell_type": "code",
   "execution_count": 2,
   "id": "e206f19e",
   "metadata": {},
   "outputs": [],
   "source": [
    "wls = np.linspace(1, 2, 200) * 1e-6\n",
    "i=150"
   ]
  },
  {
   "cell_type": "markdown",
   "id": "640d25b6",
   "metadata": {},
   "source": [
    "# Find centers for C1 then use for C0"
   ]
  },
  {
   "cell_type": "code",
   "execution_count": 23,
   "id": "edb92c49",
   "metadata": {
    "scrolled": true
   },
   "outputs": [
    {
     "name": "stdout",
     "output_type": "stream",
     "text": [
      "ModeSolver: Checking if mesh has required regions\n",
      "Mesh has  21941  elements,  10989  points,  and  32929  edges.\n"
     ]
    }
   ],
   "source": [
    "A = ARF2(name='fine_cladding', poly_core=True, wl=wls[i])"
   ]
  },
  {
   "cell_type": "code",
   "execution_count": 24,
   "id": "2e48afa5",
   "metadata": {
    "scrolled": true
   },
   "outputs": [
    {
     "name": "stdout",
     "output_type": "stream",
     "text": [
      "ModeSolver.leakymode called on object with these settings:\n",
      " <fiberamp.fiber.microstruct.pbg.arf2.ARF2 object at 0x7fd6ee41a7c0>\n",
      "Set freq-dependent PML with p= 2  alpha= 5 and thickness=2.000\n",
      "\n",
      "SpectralProj: Setting shifted trapezoidal rule quadrature on circular contour\n",
      "SpectralProj: Radius=0.02, Center=2.24+0j\n",
      "SpectralProjNGPoly: Checking if A[d] is nonzero & Hermitian.\n",
      "SpectralProjNG: Checking if inverse.H works for umfpack\n",
      "SpectralProjNGPoly: Computing resolvents along the contour using\n",
      "                    inverse type umfpack (installed default umfpack)\n",
      "SpectralProjNGPoly: Factorizing 43918x43918 system at z =  +2.254 +0.014j\n",
      "SpectralProjNGPoly: Factorizing 43918x43918 system at z =  +2.226 +0.014j\n",
      "SpectralProjNGPoly: Factorizing 43918x43918 system at z =  +2.226 -0.014j\n",
      "SpectralProjNGPoly: Factorizing 43918x43918 system at z =  +2.254 -0.014j\n",
      "\n",
      "=========== Starting FEAST iterations ===========\n",
      "Trying with 4 vectors:\n",
      "\n",
      " ITERATION 1 with 4 vectors and 4 left vectors\n",
      "   During kernel cleaning abs(g):\n",
      "   [1.6e+02 8.2e-07 8.5e-12 1.4e-06]\n",
      "   Real part of computed eigenvalues:\n",
      "   [1.87671164 2.13083443 2.24130963 2.36074406]\n",
      "   Imag part of computed eigenvalues:\n",
      "   [ 4.12623695e-02 -2.20961551e-03  1.67467782e-06 -3.70697587e-04]\n",
      "   Relative Hausdorff distance from prior iterate: 4.464e+99\n",
      "\n",
      " ITERATION 2 with 4 vectors and 4 left vectors\n",
      "   During kernel cleaning abs(g):\n",
      "   [0.2 0.1 0.1 0. ]\n",
      "   Real part of computed eigenvalues:\n",
      "   [1.81126178 2.13083492 2.24131055 2.36074388]\n",
      "   Imag part of computed eigenvalues:\n",
      "   [-2.00957122e-03 -2.20877957e-03 -1.26400885e-07 -3.71098162e-04]\n",
      "   Relative Hausdorff distance from prior iterate: 3.503e-02\n",
      "\n",
      " ITERATION 3 with 4 vectors and 4 left vectors\n",
      "   During kernel cleaning abs(g):\n",
      "   [8.5e+01 2.7e-10 1.1e-05 2.9e-06]\n",
      "   Real part of computed eigenvalues:\n",
      "   [1.80835283 2.13083492 2.24131055 2.36074388]\n",
      "   Imag part of computed eigenvalues:\n",
      "   [-9.60761419e-04 -2.20877956e-03 -1.26400883e-07 -3.71098161e-04]\n",
      "   Relative Hausdorff distance from prior iterate: 1.380e-03\n",
      "\n",
      "   Removing ew#[1, 2, 3] not enclosed by contour\n",
      " ITERATION 4 with 1 vectors and 1 left vectors\n",
      "   During kernel cleaning abs(g):\n",
      "   [0.]\n",
      "   Real part of computed eigenvalues:\n",
      "   [2.24131055]\n",
      "   Imag part of computed eigenvalues:\n",
      "   [-1.26400885e-07]\n",
      "   Relative Hausdorff distance from prior iterate: 8.819e-16\n",
      "\n",
      "\n",
      "***FEAST converged with:\n",
      "\tRelative Hausdorff distance = 8.819e-16\n",
      "\n",
      "============= FEAST iterations done =============\n",
      "   Normalizing by M-norms: max=2.0e+00, min=2.0e+00\n",
      "   Normalizing by M-norms: max=1.3e+03, min=1.3e+03\n",
      "Results:\n",
      " Z: [2.24131055-1.26400885e-07j]\n",
      " beta: [3857293.54904597+0.00032643j]\n",
      " CL dB/m: [0.00283531]\n",
      "Mode boundary L² norm = 5.2e-08\n"
     ]
    }
   ],
   "source": [
    "# Shift search center due to material change\n",
    "center = 2.24\n",
    "radius = .02\n",
    "npts = 4\n",
    "nspan = 4\n",
    "alpha = 5\n",
    "p = 2\n",
    "\n",
    "_, y, _, beta, _, _ = A.leakymode(p,\n",
    "                                  ctr=center,\n",
    "                                  rad=radius,\n",
    "                                  alpha=alpha,\n",
    "                                  nspan=nspan,\n",
    "                                  npts=npts,\n",
    "                                  niterations=12,\n",
    "                                  nrestarts=0,\n",
    "                                  stop_tol=1e-9,\n",
    "                                  inverse='umfpack')\n"
   ]
  },
  {
   "cell_type": "code",
   "execution_count": 25,
   "id": "7d9c2696",
   "metadata": {
    "scrolled": false
   },
   "outputs": [
    {
     "data": {
      "application/vnd.jupyter.widget-view+json": {
       "model_id": "45de02048b0a4d50bb525499db8c511e",
       "version_major": 2,
       "version_minor": 0
      },
      "text/plain": [
       "WebGuiWidget(value={'ngsolve_version': '6.2.2203-56-g47f483033', 'mesh_dim': 2, 'order2d': 2, 'order3d': 2, 'd…"
      ]
     },
     "metadata": {},
     "output_type": "display_data"
    }
   ],
   "source": [
    "for f in y:\n",
    "    Draw(f, A.mesh)"
   ]
  },
  {
   "cell_type": "markdown",
   "id": "99067f2c",
   "metadata": {},
   "source": [
    "Okay, now vary and make a polynomial regression"
   ]
  },
  {
   "cell_type": "code",
   "execution_count": 6,
   "id": "4ad87891",
   "metadata": {},
   "outputs": [],
   "source": [
    "ys = np.array([2.204, \n",
    "               2.225, \n",
    "               2.236,\n",
    "               2.246,\n",
    "               2.256,\n",
    "              ])\n",
    "\n",
    "xs = np.array([wls[0], \n",
    "               wls[50], \n",
    "               wls[100],\n",
    "               wls[150],\n",
    "               wls[199],\n",
    "              ])\n",
    "\n",
    "a, b, c, d = np.polyfit(xs, ys, 3)\n",
    "centers = a * wls**3 + b * wls**2 + c * wls + d"
   ]
  },
  {
   "cell_type": "code",
   "execution_count": 9,
   "id": "436189f7",
   "metadata": {},
   "outputs": [
    {
     "data": {
      "text/plain": [
       "[<matplotlib.lines.Line2D at 0x7fd6ee4405e0>]"
      ]
     },
     "execution_count": 9,
     "metadata": {},
     "output_type": "execute_result"
    },
    {
     "data": {
      "image/png": "[encoded data removed]",
      "text/plain": [
       "<Figure size 432x288 with 1 Axes>"
      ]
     },
     "metadata": {
      "needs_background": "light"
     },
     "output_type": "display_data"
    }
   ],
   "source": [
    "plt.plot(xs, ys)\n",
    "plt.plot(wls, centers)"
   ]
  },
  {
   "cell_type": "markdown",
   "id": "909455d1",
   "metadata": {},
   "source": [
    "# Now for C0"
   ]
  },
  {
   "cell_type": "code",
   "execution_count": 29,
   "id": "6ec55ac2",
   "metadata": {},
   "outputs": [],
   "source": [
    "# Set outer materials\n",
    "scaling = 15\n",
    "n_glass = 1.4388164768221814\n",
    "n_air = 1.00027717\n",
    "\n",
    "T_outer = 10 / scaling\n",
    "n0 = n_glass  # Sets buffer and outer region refractive index.\n",
    "\n",
    "outer_materials = [\n",
    "\n",
    "    {'material': 'Outer',\n",
    "     'n': n0,\n",
    "     'T': T_outer,\n",
    "     'maxh': .1}\n",
    "]\n",
    "i = 175"
   ]
  },
  {
   "cell_type": "code",
   "execution_count": 30,
   "id": "51f822f9",
   "metadata": {},
   "outputs": [
    {
     "name": "stdout",
     "output_type": "stream",
     "text": [
      "ModeSolver: Checking if mesh has required regions\n",
      "Mesh has  22111  elements,  11176  points,  and  33286  edges.\n"
     ]
    }
   ],
   "source": [
    "B = ARF2(name='fine_cladding', poly_core=True, refine=ref,\n",
    "         curve=max(p+1, 8), shift_capillaries=False, wl=wls[i],\n",
    "         outer_materials=outer_materials,\n",
    "        )"
   ]
  },
  {
   "cell_type": "code",
   "execution_count": 31,
   "id": "e3171b98",
   "metadata": {},
   "outputs": [
    {
     "data": {
      "text/plain": [
       "51.913407851488486"
      ]
     },
     "execution_count": 31,
     "metadata": {},
     "output_type": "execute_result"
    }
   ],
   "source": [
    "glass_center = (B.L**2 * B.k**2 * (n0**2 - n_air**2) + centers[i]**2)**.5\n",
    "glass_center"
   ]
  },
  {
   "cell_type": "code",
   "execution_count": 34,
   "id": "ccf892a0",
   "metadata": {
    "scrolled": true
   },
   "outputs": [
    {
     "name": "stdout",
     "output_type": "stream",
     "text": [
      "ModeSolver.leakymode called on object with these settings:\n",
      " <fiberamp.fiber.microstruct.pbg.arf2.ARF2 object at 0x7fd6ee41a8e0>\n",
      "Set freq-dependent PML with p= 3  alpha= 5 and thickness=0.667\n",
      "\n",
      "SpectralProj: Setting shifted trapezoidal rule quadrature on circular contour\n",
      "SpectralProj: Radius=0.01, Center=51.9134+0j\n",
      "SpectralProjNGPoly: Checking if A[d] is nonzero & Hermitian.\n",
      "SpectralProjNG: Checking if inverse.H works for umfpack\n",
      "SpectralProjNGPoly: Computing resolvents along the contour using\n",
      "                    inverse type umfpack (installed default umfpack)\n",
      "SpectralProjNGPoly: Factorizing 99859x99859 system at z = +51.920 +0.007j\n",
      "SpectralProjNGPoly: Factorizing 99859x99859 system at z = +51.906 +0.007j\n",
      "SpectralProjNGPoly: Factorizing 99859x99859 system at z = +51.906 -0.007j\n",
      "SpectralProjNGPoly: Factorizing 99859x99859 system at z = +51.920 -0.007j\n",
      "\n",
      "=========== Starting FEAST iterations ===========\n",
      "Trying with 4 vectors:\n",
      "\n",
      " ITERATION 1 with 4 vectors and 4 left vectors\n",
      "   During kernel cleaning abs(g):\n",
      "   [1.7e+02 1.6e-05 8.6e-05 2.0e-04]\n",
      "   Real part of computed eigenvalues:\n",
      "   [51.91343331 51.9456952  51.94574127 51.94585362]\n",
      "   Imag part of computed eigenvalues:\n",
      "   [ 4.03983304e-07 -4.42630043e-04 -3.70918934e-04 -3.88632751e-04]\n",
      "   Relative Hausdorff distance from prior iterate: 1.926e+98\n",
      "\n",
      " ITERATION 2 with 4 vectors and 4 left vectors\n",
      "   During kernel cleaning abs(g):\n",
      "   [0. 0. 0. 0.]\n",
      "   Real part of computed eigenvalues:\n",
      "   [51.9134305  51.94569476 51.94573863 51.94585126]\n",
      "   Imag part of computed eigenvalues:\n",
      "   [-1.60762650e-07 -4.91337454e-04 -3.78080313e-04 -3.88864494e-04]\n",
      "   Relative Hausdorff distance from prior iterate: 9.383e-07\n",
      "\n",
      " ITERATION 3 with 4 vectors and 4 left vectors\n",
      "   During kernel cleaning abs(g):\n",
      "   [1.7e+02 3.5e-02 1.6e-02 6.5e-03]\n",
      "   Real part of computed eigenvalues:\n",
      "   [51.9134305  51.94569196 51.94573771 51.94584834]\n",
      "   Imag part of computed eigenvalues:\n",
      "   [-1.60827017e-07 -4.81499982e-04 -3.77736588e-04 -3.89173106e-04]\n",
      "   Relative Hausdorff distance from prior iterate: 1.970e-07\n",
      "\n",
      "   Removing ew#[1, 2, 3] not enclosed by contour\n",
      " ITERATION 4 with 1 vectors and 1 left vectors\n",
      "   During kernel cleaning abs(g):\n",
      "   [0.]\n",
      "   Real part of computed eigenvalues:\n",
      "   [51.9134305]\n",
      "   Imag part of computed eigenvalues:\n",
      "   [-1.60827023e-07]\n",
      "   Relative Hausdorff distance from prior iterate: 9.657e-16\n",
      "\n",
      "\n",
      "***FEAST converged with:\n",
      "\tRelative Hausdorff distance = 9.657e-16\n",
      "\n",
      "============= FEAST iterations done =============\n",
      "   Normalizing by M-norms: max=1.1e-01, min=1.1e-01\n",
      "   Normalizing by M-norms: max=1.2e+01, min=1.2e+01\n",
      "Results:\n",
      " Z: [51.9134305-1.60827023e-07j]\n",
      " beta: [3340750.22851872+0.0111074j]\n",
      " CL dB/m: [0.09647761]\n",
      "Mode boundary L² norm = 7.1e-06\n",
      "*** Mode boundary L2 norm > 1e-6!\n",
      "PML decay estimates boundary norm ~ 1.0e-01\n"
     ]
    }
   ],
   "source": [
    "# Shift search center due to material change\n",
    "center = glass_center\n",
    "radius = .01\n",
    "npts = 4\n",
    "nspan = 4\n",
    "p = 3\n",
    "\n",
    "_, y, _, beta, _, _ = B.leakymode(p,\n",
    "                                  ctr=center,\n",
    "                                  rad=radius,\n",
    "                                  alpha=alpha,\n",
    "                                  nspan=nspan,\n",
    "                                  npts=npts,\n",
    "                                  niterations=8,\n",
    "                                  nrestarts=0,\n",
    "                                  stop_tol=1e-9,\n",
    "                                  inverse='umfpack')\n"
   ]
  },
  {
   "cell_type": "code",
   "execution_count": 35,
   "id": "5eca1274",
   "metadata": {
    "scrolled": false
   },
   "outputs": [
    {
     "data": {
      "application/vnd.jupyter.widget-view+json": {
       "model_id": "415da05da2294ef081930d63f992fec0",
       "version_major": 2,
       "version_minor": 0
      },
      "text/plain": [
       "WebGuiWidget(value={'ngsolve_version': '6.2.2203-56-g47f483033', 'mesh_dim': 2, 'order2d': 2, 'order3d': 2, 'd…"
      ]
     },
     "metadata": {},
     "output_type": "display_data"
    }
   ],
   "source": [
    "for f in y:\n",
    "    Draw(f, B.mesh)"
   ]
  },
  {
   "cell_type": "code",
   "execution_count": null,
   "id": "8775423d",
   "metadata": {},
   "outputs": [],
   "source": []
  }
 ],
 "metadata": {
  "kernelspec": {
   "display_name": "Python 3 (ipykernel)",
   "language": "python",
   "name": "python3"
  },
  "language_info": {
   "codemirror_mode": {
    "name": "ipython",
    "version": 3
   },
   "file_extension": ".py",
   "mimetype": "text/x-python",
   "name": "python",
   "nbconvert_exporter": "python",
   "pygments_lexer": "ipython3",
   "version": "3.8.10"
  }
 },
 "nbformat": 4,
 "nbformat_minor": 5
}
