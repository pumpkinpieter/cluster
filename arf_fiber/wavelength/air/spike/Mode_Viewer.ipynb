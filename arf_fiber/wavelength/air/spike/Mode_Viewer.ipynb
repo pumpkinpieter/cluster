{
 "cells": [
  {
   "cell_type": "markdown",
   "id": "45f7e2e0",
   "metadata": {},
   "source": [
    "# View modes in current mode folder\n"
   ]
  },
  {
   "cell_type": "code",
   "execution_count": 1,
   "id": "36fdb4d2",
   "metadata": {},
   "outputs": [
    {
     "name": "stdout",
     "output_type": "stream",
     "text": [
      "importing NGSolve-6.2.2203-56-g47f483033\n"
     ]
    }
   ],
   "source": [
    "from fiberamp.fiber.microstruct.pbg import ARF2\n",
    "from ngsolve.webgui import Draw\n",
    "from ngsolve import Norm\n",
    "import ngsolve as ng\n",
    "\n",
    "# import netgen.gui"
   ]
  },
  {
   "cell_type": "code",
   "execution_count": 2,
   "id": "edb92c49",
   "metadata": {
    "scrolled": true
   },
   "outputs": [
    {
     "name": "stdout",
     "output_type": "stream",
     "text": [
      "ModeSolver: Checking if mesh has required regions\n",
      "Mesh has  21941  elements,  10989  points,  and  32929  edges.\n"
     ]
    }
   ],
   "source": [
    "ref = 0\n",
    "p = 4\n",
    "a = ARF2(refine=ref, curve=8, poly_core=True, name='fine_cladding')\n"
   ]
  },
  {
   "cell_type": "code",
   "execution_count": 3,
   "id": "13b65400",
   "metadata": {},
   "outputs": [
    {
     "data": {
      "text/plain": [
       "('core', 'fill_air', 'inner_air', 'glass', 'buffer', 'Outer')"
      ]
     },
     "execution_count": 3,
     "metadata": {},
     "output_type": "execute_result"
    }
   ],
   "source": [
    "a.mesh.GetMaterials()"
   ]
  },
  {
   "cell_type": "code",
   "execution_count": 4,
   "id": "668ce28c",
   "metadata": {},
   "outputs": [
    {
     "name": "stdout",
     "output_type": "stream",
     "text": [
      "mesh_e40.pkl  mesh_e47.pkl  mesh_e54.pkl  mode_e44.npy  mode_e51.npy\r\n",
      "mesh_e41.pkl  mesh_e48.pkl  mesh_e55.pkl  mode_e45.npy  mode_e52.npy\r\n",
      "mesh_e42.pkl  mesh_e49.pkl  mesh_e56.pkl  mode_e46.npy  mode_e53.npy\r\n",
      "mesh_e43.pkl  mesh_e50.pkl  mode_e40.npy  mode_e47.npy  mode_e54.npy\r\n",
      "mesh_e44.pkl  mesh_e51.pkl  mode_e41.npy  mode_e48.npy  mode_e55.npy\r\n",
      "mesh_e45.pkl  mesh_e52.pkl  mode_e42.npy  mode_e49.npy  mode_e56.npy\r\n",
      "mesh_e46.pkl  mesh_e53.pkl  mode_e43.npy  mode_e50.npy\r\n"
     ]
    }
   ],
   "source": [
    "ls modes/"
   ]
  },
  {
   "cell_type": "code",
   "execution_count": 9,
   "id": "b7b45c2a",
   "metadata": {},
   "outputs": [],
   "source": [
    "i = 47"
   ]
  },
  {
   "cell_type": "code",
   "execution_count": 10,
   "id": "8a6ba486",
   "metadata": {},
   "outputs": [],
   "source": [
    "mesh_path = 'modes/mesh_e' + str(i) + '.pkl'\n",
    "Es_path = 'modes/mode_e' + str(i)"
   ]
  },
  {
   "cell_type": "code",
   "execution_count": 11,
   "id": "b47ac05c",
   "metadata": {},
   "outputs": [],
   "source": [
    "mesh = a.load_mesh(mesh_path)\n",
    "mesh.Curve(max(p+1,3))\n",
    "Es = a.load_E_modes(mesh_path, Es_path, p=p)\n"
   ]
  },
  {
   "cell_type": "code",
   "execution_count": 16,
   "id": "275e5f6e",
   "metadata": {
    "scrolled": false
   },
   "outputs": [
    {
     "data": {
      "application/vnd.jupyter.widget-view+json": {
       "model_id": "3d34269588f14813b573a0dd825048cc",
       "version_major": 2,
       "version_minor": 0
      },
      "text/plain": [
       "WebGuiWidget(value={'ngsolve_version': '6.2.2203-56-g47f483033', 'mesh_dim': 2, 'order2d': 2, 'order3d': 2, 'd…"
      ]
     },
     "metadata": {},
     "output_type": "display_data"
    },
    {
     "data": {
      "application/vnd.jupyter.widget-view+json": {
       "model_id": "18655c86ecf84eaa8ee1c598c1bf546d",
       "version_major": 2,
       "version_minor": 0
      },
      "text/plain": [
       "WebGuiWidget(value={'ngsolve_version': '6.2.2203-56-g47f483033', 'mesh_dim': 2, 'order2d': 2, 'order3d': 2, 'd…"
      ]
     },
     "metadata": {},
     "output_type": "display_data"
    }
   ],
   "source": [
    "for e in Es:\n",
    "    Draw(1e1*e.real, mesh)"
   ]
  },
  {
   "cell_type": "code",
   "execution_count": null,
   "id": "1a06daff",
   "metadata": {},
   "outputs": [],
   "source": []
  }
 ],
 "metadata": {
  "kernelspec": {
   "display_name": "Python 3 (ipykernel)",
   "language": "python",
   "name": "python3"
  },
  "language_info": {
   "codemirror_mode": {
    "name": "ipython",
    "version": 3
   },
   "file_extension": ".py",
   "mimetype": "text/x-python",
   "name": "python",
   "nbconvert_exporter": "python",
   "pygments_lexer": "ipython3",
   "version": "3.8.10"
  }
 },
 "nbformat": 4,
 "nbformat_minor": 5
}
