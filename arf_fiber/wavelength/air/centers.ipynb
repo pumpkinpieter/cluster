{
 "cells": [
  {
   "cell_type": "code",
   "execution_count": 3,
   "id": "weekly-establishment",
   "metadata": {},
   "outputs": [],
   "source": [
    "import numpy as np\n",
    "import matplotlib.pyplot as plt"
   ]
  },
  {
   "cell_type": "code",
   "execution_count": 4,
   "id": "bored-moldova",
   "metadata": {},
   "outputs": [],
   "source": [
    "wls = np.linspace(.5, 2, 200) * 1e-6"
   ]
  },
  {
   "cell_type": "markdown",
   "id": "raising-freeware",
   "metadata": {},
   "source": [
    "i = 100, c = 4.9\n",
    "\n",
    "i = 125, c = 4.967\n",
    "\n",
    "i = 150, c = 5.018\n",
    "\n",
    "i = 175, c = 5.071\n",
    "\n",
    "i = 199, c = 5.12\n",
    "\n",
    "i = 75, c = 4.786\n",
    "\n",
    "i = 65, c = 4.7"
   ]
  },
  {
   "cell_type": "code",
   "execution_count": 9,
   "id": "headed-sociology",
   "metadata": {},
   "outputs": [],
   "source": [
    "xs = np.array([wls[65], wls[75], wls[100], wls[125], wls[150], wls[175], wls[199]])\n",
    "ys = np.array([4.7, 4.786, 4.9, 4.967, 5.018, 5.071, 5.12])"
   ]
  },
  {
   "cell_type": "code",
   "execution_count": 27,
   "id": "subtle-miniature",
   "metadata": {},
   "outputs": [
    {
     "data": {
      "text/plain": [
       "(5.662570387317717e+17,\n",
       " -2824399280663.0527,\n",
       " 4915025.769104582,\n",
       " 2.0604348551724887)"
      ]
     },
     "execution_count": 27,
     "metadata": {},
     "output_type": "execute_result"
    }
   ],
   "source": [
    "a,b,c, d = np.polyfit(xs, ys, 3)\n",
    "a,b,c,d"
   ]
  },
  {
   "cell_type": "code",
   "execution_count": 25,
   "id": "czech-flower",
   "metadata": {},
   "outputs": [],
   "source": [
    "awls=a* wls**3 + b*wls**2 + c*wls + d"
   ]
  },
  {
   "cell_type": "code",
   "execution_count": 26,
   "id": "israeli-personality",
   "metadata": {},
   "outputs": [
    {
     "data": {
      "text/plain": [
       "[<matplotlib.lines.Line2D at 0x7fae65896940>]"
      ]
     },
     "execution_count": 26,
     "metadata": {},
     "output_type": "execute_result"
    },
    {
     "data": {
      "image/png": "[encoded data removed]",
      "text/plain": [
       "<Figure size 432x288 with 1 Axes>"
      ]
     },
     "metadata": {
      "needs_background": "light"
     },
     "output_type": "display_data"
    }
   ],
   "source": [
    "plt.plot(xs, ys)\n",
    "plt.plot(wls, awls)"
   ]
  },
  {
   "cell_type": "code",
   "execution_count": null,
   "id": "productive-trial",
   "metadata": {},
   "outputs": [],
   "source": []
  }
 ],
 "metadata": {
  "kernelspec": {
   "display_name": "Python 3 (ipykernel)",
   "language": "python",
   "name": "python3"
  },
  "language_info": {
   "codemirror_mode": {
    "name": "ipython",
    "version": 3
   },
   "file_extension": ".py",
   "mimetype": "text/x-python",
   "name": "python",
   "nbconvert_exporter": "python",
   "pygments_lexer": "ipython3",
   "version": "3.8.10"
  }
 },
 "nbformat": 4,
 "nbformat_minor": 5
}
