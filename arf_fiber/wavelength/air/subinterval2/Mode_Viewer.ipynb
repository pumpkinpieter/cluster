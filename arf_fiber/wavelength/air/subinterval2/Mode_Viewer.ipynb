{
 "cells": [
  {
   "cell_type": "markdown",
   "id": "45f7e2e0",
   "metadata": {},
   "source": [
    "# View modes in current mode folder\n"
   ]
  },
  {
   "cell_type": "code",
   "execution_count": 1,
   "id": "36fdb4d2",
   "metadata": {},
   "outputs": [],
   "source": [
    "from fiberamp.fiber.microstruct.pbg import ARF2\n",
    "from ngsolve.webgui import Draw\n",
    "from ngsolve import Norm\n",
    "import ngsolve as ng\n",
    "import numpy as np\n",
    "\n",
    "# import netgen.gui"
   ]
  },
  {
   "cell_type": "code",
   "execution_count": 2,
   "id": "edb92c49",
   "metadata": {
    "scrolled": true
   },
   "outputs": [
    {
     "name": "stdout",
     "output_type": "stream",
     "text": [
      "ModeSolver: Checking if mesh has required regions\n",
      "Mesh has  3803  elements,  1917  points,  and  5719  edges.\n"
     ]
    }
   ],
   "source": [
    "ref = 0\n",
    "p = 6\n",
    "a = ARF2(refine=ref, curve=1, shift_capillaries=False, \n",
    "         poly_core=True, name='fine_cladding',\n",
    "         glass_maxh=5\n",
    "#          glass_maxh=.036, core_maxh=.13, \n",
    "#          inner_air_maxh=.15, fill_air_maxh=.2, \n",
    "#          pml_maxh=.5, buffer_maxh=.3, T_buffer=35,\n",
    "        )"
   ]
  },
  {
   "cell_type": "markdown",
   "id": "2636646f",
   "metadata": {},
   "source": [
    "# Loss Peak (Resonant Mode)"
   ]
  },
  {
   "cell_type": "code",
   "execution_count": 3,
   "id": "b7b45c2a",
   "metadata": {},
   "outputs": [],
   "source": [
    "i = 1094"
   ]
  },
  {
   "cell_type": "code",
   "execution_count": 4,
   "id": "8a6ba486",
   "metadata": {},
   "outputs": [],
   "source": [
    "mesh_path = 'modes/mesh_index_' + str(i) + '.pkl'\n",
    "Es_path = 'modes/E_modes_index_' + str(i)\n",
    "phis_path = 'modes/phi_modes_index_' + str(i)\n",
    "betas_path = 'modes/betas_index_%i.npy' %i"
   ]
  },
  {
   "cell_type": "code",
   "execution_count": 5,
   "id": "b47ac05c",
   "metadata": {},
   "outputs": [],
   "source": [
    "mesh = a.load_mesh(mesh_path)\n",
    "mesh.Curve(max(p+1,8))\n",
    "Es = a.load_E_modes(mesh_path, Es_path, p=p)\n",
    "phis = a.load_phi_modes(mesh_path, phis_path, p=p)\n",
    "betas = np.load(betas_path)"
   ]
  },
  {
   "cell_type": "markdown",
   "id": "cdaa927f",
   "metadata": {},
   "source": [
    "### Interpolate into HDiv"
   ]
  },
  {
   "cell_type": "code",
   "execution_count": 15,
   "id": "b44ff5d4",
   "metadata": {},
   "outputs": [],
   "source": [
    "Stv, Sz = a.S(Es[0], phis[0], betas[0])\n",
    "r = ng.sqrt(ng.x*ng.x + ng.y*ng.y)\n",
    "r_vec = ng.CF((ng.x/r, ng.y/r))\n",
    "Sr = Stv * r_vec"
   ]
  },
  {
   "cell_type": "code",
   "execution_count": 13,
   "id": "0fce766a",
   "metadata": {},
   "outputs": [],
   "source": [
    "Stv_C = Stv.Compile()\n"
   ]
  },
  {
   "cell_type": "code",
   "execution_count": 20,
   "id": "3a648559",
   "metadata": {},
   "outputs": [],
   "source": [
    "fes = ng.HDiv(mesh, complex=True, RT=True, order=2)"
   ]
  },
  {
   "cell_type": "code",
   "execution_count": 21,
   "id": "d5821354",
   "metadata": {},
   "outputs": [],
   "source": [
    "gfu = ng.GridFunction(fes)\n",
    "gfu.Set(Stv_C)"
   ]
  },
  {
   "cell_type": "markdown",
   "id": "15f81f72",
   "metadata": {},
   "source": [
    "### Draw"
   ]
  },
  {
   "cell_type": "code",
   "execution_count": 26,
   "id": "533fe0a8",
   "metadata": {},
   "outputs": [
    {
     "data": {
      "application/vnd.jupyter.widget-view+json": {
       "model_id": "cae817e17bd547a29da297992369d91d",
       "version_major": 2,
       "version_minor": 0
      },
      "text/plain": [
       "WebGuiWidget(layout=Layout(height='75vh', width='100%'), value={'gui_settings': {}, 'ngsolve_version': '6.2.23…"
      ]
     },
     "metadata": {},
     "output_type": "display_data"
    },
    {
     "data": {
      "text/plain": [
       "BaseWebGuiScene"
      ]
     },
     "execution_count": 26,
     "metadata": {},
     "output_type": "execute_result"
    }
   ],
   "source": [
    "Draw(10/0.8926305134*gfu.real*r_vec, mesh)"
   ]
  },
  {
   "cell_type": "markdown",
   "id": "8d2687e9",
   "metadata": {},
   "source": [
    "### Draw CF version"
   ]
  },
  {
   "cell_type": "code",
   "execution_count": null,
   "id": "6087d9a8",
   "metadata": {
    "scrolled": false
   },
   "outputs": [],
   "source": [
    "for i, e, phi, beta in zip([0,1], Es, phis, betas):\n",
    "    if i >=1:\n",
    "        pass\n",
    "    else:\n",
    "        Stv, Sz = a.S(e, phi, beta)\n",
    "        Draw(Stv.real, mesh, vectors={'grid_size':2000})"
   ]
  },
  {
   "cell_type": "code",
   "execution_count": 33,
   "id": "67ce1567",
   "metadata": {
    "scrolled": false
   },
   "outputs": [
    {
     "data": {
      "application/vnd.jupyter.widget-view+json": {
       "model_id": "7b881851a62349359f90ed213d048648",
       "version_major": 2,
       "version_minor": 0
      },
      "text/plain": [
       "WebGuiWidget(layout=Layout(height='75vh', width='100%'), value={'gui_settings': {}, 'ngsolve_version': '6.2.23…"
      ]
     },
     "metadata": {},
     "output_type": "display_data"
    }
   ],
   "source": [
    "for i, e, phi, beta in zip([0,1], Es, phis, betas):\n",
    "    if i >= 1:\n",
    "        pass\n",
    "    else:\n",
    "        _, Sz = a.S(e, phi, beta)\n",
    "        scene = Draw(20/1.0322120319*Sz, mesh)"
   ]
  },
  {
   "cell_type": "code",
   "execution_count": 37,
   "id": "d403bd9b",
   "metadata": {},
   "outputs": [
    {
     "ename": "FileNotFoundError",
     "evalue": "[Errno 2] No such file or directory: '~/resonant5.png.html'",
     "output_type": "error",
     "traceback": [
      "\u001b[0;31m---------------------------------------------------------------------------\u001b[0m",
      "\u001b[0;31mFileNotFoundError\u001b[0m                         Traceback (most recent call last)",
      "Cell \u001b[0;32mIn[37], line 1\u001b[0m\n\u001b[0;32m----> 1\u001b[0m \u001b[43mscene\u001b[49m\u001b[38;5;241;43m.\u001b[39;49m\u001b[43mMakeScreenshot\u001b[49m\u001b[43m(\u001b[49m\u001b[38;5;124;43m'\u001b[39;49m\u001b[38;5;124;43m~/resonant5.png\u001b[39;49m\u001b[38;5;124;43m'\u001b[39;49m\u001b[43m)\u001b[49m\n",
      "File \u001b[0;32m~/.local/lib/python3.10/site-packages/webgui_jupyter_widgets/widget.py:66\u001b[0m, in \u001b[0;36mBaseWebGuiScene.MakeScreenshot\u001b[0;34m(self, filename, width, height)\u001b[0m\n\u001b[1;32m     64\u001b[0m \u001b[38;5;28;01mdef\u001b[39;00m \u001b[38;5;21mMakeScreenshot\u001b[39m(\u001b[38;5;28mself\u001b[39m, filename, width\u001b[38;5;241m=\u001b[39m\u001b[38;5;241m1200\u001b[39m, height\u001b[38;5;241m=\u001b[39m\u001b[38;5;241m600\u001b[39m):\n\u001b[1;32m     65\u001b[0m     \u001b[38;5;28mself\u001b[39m\u001b[38;5;241m.\u001b[39mencoding \u001b[38;5;241m=\u001b[39m \u001b[38;5;124m'\u001b[39m\u001b[38;5;124mb64\u001b[39m\u001b[38;5;124m'\u001b[39m\n\u001b[0;32m---> 66\u001b[0m     \u001b[38;5;28;01mreturn\u001b[39;00m \u001b[43mhtml\u001b[49m\u001b[38;5;241;43m.\u001b[39;49m\u001b[43mMakeScreenshot\u001b[49m\u001b[43m(\u001b[49m\u001b[38;5;28;43mself\u001b[39;49m\u001b[38;5;241;43m.\u001b[39;49m\u001b[43mGetData\u001b[49m\u001b[43m(\u001b[49m\u001b[43m)\u001b[49m\u001b[43m,\u001b[49m\u001b[43m \u001b[49m\u001b[43mfilename\u001b[49m\u001b[43m,\u001b[49m\u001b[43m \u001b[49m\u001b[43mwidth\u001b[49m\u001b[43m,\u001b[49m\u001b[43m \u001b[49m\u001b[43mheight\u001b[49m\u001b[43m)\u001b[49m\n",
      "File \u001b[0;32m~/.local/lib/python3.10/site-packages/webgui_jupyter_widgets/html.py:87\u001b[0m, in \u001b[0;36mMakeScreenshot\u001b[0;34m(data, filename, width, height)\u001b[0m\n\u001b[1;32m     85\u001b[0m \u001b[38;5;28;01mimport\u001b[39;00m \u001b[38;5;21;01mtime\u001b[39;00m\n\u001b[1;32m     86\u001b[0m html_file \u001b[38;5;241m=\u001b[39m filename\u001b[38;5;241m+\u001b[39m\u001b[38;5;124m\"\u001b[39m\u001b[38;5;124m.html\u001b[39m\u001b[38;5;124m\"\u001b[39m\n\u001b[0;32m---> 87\u001b[0m \u001b[43mGenerateHTML\u001b[49m\u001b[43m(\u001b[49m\u001b[43mdata\u001b[49m\u001b[43m,\u001b[49m\u001b[43m \u001b[49m\u001b[43mfilename\u001b[49m\u001b[38;5;241;43m=\u001b[39;49m\u001b[43mhtml_file\u001b[49m\u001b[43m,\u001b[49m\u001b[43m \u001b[49m\u001b[43mtemplate\u001b[49m\u001b[38;5;241;43m=\u001b[39;49m\u001b[43mgetScreenshotHTML\u001b[49m\u001b[43m(\u001b[49m\u001b[43m)\u001b[49m\u001b[43m)\u001b[49m\n\u001b[1;32m     89\u001b[0m \u001b[38;5;66;03m# start headless browser to render html\u001b[39;00m\n\u001b[1;32m     90\u001b[0m \u001b[38;5;28;01mfrom\u001b[39;00m \u001b[38;5;21;01mselenium\u001b[39;00m \u001b[38;5;28;01mimport\u001b[39;00m webdriver\n",
      "File \u001b[0;32m~/.local/lib/python3.10/site-packages/webgui_jupyter_widgets/html.py:79\u001b[0m, in \u001b[0;36mGenerateHTML\u001b[0;34m(data, filename, template)\u001b[0m\n\u001b[1;32m     76\u001b[0m html \u001b[38;5;241m=\u001b[39m html\u001b[38;5;241m.\u001b[39mreplace(\u001b[38;5;124m'\u001b[39m\u001b[38;5;132;01m{render}\u001b[39;00m\u001b[38;5;124m'\u001b[39m, jscode)\n\u001b[1;32m     78\u001b[0m \u001b[38;5;28;01mif\u001b[39;00m filename \u001b[38;5;129;01mis\u001b[39;00m \u001b[38;5;129;01mnot\u001b[39;00m \u001b[38;5;28;01mNone\u001b[39;00m:\n\u001b[0;32m---> 79\u001b[0m     \u001b[38;5;28;43mopen\u001b[39;49m\u001b[43m(\u001b[49m\u001b[43mfilename\u001b[49m\u001b[43m,\u001b[49m\u001b[43m \u001b[49m\u001b[38;5;124;43m'\u001b[39;49m\u001b[38;5;124;43mw\u001b[39;49m\u001b[38;5;124;43m'\u001b[39;49m\u001b[43m)\u001b[49m\u001b[38;5;241m.\u001b[39mwrite(html)\n\u001b[1;32m     80\u001b[0m \u001b[38;5;28;01mreturn\u001b[39;00m html\n",
      "\u001b[0;31mFileNotFoundError\u001b[0m: [Errno 2] No such file or directory: '~/resonant5.png.html'"
     ]
    }
   ],
   "source": [
    "scene.MakeScreenshot('resonant5.png')"
   ]
  },
  {
   "cell_type": "code",
   "execution_count": 36,
   "id": "22811108",
   "metadata": {},
   "outputs": [
    {
     "data": {
      "text/plain": [
       "'/home/pv/local/convergence/arf_fiber/wavelength/air/subinterval2'"
      ]
     },
     "execution_count": 36,
     "metadata": {},
     "output_type": "execute_result"
    }
   ],
   "source": [
    "pwd"
   ]
  },
  {
   "cell_type": "markdown",
   "id": "6eb1ffa3",
   "metadata": {},
   "source": [
    "# Loss Minimum (Antiresonant Mode)"
   ]
  },
  {
   "cell_type": "code",
   "execution_count": 27,
   "id": "2dd1c308",
   "metadata": {},
   "outputs": [],
   "source": [
    "i = 1165"
   ]
  },
  {
   "cell_type": "code",
   "execution_count": 28,
   "id": "97cf7de1",
   "metadata": {},
   "outputs": [],
   "source": [
    "mesh_path = 'modes/mesh_index_' + str(i) + '.pkl'\n",
    "Es_path = 'modes/E_modes_index_' + str(i)\n",
    "phis_path = 'modes/phi_modes_index_' + str(i)\n",
    "betas_path = 'modes/betas_index_%i.npy' %i"
   ]
  },
  {
   "cell_type": "code",
   "execution_count": 29,
   "id": "f3fb309d",
   "metadata": {},
   "outputs": [],
   "source": [
    "mesh = a.load_mesh(mesh_path)\n",
    "mesh.Curve(max(p+1,8))\n",
    "Es2 = a.load_E_modes(mesh_path, Es_path, p=p)\n",
    "phis2 = a.load_phi_modes(mesh_path, phis_path, p=p)\n",
    "betas2 = np.load(betas_path)"
   ]
  },
  {
   "cell_type": "code",
   "execution_count": 31,
   "id": "640701fb",
   "metadata": {
    "scrolled": false
   },
   "outputs": [
    {
     "data": {
      "application/vnd.jupyter.widget-view+json": {
       "model_id": "7c10e0dfc086443a955ff981303d0d08",
       "version_major": 2,
       "version_minor": 0
      },
      "text/plain": [
       "WebGuiWidget(layout=Layout(height='75vh', width='100%'), value={'gui_settings': {}, 'ngsolve_version': '6.2.23…"
      ]
     },
     "metadata": {},
     "output_type": "display_data"
    }
   ],
   "source": [
    "for i, e, phi, beta in zip([0,1],Es2, phis2, betas2):\n",
    "    if i >= 1:\n",
    "        pass\n",
    "    else:\n",
    "        Stv, Sz = a.S(e, phi, beta)\n",
    "        Draw(20/0.0082926919*Stv.real, mesh, vectors={'grid_size': 2000})"
   ]
  },
  {
   "cell_type": "code",
   "execution_count": null,
   "id": "9ff11b7b",
   "metadata": {
    "scrolled": false
   },
   "outputs": [],
   "source": [
    "for i, e, phi, beta in zip([0,1],Es2, phis2, betas2):\n",
    "    if i >= 1:\n",
    "        pass\n",
    "    else:\n",
    "        _, Sz = a.S(e, phi, beta)\n",
    "        Draw(20*(20/0.2508417374)/20.3690023194*Sz, mesh)"
   ]
  },
  {
   "cell_type": "code",
   "execution_count": null,
   "id": "583829e1",
   "metadata": {
    "scrolled": false
   },
   "outputs": [],
   "source": [
    "for i, e, phi, beta in zip([0,1], Es2, phis2, betas2):\n",
    "    if i < 1:\n",
    "        pass\n",
    "    else:\n",
    "        _, Sz = a.S(e, phi, beta)\n",
    "        Draw(20/0.1909572402*Sz, mesh)"
   ]
  },
  {
   "cell_type": "markdown",
   "id": "408628be",
   "metadata": {},
   "source": [
    "# Trough Loss Minimum (Antiresonant Mode)"
   ]
  },
  {
   "cell_type": "code",
   "execution_count": null,
   "id": "efa93dca",
   "metadata": {},
   "outputs": [],
   "source": [
    "i = 1581"
   ]
  },
  {
   "cell_type": "code",
   "execution_count": null,
   "id": "5136bfb2",
   "metadata": {},
   "outputs": [],
   "source": [
    "mesh_path = 'modes/mesh_index_' + str(i) + '.pkl'\n",
    "Es_path = 'modes/E_modes_index_' + str(i)\n",
    "phis_path = 'modes/phi_modes_index_' + str(i)\n",
    "betas_path = 'modes/betas_index_%i.npy' %i"
   ]
  },
  {
   "cell_type": "code",
   "execution_count": null,
   "id": "790d7a4c",
   "metadata": {},
   "outputs": [],
   "source": [
    "mesh = a.load_mesh(mesh_path)\n",
    "p=6\n",
    "mesh.Curve(max(p+1,3))\n",
    "Es3 = a.load_E_modes(mesh_path, Es_path, p=p)\n",
    "phis3 = a.load_phi_modes(mesh_path, phis_path, p=p)\n",
    "betas3 = np.load(betas_path)"
   ]
  },
  {
   "cell_type": "code",
   "execution_count": null,
   "id": "75d6703c",
   "metadata": {
    "scrolled": true
   },
   "outputs": [],
   "source": [
    "for i, e, phi, beta in zip([0,1],Es3, phis3, betas3):\n",
    "    if i >= 1:\n",
    "        pass\n",
    "    else:\n",
    "        _, Sz = a.S(e, phi, beta)\n",
    "        Draw(Sz, mesh)"
   ]
  },
  {
   "cell_type": "code",
   "execution_count": null,
   "id": "a238818a",
   "metadata": {},
   "outputs": [],
   "source": []
  }
 ],
 "metadata": {
  "kernelspec": {
   "display_name": "Python 3 (ipykernel)",
   "language": "python",
   "name": "python3"
  },
  "language_info": {
   "codemirror_mode": {
    "name": "ipython",
    "version": 3
   },
   "file_extension": ".py",
   "mimetype": "text/x-python",
   "name": "python",
   "nbconvert_exporter": "python",
   "pygments_lexer": "ipython3",
   "version": "3.10.6"
  }
 },
 "nbformat": 4,
 "nbformat_minor": 5
}
