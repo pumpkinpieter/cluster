{
 "cells": [
  {
   "cell_type": "markdown",
   "id": "45f7e2e0",
   "metadata": {},
   "source": [
    "# View modes in current mode folder\n"
   ]
  },
  {
   "cell_type": "code",
   "execution_count": null,
   "id": "36fdb4d2",
   "metadata": {},
   "outputs": [],
   "source": [
    "from fiberamp.fiber.microstruct.pbg import ARF2\n",
    "from ngsolve.webgui import Draw\n",
    "from ngsolve import Norm\n",
    "import ngsolve as ng\n",
    "import numpy as np\n",
    "\n",
    "# import netgen.gui"
   ]
  },
  {
   "cell_type": "code",
   "execution_count": null,
   "id": "edb92c49",
   "metadata": {
    "scrolled": true
   },
   "outputs": [],
   "source": [
    "ref = 0\n",
    "p = 6\n",
    "a = ARF2(refine=ref, curve=1, shift_capillaries=False, \n",
    "         poly_core=True, name='fine_cladding',\n",
    "         glass_maxh=5\n",
    "#          glass_maxh=.036, core_maxh=.13, \n",
    "#          inner_air_maxh=.15, fill_air_maxh=.2, \n",
    "#          pml_maxh=.5, buffer_maxh=.3, T_buffer=35,\n",
    "        )"
   ]
  },
  {
   "cell_type": "markdown",
   "id": "2636646f",
   "metadata": {},
   "source": [
    "# Loss Peak (Resonant Mode)"
   ]
  },
  {
   "cell_type": "code",
   "execution_count": null,
   "id": "b7b45c2a",
   "metadata": {},
   "outputs": [],
   "source": [
    "i = 1094"
   ]
  },
  {
   "cell_type": "code",
   "execution_count": null,
   "id": "8a6ba486",
   "metadata": {},
   "outputs": [],
   "source": [
    "mesh_path = 'modes/mesh_index_' + str(i) + '.pkl'\n",
    "Es_path = 'modes/E_modes_index_' + str(i)\n",
    "phis_path = 'modes/phi_modes_index_' + str(i)\n",
    "betas_path = 'modes/betas_index_%i.npy' %i"
   ]
  },
  {
   "cell_type": "code",
   "execution_count": null,
   "id": "b47ac05c",
   "metadata": {},
   "outputs": [],
   "source": [
    "mesh = a.load_mesh(mesh_path)\n",
    "mesh.Curve(max(p+1,8))\n",
    "Es = a.load_E_modes(mesh_path, Es_path, p=p)\n",
    "phis = a.load_phi_modes(mesh_path, phis_path, p=p)\n",
    "betas = np.load(betas_path)"
   ]
  },
  {
   "cell_type": "code",
   "execution_count": null,
   "id": "f6840c96-5aa2-49f8-9335-cc91bbde6cc2",
   "metadata": {},
   "outputs": [],
   "source": [
    "Draw(Es[0].real, mesh)"
   ]
  },
  {
   "cell_type": "markdown",
   "id": "cdaa927f",
   "metadata": {},
   "source": [
    "### Interpolate into HDiv"
   ]
  },
  {
   "cell_type": "code",
   "execution_count": null,
   "id": "b44ff5d4",
   "metadata": {},
   "outputs": [],
   "source": [
    "Stv, Sz = a.S(Es[0], phis[0], betas[0])\n",
    "r = ng.sqrt(ng.x*ng.x + ng.y*ng.y)\n",
    "r_vec = ng.CF((ng.x/r, ng.y/r))\n",
    "Sr = Stv * r_vec"
   ]
  },
  {
   "cell_type": "code",
   "execution_count": null,
   "id": "0fce766a",
   "metadata": {},
   "outputs": [],
   "source": [
    "Stv_C = Stv.Compile()\n"
   ]
  },
  {
   "cell_type": "code",
   "execution_count": null,
   "id": "3a648559",
   "metadata": {},
   "outputs": [],
   "source": [
    "fes = ng.HDiv(mesh, complex=True, RT=True, order=2)"
   ]
  },
  {
   "cell_type": "code",
   "execution_count": null,
   "id": "d5821354",
   "metadata": {},
   "outputs": [],
   "source": [
    "gfu = ng.GridFunction(fes)\n",
    "gfu.Set(Stv_C)"
   ]
  },
  {
   "cell_type": "markdown",
   "id": "15f81f72",
   "metadata": {},
   "source": [
    "### Draw"
   ]
  },
  {
   "cell_type": "code",
   "execution_count": null,
   "id": "533fe0a8",
   "metadata": {},
   "outputs": [],
   "source": [
    "Draw(10/0.8926305134*gfu.real*r_vec, mesh)"
   ]
  },
  {
   "cell_type": "markdown",
   "id": "8d2687e9",
   "metadata": {},
   "source": [
    "### Draw CF version"
   ]
  },
  {
   "cell_type": "code",
   "execution_count": null,
   "id": "6087d9a8",
   "metadata": {},
   "outputs": [],
   "source": [
    "for i, e, phi, beta in zip([0,1], Es, phis, betas):\n",
    "    if i >=1:\n",
    "        pass\n",
    "    else:\n",
    "        Stv, Sz = a.S(e, phi, beta)\n",
    "        Draw(Stv.real, mesh, vectors={'grid_size':2000})"
   ]
  },
  {
   "cell_type": "code",
   "execution_count": null,
   "id": "67ce1567",
   "metadata": {},
   "outputs": [],
   "source": [
    "for i, e, phi, beta in zip([0,1], Es, phis, betas):\n",
    "    if i >= 1:\n",
    "        pass\n",
    "    else:\n",
    "        _, Sz = a.S(e, phi, beta)\n",
    "        scene = Draw(20/1.0322120319*Sz, mesh)"
   ]
  },
  {
   "cell_type": "code",
   "execution_count": null,
   "id": "d403bd9b",
   "metadata": {},
   "outputs": [],
   "source": [
    "scene.MakeScreenshot('resonant5.png')"
   ]
  },
  {
   "cell_type": "code",
   "execution_count": null,
   "id": "22811108",
   "metadata": {},
   "outputs": [],
   "source": [
    "pwd"
   ]
  },
  {
   "cell_type": "markdown",
   "id": "6eb1ffa3",
   "metadata": {},
   "source": [
    "# Loss Minimum (Antiresonant Mode)"
   ]
  },
  {
   "cell_type": "code",
   "execution_count": null,
   "id": "2dd1c308",
   "metadata": {},
   "outputs": [],
   "source": [
    "i = 1165"
   ]
  },
  {
   "cell_type": "code",
   "execution_count": null,
   "id": "97cf7de1",
   "metadata": {},
   "outputs": [],
   "source": [
    "mesh_path = 'modes/mesh_index_' + str(i) + '.pkl'\n",
    "Es_path = 'modes/E_modes_index_' + str(i)\n",
    "phis_path = 'modes/phi_modes_index_' + str(i)\n",
    "betas_path = 'modes/betas_index_%i.npy' %i"
   ]
  },
  {
   "cell_type": "code",
   "execution_count": null,
   "id": "f3fb309d",
   "metadata": {},
   "outputs": [],
   "source": [
    "mesh = a.load_mesh(mesh_path)\n",
    "mesh.Curve(max(p+1,8))\n",
    "Es2 = a.load_E_modes(mesh_path, Es_path, p=p)\n",
    "phis2 = a.load_phi_modes(mesh_path, phis_path, p=p)\n",
    "betas2 = np.load(betas_path)"
   ]
  },
  {
   "cell_type": "code",
   "execution_count": null,
   "id": "640701fb",
   "metadata": {},
   "outputs": [],
   "source": [
    "for i, e, phi, beta in zip([0,1],Es2, phis2, betas2):\n",
    "    if i >= 1:\n",
    "        pass\n",
    "    else:\n",
    "        Stv, Sz = a.S(e, phi, beta)\n",
    "        Draw(20/0.0082926919*Stv.real, mesh, vectors={'grid_size': 2000})"
   ]
  },
  {
   "cell_type": "code",
   "execution_count": null,
   "id": "9ff11b7b",
   "metadata": {},
   "outputs": [],
   "source": [
    "for i, e, phi, beta in zip([0,1],Es2, phis2, betas2):\n",
    "    if i >= 1:\n",
    "        pass\n",
    "    else:\n",
    "        _, Sz = a.S(e, phi, beta)\n",
    "        Draw(20*(20/0.2508417374)/20.3690023194*Sz, mesh)"
   ]
  },
  {
   "cell_type": "code",
   "execution_count": null,
   "id": "583829e1",
   "metadata": {},
   "outputs": [],
   "source": [
    "for i, e, phi, beta in zip([0,1], Es2, phis2, betas2):\n",
    "    if i < 1:\n",
    "        pass\n",
    "    else:\n",
    "        _, Sz = a.S(e, phi, beta)\n",
    "        Draw(20/0.1909572402*Sz, mesh)"
   ]
  },
  {
   "cell_type": "markdown",
   "id": "408628be",
   "metadata": {},
   "source": [
    "# Trough Loss Minimum (Antiresonant Mode)"
   ]
  },
  {
   "cell_type": "code",
   "execution_count": null,
   "id": "efa93dca",
   "metadata": {},
   "outputs": [],
   "source": [
    "i = 1581"
   ]
  },
  {
   "cell_type": "code",
   "execution_count": null,
   "id": "5136bfb2",
   "metadata": {},
   "outputs": [],
   "source": [
    "mesh_path = 'modes/mesh_index_' + str(i) + '.pkl'\n",
    "Es_path = 'modes/E_modes_index_' + str(i)\n",
    "phis_path = 'modes/phi_modes_index_' + str(i)\n",
    "betas_path = 'modes/betas_index_%i.npy' %i"
   ]
  },
  {
   "cell_type": "code",
   "execution_count": null,
   "id": "790d7a4c",
   "metadata": {},
   "outputs": [],
   "source": [
    "mesh = a.load_mesh(mesh_path)\n",
    "p=6\n",
    "mesh.Curve(max(p+1,3))\n",
    "Es3 = a.load_E_modes(mesh_path, Es_path, p=p)\n",
    "phis3 = a.load_phi_modes(mesh_path, phis_path, p=p)\n",
    "betas3 = np.load(betas_path)"
   ]
  },
  {
   "cell_type": "code",
   "execution_count": null,
   "id": "75d6703c",
   "metadata": {
    "scrolled": true
   },
   "outputs": [],
   "source": [
    "for i, e, phi, beta in zip([0,1],Es3, phis3, betas3):\n",
    "    if i >= 1:\n",
    "        pass\n",
    "    else:\n",
    "        _, Sz = a.S(e, phi, beta)\n",
    "        Draw(Sz, mesh)"
   ]
  },
  {
   "cell_type": "code",
   "execution_count": null,
   "id": "a238818a",
   "metadata": {},
   "outputs": [],
   "source": []
  }
 ],
 "metadata": {
  "kernelspec": {
   "display_name": "Python 3 (ipykernel)",
   "language": "python",
   "name": "python3"
  },
  "language_info": {
   "codemirror_mode": {
    "name": "ipython",
    "version": 3
   },
   "file_extension": ".py",
   "mimetype": "text/x-python",
   "name": "python",
   "nbconvert_exporter": "python",
   "pygments_lexer": "ipython3",
   "version": "3.10.12"
  }
 },
 "nbformat": 4,
 "nbformat_minor": 5
}
