{
 "cells": [
  {
   "cell_type": "markdown",
   "id": "45f7e2e0",
   "metadata": {},
   "source": [
    "# View modes in current mode folder\n"
   ]
  },
  {
   "cell_type": "code",
   "execution_count": 1,
   "id": "36fdb4d2",
   "metadata": {},
   "outputs": [],
   "source": [
    "from fiberamp.fiber.microstruct.pbg import ARF2\n",
    "from ngsolve.webgui import Draw\n",
    "from ngsolve import Norm\n",
    "import ngsolve as ng\n",
    "import numpy as np\n",
    "\n",
    "# import netgen.gui"
   ]
  },
  {
   "cell_type": "code",
   "execution_count": 2,
   "id": "edb92c49",
   "metadata": {
    "scrolled": true
   },
   "outputs": [
    {
     "name": "stdout",
     "output_type": "stream",
     "text": [
      "ModeSolver: Checking if mesh has required regions\n",
      "Mesh has  38474  elements,  19280  points,  and  57753  edges.\n"
     ]
    }
   ],
   "source": [
    "ref = 0\n",
    "p = 6\n",
    "a = ARF2(refine=ref, curve=(max(p+1,8)), shift_capillaries=False, \n",
    "         poly_core=True, name='fine_cladding',\n",
    "         glass_maxh=.036, core_maxh=.13, \n",
    "         inner_air_maxh=.15, fill_air_maxh=.2, \n",
    "         pml_maxh=.5, buffer_maxh=.3, T_buffer=20)"
   ]
  },
  {
   "cell_type": "code",
   "execution_count": 3,
   "id": "f252e31b",
   "metadata": {},
   "outputs": [
    {
     "data": {
      "application/vnd.jupyter.widget-view+json": {
       "model_id": "e3601235780d455191ad499f3d2ced87",
       "version_major": 2,
       "version_minor": 0
      },
      "text/plain": [
       "WebGuiWidget(layout=Layout(height='50vh', width='100%'), value={'gui_settings': {}, 'ngsolve_version': '6.2.23…"
      ]
     },
     "metadata": {},
     "output_type": "display_data"
    },
    {
     "data": {
      "text/plain": [
       "BaseWebGuiScene"
      ]
     },
     "execution_count": 3,
     "metadata": {},
     "output_type": "execute_result"
    }
   ],
   "source": [
    "Draw(a.mesh)"
   ]
  },
  {
   "cell_type": "markdown",
   "id": "88060db0",
   "metadata": {},
   "source": [
    "# Loss Peak (Resonant Mode)"
   ]
  },
  {
   "cell_type": "code",
   "execution_count": 4,
   "id": "b7b45c2a",
   "metadata": {},
   "outputs": [],
   "source": [
    "i = 1094"
   ]
  },
  {
   "cell_type": "code",
   "execution_count": 5,
   "id": "8a6ba486",
   "metadata": {},
   "outputs": [],
   "source": [
    "mesh_path = 'modes/mesh_index_' + str(i) + '.pkl'\n",
    "Es_path = 'modes/E_modes_index_' + str(i)\n",
    "phis_path = 'modes/phi_modes_index_' + str(i)\n",
    "betas_path = 'modes/betas_index_%i.npy' %i"
   ]
  },
  {
   "cell_type": "code",
   "execution_count": 6,
   "id": "b47ac05c",
   "metadata": {},
   "outputs": [],
   "source": [
    "mesh = a.load_mesh(mesh_path)\n",
    "mesh.Curve(max(p+1,8))\n",
    "Es = a.load_E_modes(mesh_path, Es_path, p=p)\n",
    "phis = a.load_phi_modes(mesh_path, phis_path, p=p)\n",
    "betas = np.load(betas_path)"
   ]
  },
  {
   "cell_type": "code",
   "execution_count": 7,
   "id": "3c33a24f",
   "metadata": {
    "scrolled": false
   },
   "outputs": [
    {
     "data": {
      "application/vnd.jupyter.widget-view+json": {
       "model_id": "780ecd30ef674efabbdcc49289180b98",
       "version_major": 2,
       "version_minor": 0
      },
      "text/plain": [
       "WebGuiWidget(layout=Layout(height='50vh', width='100%'), value={'gui_settings': {}, 'ngsolve_version': '6.2.23…"
      ]
     },
     "metadata": {},
     "output_type": "display_data"
    }
   ],
   "source": [
    "for i, e, phi, beta in zip([0,1], Es, phis, betas):\n",
    "    if i >=1:\n",
    "        pass\n",
    "    else:\n",
    "        _, Sz = a.S(e, phi, beta)\n",
    "        Draw(20/1.2839789015*Sz, mesh)"
   ]
  },
  {
   "cell_type": "markdown",
   "id": "cd53266f",
   "metadata": {},
   "source": [
    "# Loss Minimum (Antiresonant Mode)"
   ]
  },
  {
   "cell_type": "code",
   "execution_count": 17,
   "id": "2dd1c308",
   "metadata": {},
   "outputs": [],
   "source": [
    "i = 1165"
   ]
  },
  {
   "cell_type": "code",
   "execution_count": 18,
   "id": "1b52b9f3",
   "metadata": {},
   "outputs": [],
   "source": [
    "mesh_path = 'modes/mesh_index_' + str(i) + '.pkl'\n",
    "Es_path = 'modes/E_modes_index_' + str(i)\n",
    "phis_path = 'modes/phi_modes_index_' + str(i)\n",
    "betas_path = 'modes/betas_index_%i.npy' %i"
   ]
  },
  {
   "cell_type": "code",
   "execution_count": 20,
   "id": "4566ba9c",
   "metadata": {},
   "outputs": [],
   "source": [
    "mesh = a.load_mesh(mesh_path)\n",
    "mesh.Curve(max(p+1,8))\n",
    "Es2 = a.load_E_modes(mesh_path, Es_path, p=p)\n",
    "phis2 = a.load_phi_modes(mesh_path, phis_path, p=p)\n",
    "betas2 = np.load(betas_path)"
   ]
  },
  {
   "cell_type": "code",
   "execution_count": 21,
   "id": "7f9eb5a0",
   "metadata": {
    "scrolled": true
   },
   "outputs": [
    {
     "data": {
      "application/vnd.jupyter.widget-view+json": {
       "model_id": "29ac8178a34547babbd4219473e31cca",
       "version_major": 2,
       "version_minor": 0
      },
      "text/plain": [
       "WebGuiWidget(layout=Layout(height='50vh', width='100%'), value={'gui_settings': {}, 'ngsolve_version': '6.2.23…"
      ]
     },
     "metadata": {},
     "output_type": "display_data"
    }
   ],
   "source": [
    "for i, e, phi, beta in zip([0,1],Es2, phis2, betas2):\n",
    "    if i >= 1:\n",
    "        pass\n",
    "    else:\n",
    "        _, Sz = a.S(e, phi, beta)\n",
    "        Draw(Sz, mesh)"
   ]
  },
  {
   "cell_type": "markdown",
   "id": "043148d8",
   "metadata": {},
   "source": [
    "# Trough Loss Minimum (Antiresonant Mode)"
   ]
  },
  {
   "cell_type": "code",
   "execution_count": 15,
   "id": "a7e8de95",
   "metadata": {},
   "outputs": [],
   "source": [
    "i = 1581"
   ]
  },
  {
   "cell_type": "code",
   "execution_count": 16,
   "id": "2c6541d3",
   "metadata": {},
   "outputs": [],
   "source": [
    "mesh_path = 'modes/mesh_index_' + str(i) + '.pkl'\n",
    "Es_path = 'modes/E_modes_index_' + str(i)\n",
    "phis_path = 'modes/phi_modes_index_' + str(i)\n",
    "betas_path = 'modes/betas_index_%i.npy' %i"
   ]
  },
  {
   "cell_type": "code",
   "execution_count": 17,
   "id": "3115c6e3",
   "metadata": {},
   "outputs": [],
   "source": [
    "mesh = a.load_mesh(mesh_path)\n",
    "p=6\n",
    "mesh.Curve(max(p+1,3))\n",
    "Es3 = a.load_E_modes(mesh_path, Es_path, p=p)\n",
    "phis3 = a.load_phi_modes(mesh_path, phis_path, p=p)\n",
    "betas3 = np.load(betas_path)"
   ]
  },
  {
   "cell_type": "code",
   "execution_count": 18,
   "id": "b2af8520",
   "metadata": {
    "scrolled": true
   },
   "outputs": [
    {
     "data": {
      "application/vnd.jupyter.widget-view+json": {
       "model_id": "9894f3b39327472db19d97fbf0dd2165",
       "version_major": 2,
       "version_minor": 0
      },
      "text/plain": [
       "WebGuiWidget(layout=Layout(height='50vh', width='100%'), value={'gui_settings': {}, 'ngsolve_version': '6.2.23…"
      ]
     },
     "metadata": {},
     "output_type": "display_data"
    }
   ],
   "source": [
    "for i, e, phi, beta in zip([0,1],Es3, phis3, betas3):\n",
    "    if i >= 1:\n",
    "        pass\n",
    "    else:\n",
    "        _, Sz = a.S(e, phi, beta)\n",
    "        Draw(Sz, mesh)"
   ]
  },
  {
   "cell_type": "code",
   "execution_count": null,
   "id": "fc9b7d09",
   "metadata": {},
   "outputs": [],
   "source": []
  }
 ],
 "metadata": {
  "kernelspec": {
   "display_name": "Python 3 (ipykernel)",
   "language": "python",
   "name": "python3"
  },
  "language_info": {
   "codemirror_mode": {
    "name": "ipython",
    "version": 3
   },
   "file_extension": ".py",
   "mimetype": "text/x-python",
   "name": "python",
   "nbconvert_exporter": "python",
   "pygments_lexer": "ipython3",
   "version": "3.10.6"
  }
 },
 "nbformat": 4,
 "nbformat_minor": 5
}
