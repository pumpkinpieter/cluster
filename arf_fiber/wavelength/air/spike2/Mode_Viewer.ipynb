{
 "cells": [
  {
   "cell_type": "markdown",
   "id": "45f7e2e0",
   "metadata": {},
   "source": [
    "# View modes in current mode folder\n"
   ]
  },
  {
   "cell_type": "code",
   "execution_count": 1,
   "id": "36fdb4d2",
   "metadata": {},
   "outputs": [
    {
     "name": "stdout",
     "output_type": "stream",
     "text": [
      "importing NGSolve-6.2.2203-56-g47f483033\n"
     ]
    }
   ],
   "source": [
    "from fiberamp.fiber.microstruct.pbg import ARF2\n",
    "from ngsolve.webgui import Draw\n",
    "from ngsolve import Norm\n",
    "import ngsolve as ng\n",
    "import numpy as np\n",
    "# import netgen.gui"
   ]
  },
  {
   "cell_type": "code",
   "execution_count": 2,
   "id": "edb92c49",
   "metadata": {
    "scrolled": true
   },
   "outputs": [
    {
     "name": "stdout",
     "output_type": "stream",
     "text": [
      "ModeSolver: Checking if mesh has required regions\n",
      "Mesh has  30533  elements,  15284  points,  and  45816  edges.\n"
     ]
    }
   ],
   "source": [
    "ref = 0\n",
    "p = 4\n",
    "a = ARF2(refine=ref, curve=8, poly_core=True, name='fine_cladding', glass_maxh=.04, T_buffer=20)\n"
   ]
  },
  {
   "cell_type": "code",
   "execution_count": 3,
   "id": "0a150f9f",
   "metadata": {},
   "outputs": [
    {
     "data": {
      "text/plain": [
       "0.04"
      ]
     },
     "execution_count": 3,
     "metadata": {},
     "output_type": "execute_result"
    }
   ],
   "source": [
    "a.glass_maxh"
   ]
  },
  {
   "cell_type": "code",
   "execution_count": 4,
   "id": "88ae2625",
   "metadata": {},
   "outputs": [
    {
     "data": {
      "application/vnd.jupyter.widget-view+json": {
       "model_id": "806b19679a8b47c5ae16e102745795d2",
       "version_major": 2,
       "version_minor": 0
      },
      "text/plain": [
       "WebGuiWidget(value={'ngsolve_version': '6.2.2203-56-g47f483033', 'mesh_dim': 2, 'order2d': 2, 'order3d': 2, 'd…"
      ]
     },
     "metadata": {},
     "output_type": "display_data"
    },
    {
     "data": {
      "text/plain": [
       "BaseWebGuiScene"
      ]
     },
     "execution_count": 4,
     "metadata": {},
     "output_type": "execute_result"
    }
   ],
   "source": [
    "Draw(a.mesh)"
   ]
  },
  {
   "cell_type": "code",
   "execution_count": null,
   "id": "13b65400",
   "metadata": {},
   "outputs": [],
   "source": [
    "a.mesh.GetMaterials()"
   ]
  },
  {
   "cell_type": "code",
   "execution_count": null,
   "id": "b7b45c2a",
   "metadata": {},
   "outputs": [],
   "source": [
    "idx = 36"
   ]
  },
  {
   "cell_type": "code",
   "execution_count": null,
   "id": "8a6ba486",
   "metadata": {},
   "outputs": [],
   "source": [
    "mesh_path = 'modes/mesh_index_' + str(idx) + '.pkl'\n",
    "Es_path = 'modes/E_modes_index_' + str(idx)\n",
    "phis_path = 'modes/phi_modes_index_' + str(idx)"
   ]
  },
  {
   "cell_type": "code",
   "execution_count": null,
   "id": "b47ac05c",
   "metadata": {},
   "outputs": [],
   "source": [
    "mesh = a.load_mesh(mesh_path)\n",
    "mesh.Curve(max(p+1,3))\n",
    "Es = a.load_E_modes(mesh_path, Es_path, p=p)\n",
    "phis = a.load_phi_modes(mesh_path, phis_path, p=p)"
   ]
  },
  {
   "cell_type": "markdown",
   "id": "bebac80f",
   "metadata": {},
   "source": [
    "# Normalize"
   ]
  },
  {
   "cell_type": "code",
   "execution_count": null,
   "id": "275e5f6e",
   "metadata": {
    "scrolled": false
   },
   "outputs": [],
   "source": [
    "for e in Es:\n",
    "    nrm = ng.Integrate(e.Norm(), a.mesh.Materials('core'))\n",
    "    Draw(1/nrm * e.real, mesh)"
   ]
  },
  {
   "cell_type": "code",
   "execution_count": null,
   "id": "8a8848fa",
   "metadata": {
    "scrolled": true
   },
   "outputs": [],
   "source": [
    "for phi in phis:\n",
    "    nrm = ng.Integrate(phi.Norm(), a.mesh.Materials('core'))\n",
    "    Draw(1/nrm*phi, mesh)"
   ]
  },
  {
   "cell_type": "markdown",
   "id": "a08fbfa4",
   "metadata": {},
   "source": [
    "# Normal WL"
   ]
  },
  {
   "cell_type": "code",
   "execution_count": null,
   "id": "2dd1c308",
   "metadata": {},
   "outputs": [],
   "source": [
    "idx2 = 20"
   ]
  },
  {
   "cell_type": "code",
   "execution_count": null,
   "id": "a019774e",
   "metadata": {},
   "outputs": [],
   "source": [
    "mesh_path = 'modes/mesh_index_' + str(idx2) + '.pkl'\n",
    "Es_path = 'modes/E_modes_index_' + str(idx2)\n",
    "phis_path = 'modes/phi_modes_index_' + str(idx2)"
   ]
  },
  {
   "cell_type": "code",
   "execution_count": null,
   "id": "269e7a8b",
   "metadata": {},
   "outputs": [],
   "source": [
    "mesh = a.load_mesh(mesh_path)\n",
    "mesh.Curve(max(p+1,3))\n",
    "Es2 = a.load_E_modes(mesh_path, Es_path, p=p)\n",
    "phis2 = a.load_phi_modes(mesh_path, phis_path, p=p)"
   ]
  },
  {
   "cell_type": "code",
   "execution_count": null,
   "id": "7941c092",
   "metadata": {},
   "outputs": [],
   "source": [
    "for e in Es2:\n",
    "    nrm = ng.Integrate(e.Norm(), a.mesh.Materials('core'))\n",
    "    Draw(1/nrm*e.real, mesh)"
   ]
  },
  {
   "cell_type": "code",
   "execution_count": null,
   "id": "abc8bf2f",
   "metadata": {
    "scrolled": false
   },
   "outputs": [],
   "source": [
    "for phi in phis2:\n",
    "    nrm = ng.Integrate(phi.Norm(), a.mesh.Materials('core'))\n",
    "    Draw(1/nrm*phi, mesh)"
   ]
  },
  {
   "cell_type": "markdown",
   "id": "d7426234",
   "metadata": {},
   "source": [
    "# Poynting Vectors\n"
   ]
  },
  {
   "cell_type": "markdown",
   "id": "fb056b8b",
   "metadata": {},
   "source": [
    "### Bad wl"
   ]
  },
  {
   "cell_type": "code",
   "execution_count": null,
   "id": "7d40c1bd",
   "metadata": {},
   "outputs": [],
   "source": [
    "betas = np.load('outputs/e%i.npy' % i )"
   ]
  },
  {
   "cell_type": "code",
   "execution_count": null,
   "id": "732dab20",
   "metadata": {},
   "outputs": [],
   "source": [
    "k=0\n",
    "Stv, Sz = a.S(Es[k], phis[k], betas[k])"
   ]
  },
  {
   "cell_type": "code",
   "execution_count": null,
   "id": "60467645",
   "metadata": {},
   "outputs": [],
   "source": [
    "Draw(Stv, mesh)"
   ]
  },
  {
   "cell_type": "code",
   "execution_count": null,
   "id": "88b43445",
   "metadata": {
    "scrolled": false
   },
   "outputs": [],
   "source": [
    "for k in range(len(Es)):\n",
    "    Stv, Sz = a.S(Es[k], phis[k], betas[k])\n",
    "    Draw(Sz, mesh)"
   ]
  },
  {
   "cell_type": "markdown",
   "id": "fbbed30d",
   "metadata": {},
   "source": [
    "### Normal wl"
   ]
  },
  {
   "cell_type": "code",
   "execution_count": null,
   "id": "aaa9c08d",
   "metadata": {
    "scrolled": false
   },
   "outputs": [],
   "source": [
    "betas2 = np.load('outputs/e%i.npy' % idx2 )"
   ]
  },
  {
   "cell_type": "code",
   "execution_count": null,
   "id": "8e35af6e",
   "metadata": {},
   "outputs": [],
   "source": [
    "for k in range(len(Es2)):\n",
    "    Stv, Sz = a.S(Es2[k], phis2[k], betas[k])\n",
    "    Draw(Sz, mesh)"
   ]
  }
 ],
 "metadata": {
  "kernelspec": {
   "display_name": "Python 3 (ipykernel)",
   "language": "python",
   "name": "python3"
  },
  "language_info": {
   "codemirror_mode": {
    "name": "ipython",
    "version": 3
   },
   "file_extension": ".py",
   "mimetype": "text/x-python",
   "name": "python",
   "nbconvert_exporter": "python",
   "pygments_lexer": "ipython3",
   "version": "3.8.10"
  }
 },
 "nbformat": 4,
 "nbformat_minor": 5
}
