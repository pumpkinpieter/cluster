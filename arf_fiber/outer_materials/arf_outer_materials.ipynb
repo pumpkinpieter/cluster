{
 "cells": [
  {
   "cell_type": "markdown",
   "id": "b65f2a14",
   "metadata": {},
   "source": [
    "# Comparing various outer material configurations for ARF\n",
    "\n",
    "We look at how including polymer layers of various types influences loss in ARF.  Note that this is mostly for finding location of modes and to give a general idea of changes, not for final determination of loss.  The latter requires convergence studies for each configuration."
   ]
  },
  {
   "cell_type": "code",
   "execution_count": null,
   "id": "76086311",
   "metadata": {},
   "outputs": [],
   "source": [
    "from fiberamp.fiber.microstruct.pbg import ARF2\n",
    "\n",
    "from ngsolve.webgui import Draw\n",
    "import ngsolve as ng"
   ]
  },
  {
   "cell_type": "markdown",
   "id": "76b728a4",
   "metadata": {},
   "source": [
    "# Default case: Air in outer region"
   ]
  },
  {
   "cell_type": "code",
   "execution_count": null,
   "id": "779db4a2",
   "metadata": {},
   "outputs": [],
   "source": [
    "A = ARF2(name='fine_cladding', poly_core=True)"
   ]
  },
  {
   "cell_type": "code",
   "execution_count": null,
   "id": "72040291",
   "metadata": {},
   "outputs": [],
   "source": [
    "Draw(A.index, A.mesh)"
   ]
  },
  {
   "cell_type": "code",
   "execution_count": null,
   "id": "07d845e0",
   "metadata": {},
   "outputs": [],
   "source": [
    "center = 5.066\n",
    "radius = .1        \n",
    "alpha = 5\n",
    "\n",
    "\n",
    "betas, zsqrs, E, phi, _ = A.leakyvecmodes(ctr=center, rad=radius, alpha=alpha,\n",
    "                                          nspan=4, npts=4, p=1, niterations=10,\n",
    "                                          rhoinv=.95, quadrule='ellipse_trapez_shift',\n",
    "                                          nrestarts=0, stop_tol=1e-9)\n"
   ]
  },
  {
   "cell_type": "code",
   "execution_count": null,
   "id": "d0cf8d35",
   "metadata": {},
   "outputs": [],
   "source": [
    "betas"
   ]
  },
  {
   "cell_type": "code",
   "execution_count": null,
   "id": "5b0b7533",
   "metadata": {},
   "outputs": [],
   "source": [
    "for e in E:\n",
    "    Draw(e.real, A.mesh, vectors={'grid_size':200})"
   ]
  },
  {
   "cell_type": "markdown",
   "id": "5abc33dc",
   "metadata": {},
   "source": [
    "# Only glass everywhere outside core:\n",
    "\n",
    "Now that our outer refractive index is higher than the core index, the locations of the Z values switches: the beta values are always approximately equal to k_low = k0 * n_low,  but the Z^2 values equal beta^2 - n0^2, and now n0 is drastically different, so we need to make up for this. \n",
    "\n",
    "The formula is at the bottom of the next cell"
   ]
  },
  {
   "cell_type": "code",
   "execution_count": null,
   "id": "81aa50a4",
   "metadata": {},
   "outputs": [],
   "source": [
    "scaling = 15\n",
    "n_glass = 1.4388164768221814\n",
    "n_air = 1.00027717\n",
    "\n",
    "n_soft_polymer = 1.44\n",
    "n_hard_polymer = 1.56\n",
    "\n",
    "T_soft_polymer = 30 / scaling\n",
    "T_hard_polymer = 30 / scaling\n",
    "\n",
    "T_outer = 15 / scaling\n",
    "T_buffer = 10 / scaling\n",
    "\n",
    "n0 = n_glass\n",
    "\n",
    "outer_materials = [\n",
    "\n",
    "#     {'material': 'soft_polymer',\n",
    "#      'n': n_soft_polymer,\n",
    "#      'T': T_soft_polymer,\n",
    "#      'maxh': 2},\n",
    "\n",
    "#     {'material': 'hard_polymer',\n",
    "#      'n': n_hard_polymer,\n",
    "#      'T': T_hard_polymer,\n",
    "#      'maxh': 2},\n",
    "\n",
    "#     {'material': 'buffer',\n",
    "#      'n': n0,\n",
    "#      'T': T_buffer,\n",
    "#      'maxh': 2},\n",
    "\n",
    "    {'material': 'Outer',\n",
    "     'n': n0,\n",
    "     'T': T_outer,\n",
    "     'maxh': .2}\n",
    "]\n",
    "\n",
    "center = A.L**2 * A.k**2 * (n0**2 - n_air**2) + 5.066"
   ]
  },
  {
   "cell_type": "code",
   "execution_count": null,
   "id": "ae527355",
   "metadata": {},
   "outputs": [],
   "source": [
    "center"
   ]
  },
  {
   "cell_type": "code",
   "execution_count": null,
   "id": "6eb7280f",
   "metadata": {},
   "outputs": [],
   "source": [
    "A = ARF2(name='fine_cladding', poly_core=True, outer_materials=outer_materials)\n"
   ]
  },
  {
   "cell_type": "code",
   "execution_count": null,
   "id": "f6aff17c",
   "metadata": {},
   "outputs": [],
   "source": [
    "Draw(A.V, A.mesh)"
   ]
  },
  {
   "cell_type": "code",
   "execution_count": null,
   "id": "d104f7d3",
   "metadata": {},
   "outputs": [],
   "source": [
    "center = center\n",
    "radius = .1       \n",
    "alpha = 5\n",
    "\n",
    "\n",
    "betas, zsqrs, E, phi, _ = A.leakyvecmodes(ctr=center, rad=radius, alpha=alpha,\n",
    "                                          nspan=4, npts=4, p=2, niterations=6,\n",
    "                                          rhoinv=.95, quadrule='ellipse_trapez_shift',\n",
    "                                          nrestarts=0, stop_tol=1e-9)\n"
   ]
  },
  {
   "cell_type": "code",
   "execution_count": null,
   "id": "c95a683a",
   "metadata": {},
   "outputs": [],
   "source": [
    "betas"
   ]
  },
  {
   "cell_type": "code",
   "execution_count": null,
   "id": "e856affd",
   "metadata": {},
   "outputs": [],
   "source": [
    "for e in E:\n",
    "    Draw(e.real, A.mesh, vectors={'grid_size':200})"
   ]
  },
  {
   "cell_type": "markdown",
   "id": "d4fd6c91",
   "metadata": {},
   "source": [
    "# Only soft polymer, extending everywhere outside core and cladding."
   ]
  },
  {
   "cell_type": "code",
   "execution_count": null,
   "id": "68f9dbe8",
   "metadata": {},
   "outputs": [],
   "source": [
    "scaling = 15\n",
    "n_glass = 1.4388164768221814\n",
    "n_air = 1.00027717\n",
    "\n",
    "n_soft_polymer = 1.44\n",
    "n_hard_polymer = 1.56\n",
    "\n",
    "T_soft_polymer = 10 / scaling\n",
    "T_hard_polymer = 30 / scaling\n",
    "\n",
    "T_outer = 15 / scaling\n",
    "T_buffer = 30 / scaling\n",
    "\n",
    "n0 = n_soft_polymer\n",
    "\n",
    "outer_materials = [\n",
    "\n",
    "    {'material': 'soft_polymer',\n",
    "     'n': n_soft_polymer,\n",
    "     'T': T_soft_polymer,\n",
    "     'maxh': .04},\n",
    "\n",
    "#     {'material': 'hard_polymer',\n",
    "#      'n': n_hard_polymer,\n",
    "#      'T': T_hard_polymer,\n",
    "#      'maxh': 2},\n",
    "\n",
    "#     {'material': 'buffer',\n",
    "#      'n': n0,\n",
    "#      'T': T_buffer,\n",
    "#      'maxh': 2},\n",
    "\n",
    "    {'material': 'Outer',\n",
    "     'n': n0,\n",
    "     'T': T_outer,\n",
    "     'maxh': .2}\n",
    "]\n",
    "center = A.L**2 * A.k**2 * (n0**2 - n_air**2) + 5.066"
   ]
  },
  {
   "cell_type": "code",
   "execution_count": null,
   "id": "7100cb9a",
   "metadata": {},
   "outputs": [],
   "source": [
    "center"
   ]
  },
  {
   "cell_type": "code",
   "execution_count": null,
   "id": "012351cf",
   "metadata": {},
   "outputs": [],
   "source": [
    "A = ARF2(name='fine_cladding', poly_core=True, refine=0, outer_materials=outer_materials)\n"
   ]
  },
  {
   "cell_type": "code",
   "execution_count": null,
   "id": "e19e887b",
   "metadata": {},
   "outputs": [],
   "source": [
    "Draw(A.V, A.mesh)"
   ]
  },
  {
   "cell_type": "code",
   "execution_count": null,
   "id": "ad6994c8",
   "metadata": {},
   "outputs": [],
   "source": [
    " A.mesh.GetMaterials()"
   ]
  },
  {
   "cell_type": "code",
   "execution_count": null,
   "id": "ebefc45d",
   "metadata": {},
   "outputs": [],
   "source": [
    "center = center\n",
    "radius = .1      \n",
    "alpha = 5\n",
    "\n",
    "\n",
    "betas, zsqrs, E, phi, _ = A.leakyvecmodes(ctr=center, rad=radius, alpha=alpha,\n",
    "                                          nspan=4, npts=4, p=1, niterations=6,\n",
    "                                          rhoinv=.95, quadrule='ellipse_trapez_shift',\n",
    "                                          nrestarts=0, stop_tol=1e-9)\n"
   ]
  },
  {
   "cell_type": "code",
   "execution_count": null,
   "id": "1cd684b5",
   "metadata": {},
   "outputs": [],
   "source": [
    "betas"
   ]
  },
  {
   "cell_type": "code",
   "execution_count": null,
   "id": "0841e61f",
   "metadata": {},
   "outputs": [],
   "source": [
    "for e in E:\n",
    "    Draw(e.real, A.mesh, vectors={'grid_size':200})"
   ]
  },
  {
   "cell_type": "markdown",
   "id": "3120e131",
   "metadata": {},
   "source": [
    "# Soft and Hard Polymer, Hard polymer extending to infinity"
   ]
  },
  {
   "cell_type": "code",
   "execution_count": null,
   "id": "25a89dc0",
   "metadata": {},
   "outputs": [],
   "source": [
    "scaling = 15\n",
    "n_glass = 1.4388164768221814\n",
    "n_air = 1.00027717\n",
    "\n",
    "n_soft_polymer = 1.44\n",
    "n_hard_polymer = 1.56\n",
    "\n",
    "T_soft_polymer = 30 / scaling\n",
    "T_hard_polymer = 15 / scaling\n",
    "\n",
    "T_outer = 15 / scaling\n",
    "T_buffer = 30 / scaling\n",
    "\n",
    "n0 = n_hard_polymer\n",
    "\n",
    "outer_materials = [\n",
    "\n",
    "    {'material': 'soft_polymer',\n",
    "     'n': n_soft_polymer,\n",
    "     'T': T_soft_polymer,\n",
    "     'maxh': .06},\n",
    "\n",
    "    {'material': 'hard_polymer',\n",
    "     'n': n_hard_polymer,\n",
    "     'T': T_hard_polymer,\n",
    "     'maxh': .07},\n",
    "\n",
    "#     {'material': 'buffer',\n",
    "#      'n': n0,\n",
    "#      'T': T_buffer,\n",
    "#      'maxh': 2},\n",
    "\n",
    "    {'material': 'Outer',\n",
    "     'n': n0,\n",
    "     'T': T_outer,\n",
    "     'maxh': .2}\n",
    "]\n",
    "center = A.L**2 * A.k**2 * (n0**2 - n_air**2) + 5.066"
   ]
  },
  {
   "cell_type": "code",
   "execution_count": null,
   "id": "419b7007",
   "metadata": {},
   "outputs": [],
   "source": [
    "A = ARF2(name='fine_cladding', poly_core=True, refine=0, outer_materials=outer_materials)\n"
   ]
  },
  {
   "cell_type": "code",
   "execution_count": null,
   "id": "eb146b14",
   "metadata": {},
   "outputs": [],
   "source": [
    "Draw(A.V, A.mesh)"
   ]
  },
  {
   "cell_type": "code",
   "execution_count": null,
   "id": "579ad9b4",
   "metadata": {},
   "outputs": [],
   "source": [
    " A.mesh.GetMaterials()"
   ]
  },
  {
   "cell_type": "code",
   "execution_count": null,
   "id": "f594bf82",
   "metadata": {},
   "outputs": [],
   "source": [
    "center = center\n",
    "radius = .1        \n",
    "alpha = 5\n",
    "\n",
    "\n",
    "betas, zsqrs, E, phi, _ = A.leakyvecmodes(ctr=center, rad=radius, alpha=alpha,\n",
    "                                          nspan=4, npts=4, p=2, niterations=10,\n",
    "                                          rhoinv=.95, quadrule='ellipse_trapez_shift',\n",
    "                                          nrestarts=0, stop_tol=1e-9)\n"
   ]
  },
  {
   "cell_type": "code",
   "execution_count": null,
   "id": "857870b0",
   "metadata": {},
   "outputs": [],
   "source": [
    "betas"
   ]
  },
  {
   "cell_type": "code",
   "execution_count": null,
   "id": "164c5bc9",
   "metadata": {},
   "outputs": [],
   "source": [
    "for e in E:\n",
    "    Draw(e.real, A.mesh, vectors={'grid_size':200})"
   ]
  },
  {
   "cell_type": "markdown",
   "id": "1829d9eb",
   "metadata": {},
   "source": [
    "# Both polymer layers, then air for outer region:"
   ]
  },
  {
   "cell_type": "code",
   "execution_count": null,
   "id": "f8602ef7",
   "metadata": {},
   "outputs": [],
   "source": [
    "scaling = 15\n",
    "n_glass = 1.4388164768221814\n",
    "n_air = 1.00027717\n",
    "\n",
    "n_soft_polymer = 1.44\n",
    "n_hard_polymer = 1.56\n",
    "\n",
    "T_soft_polymer = 30 / scaling\n",
    "T_hard_polymer = 30 / scaling\n",
    "\n",
    "T_outer = 30 / scaling\n",
    "T_buffer = 10 / scaling\n",
    "\n",
    "n0 = n_air\n",
    "\n",
    "outer_materials = [\n",
    "\n",
    "    {'material': 'soft_polymer',\n",
    "     'n': n_soft_polymer,\n",
    "     'T': T_soft_polymer,\n",
    "     'maxh': .3},\n",
    "\n",
    "    {'material': 'hard_polymer',\n",
    "     'n': n_hard_polymer,\n",
    "     'T': T_hard_polymer,\n",
    "     'maxh': .4},\n",
    "\n",
    "    {'material': 'buffer',\n",
    "     'n': n0,\n",
    "     'T': T_buffer,\n",
    "     'maxh': 1},\n",
    "\n",
    "    {'material': 'Outer',\n",
    "     'n': n0,\n",
    "     'T': T_outer,\n",
    "     'maxh': 2}\n",
    "]"
   ]
  },
  {
   "cell_type": "code",
   "execution_count": null,
   "id": "7d2e0dde",
   "metadata": {},
   "outputs": [],
   "source": [
    "A = ARF2( poly_core=True, refine=0, outer_materials=outer_materials)\n"
   ]
  },
  {
   "cell_type": "code",
   "execution_count": null,
   "id": "03b1e8d5",
   "metadata": {},
   "outputs": [],
   "source": [
    "Draw(A.index, A.mesh)"
   ]
  },
  {
   "cell_type": "code",
   "execution_count": null,
   "id": "8eeaa198",
   "metadata": {},
   "outputs": [],
   "source": [
    " A.mesh.GetMaterials()"
   ]
  },
  {
   "cell_type": "code",
   "execution_count": null,
   "id": "bb3509ec",
   "metadata": {},
   "outputs": [],
   "source": [
    "center = 5.066\n",
    "radius = .1        \n",
    "alpha = 5\n",
    "\n",
    "\n",
    "betas, zsqrs, E, phi, _ = A.leakyvecmodes(ctr=center, rad=radius, alpha=alpha,\n",
    "                                          nspan=4, npts=4, p=1, niterations=10,\n",
    "                                          rhoinv=.95, quadrule='ellipse_trapez_shift',\n",
    "                                          nrestarts=0, stop_tol=1e-9)\n"
   ]
  },
  {
   "cell_type": "code",
   "execution_count": null,
   "id": "21015703",
   "metadata": {},
   "outputs": [],
   "source": [
    "Draw(A.V, A.mesh)"
   ]
  },
  {
   "cell_type": "code",
   "execution_count": null,
   "id": "9f9feb51",
   "metadata": {},
   "outputs": [],
   "source": [
    "betas"
   ]
  },
  {
   "cell_type": "code",
   "execution_count": null,
   "id": "5040b9bd",
   "metadata": {},
   "outputs": [],
   "source": [
    "for e in E:\n",
    "    Draw(e.real, A.mesh, vectors={'grid_size':200})"
   ]
  },
  {
   "cell_type": "code",
   "execution_count": null,
   "id": "9cc55e8c",
   "metadata": {},
   "outputs": [],
   "source": []
  }
 ],
 "metadata": {
  "kernelspec": {
   "display_name": "Python 3 (ipykernel)",
   "language": "python",
   "name": "python3"
  },
  "language_info": {
   "codemirror_mode": {
    "name": "ipython",
    "version": 3
   },
   "file_extension": ".py",
   "mimetype": "text/x-python",
   "name": "python",
   "nbconvert_exporter": "python",
   "pygments_lexer": "ipython3",
   "version": "3.8.10"
  }
 },
 "nbformat": 4,
 "nbformat_minor": 5
}
