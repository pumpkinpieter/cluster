{
 "cells": [
  {
   "cell_type": "markdown",
   "id": "b65f2a14",
   "metadata": {},
   "source": [
    "# Comparing various outer material configurations for ARF\n",
    "\n",
    "We look at how including polymer layers of various types influences loss in ARF.  Note that this is mostly for finding location of modes and to give a general idea of changes, not for final determination of loss.  The latter requires convergence studies for each configuration."
   ]
  },
  {
   "cell_type": "code",
   "execution_count": 101,
   "id": "76086311",
   "metadata": {},
   "outputs": [],
   "source": [
    "from fiberamp.fiber.microstruct.pbg import ARF2\n",
    "\n",
    "from ngsolve.webgui import Draw\n",
    "import ngsolve as ng"
   ]
  },
  {
   "cell_type": "markdown",
   "id": "76b728a4",
   "metadata": {},
   "source": [
    "# Default case: Air in outer region"
   ]
  },
  {
   "cell_type": "code",
   "execution_count": 102,
   "id": "779db4a2",
   "metadata": {
    "scrolled": true
   },
   "outputs": [
    {
     "name": "stdout",
     "output_type": "stream",
     "text": [
      "ModeSolver: Checking if mesh has required regions\n",
      "Mesh has  3927  elements,  1979  points,  and  5905  edges.\n"
     ]
    }
   ],
   "source": [
    "A = ARF2(poly_core=True)"
   ]
  },
  {
   "cell_type": "code",
   "execution_count": 103,
   "id": "72040291",
   "metadata": {
    "scrolled": true
   },
   "outputs": [
    {
     "data": {
      "application/vnd.jupyter.widget-view+json": {
       "model_id": "fa9ebb88e1ec4445b6ee600d44f15bd3",
       "version_major": 2,
       "version_minor": 0
      },
      "text/plain": [
       "WebGuiWidget(value={'ngsolve_version': '6.2.2203-56-g47f483033', 'mesh_dim': 2, 'order2d': 2, 'order3d': 2, 'd…"
      ]
     },
     "metadata": {},
     "output_type": "display_data"
    },
    {
     "data": {
      "text/plain": [
       "BaseWebGuiScene"
      ]
     },
     "execution_count": 103,
     "metadata": {},
     "output_type": "execute_result"
    }
   ],
   "source": [
    "Draw(A.index, A.mesh)"
   ]
  },
  {
   "cell_type": "code",
   "execution_count": 70,
   "id": "07d845e0",
   "metadata": {},
   "outputs": [
    {
     "name": "stdout",
     "output_type": "stream",
     "text": [
      "Set NGSolve automatic PML with p= 1  alpha= 5 and thickness=2.000\n",
      "Using FEAST to search for vector leaky modes in\n",
      "circle of radius 0.1 centered at  5.066\n",
      "assuming not more than 4 modes in this interval\n",
      "System size: 19664  x  19664   Inverse type: umfpack\n",
      "\n",
      "SpectralProj: Setting shifted trapezoidal rule on elliptical contour\n",
      "SpectralProjNGR:   Making resolvent at z =  +5.137 +0.004j\n",
      "SpectralProjNGR:   Making resolvent at z =  +4.995 +0.004j\n",
      "SpectralProjNGR:   Making resolvent at z =  +4.995 -0.004j\n",
      "SpectralProjNGR:   Making resolvent at z =  +5.137 -0.004j\n",
      "\n",
      "=========== Starting FEAST iterations ===========\n",
      "Trying with 4 vectors:\n",
      "\n",
      " ITERATION 1 with 4 vectors and 4 left vectors\n",
      "   During kernel cleaning abs(g):\n",
      "   [5.5e-02 3.7e-03 5.8e-11 1.6e-09]\n",
      "   Real part of computed eigenvalues:\n",
      "   [5.0626703  5.06393134 5.464751   5.73814126]\n",
      "   Imag part of computed eigenvalues:\n",
      "   [-1.57457288e-06 -6.46873350e-07 -1.85832640e-03 -3.99100842e-03]\n",
      "   Relative Hausdorff distance from prior iterate: 1.974e+99\n",
      "\n",
      " ITERATION 2 with 4 vectors and 4 left vectors\n",
      "   During kernel cleaning abs(g):\n",
      "   [1.4 0.5 0.2 0.2]\n",
      "   Real part of computed eigenvalues:\n",
      "   [5.06267039 5.06393135 5.46301421 5.73275876]\n",
      "   Imag part of computed eigenvalues:\n",
      "   [-1.56238596e-06 -7.06071368e-07 -1.26266326e-03 -6.22347571e-03]\n",
      "   Relative Hausdorff distance from prior iterate: 1.150e-03\n",
      "\n",
      " ITERATION 3 with 4 vectors and 4 left vectors\n",
      "   During kernel cleaning abs(g):\n",
      "   [5.1e-02 3.8e-10 6.7e-08 7.7e-03]\n",
      "   Real part of computed eigenvalues:\n",
      "   [5.06267039 5.06393135 5.46295599 5.72011507]\n",
      "   Imag part of computed eigenvalues:\n",
      "   [-1.56238596e-06 -7.06071368e-07 -1.23957485e-03 -9.44189558e-03]\n",
      "   Relative Hausdorff distance from prior iterate: 2.575e-03\n",
      "\n",
      "   Removing ew#[1, 3] not enclosed by contour\n",
      " ITERATION 4 with 2 vectors and 2 left vectors\n",
      "   During kernel cleaning abs(g):\n",
      "   [0.2 1.4]\n",
      "   Real part of computed eigenvalues:\n",
      "   [5.06267039 5.06393135]\n",
      "   Imag part of computed eigenvalues:\n",
      "   [-1.56238596e-06 -7.06071367e-07]\n",
      "   Relative Hausdorff distance from prior iterate: 2.123e-14\n",
      "\n",
      "\n",
      "***FEAST converged with:\n",
      "\tRelative Hausdorff distance = 2.123e-14\n",
      "\n",
      "============= FEAST iterations done =============\n",
      "Results:\n",
      " Z²: [5.06393135-7.06071367e-07j 5.06267039-1.56238596e-06j]\n",
      " beta: [3488401.61546623+0.00044979j 3488402.41874045+0.00099529j]\n",
      " CL dB/m: [0.00390682 0.00864497]\n"
     ]
    }
   ],
   "source": [
    "center = 5.066\n",
    "radius = .1        \n",
    "alpha = 5\n",
    "\n",
    "\n",
    "betas, zsqrs, E, phi, _ = A.leakyvecmodes(ctr=center, rad=radius, alpha=alpha,\n",
    "                                          nspan=4, npts=4, p=1, niterations=10,\n",
    "                                          rhoinv=.95, quadrule='ellipse_trapez_shift',\n",
    "                                          nrestarts=0, stop_tol=1e-9)\n"
   ]
  },
  {
   "cell_type": "code",
   "execution_count": 71,
   "id": "d0cf8d35",
   "metadata": {},
   "outputs": [
    {
     "data": {
      "text/plain": [
       "array([3488401.61546623+0.00044979j, 3488402.41874045+0.00099529j])"
      ]
     },
     "execution_count": 71,
     "metadata": {},
     "output_type": "execute_result"
    }
   ],
   "source": [
    "betas"
   ]
  },
  {
   "cell_type": "code",
   "execution_count": 72,
   "id": "5b0b7533",
   "metadata": {
    "scrolled": false
   },
   "outputs": [
    {
     "data": {
      "application/vnd.jupyter.widget-view+json": {
       "model_id": "f6f46378d05a4294b62c49458c2b8b4a",
       "version_major": 2,
       "version_minor": 0
      },
      "text/plain": [
       "WebGuiWidget(value={'ngsolve_version': '6.2.2203-56-g47f483033', 'mesh_dim': 2, 'order2d': 2, 'order3d': 2, 'd…"
      ]
     },
     "metadata": {},
     "output_type": "display_data"
    },
    {
     "data": {
      "application/vnd.jupyter.widget-view+json": {
       "model_id": "25c8c2dafffc4e6685ae184d329a6a3b",
       "version_major": 2,
       "version_minor": 0
      },
      "text/plain": [
       "WebGuiWidget(value={'ngsolve_version': '6.2.2203-56-g47f483033', 'mesh_dim': 2, 'order2d': 2, 'order3d': 2, 'd…"
      ]
     },
     "metadata": {},
     "output_type": "display_data"
    }
   ],
   "source": [
    "for e in E:\n",
    "    Draw(e.real, A.mesh, vectors={'grid_size':200})"
   ]
  },
  {
   "cell_type": "markdown",
   "id": "5abc33dc",
   "metadata": {},
   "source": [
    "# Only glass everywhere outside core:"
   ]
  },
  {
   "cell_type": "code",
   "execution_count": 132,
   "id": "81aa50a4",
   "metadata": {},
   "outputs": [],
   "source": [
    "scaling = 15\n",
    "n_glass = 1.4388164768221814\n",
    "n_air = 1.00027717\n",
    "\n",
    "n_soft_polymer = 1.44\n",
    "n_hard_polymer = 1.56\n",
    "\n",
    "T_soft_polymer = 30 / scaling\n",
    "T_hard_polymer = 30 / scaling\n",
    "\n",
    "T_outer = 50 / scaling\n",
    "T_buffer = 30 / scaling\n",
    "\n",
    "n0 = n_glass\n",
    "\n",
    "outer_materials = [\n",
    "\n",
    "#     {'material': 'soft_polymer',\n",
    "#      'n': n_soft_polymer,\n",
    "#      'T': T_soft_polymer,\n",
    "#      'maxh': 2},\n",
    "\n",
    "#     {'material': 'hard_polymer',\n",
    "#      'n': n_hard_polymer,\n",
    "#      'T': T_hard_polymer,\n",
    "#      'maxh': 2},\n",
    "\n",
    "#     {'material': 'buffer',\n",
    "#      'n': n0,\n",
    "#      'T': T_buffer,\n",
    "#      'maxh': 2},\n",
    "\n",
    "    {'material': 'Outer',\n",
    "     'n': n0,\n",
    "     'T': T_outer,\n",
    "     'maxh': 4}\n",
    "]"
   ]
  },
  {
   "cell_type": "code",
   "execution_count": 133,
   "id": "6eb7280f",
   "metadata": {
    "scrolled": true
   },
   "outputs": [
    {
     "name": "stdout",
     "output_type": "stream",
     "text": [
      "ModeSolver: Checking if mesh has required regions\n",
      "Mesh has  3932  elements,  1981  points,  and  5912  edges.\n"
     ]
    }
   ],
   "source": [
    "A = ARF2(poly_core=True, outer_materials=outer_materials)\n"
   ]
  },
  {
   "cell_type": "code",
   "execution_count": 134,
   "id": "f6aff17c",
   "metadata": {
    "scrolled": true
   },
   "outputs": [
    {
     "data": {
      "application/vnd.jupyter.widget-view+json": {
       "model_id": "85737c05362a45babc0e47fe1af52315",
       "version_major": 2,
       "version_minor": 0
      },
      "text/plain": [
       "WebGuiWidget(value={'ngsolve_version': '6.2.2203-56-g47f483033', 'mesh_dim': 2, 'order2d': 2, 'order3d': 2, 'd…"
      ]
     },
     "metadata": {},
     "output_type": "display_data"
    },
    {
     "data": {
      "text/plain": [
       "BaseWebGuiScene"
      ]
     },
     "execution_count": 134,
     "metadata": {},
     "output_type": "execute_result"
    }
   ],
   "source": [
    "Draw(A.index, A.mesh)"
   ]
  },
  {
   "cell_type": "code",
   "execution_count": 135,
   "id": "d104f7d3",
   "metadata": {},
   "outputs": [
    {
     "name": "stdout",
     "output_type": "stream",
     "text": [
      "Set NGSolve automatic PML with p= 1  alpha= 5 and thickness=3.333\n",
      "Using FEAST to search for vector leaky modes in\n",
      "circle of radius 0.1 centered at  5.066\n",
      "assuming not more than 4 modes in this interval\n",
      "System size: 19688  x  19688   Inverse type: umfpack\n",
      "\n",
      "SpectralProj: Setting shifted trapezoidal rule on elliptical contour\n",
      "SpectralProjNGR:   Making resolvent at z =  +5.137 +0.004j\n",
      "SpectralProjNGR:   Making resolvent at z =  +4.995 +0.004j\n",
      "SpectralProjNGR:   Making resolvent at z =  +4.995 -0.004j\n",
      "SpectralProjNGR:   Making resolvent at z =  +5.137 -0.004j\n",
      "\n",
      "=========== Starting FEAST iterations ===========\n",
      "Trying with 4 vectors:\n",
      "\n",
      " ITERATION 1 with 4 vectors and 4 left vectors\n",
      "   During kernel cleaning abs(g):\n",
      "   [4.9e-01 6.3e-02 5.1e-04 5.9e-14]\n",
      "   Real part of computed eigenvalues:\n",
      "   [5.01990835 5.06232973 5.12405128 6.61670441]\n",
      "   Imag part of computed eigenvalues:\n",
      "   [-5.92408992e-03 -1.34814958e-05 -6.69339524e-03  2.69735224e-02]\n",
      "   Relative Hausdorff distance from prior iterate: 1.974e+99\n",
      "\n",
      " ITERATION 2 with 4 vectors and 4 left vectors\n",
      "   During kernel cleaning abs(g):\n",
      "   [4.5 0.2 0.5 0.6]\n",
      "   Real part of computed eigenvalues:\n",
      "   [5.02061833 5.06232656 5.12299596 6.65006359]\n",
      "   Imag part of computed eigenvalues:\n",
      "   [-6.32324715e-03 -1.30630780e-05 -8.71914127e-03 -1.98673327e-02]\n",
      "   Relative Hausdorff distance from prior iterate: 1.135e-02\n",
      "\n",
      " ITERATION 3 with 4 vectors and 4 left vectors\n",
      "   During kernel cleaning abs(g):\n",
      "   [7.2e-13 5.7e-01 1.5e-01 2.3e-03]\n",
      "   Real part of computed eigenvalues:\n",
      "   [5.0206186  5.06232656 5.12299342 6.65167652]\n",
      "   Imag part of computed eigenvalues:\n",
      "   [-6.32320618e-03 -1.30630780e-05 -8.71877618e-03 -2.24459003e-02]\n",
      "   Relative Hausdorff distance from prior iterate: 6.004e-04\n",
      "\n",
      "   Removing ew#[0, 1, 2] not enclosed by contour\n",
      " ITERATION 4 with 1 vectors and 1 left vectors\n",
      "   During kernel cleaning abs(g):\n",
      "   [4.6]\n",
      "   Real part of computed eigenvalues:\n",
      "   [5.06232656]\n",
      "   Imag part of computed eigenvalues:\n",
      "   [-1.30630782e-05]\n",
      "   Relative Hausdorff distance from prior iterate: 3.547e-14\n",
      "\n",
      "\n",
      "***FEAST converged with:\n",
      "\tRelative Hausdorff distance = 3.547e-14\n",
      "\n",
      "============= FEAST iterations done =============\n",
      "Results:\n",
      " Z²: [5.06232656-1.30630782e-05j]\n",
      " beta: [3488402.63777084+0.00832159j]\n",
      " CL dB/m: [0.07228043]\n"
     ]
    }
   ],
   "source": [
    "center = 5.066\n",
    "radius = .1        \n",
    "alpha = 5\n",
    "\n",
    "\n",
    "betas, zsqrs, E, phi, _ = A.leakyvecmodes(ctr=center, rad=radius, alpha=alpha,\n",
    "                                          nspan=4, npts=4, p=1, niterations=10,\n",
    "                                          rhoinv=.95, quadrule='ellipse_trapez_shift',\n",
    "                                          nrestarts=0, stop_tol=1e-9)\n"
   ]
  },
  {
   "cell_type": "code",
   "execution_count": 136,
   "id": "c95a683a",
   "metadata": {},
   "outputs": [
    {
     "data": {
      "text/plain": [
       "array([3488402.63777084+0.00832159j])"
      ]
     },
     "execution_count": 136,
     "metadata": {},
     "output_type": "execute_result"
    }
   ],
   "source": [
    "betas"
   ]
  },
  {
   "cell_type": "code",
   "execution_count": 137,
   "id": "e856affd",
   "metadata": {
    "scrolled": false
   },
   "outputs": [
    {
     "data": {
      "application/vnd.jupyter.widget-view+json": {
       "model_id": "b5b24bb0c71140639ac7091e25d02d2e",
       "version_major": 2,
       "version_minor": 0
      },
      "text/plain": [
       "WebGuiWidget(value={'ngsolve_version': '6.2.2203-56-g47f483033', 'mesh_dim': 2, 'order2d': 2, 'order3d': 2, 'd…"
      ]
     },
     "metadata": {},
     "output_type": "display_data"
    }
   ],
   "source": [
    "for e in E:\n",
    "    Draw(e.real, A.mesh, vectors={'grid_size':200})"
   ]
  },
  {
   "cell_type": "markdown",
   "id": "d4fd6c91",
   "metadata": {},
   "source": [
    "# Only soft polymer, extending everywhere outside core and cladding."
   ]
  },
  {
   "cell_type": "code",
   "execution_count": 80,
   "id": "68f9dbe8",
   "metadata": {},
   "outputs": [],
   "source": [
    "scaling = 15\n",
    "n_glass = 1.4388164768221814\n",
    "n_air = 1.00027717\n",
    "\n",
    "n_soft_polymer = 1.44\n",
    "n_hard_polymer = 1.56\n",
    "\n",
    "T_soft_polymer = 30 / scaling\n",
    "T_hard_polymer = 30 / scaling\n",
    "\n",
    "T_outer = 50 / scaling\n",
    "T_buffer = 30 / scaling\n",
    "\n",
    "n0 = n_soft_polymer\n",
    "\n",
    "outer_materials = [\n",
    "\n",
    "    {'material': 'soft_polymer',\n",
    "     'n': n_soft_polymer,\n",
    "     'T': T_soft_polymer,\n",
    "     'maxh': 2},\n",
    "\n",
    "#     {'material': 'hard_polymer',\n",
    "#      'n': n_hard_polymer,\n",
    "#      'T': T_hard_polymer,\n",
    "#      'maxh': 2},\n",
    "\n",
    "    {'material': 'buffer',\n",
    "     'n': n0,\n",
    "     'T': T_buffer,\n",
    "     'maxh': 2},\n",
    "\n",
    "    {'material': 'Outer',\n",
    "     'n': n0,\n",
    "     'T': T_outer,\n",
    "     'maxh': 4}\n",
    "]"
   ]
  },
  {
   "cell_type": "code",
   "execution_count": 81,
   "id": "012351cf",
   "metadata": {
    "scrolled": true
   },
   "outputs": [
    {
     "name": "stdout",
     "output_type": "stream",
     "text": [
      "ModeSolver: Checking if mesh has required regions\n",
      "Mesh has  3963  elements,  1993  points,  and  5955  edges.\n"
     ]
    }
   ],
   "source": [
    "A = ARF2(poly_core=True, refine=0, outer_materials=outer_materials)\n"
   ]
  },
  {
   "cell_type": "code",
   "execution_count": 82,
   "id": "e19e887b",
   "metadata": {},
   "outputs": [
    {
     "data": {
      "application/vnd.jupyter.widget-view+json": {
       "model_id": "5df2187cba58441782362dc29eca78f9",
       "version_major": 2,
       "version_minor": 0
      },
      "text/plain": [
       "WebGuiWidget(value={'ngsolve_version': '6.2.2203-56-g47f483033', 'mesh_dim': 2, 'order2d': 2, 'order3d': 2, 'd…"
      ]
     },
     "metadata": {},
     "output_type": "display_data"
    },
    {
     "data": {
      "text/plain": [
       "BaseWebGuiScene"
      ]
     },
     "execution_count": 82,
     "metadata": {},
     "output_type": "execute_result"
    }
   ],
   "source": [
    "Draw(A.index, A.mesh)"
   ]
  },
  {
   "cell_type": "code",
   "execution_count": 83,
   "id": "ad6994c8",
   "metadata": {
    "scrolled": true
   },
   "outputs": [
    {
     "data": {
      "text/plain": [
       "('core', 'fill_air', 'glass', 'inner_air', 'soft_polymer', 'buffer', 'Outer')"
      ]
     },
     "execution_count": 83,
     "metadata": {},
     "output_type": "execute_result"
    }
   ],
   "source": [
    " A.mesh.GetMaterials()"
   ]
  },
  {
   "cell_type": "code",
   "execution_count": 84,
   "id": "ebefc45d",
   "metadata": {},
   "outputs": [
    {
     "name": "stdout",
     "output_type": "stream",
     "text": [
      "Set NGSolve automatic PML with p= 1  alpha= 5 and thickness=3.333\n",
      "Using FEAST to search for vector leaky modes in\n",
      "circle of radius 0.1 centered at  5.066\n",
      "assuming not more than 4 modes in this interval\n",
      "System size: 19836  x  19836   Inverse type: umfpack\n",
      "\n",
      "SpectralProj: Setting shifted trapezoidal rule on elliptical contour\n",
      "SpectralProjNGR:   Making resolvent at z =  +5.137 +0.004j\n",
      "SpectralProjNGR:   Making resolvent at z =  +4.995 +0.004j\n",
      "SpectralProjNGR:   Making resolvent at z =  +4.995 -0.004j\n",
      "SpectralProjNGR:   Making resolvent at z =  +5.137 -0.004j\n",
      "\n",
      "=========== Starting FEAST iterations ===========\n",
      "Trying with 4 vectors:\n",
      "\n",
      " ITERATION 1 with 4 vectors and 4 left vectors\n",
      "   During kernel cleaning abs(g):\n",
      "   [1.4e-02 2.9e-03 3.0e-10 1.2e-12]\n",
      "   Real part of computed eigenvalues:\n",
      "   [4.23802873 4.60606079 5.06324868 5.06435756]\n",
      "   Imag part of computed eigenvalues:\n",
      "   [1.05451884e-02 7.63427639e-05 4.13146993e-07 8.21748857e-09]\n",
      "   Relative Hausdorff distance from prior iterate: 1.974e+99\n",
      "\n",
      " ITERATION 2 with 4 vectors and 4 left vectors\n",
      "   During kernel cleaning abs(g):\n",
      "   [0.4 1.5 1.4 1.1]\n",
      "   Real part of computed eigenvalues:\n",
      "   [4.22131459 4.60594273 5.06324758 5.06435765]\n",
      "   Imag part of computed eigenvalues:\n",
      "   [ 5.67334120e-06  2.27068919e-10 -7.23623207e-15 -5.35929101e-15]\n",
      "   Relative Hausdorff distance from prior iterate: 3.900e-03\n",
      "\n",
      " ITERATION 3 with 4 vectors and 4 left vectors\n",
      "   During kernel cleaning abs(g):\n",
      "   [7.0e-11 2.4e-09 7.6e-03 9.1e-03]\n",
      "   Real part of computed eigenvalues:\n",
      "   [4.22130592 4.60594273 5.06324758 5.06435765]\n",
      "   Imag part of computed eigenvalues:\n",
      "   [ 3.31612090e-09 -5.65642861e-11 -8.44910885e-15 -6.76037853e-15]\n",
      "   Relative Hausdorff distance from prior iterate: 2.045e-06\n",
      "\n",
      "   Removing ew#[0, 1] not enclosed by contour\n",
      " ITERATION 4 with 2 vectors and 2 left vectors\n",
      "   During kernel cleaning abs(g):\n",
      "   [1.4 1.1]\n",
      "   Real part of computed eigenvalues:\n",
      "   [5.06324758 5.06435765]\n",
      "   Relative Hausdorff distance from prior iterate: 5.978e-15\n",
      "\n",
      "\n",
      "***FEAST converged with:\n",
      "\tRelative Hausdorff distance = 5.978e-15\n",
      "\n",
      "============= FEAST iterations done =============\n",
      "Results:\n",
      " Z²: [5.06435765-4.47673716e-15j 5.06324758-8.05522165e-15j]\n",
      " beta: [3488401.34390005+2.85182347e-12j 3488402.05105161+5.13143046e-12j]\n",
      " CL dB/m: [2.47706239e-11 4.45710387e-11]\n"
     ]
    }
   ],
   "source": [
    "center = 5.066\n",
    "radius = .1        \n",
    "alpha = 5\n",
    "\n",
    "\n",
    "betas, zsqrs, E, phi, _ = A.leakyvecmodes(ctr=center, rad=radius, alpha=alpha,\n",
    "                                          nspan=4, npts=4, p=1, niterations=10,\n",
    "                                          rhoinv=.95, quadrule='ellipse_trapez_shift',\n",
    "                                          nrestarts=0, stop_tol=1e-9)\n"
   ]
  },
  {
   "cell_type": "code",
   "execution_count": 85,
   "id": "1cd684b5",
   "metadata": {},
   "outputs": [
    {
     "data": {
      "text/plain": [
       "array([3488401.34390005+2.85182347e-12j, 3488402.05105161+5.13143046e-12j])"
      ]
     },
     "execution_count": 85,
     "metadata": {},
     "output_type": "execute_result"
    }
   ],
   "source": [
    "betas"
   ]
  },
  {
   "cell_type": "code",
   "execution_count": 86,
   "id": "0841e61f",
   "metadata": {
    "scrolled": false
   },
   "outputs": [
    {
     "data": {
      "application/vnd.jupyter.widget-view+json": {
       "model_id": "20b16b0413b0402696d5ca41edbf89ae",
       "version_major": 2,
       "version_minor": 0
      },
      "text/plain": [
       "WebGuiWidget(value={'ngsolve_version': '6.2.2203-56-g47f483033', 'mesh_dim': 2, 'order2d': 2, 'order3d': 2, 'd…"
      ]
     },
     "metadata": {},
     "output_type": "display_data"
    },
    {
     "data": {
      "application/vnd.jupyter.widget-view+json": {
       "model_id": "8293b84c53344ed3a6f3ff00d181b1a4",
       "version_major": 2,
       "version_minor": 0
      },
      "text/plain": [
       "WebGuiWidget(value={'ngsolve_version': '6.2.2203-56-g47f483033', 'mesh_dim': 2, 'order2d': 2, 'order3d': 2, 'd…"
      ]
     },
     "metadata": {},
     "output_type": "display_data"
    }
   ],
   "source": [
    "for e in E:\n",
    "    Draw(e.real, A.mesh, vectors={'grid_size':200})"
   ]
  },
  {
   "cell_type": "markdown",
   "id": "3120e131",
   "metadata": {},
   "source": [
    "# Soft and Hard Polymer, Hard polymer extending to infinity"
   ]
  },
  {
   "cell_type": "code",
   "execution_count": 87,
   "id": "25a89dc0",
   "metadata": {},
   "outputs": [],
   "source": [
    "scaling = 15\n",
    "n_glass = 1.4388164768221814\n",
    "n_air = 1.00027717\n",
    "\n",
    "n_soft_polymer = 1.44\n",
    "n_hard_polymer = 1.56\n",
    "\n",
    "T_soft_polymer = 30 / scaling\n",
    "T_hard_polymer = 30 / scaling\n",
    "\n",
    "T_outer = 50 / scaling\n",
    "T_buffer = 30 / scaling\n",
    "\n",
    "n0 = n_hard_polymer\n",
    "\n",
    "outer_materials = [\n",
    "\n",
    "    {'material': 'soft_polymer',\n",
    "     'n': n_soft_polymer,\n",
    "     'T': T_soft_polymer,\n",
    "     'maxh': 2},\n",
    "\n",
    "    {'material': 'hard_polymer',\n",
    "     'n': n_hard_polymer,\n",
    "     'T': T_hard_polymer,\n",
    "     'maxh': 2},\n",
    "\n",
    "    {'material': 'buffer',\n",
    "     'n': n0,\n",
    "     'T': T_buffer,\n",
    "     'maxh': 2},\n",
    "\n",
    "    {'material': 'Outer',\n",
    "     'n': n0,\n",
    "     'T': T_outer,\n",
    "     'maxh': 4}\n",
    "]"
   ]
  },
  {
   "cell_type": "code",
   "execution_count": 88,
   "id": "419b7007",
   "metadata": {
    "scrolled": true
   },
   "outputs": [
    {
     "name": "stdout",
     "output_type": "stream",
     "text": [
      "ModeSolver: Checking if mesh has required regions\n",
      "Mesh has  4082  elements,  2054  points,  and  6135  edges.\n"
     ]
    }
   ],
   "source": [
    "A = ARF2(poly_core=True, refine=0, outer_materials=outer_materials)\n"
   ]
  },
  {
   "cell_type": "code",
   "execution_count": 89,
   "id": "eb146b14",
   "metadata": {},
   "outputs": [
    {
     "data": {
      "application/vnd.jupyter.widget-view+json": {
       "model_id": "18def29026da481b8269340c4fd98297",
       "version_major": 2,
       "version_minor": 0
      },
      "text/plain": [
       "WebGuiWidget(value={'ngsolve_version': '6.2.2203-56-g47f483033', 'mesh_dim': 2, 'order2d': 2, 'order3d': 2, 'd…"
      ]
     },
     "metadata": {},
     "output_type": "display_data"
    },
    {
     "data": {
      "text/plain": [
       "BaseWebGuiScene"
      ]
     },
     "execution_count": 89,
     "metadata": {},
     "output_type": "execute_result"
    }
   ],
   "source": [
    "Draw(A.index, A.mesh)"
   ]
  },
  {
   "cell_type": "code",
   "execution_count": 90,
   "id": "579ad9b4",
   "metadata": {
    "scrolled": false
   },
   "outputs": [
    {
     "data": {
      "text/plain": [
       "('core',\n",
       " 'fill_air',\n",
       " 'glass',\n",
       " 'inner_air',\n",
       " 'soft_polymer',\n",
       " 'hard_polymer',\n",
       " 'buffer',\n",
       " 'Outer')"
      ]
     },
     "execution_count": 90,
     "metadata": {},
     "output_type": "execute_result"
    }
   ],
   "source": [
    " A.mesh.GetMaterials()"
   ]
  },
  {
   "cell_type": "code",
   "execution_count": 91,
   "id": "f594bf82",
   "metadata": {},
   "outputs": [
    {
     "name": "stdout",
     "output_type": "stream",
     "text": [
      "Set NGSolve automatic PML with p= 1  alpha= 5 and thickness=3.333\n",
      "Using FEAST to search for vector leaky modes in\n",
      "circle of radius 0.1 centered at  5.066\n",
      "assuming not more than 4 modes in this interval\n",
      "System size: 20434  x  20434   Inverse type: umfpack\n",
      "\n",
      "SpectralProj: Setting shifted trapezoidal rule on elliptical contour\n",
      "SpectralProjNGR:   Making resolvent at z =  +5.137 +0.004j\n",
      "SpectralProjNGR:   Making resolvent at z =  +4.995 +0.004j\n",
      "SpectralProjNGR:   Making resolvent at z =  +4.995 -0.004j\n",
      "SpectralProjNGR:   Making resolvent at z =  +5.137 -0.004j\n",
      "\n",
      "=========== Starting FEAST iterations ===========\n",
      "Trying with 4 vectors:\n",
      "\n",
      " ITERATION 1 with 4 vectors and 4 left vectors\n",
      "   During kernel cleaning abs(g):\n",
      "   [3.4e-02 6.6e-03 1.3e-13 3.8e-11]\n",
      "   Real part of computed eigenvalues:\n",
      "   [4.43600408 5.06291363 5.06322117 6.21119488]\n",
      "   Imag part of computed eigenvalues:\n",
      "   [-3.10571660e-03 -2.07976537e-05 -1.99466806e-07  5.42111039e-02]\n",
      "   Relative Hausdorff distance from prior iterate: 1.974e+99\n",
      "\n",
      " ITERATION 2 with 4 vectors and 4 left vectors\n",
      "   During kernel cleaning abs(g):\n",
      "   [2.1 1.4 0.3 0.5]\n",
      "   Real part of computed eigenvalues:\n",
      "   [4.41875331 5.06296566 5.06323992 6.0311283 ]\n",
      "   Imag part of computed eigenvalues:\n",
      "   [-1.74441849e-06 -1.87926035e-14 -3.32074138e-15  1.48006441e-03]\n",
      "   Relative Hausdorff distance from prior iterate: 3.704e-02\n",
      "\n",
      " ITERATION 3 with 4 vectors and 4 left vectors\n",
      "   During kernel cleaning abs(g):\n",
      "   [4.5e-12 2.8e-02 4.1e-10 7.3e-03]\n",
      "   Real part of computed eigenvalues:\n",
      "   [4.41872938 5.06296566 5.06323992 6.02736398]\n",
      "   Imag part of computed eigenvalues:\n",
      "   [-2.26366731e-09 -1.76913286e-14 -1.77867591e-15  4.06382808e-05]\n",
      "   Relative Hausdorff distance from prior iterate: 7.955e-04\n",
      "\n",
      "   Removing ew#[0, 1] not enclosed by contour\n",
      " ITERATION 4 with 2 vectors and 2 left vectors\n",
      "   During kernel cleaning abs(g):\n",
      "   [0.4 1.4]\n",
      "   Real part of computed eigenvalues:\n",
      "   [5.06296566 5.06323992]\n",
      "   Relative Hausdorff distance from prior iterate: 1.113e-12\n",
      "\n",
      "\n",
      "***FEAST converged with:\n",
      "\tRelative Hausdorff distance = 1.113e-12\n",
      "\n",
      "============= FEAST iterations done =============\n",
      "Results:\n",
      " Z²: [5.06296566-1.77929656e-14j 5.06323992-1.40159914e-15j]\n",
      " beta: [3488402.23064606+1.13346802e-11j 3488402.05592974+8.92862896e-13j]\n",
      " CL dB/m: [9.84517811e-11 7.75530858e-12]\n"
     ]
    }
   ],
   "source": [
    "center = 5.066\n",
    "radius = .1        \n",
    "alpha = 5\n",
    "\n",
    "\n",
    "betas, zsqrs, E, phi, _ = A.leakyvecmodes(ctr=center, rad=radius, alpha=alpha,\n",
    "                                          nspan=4, npts=4, p=1, niterations=10,\n",
    "                                          rhoinv=.95, quadrule='ellipse_trapez_shift',\n",
    "                                          nrestarts=0, stop_tol=1e-9)\n"
   ]
  },
  {
   "cell_type": "code",
   "execution_count": 92,
   "id": "857870b0",
   "metadata": {},
   "outputs": [
    {
     "data": {
      "text/plain": [
       "array([3488402.23064606+1.13346802e-11j, 3488402.05592974+8.92862896e-13j])"
      ]
     },
     "execution_count": 92,
     "metadata": {},
     "output_type": "execute_result"
    }
   ],
   "source": [
    "betas"
   ]
  },
  {
   "cell_type": "code",
   "execution_count": 93,
   "id": "164c5bc9",
   "metadata": {
    "scrolled": false
   },
   "outputs": [
    {
     "data": {
      "application/vnd.jupyter.widget-view+json": {
       "model_id": "d41e45d3974941689a342d8c3c875d73",
       "version_major": 2,
       "version_minor": 0
      },
      "text/plain": [
       "WebGuiWidget(value={'ngsolve_version': '6.2.2203-56-g47f483033', 'mesh_dim': 2, 'order2d': 2, 'order3d': 2, 'd…"
      ]
     },
     "metadata": {},
     "output_type": "display_data"
    },
    {
     "data": {
      "application/vnd.jupyter.widget-view+json": {
       "model_id": "2a8dbb2a07994a2ea4c265ab57381e0c",
       "version_major": 2,
       "version_minor": 0
      },
      "text/plain": [
       "WebGuiWidget(value={'ngsolve_version': '6.2.2203-56-g47f483033', 'mesh_dim': 2, 'order2d': 2, 'order3d': 2, 'd…"
      ]
     },
     "metadata": {},
     "output_type": "display_data"
    }
   ],
   "source": [
    "for e in E:\n",
    "    Draw(e.real, A.mesh, vectors={'grid_size':200})"
   ]
  },
  {
   "cell_type": "markdown",
   "id": "1829d9eb",
   "metadata": {},
   "source": [
    "# Both polymer layers, then air for outer region:"
   ]
  },
  {
   "cell_type": "code",
   "execution_count": 94,
   "id": "f8602ef7",
   "metadata": {},
   "outputs": [],
   "source": [
    "scaling = 15\n",
    "n_glass = 1.4388164768221814\n",
    "n_air = 1.00027717\n",
    "\n",
    "n_soft_polymer = 1.44\n",
    "n_hard_polymer = 1.56\n",
    "\n",
    "T_soft_polymer = 30 / scaling\n",
    "T_hard_polymer = 30 / scaling\n",
    "\n",
    "T_outer = 50 / scaling\n",
    "T_buffer = 30 / scaling\n",
    "\n",
    "n0 = n_air\n",
    "\n",
    "outer_materials = [\n",
    "\n",
    "    {'material': 'soft_polymer',\n",
    "     'n': n_soft_polymer,\n",
    "     'T': T_soft_polymer,\n",
    "     'maxh': 2},\n",
    "\n",
    "    {'material': 'hard_polymer',\n",
    "     'n': n_hard_polymer,\n",
    "     'T': T_hard_polymer,\n",
    "     'maxh': 2},\n",
    "\n",
    "    {'material': 'buffer',\n",
    "     'n': n0,\n",
    "     'T': T_buffer,\n",
    "     'maxh': 2},\n",
    "\n",
    "    {'material': 'Outer',\n",
    "     'n': n0,\n",
    "     'T': T_outer,\n",
    "     'maxh': 4}\n",
    "]"
   ]
  },
  {
   "cell_type": "code",
   "execution_count": 95,
   "id": "7d2e0dde",
   "metadata": {
    "scrolled": true
   },
   "outputs": [
    {
     "name": "stdout",
     "output_type": "stream",
     "text": [
      "ModeSolver: Checking if mesh has required regions\n",
      "Mesh has  4082  elements,  2054  points,  and  6135  edges.\n"
     ]
    }
   ],
   "source": [
    "A = ARF2(poly_core=True, refine=0, outer_materials=outer_materials)\n"
   ]
  },
  {
   "cell_type": "code",
   "execution_count": 96,
   "id": "03b1e8d5",
   "metadata": {},
   "outputs": [
    {
     "data": {
      "application/vnd.jupyter.widget-view+json": {
       "model_id": "11e33827458a41c485062c85423f15df",
       "version_major": 2,
       "version_minor": 0
      },
      "text/plain": [
       "WebGuiWidget(value={'ngsolve_version': '6.2.2203-56-g47f483033', 'mesh_dim': 2, 'order2d': 2, 'order3d': 2, 'd…"
      ]
     },
     "metadata": {},
     "output_type": "display_data"
    },
    {
     "data": {
      "text/plain": [
       "BaseWebGuiScene"
      ]
     },
     "execution_count": 96,
     "metadata": {},
     "output_type": "execute_result"
    }
   ],
   "source": [
    "Draw(A.index, A.mesh)"
   ]
  },
  {
   "cell_type": "code",
   "execution_count": 97,
   "id": "8eeaa198",
   "metadata": {
    "scrolled": true
   },
   "outputs": [
    {
     "data": {
      "text/plain": [
       "('core',\n",
       " 'fill_air',\n",
       " 'glass',\n",
       " 'inner_air',\n",
       " 'soft_polymer',\n",
       " 'hard_polymer',\n",
       " 'buffer',\n",
       " 'Outer')"
      ]
     },
     "execution_count": 97,
     "metadata": {},
     "output_type": "execute_result"
    }
   ],
   "source": [
    " A.mesh.GetMaterials()"
   ]
  },
  {
   "cell_type": "code",
   "execution_count": 98,
   "id": "bb3509ec",
   "metadata": {},
   "outputs": [
    {
     "name": "stdout",
     "output_type": "stream",
     "text": [
      "Set NGSolve automatic PML with p= 1  alpha= 5 and thickness=3.333\n",
      "Using FEAST to search for vector leaky modes in\n",
      "circle of radius 0.1 centered at  5.066\n",
      "assuming not more than 4 modes in this interval\n",
      "System size: 20434  x  20434   Inverse type: umfpack\n",
      "\n",
      "SpectralProj: Setting shifted trapezoidal rule on elliptical contour\n",
      "SpectralProjNGR:   Making resolvent at z =  +5.137 +0.004j\n",
      "SpectralProjNGR:   Making resolvent at z =  +4.995 +0.004j\n",
      "SpectralProjNGR:   Making resolvent at z =  +4.995 -0.004j\n",
      "SpectralProjNGR:   Making resolvent at z =  +5.137 -0.004j\n",
      "\n",
      "=========== Starting FEAST iterations ===========\n",
      "Trying with 4 vectors:\n",
      "\n",
      " ITERATION 1 with 4 vectors and 4 left vectors\n",
      "   During kernel cleaning abs(g):\n",
      "   [3.4e-02 6.6e-03 2.0e-11 3.6e-10]\n",
      "   Real part of computed eigenvalues:\n",
      "   [4.65177573 4.9270184  5.06296557 5.06323991]\n",
      "   Imag part of computed eigenvalues:\n",
      "   [-6.93136801e-01 -3.78308905e-01  1.51876397e-08 -1.91842202e-08]\n",
      "   Relative Hausdorff distance from prior iterate: 1.974e+99\n",
      "\n",
      " ITERATION 2 with 4 vectors and 4 left vectors\n",
      "   During kernel cleaning abs(g):\n",
      "   [3.1 1.2 0.4 0.3]\n",
      "   Real part of computed eigenvalues:\n",
      "   [4.84768704 4.92390638 5.06296566 5.06323992]\n",
      "   Imag part of computed eigenvalues:\n",
      "   [-4.76268754e-01 -4.40088494e-01 -3.32590788e-12 -2.09742016e-13]\n",
      "   Relative Hausdorff distance from prior iterate: 5.769e-02\n",
      "\n",
      " ITERATION 3 with 4 vectors and 4 left vectors\n",
      "   During kernel cleaning abs(g):\n",
      "   [1.9e-10 6.3e-10 1.7e-02 7.2e-03]\n",
      "   Real part of computed eigenvalues:\n",
      "   [4.87973165 4.92427914 5.06296566 5.06323992]\n",
      "   Imag part of computed eigenvalues:\n",
      "   [-4.88960740e-01 -4.26319747e-01 -3.32607049e-12 -2.06672449e-13]\n",
      "   Relative Hausdorff distance from prior iterate: 6.804e-03\n",
      "\n",
      "   Removing ew#[0, 1] not enclosed by contour\n",
      " ITERATION 4 with 2 vectors and 2 left vectors\n",
      "   During kernel cleaning abs(g):\n",
      "   [0.6 1.5]\n",
      "   Real part of computed eigenvalues:\n",
      "   [5.06296566 5.06323992]\n",
      "   Relative Hausdorff distance from prior iterate: 1.368e-14\n",
      "\n",
      "\n",
      "***FEAST converged with:\n",
      "\tRelative Hausdorff distance = 1.368e-14\n",
      "\n",
      "============= FEAST iterations done =============\n",
      "Results:\n",
      " Z²: [5.06296566-3.32475208e-12j 5.06323992-2.07507367e-13j]\n",
      " beta: [3488402.23064606+2.11797191e-09j 3488402.05592974+1.32188743e-10j]\n",
      " CL dB/m: [1.83964703e-08 1.14817683e-09]\n"
     ]
    }
   ],
   "source": [
    "center = 5.066\n",
    "radius = .1        \n",
    "alpha = 5\n",
    "\n",
    "\n",
    "betas, zsqrs, E, phi, _ = A.leakyvecmodes(ctr=center, rad=radius, alpha=alpha,\n",
    "                                          nspan=4, npts=4, p=1, niterations=10,\n",
    "                                          rhoinv=.95, quadrule='ellipse_trapez_shift',\n",
    "                                          nrestarts=0, stop_tol=1e-9)\n"
   ]
  },
  {
   "cell_type": "code",
   "execution_count": 99,
   "id": "9f9feb51",
   "metadata": {},
   "outputs": [
    {
     "data": {
      "text/plain": [
       "array([3488402.23064606+2.11797191e-09j, 3488402.05592974+1.32188743e-10j])"
      ]
     },
     "execution_count": 99,
     "metadata": {},
     "output_type": "execute_result"
    }
   ],
   "source": [
    "betas"
   ]
  },
  {
   "cell_type": "code",
   "execution_count": 100,
   "id": "5040b9bd",
   "metadata": {
    "scrolled": false
   },
   "outputs": [
    {
     "data": {
      "application/vnd.jupyter.widget-view+json": {
       "model_id": "639ba5961ec449a5aaea82c04892c456",
       "version_major": 2,
       "version_minor": 0
      },
      "text/plain": [
       "WebGuiWidget(value={'ngsolve_version': '6.2.2203-56-g47f483033', 'mesh_dim': 2, 'order2d': 2, 'order3d': 2, 'd…"
      ]
     },
     "metadata": {},
     "output_type": "display_data"
    },
    {
     "data": {
      "application/vnd.jupyter.widget-view+json": {
       "model_id": "ce647d03c86749949f10dbc65922af39",
       "version_major": 2,
       "version_minor": 0
      },
      "text/plain": [
       "WebGuiWidget(value={'ngsolve_version': '6.2.2203-56-g47f483033', 'mesh_dim': 2, 'order2d': 2, 'order3d': 2, 'd…"
      ]
     },
     "metadata": {},
     "output_type": "display_data"
    }
   ],
   "source": [
    "for e in E:\n",
    "    Draw(e.real, A.mesh, vectors={'grid_size':200})"
   ]
  },
  {
   "cell_type": "code",
   "execution_count": null,
   "id": "6f4c488c",
   "metadata": {},
   "outputs": [],
   "source": []
  }
 ],
 "metadata": {
  "kernelspec": {
   "display_name": "Python 3 (ipykernel)",
   "language": "python",
   "name": "python3"
  },
  "language_info": {
   "codemirror_mode": {
    "name": "ipython",
    "version": 3
   },
   "file_extension": ".py",
   "mimetype": "text/x-python",
   "name": "python",
   "nbconvert_exporter": "python",
   "pygments_lexer": "ipython3",
   "version": "3.8.10"
  }
 },
 "nbformat": 4,
 "nbformat_minor": 5
}
