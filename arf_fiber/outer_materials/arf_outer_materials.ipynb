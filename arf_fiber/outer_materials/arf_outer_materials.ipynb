{
 "cells": [
  {
   "cell_type": "markdown",
   "id": "b65f2a14",
   "metadata": {},
   "source": [
    "# Comparing various outer material configurations for ARF\n",
    "\n",
    "We look at how including polymer layers of various types influences loss in ARF.  Note that this is mostly for finding location of modes and to give a general idea of changes, not for final determination of loss.  The latter requires convergence studies for each configuration."
   ]
  },
  {
   "cell_type": "code",
   "execution_count": 1,
   "id": "76086311",
   "metadata": {},
   "outputs": [
    {
     "name": "stdout",
     "output_type": "stream",
     "text": [
      "importing NGSolve-6.2.2203-56-g47f483033\n"
     ]
    }
   ],
   "source": [
    "from fiberamp.fiber.microstruct.pbg import ARF2\n",
    "\n",
    "from ngsolve.webgui import Draw\n",
    "import ngsolve as ng"
   ]
  },
  {
   "cell_type": "markdown",
   "id": "76b728a4",
   "metadata": {},
   "source": [
    "# Default case: Air in outer region"
   ]
  },
  {
   "cell_type": "code",
   "execution_count": 52,
   "id": "779db4a2",
   "metadata": {
    "scrolled": true
   },
   "outputs": [
    {
     "name": "stdout",
     "output_type": "stream",
     "text": [
      "ModeSolver: Checking if mesh has required regions\n",
      "Mesh has  21941  elements,  10989  points,  and  32929  edges.\n"
     ]
    }
   ],
   "source": [
    "A = ARF2(name='fine_cladding', poly_core=True)"
   ]
  },
  {
   "cell_type": "code",
   "execution_count": 53,
   "id": "72040291",
   "metadata": {
    "scrolled": true
   },
   "outputs": [
    {
     "data": {
      "application/vnd.jupyter.widget-view+json": {
       "model_id": "f9e7d417e64b4380814b8eb02dabce4e",
       "version_major": 2,
       "version_minor": 0
      },
      "text/plain": [
       "WebGuiWidget(value={'ngsolve_version': '6.2.2203-56-g47f483033', 'mesh_dim': 2, 'order2d': 2, 'order3d': 2, 'd…"
      ]
     },
     "metadata": {},
     "output_type": "display_data"
    },
    {
     "data": {
      "text/plain": [
       "BaseWebGuiScene"
      ]
     },
     "execution_count": 53,
     "metadata": {},
     "output_type": "execute_result"
    }
   ],
   "source": [
    "Draw(A.index, A.mesh)"
   ]
  },
  {
   "cell_type": "code",
   "execution_count": 54,
   "id": "07d845e0",
   "metadata": {},
   "outputs": [
    {
     "name": "stdout",
     "output_type": "stream",
     "text": [
      "Set NGSolve automatic PML with p= 1  alpha= 5 and thickness=2.000\n",
      "Using FEAST to search for vector leaky modes in\n",
      "circle of radius 0.1 centered at  5.066\n",
      "assuming not more than 4 modes in this interval\n",
      "System size: 109740  x  109740   Inverse type: umfpack\n",
      "\n",
      "SpectralProj: Setting shifted trapezoidal rule on elliptical contour\n",
      "SpectralProjNGR:   Making resolvent at z =  +5.137 +0.004j\n"
     ]
    },
    {
     "ename": "KeyboardInterrupt",
     "evalue": "",
     "output_type": "error",
     "traceback": [
      "\u001b[0;31m---------------------------------------------------------------------------\u001b[0m",
      "\u001b[0;31mKeyboardInterrupt\u001b[0m                         Traceback (most recent call last)",
      "\u001b[0;32m/tmp/ipykernel_4291/3195180331.py\u001b[0m in \u001b[0;36m<cell line: 6>\u001b[0;34m()\u001b[0m\n\u001b[1;32m      4\u001b[0m \u001b[0;34m\u001b[0m\u001b[0m\n\u001b[1;32m      5\u001b[0m \u001b[0;34m\u001b[0m\u001b[0m\n\u001b[0;32m----> 6\u001b[0;31m betas, zsqrs, E, phi, _ = A.leakyvecmodes(ctr=center, rad=radius, alpha=alpha,\n\u001b[0m\u001b[1;32m      7\u001b[0m                                           \u001b[0mnspan\u001b[0m\u001b[0;34m=\u001b[0m\u001b[0;36m4\u001b[0m\u001b[0;34m,\u001b[0m \u001b[0mnpts\u001b[0m\u001b[0;34m=\u001b[0m\u001b[0;36m4\u001b[0m\u001b[0;34m,\u001b[0m \u001b[0mp\u001b[0m\u001b[0;34m=\u001b[0m\u001b[0;36m1\u001b[0m\u001b[0;34m,\u001b[0m \u001b[0mniterations\u001b[0m\u001b[0;34m=\u001b[0m\u001b[0;36m10\u001b[0m\u001b[0;34m,\u001b[0m\u001b[0;34m\u001b[0m\u001b[0;34m\u001b[0m\u001b[0m\n\u001b[1;32m      8\u001b[0m                                           \u001b[0mrhoinv\u001b[0m\u001b[0;34m=\u001b[0m\u001b[0;36m.95\u001b[0m\u001b[0;34m,\u001b[0m \u001b[0mquadrule\u001b[0m\u001b[0;34m=\u001b[0m\u001b[0;34m'ellipse_trapez_shift'\u001b[0m\u001b[0;34m,\u001b[0m\u001b[0;34m\u001b[0m\u001b[0;34m\u001b[0m\u001b[0m\n",
      "\u001b[0;32m~/local/fiberamp/fiber/modesolver.py\u001b[0m in \u001b[0;36mleakyvecmodes\u001b[0;34m(self, rad, ctr, alpha, p, seed, npts, nspan, within, rhoinv, quadrule, verbose, inverse, **feastkwargs)\u001b[0m\n\u001b[1;32m    927\u001b[0m         \u001b[0mprint\u001b[0m\u001b[0;34m(\u001b[0m\u001b[0;34m'System size:'\u001b[0m\u001b[0;34m,\u001b[0m \u001b[0mE\u001b[0m\u001b[0;34m.\u001b[0m\u001b[0mn\u001b[0m\u001b[0;34m,\u001b[0m \u001b[0;34m' x '\u001b[0m\u001b[0;34m,\u001b[0m \u001b[0mE\u001b[0m\u001b[0;34m.\u001b[0m\u001b[0mn\u001b[0m\u001b[0;34m,\u001b[0m \u001b[0;34m'  Inverse type:'\u001b[0m\u001b[0;34m,\u001b[0m \u001b[0minverse\u001b[0m\u001b[0;34m)\u001b[0m\u001b[0;34m\u001b[0m\u001b[0;34m\u001b[0m\u001b[0m\n\u001b[1;32m    928\u001b[0m \u001b[0;34m\u001b[0m\u001b[0m\n\u001b[0;32m--> 929\u001b[0;31m         P = SpectralProjNGR(lambda z: R(z, self.V, self.index,\n\u001b[0m\u001b[1;32m    930\u001b[0m                                         inverse=inverse),\n\u001b[1;32m    931\u001b[0m                             \u001b[0mradius\u001b[0m\u001b[0;34m=\u001b[0m\u001b[0mrad\u001b[0m\u001b[0;34m,\u001b[0m \u001b[0mcenter\u001b[0m\u001b[0;34m=\u001b[0m\u001b[0mctr\u001b[0m\u001b[0;34m,\u001b[0m \u001b[0mnpts\u001b[0m\u001b[0;34m=\u001b[0m\u001b[0mnpts\u001b[0m\u001b[0;34m,\u001b[0m\u001b[0;34m\u001b[0m\u001b[0;34m\u001b[0m\u001b[0m\n",
      "\u001b[0;32m~/local/pyeigfeast/spectralproj/ngs/spectralprojngs.py\u001b[0m in \u001b[0;36m__init__\u001b[0;34m(self, makeresolvent, **kwargs)\u001b[0m\n\u001b[1;32m    752\u001b[0m                        \u001b[0;34m'Making resolvent at z = %+7.3f% + 7.3fj'\u001b[0m\u001b[0;34m\u001b[0m\u001b[0;34m\u001b[0m\u001b[0m\n\u001b[1;32m    753\u001b[0m                        % (z.real, z.imag))\n\u001b[0;32m--> 754\u001b[0;31m             \u001b[0mself\u001b[0m\u001b[0;34m.\u001b[0m\u001b[0mresolvents\u001b[0m\u001b[0;34m.\u001b[0m\u001b[0mappend\u001b[0m\u001b[0;34m(\u001b[0m\u001b[0mmakeresolvent\u001b[0m\u001b[0;34m(\u001b[0m\u001b[0mz\u001b[0m\u001b[0;34m)\u001b[0m\u001b[0;34m)\u001b[0m\u001b[0;34m\u001b[0m\u001b[0;34m\u001b[0m\u001b[0m\n\u001b[0m\u001b[1;32m    755\u001b[0m         \u001b[0mself\u001b[0m\u001b[0;34m.\u001b[0m\u001b[0mscratch\u001b[0m \u001b[0;34m=\u001b[0m \u001b[0;32mNone\u001b[0m\u001b[0;34m\u001b[0m\u001b[0;34m\u001b[0m\u001b[0m\n\u001b[1;32m    756\u001b[0m         \u001b[0mself\u001b[0m\u001b[0;34m.\u001b[0m\u001b[0mrscratch\u001b[0m \u001b[0;34m=\u001b[0m \u001b[0;32mNone\u001b[0m\u001b[0;34m\u001b[0m\u001b[0;34m\u001b[0m\u001b[0m\n",
      "\u001b[0;32m~/local/fiberamp/fiber/modesolver.py\u001b[0m in \u001b[0;36m<lambda>\u001b[0;34m(z)\u001b[0m\n\u001b[1;32m    927\u001b[0m         \u001b[0mprint\u001b[0m\u001b[0;34m(\u001b[0m\u001b[0;34m'System size:'\u001b[0m\u001b[0;34m,\u001b[0m \u001b[0mE\u001b[0m\u001b[0;34m.\u001b[0m\u001b[0mn\u001b[0m\u001b[0;34m,\u001b[0m \u001b[0;34m' x '\u001b[0m\u001b[0;34m,\u001b[0m \u001b[0mE\u001b[0m\u001b[0;34m.\u001b[0m\u001b[0mn\u001b[0m\u001b[0;34m,\u001b[0m \u001b[0;34m'  Inverse type:'\u001b[0m\u001b[0;34m,\u001b[0m \u001b[0minverse\u001b[0m\u001b[0;34m)\u001b[0m\u001b[0;34m\u001b[0m\u001b[0;34m\u001b[0m\u001b[0m\n\u001b[1;32m    928\u001b[0m \u001b[0;34m\u001b[0m\u001b[0m\n\u001b[0;32m--> 929\u001b[0;31m         P = SpectralProjNGR(lambda z: R(z, self.V, self.index,\n\u001b[0m\u001b[1;32m    930\u001b[0m                                         inverse=inverse),\n\u001b[1;32m    931\u001b[0m                             \u001b[0mradius\u001b[0m\u001b[0;34m=\u001b[0m\u001b[0mrad\u001b[0m\u001b[0;34m,\u001b[0m \u001b[0mcenter\u001b[0m\u001b[0;34m=\u001b[0m\u001b[0mctr\u001b[0m\u001b[0;34m,\u001b[0m \u001b[0mnpts\u001b[0m\u001b[0;34m=\u001b[0m\u001b[0mnpts\u001b[0m\u001b[0;34m,\u001b[0m\u001b[0;34m\u001b[0m\u001b[0;34m\u001b[0m\u001b[0m\n",
      "\u001b[0;32m~/local/fiberamp/fiber/modesolver.py\u001b[0m in \u001b[0;36m__init__\u001b[0;34m(selfr, z, V, n, inverse)\u001b[0m\n\u001b[1;32m    774\u001b[0m                         \u001b[0mselfr\u001b[0m\u001b[0;34m.\u001b[0m\u001b[0mZ\u001b[0m\u001b[0;34m.\u001b[0m\u001b[0mAssemble\u001b[0m\u001b[0;34m(\u001b[0m\u001b[0;34m)\u001b[0m\u001b[0;34m\u001b[0m\u001b[0;34m\u001b[0m\u001b[0m\n\u001b[1;32m    775\u001b[0m                         \u001b[0mselfr\u001b[0m\u001b[0;34m.\u001b[0m\u001b[0mZH\u001b[0m\u001b[0;34m.\u001b[0m\u001b[0mAssemble\u001b[0m\u001b[0;34m(\u001b[0m\u001b[0;34m)\u001b[0m\u001b[0;34m\u001b[0m\u001b[0;34m\u001b[0m\u001b[0m\n\u001b[0;32m--> 776\u001b[0;31m                     selfr.R_I = selfr.Z.mat.Inverse(XY.FreeDofs(coupling=True),\n\u001b[0m\u001b[1;32m    777\u001b[0m                                                     inverse=inverse)\n\u001b[1;32m    778\u001b[0m \u001b[0;34m\u001b[0m\u001b[0m\n",
      "\u001b[0;31mKeyboardInterrupt\u001b[0m: "
     ]
    }
   ],
   "source": [
    "center = 5.066\n",
    "radius = .1        \n",
    "alpha = 5\n",
    "\n",
    "\n",
    "betas, zsqrs, E, phi, _ = A.leakyvecmodes(ctr=center, rad=radius, alpha=alpha,\n",
    "                                          nspan=4, npts=4, p=1, niterations=10,\n",
    "                                          rhoinv=.95, quadrule='ellipse_trapez_shift',\n",
    "                                          nrestarts=0, stop_tol=1e-9)\n"
   ]
  },
  {
   "cell_type": "code",
   "execution_count": 5,
   "id": "d0cf8d35",
   "metadata": {
    "scrolled": true
   },
   "outputs": [
    {
     "data": {
      "text/plain": [
       "array([3488401.01282438+0.00010111j, 3488401.28035741+0.00134324j])"
      ]
     },
     "execution_count": 5,
     "metadata": {},
     "output_type": "execute_result"
    }
   ],
   "source": [
    "betas"
   ]
  },
  {
   "cell_type": "code",
   "execution_count": 6,
   "id": "5b0b7533",
   "metadata": {
    "scrolled": false
   },
   "outputs": [
    {
     "data": {
      "application/vnd.jupyter.widget-view+json": {
       "model_id": "38b18b4f4717438d82dd1e97e47e6829",
       "version_major": 2,
       "version_minor": 0
      },
      "text/plain": [
       "WebGuiWidget(value={'ngsolve_version': '6.2.2203-56-g47f483033', 'mesh_dim': 2, 'order2d': 2, 'order3d': 2, 'd…"
      ]
     },
     "metadata": {},
     "output_type": "display_data"
    },
    {
     "data": {
      "application/vnd.jupyter.widget-view+json": {
       "model_id": "f2213572624c4b86b2579bb7cc36407a",
       "version_major": 2,
       "version_minor": 0
      },
      "text/plain": [
       "WebGuiWidget(value={'ngsolve_version': '6.2.2203-56-g47f483033', 'mesh_dim': 2, 'order2d': 2, 'order3d': 2, 'd…"
      ]
     },
     "metadata": {},
     "output_type": "display_data"
    }
   ],
   "source": [
    "for e in E:\n",
    "    Draw(e.real, A.mesh, vectors={'grid_size':200})"
   ]
  },
  {
   "cell_type": "markdown",
   "id": "5abc33dc",
   "metadata": {},
   "source": [
    "# Only glass everywhere outside core:\n",
    "\n",
    "Now that our outer refractive index is higher than the core index, the locations of the Z values switches: the beta values are always approximately equal to k_low = k0 * n_low,  but the Z^2 values equal beta^2 - n0^2, and now n0 is drastically different, so we need to make up for this. \n",
    "\n",
    "The formula is at the bottom of the next cell"
   ]
  },
  {
   "cell_type": "code",
   "execution_count": 62,
   "id": "81aa50a4",
   "metadata": {},
   "outputs": [],
   "source": [
    "scaling = 15\n",
    "n_glass = 1.4388164768221814\n",
    "n_air = 1.00027717\n",
    "\n",
    "n_soft_polymer = 1.44\n",
    "n_hard_polymer = 1.56\n",
    "\n",
    "T_soft_polymer = 30 / scaling\n",
    "T_hard_polymer = 30 / scaling\n",
    "\n",
    "T_outer = 15 / scaling\n",
    "T_buffer = 10 / scaling\n",
    "\n",
    "n0 = n_glass\n",
    "\n",
    "outer_materials = [\n",
    "\n",
    "#     {'material': 'soft_polymer',\n",
    "#      'n': n_soft_polymer,\n",
    "#      'T': T_soft_polymer,\n",
    "#      'maxh': 2},\n",
    "\n",
    "#     {'material': 'hard_polymer',\n",
    "#      'n': n_hard_polymer,\n",
    "#      'T': T_hard_polymer,\n",
    "#      'maxh': 2},\n",
    "\n",
    "#     {'material': 'buffer',\n",
    "#      'n': n0,\n",
    "#      'T': T_buffer,\n",
    "#      'maxh': 2},\n",
    "\n",
    "    {'material': 'Outer',\n",
    "     'n': n0,\n",
    "     'T': T_outer,\n",
    "     'maxh': .2}\n",
    "]\n",
    "\n",
    "center = A.L**2 * A.k**2 * (n0**2 - n_air**2) + 5.066"
   ]
  },
  {
   "cell_type": "code",
   "execution_count": 63,
   "id": "ae527355",
   "metadata": {},
   "outputs": [
    {
     "data": {
      "text/plain": [
       "2937.54050746878"
      ]
     },
     "execution_count": 63,
     "metadata": {},
     "output_type": "execute_result"
    }
   ],
   "source": [
    "center"
   ]
  },
  {
   "cell_type": "code",
   "execution_count": 64,
   "id": "6eb7280f",
   "metadata": {
    "scrolled": true
   },
   "outputs": [
    {
     "name": "stdout",
     "output_type": "stream",
     "text": [
      "ModeSolver: Checking if mesh has required regions\n",
      "Mesh has  21701  elements,  10918  points,  and  32618  edges.\n"
     ]
    }
   ],
   "source": [
    "A = ARF2(name='fine_cladding', poly_core=True, outer_materials=outer_materials)\n"
   ]
  },
  {
   "cell_type": "code",
   "execution_count": 65,
   "id": "f6aff17c",
   "metadata": {
    "scrolled": true
   },
   "outputs": [
    {
     "data": {
      "application/vnd.jupyter.widget-view+json": {
       "model_id": "b424d780ec86455bb3e9a63e079c0ae7",
       "version_major": 2,
       "version_minor": 0
      },
      "text/plain": [
       "WebGuiWidget(value={'ngsolve_version': '6.2.2203-56-g47f483033', 'mesh_dim': 2, 'order2d': 2, 'order3d': 2, 'd…"
      ]
     },
     "metadata": {},
     "output_type": "display_data"
    },
    {
     "data": {
      "text/plain": [
       "BaseWebGuiScene"
      ]
     },
     "execution_count": 65,
     "metadata": {},
     "output_type": "execute_result"
    }
   ],
   "source": [
    "Draw(A.V, A.mesh)"
   ]
  },
  {
   "cell_type": "code",
   "execution_count": 21,
   "id": "d104f7d3",
   "metadata": {},
   "outputs": [
    {
     "name": "stdout",
     "output_type": "stream",
     "text": [
      "Set NGSolve automatic PML with p= 2  alpha= 5 and thickness=1.000\n",
      "Using FEAST to search for vector leaky modes in\n",
      "circle of radius 0.1 centered at  2937.54050746878\n",
      "assuming not more than 4 modes in this interval\n",
      "System size: 37275  x  37275   Inverse type: umfpack\n",
      "\n",
      "SpectralProj: Setting shifted trapezoidal rule on elliptical contour\n",
      "SpectralProjNGR:   Making resolvent at z = +2937.611 +0.004j\n",
      "SpectralProjNGR:   Making resolvent at z = +2937.470 +0.004j\n",
      "SpectralProjNGR:   Making resolvent at z = +2937.470 -0.004j\n",
      "SpectralProjNGR:   Making resolvent at z = +2937.611 -0.004j\n",
      "\n",
      "=========== Starting FEAST iterations ===========\n",
      "Trying with 4 vectors:\n",
      "\n",
      " ITERATION 1 with 4 vectors and 4 left vectors\n",
      "   During kernel cleaning abs(g):\n",
      "   [9.7e-03 1.9e-03 2.2e-17 9.8e-16]\n",
      "   Removing ew#[2]\n",
      "   Real part of computed eigenvalues:\n",
      "   [2937.54045842 2937.54058825 2941.18257693]\n",
      "   Imag part of computed eigenvalues:\n",
      "   [-1.05053426e-04 -9.28821391e-05  3.53940998e-01]\n",
      "   Relative Hausdorff distance from prior iterate: 3.404e+96\n",
      "\n",
      " ITERATION 2 with 3 vectors and 3 left vectors\n",
      "   During kernel cleaning abs(g):\n",
      "   [7.4e-16 1.0e-02 1.0e-02]\n",
      "   Real part of computed eigenvalues:\n",
      "   [2937.54051278 2937.54053389 2940.28517511]\n",
      "   Imag part of computed eigenvalues:\n",
      "   [-9.99759265e-05 -9.79596731e-05 -1.96013182e+00]\n",
      "   Relative Hausdorff distance from prior iterate: 8.449e-04\n",
      "\n",
      " ITERATION 3 with 3 vectors and 3 left vectors\n",
      "   During kernel cleaning abs(g):\n",
      "   [2.4 1.  1. ]\n",
      "   Real part of computed eigenvalues:\n",
      "   [2937.54045842 2937.54058825 2938.04042134]\n",
      "   Imag part of computed eigenvalues:\n",
      "   [-1.05053432e-04 -9.28821327e-05 -2.05981370e+00]\n",
      "   Relative Hausdorff distance from prior iterate: 7.649e-04\n",
      "\n",
      "   Removing ew#[0] not enclosed by contour\n",
      " ITERATION 4 with 2 vectors and 2 left vectors\n",
      "   During kernel cleaning abs(g):\n",
      "   [0. 0.]\n",
      "   Real part of computed eigenvalues:\n",
      "   [2937.54045842 2937.54058825]\n",
      "   Imag part of computed eigenvalues:\n",
      "   [-1.05053431e-04 -9.28821324e-05]\n",
      "   Relative Hausdorff distance from prior iterate: 1.285e-14\n",
      "\n",
      "\n",
      "***FEAST converged with:\n",
      "\tRelative Hausdorff distance = 1.285e-14\n",
      "\n",
      "============= FEAST iterations done =============\n",
      "Results:\n",
      " Z²: [2937.54045842-1.05053431e-04j 2937.54058825-9.28821324e-05j]\n",
      " beta: [3488400.32891887+0.06692238j 3488400.24620905+0.05916888j]\n",
      " CL dB/m: [0.58128045 0.51393437]\n"
     ]
    }
   ],
   "source": [
    "center = center\n",
    "radius = .1       \n",
    "alpha = 5\n",
    "\n",
    "\n",
    "betas, zsqrs, E, phi, _ = A.leakyvecmodes(ctr=center, rad=radius, alpha=alpha,\n",
    "                                          nspan=4, npts=4, p=2, niterations=6,\n",
    "                                          rhoinv=.95, quadrule='ellipse_trapez_shift',\n",
    "                                          nrestarts=0, stop_tol=1e-9)\n"
   ]
  },
  {
   "cell_type": "code",
   "execution_count": 22,
   "id": "c95a683a",
   "metadata": {},
   "outputs": [
    {
     "data": {
      "text/plain": [
       "array([3488400.32891887+0.06692238j, 3488400.24620905+0.05916888j])"
      ]
     },
     "execution_count": 22,
     "metadata": {},
     "output_type": "execute_result"
    }
   ],
   "source": [
    "betas"
   ]
  },
  {
   "cell_type": "code",
   "execution_count": 23,
   "id": "e856affd",
   "metadata": {
    "scrolled": false
   },
   "outputs": [
    {
     "data": {
      "application/vnd.jupyter.widget-view+json": {
       "model_id": "54e8171113ac44afa3510b0a7c6a873f",
       "version_major": 2,
       "version_minor": 0
      },
      "text/plain": [
       "WebGuiWidget(value={'ngsolve_version': '6.2.2203-56-g47f483033', 'mesh_dim': 2, 'order2d': 2, 'order3d': 2, 'd…"
      ]
     },
     "metadata": {},
     "output_type": "display_data"
    },
    {
     "data": {
      "application/vnd.jupyter.widget-view+json": {
       "model_id": "7fd0a8a4cf844588b4423e42e45ca069",
       "version_major": 2,
       "version_minor": 0
      },
      "text/plain": [
       "WebGuiWidget(value={'ngsolve_version': '6.2.2203-56-g47f483033', 'mesh_dim': 2, 'order2d': 2, 'order3d': 2, 'd…"
      ]
     },
     "metadata": {},
     "output_type": "display_data"
    }
   ],
   "source": [
    "for e in E:\n",
    "    Draw(e.real, A.mesh, vectors={'grid_size':200})"
   ]
  },
  {
   "cell_type": "markdown",
   "id": "d4fd6c91",
   "metadata": {},
   "source": [
    "# Only soft polymer, extending everywhere outside core and cladding."
   ]
  },
  {
   "cell_type": "code",
   "execution_count": 81,
   "id": "68f9dbe8",
   "metadata": {},
   "outputs": [],
   "source": [
    "scaling = 15\n",
    "n_glass = 1.4388164768221814\n",
    "n_air = 1.00027717\n",
    "\n",
    "n_soft_polymer = 1.44\n",
    "n_hard_polymer = 1.56\n",
    "\n",
    "T_soft_polymer = 10 / scaling\n",
    "T_hard_polymer = 30 / scaling\n",
    "\n",
    "T_outer = 15 / scaling\n",
    "T_buffer = 30 / scaling\n",
    "\n",
    "n0 = n_soft_polymer\n",
    "\n",
    "outer_materials = [\n",
    "\n",
    "    {'material': 'soft_polymer',\n",
    "     'n': n_soft_polymer,\n",
    "     'T': T_soft_polymer,\n",
    "     'maxh': .04},\n",
    "\n",
    "#     {'material': 'hard_polymer',\n",
    "#      'n': n_hard_polymer,\n",
    "#      'T': T_hard_polymer,\n",
    "#      'maxh': 2},\n",
    "\n",
    "#     {'material': 'buffer',\n",
    "#      'n': n0,\n",
    "#      'T': T_buffer,\n",
    "#      'maxh': 2},\n",
    "\n",
    "    {'material': 'Outer',\n",
    "     'n': n0,\n",
    "     'T': T_outer,\n",
    "     'maxh': .2}\n",
    "]\n",
    "center = A.L**2 * A.k**2 * (n0**2 - n_air**2) + 5.066"
   ]
  },
  {
   "cell_type": "code",
   "execution_count": 82,
   "id": "7100cb9a",
   "metadata": {},
   "outputs": [
    {
     "data": {
      "text/plain": [
       "2946.8813917475427"
      ]
     },
     "execution_count": 82,
     "metadata": {},
     "output_type": "execute_result"
    }
   ],
   "source": [
    "center"
   ]
  },
  {
   "cell_type": "code",
   "execution_count": 83,
   "id": "012351cf",
   "metadata": {
    "scrolled": true
   },
   "outputs": [
    {
     "name": "stdout",
     "output_type": "stream",
     "text": [
      "ModeSolver: Checking if mesh has required regions\n",
      "Mesh has  46338  elements,  23250  points,  and  69587  edges.\n"
     ]
    }
   ],
   "source": [
    "A = ARF2(name='fine_cladding', poly_core=True, refine=0, outer_materials=outer_materials)\n"
   ]
  },
  {
   "cell_type": "code",
   "execution_count": 84,
   "id": "e19e887b",
   "metadata": {},
   "outputs": [
    {
     "data": {
      "application/vnd.jupyter.widget-view+json": {
       "model_id": "632019963dc94d54beded0c10d17e76c",
       "version_major": 2,
       "version_minor": 0
      },
      "text/plain": [
       "WebGuiWidget(value={'ngsolve_version': '6.2.2203-56-g47f483033', 'mesh_dim': 2, 'order2d': 2, 'order3d': 2, 'd…"
      ]
     },
     "metadata": {},
     "output_type": "display_data"
    },
    {
     "data": {
      "text/plain": [
       "BaseWebGuiScene"
      ]
     },
     "execution_count": 84,
     "metadata": {},
     "output_type": "execute_result"
    }
   ],
   "source": [
    "Draw(A.V, A.mesh)"
   ]
  },
  {
   "cell_type": "code",
   "execution_count": 31,
   "id": "ad6994c8",
   "metadata": {
    "scrolled": true
   },
   "outputs": [
    {
     "data": {
      "text/plain": [
       "('core', 'fill_air', 'inner_air', 'glass', 'soft_polymer', 'Outer')"
      ]
     },
     "execution_count": 31,
     "metadata": {},
     "output_type": "execute_result"
    }
   ],
   "source": [
    " A.mesh.GetMaterials()"
   ]
  },
  {
   "cell_type": "code",
   "execution_count": 32,
   "id": "ebefc45d",
   "metadata": {},
   "outputs": [
    {
     "name": "stdout",
     "output_type": "stream",
     "text": [
      "Set NGSolve automatic PML with p= 2  alpha= 5 and thickness=1.000\n",
      "Using FEAST to search for vector leaky modes in\n",
      "circle of radius 0.1 centered at  2946.8813917475427\n",
      "assuming not more than 4 modes in this interval\n",
      "System size: 39063  x  39063   Inverse type: umfpack\n",
      "\n",
      "SpectralProj: Setting shifted trapezoidal rule on elliptical contour\n",
      "SpectralProjNGR:   Making resolvent at z = +2946.952 +0.004j\n",
      "SpectralProjNGR:   Making resolvent at z = +2946.811 +0.004j\n",
      "SpectralProjNGR:   Making resolvent at z = +2946.811 -0.004j\n",
      "SpectralProjNGR:   Making resolvent at z = +2946.952 -0.004j\n",
      "\n",
      "=========== Starting FEAST iterations ===========\n",
      "Trying with 4 vectors:\n",
      "\n",
      " ITERATION 1 with 4 vectors and 4 left vectors\n",
      "   During kernel cleaning abs(g):\n",
      "   [6.8e-03 4.1e-03 2.4e-09 2.8e-14]\n",
      "   Real part of computed eigenvalues:\n",
      "   [2946.88134536 2946.88140551 2947.27399788 2949.56803783]\n",
      "   Imag part of computed eigenvalues:\n",
      "   [-1.32278087e-07 -9.57083408e-06 -8.01197235e-02  1.79686334e+00]\n",
      "   Relative Hausdorff distance from prior iterate: 3.393e+96\n",
      "\n",
      " ITERATION 2 with 4 vectors and 4 left vectors\n",
      "   During kernel cleaning abs(g):\n",
      "   [81.4  2.4  1.1  2.2]\n",
      "   Real part of computed eigenvalues:\n",
      "   [2946.19500304 2946.88137597 2946.88148607 2947.27403353]\n",
      "   Imag part of computed eigenvalues:\n",
      "   [-6.61101204e-02 -1.17046622e-05 -3.75270419e-06 -7.98317221e-02]\n",
      "   Relative Hausdorff distance from prior iterate: 1.006e-03\n",
      "\n",
      " ITERATION 3 with 4 vectors and 4 left vectors\n",
      "   During kernel cleaning abs(g):\n",
      "   [1.6e-03 4.2e-04 2.7e-12 1.2e-09]\n",
      "   Real part of computed eigenvalues:\n",
      "   [2946.19872797 2946.88137597 2946.88148607 2947.2740336 ]\n",
      "   Imag part of computed eigenvalues:\n",
      "   [-4.94812671e-02 -1.17046604e-05 -3.75270361e-06 -7.98317557e-02]\n",
      "   Relative Hausdorff distance from prior iterate: 5.783e-06\n",
      "\n",
      "   Removing ew#[1, 3] not enclosed by contour\n",
      " ITERATION 4 with 2 vectors and 2 left vectors\n",
      "   During kernel cleaning abs(g):\n",
      "   [ 6.4 24.8]\n",
      "   Real part of computed eigenvalues:\n",
      "   [2946.88137597 2946.88148607]\n",
      "   Imag part of computed eigenvalues:\n",
      "   [-1.17046616e-05 -3.75270363e-06]\n",
      "   Relative Hausdorff distance from prior iterate: 1.667e-14\n",
      "\n",
      "\n",
      "***FEAST converged with:\n",
      "\tRelative Hausdorff distance = 1.667e-14\n",
      "\n",
      "============= FEAST iterations done =============\n",
      "Results:\n",
      " Z²: [2946.88148607-3.75270363e-06j 2946.88137597-1.17046616e-05j]\n",
      " beta: [3488400.23758381+0.00239059j 3488400.30772047+0.00745624j]\n",
      " CL dB/m: [0.02076442 0.0647641 ]\n"
     ]
    }
   ],
   "source": [
    "center = center\n",
    "radius = .1      \n",
    "alpha = 5\n",
    "\n",
    "\n",
    "betas, zsqrs, E, phi, _ = A.leakyvecmodes(ctr=center, rad=radius, alpha=alpha,\n",
    "                                          nspan=4, npts=4, p=1, niterations=6,\n",
    "                                          rhoinv=.95, quadrule='ellipse_trapez_shift',\n",
    "                                          nrestarts=0, stop_tol=1e-9)\n"
   ]
  },
  {
   "cell_type": "code",
   "execution_count": 33,
   "id": "1cd684b5",
   "metadata": {},
   "outputs": [
    {
     "data": {
      "text/plain": [
       "array([3488400.23758381+0.00239059j, 3488400.30772047+0.00745624j])"
      ]
     },
     "execution_count": 33,
     "metadata": {},
     "output_type": "execute_result"
    }
   ],
   "source": [
    "betas"
   ]
  },
  {
   "cell_type": "code",
   "execution_count": 34,
   "id": "0841e61f",
   "metadata": {
    "scrolled": false
   },
   "outputs": [
    {
     "data": {
      "application/vnd.jupyter.widget-view+json": {
       "model_id": "56dd1864874c40c4b4840cdfba93f71c",
       "version_major": 2,
       "version_minor": 0
      },
      "text/plain": [
       "WebGuiWidget(value={'ngsolve_version': '6.2.2203-56-g47f483033', 'mesh_dim': 2, 'order2d': 2, 'order3d': 2, 'd…"
      ]
     },
     "metadata": {},
     "output_type": "display_data"
    },
    {
     "data": {
      "application/vnd.jupyter.widget-view+json": {
       "model_id": "fdf395c061d14cb08b8e2f41f347cb88",
       "version_major": 2,
       "version_minor": 0
      },
      "text/plain": [
       "WebGuiWidget(value={'ngsolve_version': '6.2.2203-56-g47f483033', 'mesh_dim': 2, 'order2d': 2, 'order3d': 2, 'd…"
      ]
     },
     "metadata": {},
     "output_type": "display_data"
    }
   ],
   "source": [
    "for e in E:\n",
    "    Draw(e.real, A.mesh, vectors={'grid_size':200})"
   ]
  },
  {
   "cell_type": "markdown",
   "id": "3120e131",
   "metadata": {},
   "source": [
    "# Soft and Hard Polymer, Hard polymer extending to infinity"
   ]
  },
  {
   "cell_type": "code",
   "execution_count": 107,
   "id": "25a89dc0",
   "metadata": {},
   "outputs": [],
   "source": [
    "scaling = 15\n",
    "n_glass = 1.4388164768221814\n",
    "n_air = 1.00027717\n",
    "\n",
    "n_soft_polymer = 1.44\n",
    "n_hard_polymer = 1.56\n",
    "\n",
    "T_soft_polymer = 30 / scaling\n",
    "T_hard_polymer = 15 / scaling\n",
    "\n",
    "T_outer = 15 / scaling\n",
    "T_buffer = 30 / scaling\n",
    "\n",
    "n0 = n_hard_polymer\n",
    "\n",
    "outer_materials = [\n",
    "\n",
    "    {'material': 'soft_polymer',\n",
    "     'n': n_soft_polymer,\n",
    "     'T': T_soft_polymer,\n",
    "     'maxh': .06},\n",
    "\n",
    "    {'material': 'hard_polymer',\n",
    "     'n': n_hard_polymer,\n",
    "     'T': T_hard_polymer,\n",
    "     'maxh': .07},\n",
    "\n",
    "#     {'material': 'buffer',\n",
    "#      'n': n0,\n",
    "#      'T': T_buffer,\n",
    "#      'maxh': 2},\n",
    "\n",
    "    {'material': 'Outer',\n",
    "     'n': n0,\n",
    "     'T': T_outer,\n",
    "     'maxh': .2}\n",
    "]\n",
    "center = A.L**2 * A.k**2 * (n0**2 - n_air**2) + 5.066"
   ]
  },
  {
   "cell_type": "code",
   "execution_count": 108,
   "id": "419b7007",
   "metadata": {
    "scrolled": true
   },
   "outputs": [
    {
     "name": "stdout",
     "output_type": "stream",
     "text": [
      "ModeSolver: Checking if mesh has required regions\n",
      "Mesh has  74107  elements,  37164  points,  and  111270  edges.\n"
     ]
    }
   ],
   "source": [
    "A = ARF2(name='fine_cladding', poly_core=True, refine=0, outer_materials=outer_materials)\n"
   ]
  },
  {
   "cell_type": "code",
   "execution_count": 109,
   "id": "eb146b14",
   "metadata": {},
   "outputs": [
    {
     "data": {
      "application/vnd.jupyter.widget-view+json": {
       "model_id": "bd43f2b2568a467fbc5316d9593f1a0b",
       "version_major": 2,
       "version_minor": 0
      },
      "text/plain": [
       "WebGuiWidget(value={'ngsolve_version': '6.2.2203-56-g47f483033', 'mesh_dim': 2, 'order2d': 2, 'order3d': 2, 'd…"
      ]
     },
     "metadata": {},
     "output_type": "display_data"
    },
    {
     "data": {
      "text/plain": [
       "BaseWebGuiScene"
      ]
     },
     "execution_count": 109,
     "metadata": {},
     "output_type": "execute_result"
    }
   ],
   "source": [
    "Draw(A.V, A.mesh)"
   ]
  },
  {
   "cell_type": "code",
   "execution_count": 39,
   "id": "579ad9b4",
   "metadata": {
    "scrolled": false
   },
   "outputs": [
    {
     "data": {
      "text/plain": [
       "('core',\n",
       " 'fill_air',\n",
       " 'inner_air',\n",
       " 'glass',\n",
       " 'soft_polymer',\n",
       " 'hard_polymer',\n",
       " 'buffer',\n",
       " 'Outer')"
      ]
     },
     "execution_count": 39,
     "metadata": {},
     "output_type": "execute_result"
    }
   ],
   "source": [
    " A.mesh.GetMaterials()"
   ]
  },
  {
   "cell_type": "code",
   "execution_count": 41,
   "id": "f594bf82",
   "metadata": {},
   "outputs": [
    {
     "name": "stdout",
     "output_type": "stream",
     "text": [
      "Set NGSolve automatic PML with p= 2  alpha= 5 and thickness=3.333\n",
      "Using FEAST to search for vector leaky modes in\n",
      "circle of radius 0.1 centered at  3933.841831856479\n",
      "assuming not more than 4 modes in this interval\n",
      "System size: 43674  x  43674   Inverse type: umfpack\n",
      "\n",
      "SpectralProj: Setting shifted trapezoidal rule on elliptical contour\n",
      "SpectralProjNGR:   Making resolvent at z = +3933.913 +0.004j\n",
      "SpectralProjNGR:   Making resolvent at z = +3933.771 +0.004j\n",
      "SpectralProjNGR:   Making resolvent at z = +3933.771 -0.004j\n",
      "SpectralProjNGR:   Making resolvent at z = +3933.913 -0.004j\n",
      "\n",
      "=========== Starting FEAST iterations ===========\n",
      "Trying with 4 vectors:\n",
      "\n",
      " ITERATION 1 with 4 vectors and 4 left vectors\n",
      "   During kernel cleaning abs(g):\n",
      "   [6.0e-03 1.6e-03 2.3e-07 1.8e-04]\n",
      "   Real part of computed eigenvalues:\n",
      "   [3933.69868668 3933.84168014 3933.84197205 3934.03246831]\n",
      "   Imag part of computed eigenvalues:\n",
      "   [ 5.19856041e-07  8.72092021e-09 -1.38914451e-08  2.07945486e-05]\n",
      "   Relative Hausdorff distance from prior iterate: 2.542e+96\n",
      "\n",
      " ITERATION 2 with 4 vectors and 4 left vectors\n",
      "   During kernel cleaning abs(g):\n",
      "   [0.5 0.5 3.4 2.4]\n",
      "   Real part of computed eigenvalues:\n",
      "   [3933.69870024 3933.84168017 3933.84197219 3934.03271546]\n",
      "   Imag part of computed eigenvalues:\n",
      "   [-6.32631391e-11 -5.79675271e-13 -1.06578789e-13  9.60908464e-09]\n",
      "   Relative Hausdorff distance from prior iterate: 6.305e-08\n",
      "\n",
      " ITERATION 3 with 4 vectors and 4 left vectors\n",
      "   During kernel cleaning abs(g):\n",
      "   [1.3e-05 2.3e-04 3.1e-03 4.4e-03]\n",
      "   Real part of computed eigenvalues:\n",
      "   [3933.69870024 3933.84168017 3933.84197219 3934.03271558]\n",
      "   Relative Hausdorff distance from prior iterate: 2.962e-11\n",
      "\n",
      "   Removing ew#[0, 1] not enclosed by contour\n",
      "\n",
      "***FEAST converged with:\n",
      "\tRelative Hausdorff distance = 2.962e-11\n",
      "\n",
      "============= FEAST iterations done =============\n",
      "Results:\n",
      " Z²: [3933.84197219-1.18985350e-13j 3933.84168017-6.49872449e-13j]\n",
      " beta: [3488400.20827471+7.57974637e-11j 3488400.39429874+4.13989461e-10j]\n",
      " CL dB/m: [6.58368404e-10 3.59586677e-09]\n"
     ]
    }
   ],
   "source": [
    "center = center\n",
    "radius = .1        \n",
    "alpha = 5\n",
    "\n",
    "\n",
    "betas, zsqrs, E, phi, _ = A.leakyvecmodes(ctr=center, rad=radius, alpha=alpha,\n",
    "                                          nspan=4, npts=4, p=2, niterations=10,\n",
    "                                          rhoinv=.95, quadrule='ellipse_trapez_shift',\n",
    "                                          nrestarts=0, stop_tol=1e-9)\n"
   ]
  },
  {
   "cell_type": "code",
   "execution_count": 42,
   "id": "857870b0",
   "metadata": {},
   "outputs": [
    {
     "data": {
      "text/plain": [
       "array([3488400.20827471+7.57974637e-11j, 3488400.39429874+4.13989461e-10j])"
      ]
     },
     "execution_count": 42,
     "metadata": {},
     "output_type": "execute_result"
    }
   ],
   "source": [
    "betas"
   ]
  },
  {
   "cell_type": "code",
   "execution_count": 43,
   "id": "164c5bc9",
   "metadata": {
    "scrolled": false
   },
   "outputs": [
    {
     "data": {
      "application/vnd.jupyter.widget-view+json": {
       "model_id": "1b830cce0d5848d6bb295aef1435d8bd",
       "version_major": 2,
       "version_minor": 0
      },
      "text/plain": [
       "WebGuiWidget(value={'ngsolve_version': '6.2.2203-56-g47f483033', 'mesh_dim': 2, 'order2d': 2, 'order3d': 2, 'd…"
      ]
     },
     "metadata": {},
     "output_type": "display_data"
    },
    {
     "data": {
      "application/vnd.jupyter.widget-view+json": {
       "model_id": "01bd6245fc9c477f8ca77005abb5ab76",
       "version_major": 2,
       "version_minor": 0
      },
      "text/plain": [
       "WebGuiWidget(value={'ngsolve_version': '6.2.2203-56-g47f483033', 'mesh_dim': 2, 'order2d': 2, 'order3d': 2, 'd…"
      ]
     },
     "metadata": {},
     "output_type": "display_data"
    }
   ],
   "source": [
    "for e in E:\n",
    "    Draw(e.real, A.mesh, vectors={'grid_size':200})"
   ]
  },
  {
   "cell_type": "markdown",
   "id": "1829d9eb",
   "metadata": {},
   "source": [
    "# Both polymer layers, then air for outer region:"
   ]
  },
  {
   "cell_type": "code",
   "execution_count": 145,
   "id": "f8602ef7",
   "metadata": {},
   "outputs": [],
   "source": [
    "scaling = 15\n",
    "n_glass = 1.4388164768221814\n",
    "n_air = 1.00027717\n",
    "\n",
    "n_soft_polymer = 1.44\n",
    "n_hard_polymer = 1.56\n",
    "\n",
    "T_soft_polymer = 30 / scaling\n",
    "T_hard_polymer = 30 / scaling\n",
    "\n",
    "T_outer = 30 / scaling\n",
    "T_buffer = 10 / scaling\n",
    "\n",
    "n0 = n_air\n",
    "\n",
    "outer_materials = [\n",
    "\n",
    "    {'material': 'soft_polymer',\n",
    "     'n': n_soft_polymer,\n",
    "     'T': T_soft_polymer,\n",
    "     'maxh': .3},\n",
    "\n",
    "    {'material': 'hard_polymer',\n",
    "     'n': n_hard_polymer,\n",
    "     'T': T_hard_polymer,\n",
    "     'maxh': .4},\n",
    "\n",
    "    {'material': 'buffer',\n",
    "     'n': n0,\n",
    "     'T': T_buffer,\n",
    "     'maxh': 1},\n",
    "\n",
    "    {'material': 'Outer',\n",
    "     'n': n0,\n",
    "     'T': T_outer,\n",
    "     'maxh': 2}\n",
    "]"
   ]
  },
  {
   "cell_type": "code",
   "execution_count": 146,
   "id": "7d2e0dde",
   "metadata": {
    "scrolled": true
   },
   "outputs": [
    {
     "name": "stdout",
     "output_type": "stream",
     "text": [
      "ModeSolver: Checking if mesh has required regions\n",
      "Mesh has  6306  elements,  3178  points,  and  9483  edges.\n"
     ]
    }
   ],
   "source": [
    "A = ARF2( poly_core=True, refine=0, outer_materials=outer_materials)\n"
   ]
  },
  {
   "cell_type": "code",
   "execution_count": 147,
   "id": "03b1e8d5",
   "metadata": {
    "scrolled": true
   },
   "outputs": [
    {
     "data": {
      "application/vnd.jupyter.widget-view+json": {
       "model_id": "5f4083681652454a828d89346b19b5c3",
       "version_major": 2,
       "version_minor": 0
      },
      "text/plain": [
       "WebGuiWidget(value={'ngsolve_version': '6.2.2203-56-g47f483033', 'mesh_dim': 2, 'order2d': 2, 'order3d': 2, 'd…"
      ]
     },
     "metadata": {},
     "output_type": "display_data"
    },
    {
     "data": {
      "text/plain": [
       "BaseWebGuiScene"
      ]
     },
     "execution_count": 147,
     "metadata": {},
     "output_type": "execute_result"
    }
   ],
   "source": [
    "Draw(A.index, A.mesh)"
   ]
  },
  {
   "cell_type": "code",
   "execution_count": 116,
   "id": "8eeaa198",
   "metadata": {
    "scrolled": true
   },
   "outputs": [
    {
     "data": {
      "text/plain": [
       "('core',\n",
       " 'fill_air',\n",
       " 'inner_air',\n",
       " 'glass',\n",
       " 'soft_polymer',\n",
       " 'hard_polymer',\n",
       " 'buffer',\n",
       " 'Outer')"
      ]
     },
     "execution_count": 116,
     "metadata": {},
     "output_type": "execute_result"
    }
   ],
   "source": [
    " A.mesh.GetMaterials()"
   ]
  },
  {
   "cell_type": "code",
   "execution_count": 148,
   "id": "bb3509ec",
   "metadata": {
    "scrolled": true
   },
   "outputs": [
    {
     "name": "stdout",
     "output_type": "stream",
     "text": [
      "Set NGSolve automatic PML with p= 1  alpha= 5 and thickness=2.000\n",
      "Using FEAST to search for vector leaky modes in\n",
      "circle of radius 0.1 centered at  5.066\n",
      "assuming not more than 4 modes in this interval\n",
      "System size: 31578  x  31578   Inverse type: umfpack\n",
      "\n",
      "SpectralProj: Setting shifted trapezoidal rule on elliptical contour\n",
      "SpectralProjNGR:   Making resolvent at z =  +5.137 +0.004j\n",
      "SpectralProjNGR:   Making resolvent at z =  +4.995 +0.004j\n",
      "SpectralProjNGR:   Making resolvent at z =  +4.995 -0.004j\n",
      "SpectralProjNGR:   Making resolvent at z =  +5.137 -0.004j\n",
      "\n",
      "=========== Starting FEAST iterations ===========\n",
      "Trying with 4 vectors:\n",
      "\n",
      " ITERATION 1 with 4 vectors and 4 left vectors\n",
      "   During kernel cleaning abs(g):\n",
      "   [1.2e-02 4.9e-03 2.8e-13 5.9e-15]\n",
      "   Real part of computed eigenvalues:\n",
      "   [5.06553166 5.06577348 6.01863061 6.17882183]\n",
      "   Imag part of computed eigenvalues:\n",
      "   [-7.29015199e-05  1.05050168e-05  9.95358344e-01 -6.61156119e-02]\n",
      "   Relative Hausdorff distance from prior iterate: 1.974e+99\n",
      "\n",
      " ITERATION 2 with 4 vectors and 4 left vectors\n",
      "   During kernel cleaning abs(g):\n",
      "   [1.7 0.  2.1 6.2]\n",
      "   Real part of computed eigenvalues:\n",
      "   [3.54746764 5.06508255 5.06613341 6.2118782 ]\n",
      "   Imag part of computed eigenvalues:\n",
      "   [-6.09737212e-01 -1.59693763e-15  4.21627031e-16  7.37794017e-05]\n",
      "   Relative Hausdorff distance from prior iterate: 3.229e-01\n",
      "\n",
      " ITERATION 3 with 4 vectors and 4 left vectors\n",
      "   During kernel cleaning abs(g):\n",
      "   [3.9e-14 3.0e-13 3.5e-03 3.6e-03]\n",
      "   Real part of computed eigenvalues:\n",
      "   [3.50491754 5.06508255 5.06613341 6.21185045]\n",
      "   Imag part of computed eigenvalues:\n",
      "   [-8.18090452e-01  2.05492623e-13 -1.72750698e-12 -3.06791266e-07]\n",
      "   Relative Hausdorff distance from prior iterate: 4.198e-02\n",
      "\n",
      "   Removing ew#[0, 1] not enclosed by contour\n",
      " ITERATION 4 with 2 vectors and 2 left vectors\n",
      "   During kernel cleaning abs(g):\n",
      "   [3.  2.9]\n",
      "   Real part of computed eigenvalues:\n",
      "   [5.06508255 5.06613341]\n",
      "   Relative Hausdorff distance from prior iterate: 1.249e-11\n",
      "\n",
      "\n",
      "***FEAST converged with:\n",
      "\tRelative Hausdorff distance = 1.249e-11\n",
      "\n",
      "============= FEAST iterations done =============\n",
      "Results:\n",
      " Z²: [5.06508255-1.58145564e-17j 5.06613341+3.43188585e-16j]\n",
      " beta: [3488400.88212002+1.00743750e-14j 3488400.21268484-2.18622077e-13j]\n",
      " CL dB/m: [ 8.75049095e-14 -1.89892724e-12]\n"
     ]
    }
   ],
   "source": [
    "center = 5.066\n",
    "radius = .1        \n",
    "alpha = 5\n",
    "\n",
    "\n",
    "betas, zsqrs, E, phi, _ = A.leakyvecmodes(ctr=center, rad=radius, alpha=alpha,\n",
    "                                          nspan=4, npts=4, p=1, niterations=10,\n",
    "                                          rhoinv=.95, quadrule='ellipse_trapez_shift',\n",
    "                                          nrestarts=0, stop_tol=1e-9)\n"
   ]
  },
  {
   "cell_type": "code",
   "execution_count": 152,
   "id": "21015703",
   "metadata": {
    "scrolled": true
   },
   "outputs": [
    {
     "data": {
      "application/vnd.jupyter.widget-view+json": {
       "model_id": "21e7cc91af834df4ae5775344fbd7ac3",
       "version_major": 2,
       "version_minor": 0
      },
      "text/plain": [
       "WebGuiWidget(value={'ngsolve_version': '6.2.2203-56-g47f483033', 'mesh_dim': 2, 'order2d': 2, 'order3d': 2, 'd…"
      ]
     },
     "metadata": {},
     "output_type": "display_data"
    },
    {
     "data": {
      "text/plain": [
       "BaseWebGuiScene"
      ]
     },
     "execution_count": 152,
     "metadata": {},
     "output_type": "execute_result"
    }
   ],
   "source": [
    "Draw(A.V, A.mesh)"
   ]
  },
  {
   "cell_type": "code",
   "execution_count": 150,
   "id": "9f9feb51",
   "metadata": {},
   "outputs": [
    {
     "data": {
      "text/plain": [
       "array([3488400.88212002+1.00743750e-14j, 3488400.21268484-2.18622077e-13j])"
      ]
     },
     "execution_count": 150,
     "metadata": {},
     "output_type": "execute_result"
    }
   ],
   "source": [
    "betas"
   ]
  },
  {
   "cell_type": "code",
   "execution_count": 153,
   "id": "5040b9bd",
   "metadata": {
    "scrolled": false
   },
   "outputs": [
    {
     "data": {
      "application/vnd.jupyter.widget-view+json": {
       "model_id": "f49d3e32013a40f68c1a58538616e2d4",
       "version_major": 2,
       "version_minor": 0
      },
      "text/plain": [
       "WebGuiWidget(value={'ngsolve_version': '6.2.2203-56-g47f483033', 'mesh_dim': 2, 'order2d': 2, 'order3d': 2, 'd…"
      ]
     },
     "metadata": {},
     "output_type": "display_data"
    },
    {
     "data": {
      "application/vnd.jupyter.widget-view+json": {
       "model_id": "a47c437ba1d544479677ffb3ca9c8ed9",
       "version_major": 2,
       "version_minor": 0
      },
      "text/plain": [
       "WebGuiWidget(value={'ngsolve_version': '6.2.2203-56-g47f483033', 'mesh_dim': 2, 'order2d': 2, 'order3d': 2, 'd…"
      ]
     },
     "metadata": {},
     "output_type": "display_data"
    }
   ],
   "source": [
    "for e in E:\n",
    "    Draw(e.real, A.mesh, vectors={'grid_size':200})"
   ]
  },
  {
   "cell_type": "code",
   "execution_count": null,
   "id": "9cc55e8c",
   "metadata": {},
   "outputs": [],
   "source": []
  }
 ],
 "metadata": {
  "kernelspec": {
   "display_name": "Python 3 (ipykernel)",
   "language": "python",
   "name": "python3"
  },
  "language_info": {
   "codemirror_mode": {
    "name": "ipython",
    "version": 3
   },
   "file_extension": ".py",
   "mimetype": "text/x-python",
   "name": "python",
   "nbconvert_exporter": "python",
   "pygments_lexer": "ipython3",
   "version": "3.8.10"
  }
 },
 "nbformat": 4,
 "nbformat_minor": 5
}
