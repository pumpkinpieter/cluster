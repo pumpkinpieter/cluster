{
 "cells": [
  {
   "cell_type": "markdown",
   "id": "b321df23",
   "metadata": {},
   "source": [
    "# Mesh Check for Lossy Polymer coated Poletti Fiber\n",
    "\n",
    "For embedding study with material loss"
   ]
  },
  {
   "cell_type": "code",
   "execution_count": 6,
   "id": "b06ab820",
   "metadata": {},
   "outputs": [],
   "source": [
    "import numpy as np\n",
    "from fiberamp.fiber.microstruct.pbg import ARF2\n",
    "from ngsolve.webgui import Draw\n"
   ]
  },
  {
   "cell_type": "code",
   "execution_count": 38,
   "id": "d3e42e3e",
   "metadata": {},
   "outputs": [],
   "source": [
    "# Set outer materials\n",
    "k = .01\n",
    "scaling = 15\n",
    "n_glass = 1.4388164768221814\n",
    "n_air = 1.00027717\n",
    "\n",
    "n_hard_polymer = 1.56 + k * 1j\n",
    "T_hard_polymer = 10 / scaling\n",
    "\n",
    "T_outer = 10 / scaling\n",
    "T_buffer = 10 / scaling\n",
    "n0 = n_air  # Sets buffer and outer region refractive index.\n",
    "\n",
    "outer_materials = [\n",
    "\n",
    "    {'material': 'hard_polymer',\n",
    "     'n': n_hard_polymer,\n",
    "     'T': T_hard_polymer,\n",
    "     'maxh': .04},\n",
    "\n",
    "    {'material': 'buffer',\n",
    "     'n': n0,\n",
    "     'T': T_buffer,\n",
    "     'maxh': .2},\n",
    "\n",
    "    {'material': 'Outer',\n",
    "     'n': n0,\n",
    "     'T': T_outer,\n",
    "     'maxh': .4}\n",
    "]\n"
   ]
  },
  {
   "cell_type": "code",
   "execution_count": 39,
   "id": "d7644740",
   "metadata": {},
   "outputs": [
    {
     "name": "stdout",
     "output_type": "stream",
     "text": [
      "ModeSolver: Checking if mesh has required regions\n",
      "Mesh has  46547  elements,  23315  points,  and  69861  edges.\n"
     ]
    }
   ],
   "source": [
    "\n",
    "ref, p, i = 0, 0, 0\n",
    "\n",
    "a = ARF2(name='fine_cladding', poly_core=True, refine=ref,\n",
    "         curve=max(p+1, 8), shift_capillaries=False,\n",
    "         outer_materials=outer_materials)\n"
   ]
  },
  {
   "cell_type": "code",
   "execution_count": 40,
   "id": "39b39bf0",
   "metadata": {},
   "outputs": [
    {
     "data": {
      "application/vnd.jupyter.widget-view+json": {
       "model_id": "04e42e4ba2aa4bb68b49f3cc0e10b63b",
       "version_major": 2,
       "version_minor": 0
      },
      "text/plain": [
       "WebGuiWidget(value={'ngsolve_version': '6.2.2203-56-g47f483033', 'mesh_dim': 2, 'order2d': 2, 'order3d': 2, 'd…"
      ]
     },
     "metadata": {},
     "output_type": "display_data"
    },
    {
     "data": {
      "text/plain": [
       "BaseWebGuiScene"
      ]
     },
     "execution_count": 40,
     "metadata": {},
     "output_type": "execute_result"
    }
   ],
   "source": [
    "Draw(a.mesh)"
   ]
  },
  {
   "cell_type": "code",
   "execution_count": null,
   "id": "46ca2c2c",
   "metadata": {},
   "outputs": [],
   "source": []
  }
 ],
 "metadata": {
  "kernelspec": {
   "display_name": "Python 3 (ipykernel)",
   "language": "python",
   "name": "python3"
  },
  "language_info": {
   "codemirror_mode": {
    "name": "ipython",
    "version": 3
   },
   "file_extension": ".py",
   "mimetype": "text/x-python",
   "name": "python",
   "nbconvert_exporter": "python",
   "pygments_lexer": "ipython3",
   "version": "3.8.10"
  }
 },
 "nbformat": 4,
 "nbformat_minor": 5
}
