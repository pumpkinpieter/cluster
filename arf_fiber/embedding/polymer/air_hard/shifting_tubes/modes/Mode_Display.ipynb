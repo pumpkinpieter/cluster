{
 "cells": [
  {
   "cell_type": "code",
   "execution_count": 1,
   "id": "e9c93b89",
   "metadata": {},
   "outputs": [
    {
     "name": "stdout",
     "output_type": "stream",
     "text": [
      "importing NGSolve-6.2.2202-18-gcd039cbb4\n"
     ]
    }
   ],
   "source": [
    "import numpy as np\n",
    "from fiberamp.fiber.microstruct.pbg import ARF2\n",
    "from ngsolve.webgui import Draw"
   ]
  },
  {
   "cell_type": "code",
   "execution_count": 2,
   "id": "9fe9b82a",
   "metadata": {
    "scrolled": true
   },
   "outputs": [
    {
     "name": "stdout",
     "output_type": "stream",
     "text": [
      "ModeSolver: Checking if mesh has required regions\n",
      "Mesh has  3539  elements,  1785  points,  and  5323  edges.\n"
     ]
    }
   ],
   "source": [
    "a = ARF2()"
   ]
  },
  {
   "cell_type": "code",
   "execution_count": 6,
   "id": "d5289f04",
   "metadata": {
    "scrolled": true
   },
   "outputs": [],
   "source": [
    "mesh = a.load_mesh('mesh_e10')\n",
    "modes = a.load_modes('mesh_e10', 'mode_e10')"
   ]
  },
  {
   "cell_type": "code",
   "execution_count": 14,
   "id": "ce955999",
   "metadata": {},
   "outputs": [
    {
     "data": {
      "application/vnd.jupyter.widget-view+json": {
       "model_id": "6587076ec60d4b478269409565d5292b",
       "version_major": 2,
       "version_minor": 0
      },
      "text/plain": [
       "WebGuiWidget(value={'ngsolve_version': '6.2.2202-18-gcd039cbb4', 'mesh_dim': 2, 'order2d': 2, 'order3d': 2, 'd…"
      ]
     },
     "metadata": {},
     "output_type": "display_data"
    },
    {
     "data": {
      "application/vnd.jupyter.widget-view+json": {
       "model_id": "6654af7a9be14842b3f7b98f3ccdfb9a",
       "version_major": 2,
       "version_minor": 0
      },
      "text/plain": [
       "WebGuiWidget(value={'ngsolve_version': '6.2.2202-18-gcd039cbb4', 'mesh_dim': 2, 'order2d': 2, 'order3d': 2, 'd…"
      ]
     },
     "metadata": {},
     "output_type": "display_data"
    }
   ],
   "source": [
    "for m in modes:\n",
    "    Draw(m.real, mesh, 'm')"
   ]
  }
 ],
 "metadata": {
  "kernelspec": {
   "display_name": "Python 3 (ipykernel)",
   "language": "python",
   "name": "python3"
  },
  "language_info": {
   "codemirror_mode": {
    "name": "ipython",
    "version": 3
   },
   "file_extension": ".py",
   "mimetype": "text/x-python",
   "name": "python",
   "nbconvert_exporter": "python",
   "pygments_lexer": "ipython3",
   "version": "3.8.10"
  }
 },
 "nbformat": 4,
 "nbformat_minor": 5
}
