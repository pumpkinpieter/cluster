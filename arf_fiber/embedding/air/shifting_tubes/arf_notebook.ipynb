{
 "cells": [
  {
   "cell_type": "code",
   "execution_count": null,
   "id": "76c32175",
   "metadata": {},
   "outputs": [],
   "source": [
    "import numpy as np\n",
    "import ngsolve as ng\n",
    "from fiberamp.fiber.microstruct.pbg import ARF2\n",
    "from ngsolve.webgui import Draw"
   ]
  },
  {
   "cell_type": "code",
   "execution_count": null,
   "id": "36da44d6",
   "metadata": {},
   "outputs": [],
   "source": [
    "es = np.linspace(.002, .9999, 240)"
   ]
  },
  {
   "cell_type": "code",
   "execution_count": null,
   "id": "128f166f",
   "metadata": {},
   "outputs": [],
   "source": [
    "es[11]"
   ]
  },
  {
   "cell_type": "code",
   "execution_count": null,
   "id": "f9a44363",
   "metadata": {},
   "outputs": [],
   "source": [
    "A = ARF2(name='fine_cladding', poly_core=True, e=es[-50])"
   ]
  },
  {
   "cell_type": "code",
   "execution_count": null,
   "id": "17d952bb",
   "metadata": {},
   "outputs": [],
   "source": [
    "Draw(ng.CF([0]),A.mesh)"
   ]
  },
  {
   "cell_type": "code",
   "execution_count": null,
   "id": "d8456b24",
   "metadata": {},
   "outputs": [],
   "source": [
    "center = 5.066\n",
    "radius = .1        \n",
    "alpha = 5\n"
   ]
  },
  {
   "cell_type": "code",
   "execution_count": null,
   "id": "c9b6a5d4",
   "metadata": {},
   "outputs": [],
   "source": [
    "betas, zsqrs, E, phi, _ = A.leakyvecmodes(ctr=center, rad=radius, alpha=alpha,\n",
    "                                          nspan=4, npts=4, p=1, niterations=10,\n",
    "                                          rhoinv=.99, quadrule='ellipse_trapez_shift',\n",
    "                                          nrestarts=0, stop_tol=1e-9)\n"
   ]
  },
  {
   "cell_type": "code",
   "execution_count": null,
   "id": "3fe8e5a5",
   "metadata": {},
   "outputs": [],
   "source": [
    "for f in phi:\n",
    "    Draw(1e1*f, A.mesh, min=0, max=1)"
   ]
  },
  {
   "cell_type": "code",
   "execution_count": null,
   "id": "6044f147",
   "metadata": {},
   "outputs": [],
   "source": [
    "for e in E:\n",
    "    Draw(e.imag, A.mesh, vectors={'grid_size':200}, min=0, max=.1)"
   ]
  },
  {
   "cell_type": "code",
   "execution_count": null,
   "id": "76bccd08",
   "metadata": {},
   "outputs": [],
   "source": []
  }
 ],
 "metadata": {
  "kernelspec": {
   "display_name": "Python 3 (ipykernel)",
   "language": "python",
   "name": "python3"
  },
  "language_info": {
   "codemirror_mode": {
    "name": "ipython",
    "version": 3
   },
   "file_extension": ".py",
   "mimetype": "text/x-python",
   "name": "python",
   "nbconvert_exporter": "python",
   "pygments_lexer": "ipython3",
   "version": "3.8.10"
  }
 },
 "nbformat": 4,
 "nbformat_minor": 5
}
