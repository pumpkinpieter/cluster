{
 "cells": [
  {
   "cell_type": "markdown",
   "id": "45f7e2e0",
   "metadata": {},
   "source": [
    "# View modes\n"
   ]
  },
  {
   "cell_type": "markdown",
   "id": "fc3fb403",
   "metadata": {},
   "source": [
    "## First the graph"
   ]
  },
  {
   "cell_type": "code",
   "execution_count": null,
   "id": "36fdb4d2",
   "metadata": {},
   "outputs": [],
   "source": [
    "import numpy as np\n",
    "import ngsolve as ng\n",
    "import matplotlib.pyplot as plt\n",
    "\n",
    "from fiberamp.fiber.microstruct.pbg import ARFcsg as ARF2\n",
    "from ngsolve.webgui import Draw\n"
   ]
  },
  {
   "cell_type": "code",
   "execution_count": null,
   "id": "75056faf",
   "metadata": {},
   "outputs": [],
   "source": [
    "%matplotlib inline\n",
    "%run graph.py"
   ]
  },
  {
   "cell_type": "markdown",
   "id": "2e29b3a9",
   "metadata": {},
   "source": [
    "## Load e values and get indices of modes we want to view"
   ]
  },
  {
   "cell_type": "code",
   "execution_count": null,
   "id": "150ca958",
   "metadata": {},
   "outputs": [],
   "source": [
    "Es = np.load('outputs/E_sub_212_224.npy')"
   ]
  },
  {
   "cell_type": "code",
   "execution_count": null,
   "id": "b6d3bb48",
   "metadata": {},
   "outputs": [],
   "source": [
    "indices = np.where(((1-Es)>.084)*((1-Es)<.09))[0]\n",
    "indices"
   ]
  },
  {
   "cell_type": "code",
   "execution_count": null,
   "id": "e9e42712",
   "metadata": {},
   "outputs": [],
   "source": [
    "Es[27]"
   ]
  },
  {
   "cell_type": "code",
   "execution_count": null,
   "id": "edb92c49",
   "metadata": {},
   "outputs": [],
   "source": [
    "a = ARF2()\n"
   ]
  },
  {
   "cell_type": "code",
   "execution_count": null,
   "id": "42a8dcd8",
   "metadata": {},
   "outputs": [],
   "source": [
    "Draw(a.mesh)"
   ]
  },
  {
   "cell_type": "code",
   "execution_count": null,
   "id": "5a6e2ed7",
   "metadata": {},
   "outputs": [],
   "source": [
    "ls modes/"
   ]
  },
  {
   "cell_type": "code",
   "execution_count": null,
   "id": "b47ac05c",
   "metadata": {},
   "outputs": [],
   "source": [
    "i = indices[3]\n",
    "\n",
    "mesh_path = 'modes/mesh_e_sub' + str(i)\n",
    "mode_path = 'modes/mode_e_sub' + str(i)\n",
    "\n",
    "mesh, modes = a.load_E_modes(mesh_path, mode_path, use_pickle=False)"
   ]
  },
  {
   "cell_type": "code",
   "execution_count": null,
   "id": "8a8848fa",
   "metadata": {
    "scrolled": false
   },
   "outputs": [],
   "source": [
    "for e in modes:\n",
    "    Draw(1e2*e.real[0], mesh, min=0, max=2)"
   ]
  },
  {
   "cell_type": "code",
   "execution_count": null,
   "id": "a90529c0",
   "metadata": {},
   "outputs": [],
   "source": [
    "import netgen.gui"
   ]
  },
  {
   "cell_type": "code",
   "execution_count": null,
   "id": "2510af75",
   "metadata": {},
   "outputs": [],
   "source": [
    "e = modes[0]\n",
    "Draw(-1e2*e.real[0], mesh, 'emodes')"
   ]
  },
  {
   "cell_type": "code",
   "execution_count": null,
   "id": "9571cf8f",
   "metadata": {},
   "outputs": [],
   "source": [
    "e.real"
   ]
  },
  {
   "cell_type": "code",
   "execution_count": null,
   "id": "cfbc7491",
   "metadata": {},
   "outputs": [],
   "source": []
  }
 ],
 "metadata": {
  "kernelspec": {
   "display_name": "Python 3 (ipykernel)",
   "language": "python",
   "name": "python3"
  },
  "language_info": {
   "codemirror_mode": {
    "name": "ipython",
    "version": 3
   },
   "file_extension": ".py",
   "mimetype": "text/x-python",
   "name": "python",
   "nbconvert_exporter": "python",
   "pygments_lexer": "ipython3",
   "version": "3.8.10"
  }
 },
 "nbformat": 4,
 "nbformat_minor": 5
}
