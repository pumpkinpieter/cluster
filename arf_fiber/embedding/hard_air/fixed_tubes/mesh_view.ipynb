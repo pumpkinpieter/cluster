{
 "cells": [
  {
   "cell_type": "code",
   "execution_count": 4,
   "id": "c1e6c238",
   "metadata": {},
   "outputs": [
    {
     "name": "stdout",
     "output_type": "stream",
     "text": [
      "ModeSolver: Checking if mesh has required regions\n",
      "Mesh has  46010  elements,  23037  points,  and  69046  edges.\n"
     ]
    }
   ],
   "source": [
    "\n",
    "import numpy as np\n",
    "import os\n",
    "import sys\n",
    "from fiberamp.fiber.microstruct.pbg import ARF2\n",
    "from ngsolve.webgui import Draw\n",
    "\n",
    "if not os.path.isdir('outputs'):\n",
    "    print('Making directory: outputs')\n",
    "    os.makedirs('outputs')\n",
    "\n",
    "if not os.path.isdir('modes'):\n",
    "    print('Making directory: modes')\n",
    "    os.makedirs('modes')\n",
    "\n",
    "# Set outer materials\n",
    "scaling = 15\n",
    "n_glass = 1.4388164768221814\n",
    "n_air = 1.00027717\n",
    "\n",
    "n_hard_polymer = 1.56\n",
    "T_hard_polymer = 10 / scaling\n",
    "\n",
    "T_outer = 10 / scaling\n",
    "T_buffer = 10 / scaling\n",
    "n0 = n_air  # Sets buffer and outer region refractive index.\n",
    "\n",
    "outer_materials = [\n",
    "\n",
    "    {'material': 'hard_polymer',\n",
    "     'n': n_hard_polymer,\n",
    "     'T': T_hard_polymer,\n",
    "     'maxh': .04},\n",
    "\n",
    "    {'material': 'buffer',\n",
    "     'n': n0,\n",
    "     'T': T_buffer,\n",
    "     'maxh': .4},\n",
    "\n",
    "    {'material': 'Outer',\n",
    "     'n': n0,\n",
    "     'T': T_outer,\n",
    "     'maxh': 1}\n",
    "]\n",
    "\n",
    "# Set result arrays\n",
    "nspan = 4\n",
    "betas = np.zeros(nspan, dtype=complex)\n",
    "\n",
    "# Embedding parameter array\n",
    "E = np.linspace(0.002, .9999, 240)\n",
    "\n",
    "# PML strength\n",
    "alpha = 5\n",
    "\n",
    "\n",
    "a = ARF2(name='fine_cladding', poly_core=True, refine=0,\n",
    "         curve=max(0+1, 8), shift_capillaries=False, e=E[0],\n",
    "         outer_materials=outer_materials)"
   ]
  },
  {
   "cell_type": "code",
   "execution_count": 6,
   "id": "7749e497",
   "metadata": {},
   "outputs": [
    {
     "data": {
      "application/vnd.jupyter.widget-view+json": {
       "model_id": "e98e3f970db14fd9930818a09e9af5c2",
       "version_major": 2,
       "version_minor": 0
      },
      "text/plain": [
       "WebGuiWidget(value={'ngsolve_version': '6.2.2203-56-g47f483033', 'mesh_dim': 2, 'order2d': 2, 'order3d': 2, 'd…"
      ]
     },
     "metadata": {},
     "output_type": "display_data"
    },
    {
     "data": {
      "text/plain": [
       "BaseWebGuiScene"
      ]
     },
     "execution_count": 6,
     "metadata": {},
     "output_type": "execute_result"
    }
   ],
   "source": [
    "Draw(a.mesh)\n"
   ]
  },
  {
   "cell_type": "code",
   "execution_count": null,
   "id": "8a4df8a8",
   "metadata": {},
   "outputs": [],
   "source": []
  }
 ],
 "metadata": {
  "kernelspec": {
   "display_name": "Python 3 (ipykernel)",
   "language": "python",
   "name": "python3"
  },
  "language_info": {
   "codemirror_mode": {
    "name": "ipython",
    "version": 3
   },
   "file_extension": ".py",
   "mimetype": "text/x-python",
   "name": "python",
   "nbconvert_exporter": "python",
   "pygments_lexer": "ipython3",
   "version": "3.8.10"
  }
 },
 "nbformat": 4,
 "nbformat_minor": 5
}
