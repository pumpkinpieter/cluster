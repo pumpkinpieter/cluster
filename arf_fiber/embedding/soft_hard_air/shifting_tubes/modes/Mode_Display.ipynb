{
 "cells": [
  {
   "cell_type": "code",
   "execution_count": 1,
   "id": "e9c93b89",
   "metadata": {},
   "outputs": [
    {
     "name": "stdout",
     "output_type": "stream",
     "text": [
      "importing NGSolve-6.2.2203-56-g47f483033\n"
     ]
    }
   ],
   "source": [
    "import numpy as np\n",
    "from fiberamp.fiber.microstruct.pbg import ARF2\n",
    "from ngsolve.webgui import Draw"
   ]
  },
  {
   "cell_type": "code",
   "execution_count": 2,
   "id": "9fe9b82a",
   "metadata": {},
   "outputs": [
    {
     "name": "stdout",
     "output_type": "stream",
     "text": [
      "ModeSolver: Checking if mesh has required regions\n",
      "Mesh has  3934  elements,  1984  points,  and  5917  edges.\n"
     ]
    }
   ],
   "source": [
    "a = ARF2()"
   ]
  },
  {
   "cell_type": "code",
   "execution_count": 12,
   "id": "d5289f04",
   "metadata": {
    "scrolled": true
   },
   "outputs": [],
   "source": [
    "mesh = a.load_mesh('mesh_e200')\n",
    "modes = a.load_E_modes('mesh_e200', 'mode_e200', p=1)"
   ]
  },
  {
   "cell_type": "code",
   "execution_count": 13,
   "id": "ce955999",
   "metadata": {},
   "outputs": [
    {
     "data": {
      "application/vnd.jupyter.widget-view+json": {
       "model_id": "1809b501ebec4e81a9d05f26db40a33b",
       "version_major": 2,
       "version_minor": 0
      },
      "text/plain": [
       "WebGuiWidget(value={'ngsolve_version': '6.2.2203-56-g47f483033', 'mesh_dim': 2, 'order2d': 2, 'order3d': 2, 'd…"
      ]
     },
     "metadata": {},
     "output_type": "display_data"
    }
   ],
   "source": [
    "for m in modes:\n",
    "    Draw(m.real, mesh, 'm')"
   ]
  },
  {
   "cell_type": "code",
   "execution_count": null,
   "id": "29b9f0e3",
   "metadata": {},
   "outputs": [],
   "source": []
  }
 ],
 "metadata": {
  "kernelspec": {
   "display_name": "Python 3 (ipykernel)",
   "language": "python",
   "name": "python3"
  },
  "language_info": {
   "codemirror_mode": {
    "name": "ipython",
    "version": 3
   },
   "file_extension": ".py",
   "mimetype": "text/x-python",
   "name": "python",
   "nbconvert_exporter": "python",
   "pygments_lexer": "ipython3",
   "version": "3.8.10"
  }
 },
 "nbformat": 4,
 "nbformat_minor": 5
}
