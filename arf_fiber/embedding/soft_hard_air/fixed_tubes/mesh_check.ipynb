{
 "cells": [
  {
   "cell_type": "code",
   "execution_count": 3,
   "id": "2e3e2efc",
   "metadata": {},
   "outputs": [],
   "source": [
    "import ngsolve as ng\n",
    "import numpy as np\n",
    "from fiberamp.fiber.microstruct.pbg import ARF2\n",
    "from ngsolve.webgui import Draw"
   ]
  },
  {
   "cell_type": "code",
   "execution_count": 8,
   "id": "a1875f26",
   "metadata": {},
   "outputs": [],
   "source": [
    "\n",
    "# Set outer materials\n",
    "scaling = 15\n",
    "n_glass = 1.4388164768221814\n",
    "n_air = 1.00027717\n",
    "\n",
    "n_hard_polymer = 1.56\n",
    "T_hard_polymer = 10 / scaling\n",
    "\n",
    "T_outer = 20 / scaling\n",
    "n0 = n_hard_polymer  # Sets buffer and outer region refractive index.\n",
    "\n",
    "outer_materials = [\n",
    "\n",
    "    {'material': 'hard_polymer',\n",
    "     'n': n_hard_polymer,\n",
    "     'T': T_hard_polymer,\n",
    "     'maxh': .04},\n",
    "\n",
    "    {'material': 'Outer',\n",
    "     'n': n0,\n",
    "     'T': T_outer,\n",
    "     'maxh': .1}\n",
    "]\n",
    "\n",
    "# Set result arrays\n",
    "nspan = 4\n",
    "betas = np.zeros(nspan, dtype=complex)\n",
    "\n",
    "# Embedding parameter array\n",
    "E = np.linspace(0.002, .9999, 240)\n",
    "\n",
    "# PML strength\n",
    "alpha = 5\n",
    "i=0"
   ]
  },
  {
   "cell_type": "code",
   "execution_count": 9,
   "id": "16750a5e",
   "metadata": {},
   "outputs": [
    {
     "name": "stdout",
     "output_type": "stream",
     "text": [
      "ModeSolver: Checking if mesh has required regions\n",
      "Mesh has  53202  elements,  26772  points,  and  79973  edges.\n"
     ]
    }
   ],
   "source": [
    "a = ARF2(name='fine_cladding', poly_core=True, refine=0,\n",
    "         curve=max(0+1, 8), shift_capillaries=False, e=E[i],\n",
    "         outer_materials=outer_materials)\n"
   ]
  },
  {
   "cell_type": "code",
   "execution_count": 12,
   "id": "bcb59e5a",
   "metadata": {},
   "outputs": [
    {
     "data": {
      "application/vnd.jupyter.widget-view+json": {
       "model_id": "89e8e3b038cf4feeafaf72afd71269d4",
       "version_major": 2,
       "version_minor": 0
      },
      "text/plain": [
       "WebGuiWidget(value={'ngsolve_version': '6.2.2203-56-g47f483033', 'mesh_dim': 2, 'order2d': 2, 'order3d': 2, 'd…"
      ]
     },
     "metadata": {},
     "output_type": "display_data"
    },
    {
     "data": {
      "text/plain": [
       "BaseWebGuiScene"
      ]
     },
     "execution_count": 12,
     "metadata": {},
     "output_type": "execute_result"
    }
   ],
   "source": [
    "Draw(a.mesh)"
   ]
  },
  {
   "cell_type": "code",
   "execution_count": null,
   "id": "080e573f",
   "metadata": {},
   "outputs": [],
   "source": []
  }
 ],
 "metadata": {
  "kernelspec": {
   "display_name": "Python 3 (ipykernel)",
   "language": "python",
   "name": "python3"
  },
  "language_info": {
   "codemirror_mode": {
    "name": "ipython",
    "version": 3
   },
   "file_extension": ".py",
   "mimetype": "text/x-python",
   "name": "python",
   "nbconvert_exporter": "python",
   "pygments_lexer": "ipython3",
   "version": "3.8.10"
  }
 },
 "nbformat": 4,
 "nbformat_minor": 5
}
