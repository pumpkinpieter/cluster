{
 "cells": [
  {
   "cell_type": "code",
   "execution_count": 1,
   "id": "2e3e2efc",
   "metadata": {},
   "outputs": [
    {
     "name": "stdout",
     "output_type": "stream",
     "text": [
      "importing NGSolve-6.2.2204-70-ge355f05ce\n"
     ]
    }
   ],
   "source": [
    "import ngsolve as ng\n",
    "import numpy as np\n",
    "from fiberamp.fiber.microstruct.pbg import ARF2\n",
    "from ngsolve.webgui import Draw"
   ]
  },
  {
   "cell_type": "code",
   "execution_count": 5,
   "id": "a1875f26",
   "metadata": {},
   "outputs": [],
   "source": [
    "\n",
    "# Set outer materials\n",
    "scaling = 15\n",
    "n_glass = 1.4388164768221814\n",
    "n_air = 1.00027717\n",
    "\n",
    "n_hard_polymer = 1.56\n",
    "T_hard_polymer = 10 / scaling\n",
    "\n",
    "n_soft_polymer = 1.37\n",
    "n_hard_polymer = 1.56\n",
    "\n",
    "T_soft_polymer = 10 / scaling\n",
    "T_hard_polymer = 10 / scaling\n",
    "\n",
    "T_outer = 10 / scaling\n",
    "n0 = n_hard_polymer  # Sets buffer and outer region refractive index.\n",
    "\n",
    "outer_materials = [\n",
    "\n",
    "    {'material': 'soft_polymer',\n",
    "     'n': n_soft_polymer,\n",
    "     'T': T_soft_polymer,\n",
    "     'maxh': .04},\n",
    "\n",
    "    {'material': 'hard_polymer',\n",
    "     'n': n_hard_polymer,\n",
    "     'T': T_hard_polymer,\n",
    "     'maxh': .04},\n",
    "\n",
    "    {'material': 'Outer',\n",
    "     'n': n0,\n",
    "     'T': T_outer,\n",
    "     'maxh': .2}\n",
    "]\n",
    "\n",
    "# Set result arrays\n",
    "nspan = 4\n",
    "betas = np.zeros(nspan, dtype=complex)\n",
    "\n",
    "# Embedding parameter array\n",
    "E = np.linspace(0.002, .9999, 240)\n",
    "\n",
    "# PML strength\n",
    "alpha = 5\n",
    "i=0"
   ]
  },
  {
   "cell_type": "code",
   "execution_count": 6,
   "id": "16750a5e",
   "metadata": {},
   "outputs": [
    {
     "name": "stdout",
     "output_type": "stream",
     "text": [
      "ModeSolver: Checking if mesh has required regions\n",
      "Mesh has  71458  elements,  35814  points,  and  107271  edges.\n"
     ]
    }
   ],
   "source": [
    "a = ARF2(name='fine_cladding', poly_core=True, refine=0,\n",
    "         curve=max(0+1, 8), shift_capillaries=False, e=E[i],\n",
    "         outer_materials=outer_materials)\n"
   ]
  },
  {
   "cell_type": "code",
   "execution_count": 7,
   "id": "bcb59e5a",
   "metadata": {},
   "outputs": [
    {
     "data": {
      "application/vnd.jupyter.widget-view+json": {
       "model_id": "bb975faa42514366b15a85661f7b120e",
       "version_major": 2,
       "version_minor": 0
      },
      "text/plain": [
       "WebGuiWidget(value={'gui_settings': {}, 'ngsolve_version': '6.2.2204-70-ge355f05ce', 'mesh_dim': 2, 'order2d':…"
      ]
     },
     "metadata": {},
     "output_type": "display_data"
    },
    {
     "data": {
      "text/plain": [
       "BaseWebGuiScene"
      ]
     },
     "execution_count": 7,
     "metadata": {},
     "output_type": "execute_result"
    }
   ],
   "source": [
    "Draw(a.mesh)"
   ]
  },
  {
   "cell_type": "code",
   "execution_count": null,
   "id": "080e573f",
   "metadata": {},
   "outputs": [],
   "source": []
  }
 ],
 "metadata": {
  "kernelspec": {
   "display_name": "Python 3 (ipykernel)",
   "language": "python",
   "name": "python3"
  },
  "language_info": {
   "codemirror_mode": {
    "name": "ipython",
    "version": 3
   },
   "file_extension": ".py",
   "mimetype": "text/x-python",
   "name": "python",
   "nbconvert_exporter": "python",
   "pygments_lexer": "ipython3",
   "version": "3.8.10"
  }
 },
 "nbformat": 4,
 "nbformat_minor": 5
}
