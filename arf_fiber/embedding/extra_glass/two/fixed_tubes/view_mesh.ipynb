{
 "cells": [
  {
   "cell_type": "code",
   "execution_count": null,
   "id": "764ee642",
   "metadata": {},
   "outputs": [],
   "source": [
    "\n",
    "import numpy as np\n",
    "import os\n",
    "import sys\n",
    "from fiberamp.fiber.microstruct.pbg import ARF2\n",
    "from ngsolve.webgui import Draw\n",
    "\n",
    "\n",
    "# Set outer materials\n",
    "scaling = 15\n",
    "n_glass = 1.4388164768221814\n",
    "n_air = 1.00027717\n",
    "\n",
    "T_extra = 10 / scaling\n",
    "T_buffer = 10 / scaling\n",
    "T_outer = 10 / scaling\n",
    "n0 = n_air  # Sets buffer and outer region refractive index.\n",
    "\n",
    "outer_materials = [\n",
    "    {'material':'extra_glass',\n",
    "     'n': n_glass,\n",
    "     'T': T_extra,\n",
    "     'maxh': .05},\n",
    "\n",
    "    {'material':'buffer',\n",
    "     'n': n0,\n",
    "     'T': T_buffer,\n",
    "     'maxh': .4},\n",
    "\n",
    "    {'material': 'Outer',\n",
    "     'n': n0,\n",
    "     'T': T_outer,\n",
    "     'maxh': 1}\n",
    "]\n",
    "# Set result arrays\n",
    "nspan = 4\n",
    "betas = np.zeros(nspan, dtype=complex)\n",
    "\n",
    "# Embedding parameter array\n",
    "E = np.linspace(0.002, .9999, 240)\n",
    "\n",
    "# PML strength\n",
    "alpha = 5\n",
    "\n",
    "a = ARF2(name='fine_cladding', poly_core=True, refine=0,\n",
    "         curve=8, shift_capillaries=False, e=E[1],\n",
    "         outer_materials=outer_materials)\n"
   ]
  },
  {
   "cell_type": "code",
   "execution_count": null,
   "id": "6895a97c",
   "metadata": {},
   "outputs": [],
   "source": [
    "Draw(a.mesh)"
   ]
  },
  {
   "cell_type": "code",
   "execution_count": null,
   "id": "173d8041",
   "metadata": {},
   "outputs": [],
   "source": [
    "center = a.L**2 * a.k**2 * (n0**2 - n_air**2) + 5.066\n",
    "radius = .1\n",
    "npts = 4\n",
    "alpha = 5\n",
    "p = 0\n",
    "\n",
    "beta, _, Es, _, _ = a.leakyvecmodes(ctr=center,\n",
    "                                    rad=radius,\n",
    "                                    alpha=alpha,\n",
    "                                    nspan=nspan,\n",
    "                                    npts=npts,\n",
    "                                    p=p,\n",
    "                                    niterations=12,\n",
    "                                    nrestarts=0,\n",
    "                                    stop_tol=1e-9,)"
   ]
  },
  {
   "cell_type": "code",
   "execution_count": null,
   "id": "e36428a1",
   "metadata": {},
   "outputs": [],
   "source": [
    "for e in Es:\n",
    "    Draw(e[0], a.mesh, vectors={'grid_size':400})"
   ]
  },
  {
   "cell_type": "code",
   "execution_count": null,
   "id": "7997b110",
   "metadata": {},
   "outputs": [],
   "source": []
  }
 ],
 "metadata": {
  "kernelspec": {
   "display_name": "Python 3 (ipykernel)",
   "language": "python",
   "name": "python3"
  },
  "language_info": {
   "codemirror_mode": {
    "name": "ipython",
    "version": 3
   },
   "file_extension": ".py",
   "mimetype": "text/x-python",
   "name": "python",
   "nbconvert_exporter": "python",
   "pygments_lexer": "ipython3",
   "version": "3.8.10"
  }
 },
 "nbformat": 4,
 "nbformat_minor": 5
}
