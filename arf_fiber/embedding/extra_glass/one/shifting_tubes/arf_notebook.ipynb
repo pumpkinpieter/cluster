{
 "cells": [
  {
   "cell_type": "code",
   "execution_count": 1,
   "id": "76c32175",
   "metadata": {},
   "outputs": [
    {
     "name": "stdout",
     "output_type": "stream",
     "text": [
      "importing NGSolve-6.2.2203-56-g47f483033\n"
     ]
    }
   ],
   "source": [
    "import numpy as np\n",
    "import ngsolve as ng\n",
    "from fiberamp.fiber.microstruct.pbg import ARF2\n",
    "from ngsolve.webgui import Draw"
   ]
  },
  {
   "cell_type": "code",
   "execution_count": 2,
   "id": "36da44d6",
   "metadata": {},
   "outputs": [],
   "source": [
    "es = np.linspace(.002, .9999, 240)"
   ]
  },
  {
   "cell_type": "code",
   "execution_count": 3,
   "id": "128f166f",
   "metadata": {},
   "outputs": [
    {
     "data": {
      "text/plain": [
       "0.0479284518828452"
      ]
     },
     "execution_count": 3,
     "metadata": {},
     "output_type": "execute_result"
    }
   ],
   "source": [
    "es[11]"
   ]
  },
  {
   "cell_type": "code",
   "execution_count": 9,
   "id": "81256137",
   "metadata": {},
   "outputs": [],
   "source": [
    "scaling = 15\n",
    "n_glass = 1.4388164768221814\n",
    "n_air = 1.00027717\n",
    "\n",
    "T_extra = 5 / scaling\n",
    "T_buffer = 10 / scaling\n",
    "T_outer = 10 / scaling\n",
    "n0 = n_air  # Sets buffer and outer region refractive index.\n",
    "\n",
    "outer_materials = [\n",
    "    # {'material': 'extra_glass',\n",
    "    #  'n': n_glass,\n",
    "    #  'T': T_extra,\n",
    "    #  'maxh': .05},\n",
    "\n",
    "    {'material': 'buffer',\n",
    "     'n': n0,\n",
    "     'T': T_buffer,\n",
    "     'maxh': .4},\n",
    "\n",
    "    {'material': 'Outer',\n",
    "     'n': n0,\n",
    "     'T': T_outer,\n",
    "     'maxh': 1}\n",
    "]\n"
   ]
  },
  {
   "cell_type": "code",
   "execution_count": 35,
   "id": "0cfb1b97",
   "metadata": {},
   "outputs": [
    {
     "name": "stdout",
     "output_type": "stream",
     "text": [
      "ModeSolver: Checking if mesh has required regions\n",
      "Mesh has  22519  elements,  11287  points,  and  33805  edges.\n"
     ]
    }
   ],
   "source": [
    "i = 200\n",
    "A = ARF2(name='fine_cladding', poly_core=True, e=es[i], shift_capillaries=True,\n",
    "        outer_materials=outer_materials, T_cladding=11)"
   ]
  },
  {
   "cell_type": "code",
   "execution_count": 36,
   "id": "17d952bb",
   "metadata": {
    "scrolled": true
   },
   "outputs": [
    {
     "data": {
      "application/vnd.jupyter.widget-view+json": {
       "model_id": "be2ed3fb75394d238b6b58f5b226bb98",
       "version_major": 2,
       "version_minor": 0
      },
      "text/plain": [
       "WebGuiWidget(value={'ngsolve_version': '6.2.2203-56-g47f483033', 'mesh_dim': 2, 'order2d': 2, 'order3d': 2, 'd…"
      ]
     },
     "metadata": {},
     "output_type": "display_data"
    },
    {
     "data": {
      "text/plain": [
       "BaseWebGuiScene"
      ]
     },
     "execution_count": 36,
     "metadata": {},
     "output_type": "execute_result"
    }
   ],
   "source": [
    "Draw(ng.CF([0]),A.mesh)"
   ]
  },
  {
   "cell_type": "code",
   "execution_count": 37,
   "id": "d8456b24",
   "metadata": {},
   "outputs": [],
   "source": [
    "center = 4.84\n",
    "radius = .08        \n",
    "alpha = 5\n"
   ]
  },
  {
   "cell_type": "code",
   "execution_count": 52,
   "id": "fa8c1b00",
   "metadata": {},
   "outputs": [
    {
     "data": {
      "text/plain": [
       "5.023356819217615"
      ]
     },
     "execution_count": 52,
     "metadata": {},
     "output_type": "execute_result"
    }
   ],
   "source": [
    "# Embedding parameter array\n",
    "\n",
    "E = np.linspace(0.002, .9999, 240)\n",
    "\n",
    "# Linear fit for finding search centers\n",
    "m, b = -0.28106463,  5.0825956\n",
    "\n",
    "# Seach centers\n",
    "centers = b + m * E\n",
    "centers[50]"
   ]
  },
  {
   "cell_type": "code",
   "execution_count": 38,
   "id": "c9b6a5d4",
   "metadata": {
    "scrolled": true
   },
   "outputs": [
    {
     "name": "stdout",
     "output_type": "stream",
     "text": [
      "Set NGSolve automatic PML with p= 1  alpha= 5 and thickness=0.667\n",
      "Using FEAST to search for vector leaky modes in\n",
      "circle of radius 0.08 centered at  4.84\n",
      "assuming not more than 4 modes in this interval\n",
      "System size: 112648  x  112648   Inverse type: umfpack\n",
      "\n",
      "SpectralProj: Setting shifted trapezoidal rule on elliptical contour\n",
      "SpectralProjNGR:   Making resolvent at z =  +4.897 +0.001j\n",
      "SpectralProjNGR:   Making resolvent at z =  +4.783 +0.001j\n",
      "SpectralProjNGR:   Making resolvent at z =  +4.783 -0.001j\n",
      "SpectralProjNGR:   Making resolvent at z =  +4.897 -0.001j\n",
      "\n",
      "=========== Starting FEAST iterations ===========\n",
      "Trying with 4 vectors:\n",
      "\n",
      " ITERATION 1 with 4 vectors and 4 left vectors\n",
      "   During kernel cleaning abs(g):\n",
      "   [1.0e-03 2.6e-04 3.4e-07 3.7e-05]\n",
      "   Real part of computed eigenvalues:\n",
      "   [4.71742895 4.83226385 4.84778712 4.84792169]\n",
      "   Imag part of computed eigenvalues:\n",
      "   [-7.62671855e-03 -6.30048819e-03  4.30883834e-06 -4.26226338e-05]\n",
      "   Relative Hausdorff distance from prior iterate: 2.066e+99\n",
      "\n",
      " ITERATION 2 with 4 vectors and 4 left vectors\n",
      "   During kernel cleaning abs(g):\n",
      "   [1.5 1.6 0.7 0.9]\n",
      "   Real part of computed eigenvalues:\n",
      "   [4.71854297 4.83226169 4.84778446 4.84792376]\n",
      "   Imag part of computed eigenvalues:\n",
      "   [-7.81472017e-03 -6.30270019e-03 -2.61092276e-06 -5.74062056e-05]\n",
      "   Relative Hausdorff distance from prior iterate: 2.334e-04\n",
      "\n",
      " ITERATION 3 with 4 vectors and 4 left vectors\n",
      "   During kernel cleaning abs(g):\n",
      "   [1.5e-06 2.6e-04 6.1e-04 4.6e-04]\n",
      "   Real part of computed eigenvalues:\n",
      "   [4.71855604 4.83226169 4.84778446 4.84792376]\n",
      "   Imag part of computed eigenvalues:\n",
      "   [-7.77484628e-03 -6.30270080e-03 -2.61214780e-06 -5.74081317e-05]\n",
      "   Relative Hausdorff distance from prior iterate: 8.669e-06\n",
      "\n",
      "   Removing ew#[0, 1] not enclosed by contour\n",
      " ITERATION 4 with 2 vectors and 2 left vectors\n",
      "   During kernel cleaning abs(g):\n",
      "   [1.7 0.7]\n",
      "   Real part of computed eigenvalues:\n",
      "   [4.84778446 4.84792376]\n",
      "   Imag part of computed eigenvalues:\n",
      "   [-2.61214789e-06 -5.74081318e-05]\n",
      "   Relative Hausdorff distance from prior iterate: 1.263e-13\n",
      "\n",
      "\n",
      "***FEAST converged with:\n",
      "\tRelative Hausdorff distance = 1.263e-13\n",
      "\n",
      "============= FEAST iterations done =============\n",
      "Results:\n",
      " Z²: [4.84792376-5.74081318e-05j 4.84778446-2.61214789e-06j]\n",
      " beta: [3488539.21642454+0.03656935j 3488539.3051578 +0.00166396j]\n",
      " CL dB/m: [0.31763737 0.01445293]\n"
     ]
    }
   ],
   "source": [
    "betas, zsqrs, E, phi, _ = A.leakyvecmodes(ctr=center, rad=radius, alpha=alpha,\n",
    "                                          nspan=4, npts=4, p=1, niterations=10,\n",
    "                                          rhoinv=.99, quadrule='ellipse_trapez_shift',\n",
    "                                          nrestarts=0, stop_tol=1e-9)\n"
   ]
  },
  {
   "cell_type": "code",
   "execution_count": 39,
   "id": "3fe8e5a5",
   "metadata": {},
   "outputs": [
    {
     "data": {
      "application/vnd.jupyter.widget-view+json": {
       "model_id": "6f48dded11c14576923895d284ebd913",
       "version_major": 2,
       "version_minor": 0
      },
      "text/plain": [
       "WebGuiWidget(value={'ngsolve_version': '6.2.2203-56-g47f483033', 'mesh_dim': 2, 'order2d': 2, 'order3d': 2, 'd…"
      ]
     },
     "metadata": {},
     "output_type": "display_data"
    },
    {
     "data": {
      "application/vnd.jupyter.widget-view+json": {
       "model_id": "2be04eb9576a41b18acd8e5a085b510b",
       "version_major": 2,
       "version_minor": 0
      },
      "text/plain": [
       "WebGuiWidget(value={'ngsolve_version': '6.2.2203-56-g47f483033', 'mesh_dim': 2, 'order2d': 2, 'order3d': 2, 'd…"
      ]
     },
     "metadata": {},
     "output_type": "display_data"
    }
   ],
   "source": [
    "for f in phi:\n",
    "    Draw(1e1*f, A.mesh, min=0, max=1)"
   ]
  },
  {
   "cell_type": "code",
   "execution_count": 40,
   "id": "6044f147",
   "metadata": {},
   "outputs": [
    {
     "data": {
      "application/vnd.jupyter.widget-view+json": {
       "model_id": "d0298b0059284679a54bf4ea1a4ae133",
       "version_major": 2,
       "version_minor": 0
      },
      "text/plain": [
       "WebGuiWidget(value={'ngsolve_version': '6.2.2203-56-g47f483033', 'mesh_dim': 2, 'order2d': 2, 'order3d': 2, 'd…"
      ]
     },
     "metadata": {},
     "output_type": "display_data"
    },
    {
     "data": {
      "application/vnd.jupyter.widget-view+json": {
       "model_id": "054f14949f1c43d9881a69169b3ceb11",
       "version_major": 2,
       "version_minor": 0
      },
      "text/plain": [
       "WebGuiWidget(value={'ngsolve_version': '6.2.2203-56-g47f483033', 'mesh_dim': 2, 'order2d': 2, 'order3d': 2, 'd…"
      ]
     },
     "metadata": {},
     "output_type": "display_data"
    }
   ],
   "source": [
    "for e in E:\n",
    "    Draw(e.imag, A.mesh, vectors={'grid_size':200}, min=0, max=.1)"
   ]
  },
  {
   "cell_type": "markdown",
   "id": "88495a3d",
   "metadata": {},
   "source": [
    "Center interpolation for T_clad = 11\n",
    "\n",
    "es(1) = 5.082\n",
    "es(25) = 5.053\n",
    "es(50) = 5.0233\n",
    "es(75) = 4.9934\n",
    "es(100) = 4.9638\n",
    "es(150) = 4.905\n",
    "es(200) = 4.847\n",
    "es(239) = 4.803"
   ]
  },
  {
   "cell_type": "code",
   "execution_count": 47,
   "id": "7e30022e",
   "metadata": {},
   "outputs": [],
   "source": [
    "xs = [es[1], es[25], es[50], es[75], es[100], es[150], es[200], es[239]]\n",
    "ys = [5.082, 5.053, 5.0233, 4.9934, 4.9638, 4.905, 4.847, 4.803]"
   ]
  },
  {
   "cell_type": "code",
   "execution_count": 48,
   "id": "0de26b9e",
   "metadata": {},
   "outputs": [
    {
     "data": {
      "text/plain": [
       "([0.006175313807531381,\n",
       "  0.10638284518828453,\n",
       "  0.21076569037656906,\n",
       "  0.31514853556485356,\n",
       "  0.4195313807531381,\n",
       "  0.6282970711297071,\n",
       "  0.8370627615062762,\n",
       "  0.9999],\n",
       " [5.082, 5.053, 5.0233, 4.9934, 4.9638, 4.905, 4.847, 4.803])"
      ]
     },
     "execution_count": 48,
     "metadata": {},
     "output_type": "execute_result"
    }
   ],
   "source": [
    "xs, ys"
   ]
  },
  {
   "cell_type": "code",
   "execution_count": 49,
   "id": "59d15e99",
   "metadata": {},
   "outputs": [
    {
     "data": {
      "text/plain": [
       "array([-0.28106463,  5.0825956 ])"
      ]
     },
     "execution_count": 49,
     "metadata": {},
     "output_type": "execute_result"
    }
   ],
   "source": [
    "np.polyfit(xs, ys,1)"
   ]
  },
  {
   "cell_type": "code",
   "execution_count": null,
   "id": "1bad6ba7",
   "metadata": {},
   "outputs": [],
   "source": []
  }
 ],
 "metadata": {
  "kernelspec": {
   "display_name": "Python 3 (ipykernel)",
   "language": "python",
   "name": "python3"
  },
  "language_info": {
   "codemirror_mode": {
    "name": "ipython",
    "version": 3
   },
   "file_extension": ".py",
   "mimetype": "text/x-python",
   "name": "python",
   "nbconvert_exporter": "python",
   "pygments_lexer": "ipython3",
   "version": "3.8.10"
  }
 },
 "nbformat": 4,
 "nbformat_minor": 5
}
