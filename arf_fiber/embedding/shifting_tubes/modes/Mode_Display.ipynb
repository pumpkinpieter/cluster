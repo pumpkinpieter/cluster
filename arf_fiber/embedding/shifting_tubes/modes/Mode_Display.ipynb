{
 "cells": [
  {
   "cell_type": "code",
   "execution_count": null,
   "id": "e9c93b89",
   "metadata": {},
   "outputs": [],
   "source": [
    "import numpy as np\n",
    "from fiberamp.fiber.microstruct.pbg import ARF2\n",
    "from ngsolve.webgui import Draw"
   ]
  },
  {
   "cell_type": "code",
   "execution_count": null,
   "id": "9fe9b82a",
   "metadata": {},
   "outputs": [],
   "source": [
    "a = ARF2()"
   ]
  },
  {
   "cell_type": "code",
   "execution_count": null,
   "id": "d5289f04",
   "metadata": {},
   "outputs": [],
   "source": [
    "mesh = a.load_mesh('mesh_e10')\n",
    "modes = a.load_modes('mesh_e10', 'mode_e10')"
   ]
  },
  {
   "cell_type": "code",
   "execution_count": null,
   "id": "ce955999",
   "metadata": {},
   "outputs": [],
   "source": [
    "for m in modes:\n",
    "    Draw(m.real, mesh, 'm')"
   ]
  }
 ],
 "metadata": {
  "kernelspec": {
   "display_name": "Python 3 (ipykernel)",
   "language": "python",
   "name": "python3"
  },
  "language_info": {
   "codemirror_mode": {
    "name": "ipython",
    "version": 3
   },
   "file_extension": ".py",
   "mimetype": "text/x-python",
   "name": "python",
   "nbconvert_exporter": "python",
   "pygments_lexer": "ipython3",
   "version": "3.8.10"
  }
 },
 "nbformat": 4,
 "nbformat_minor": 5
}
