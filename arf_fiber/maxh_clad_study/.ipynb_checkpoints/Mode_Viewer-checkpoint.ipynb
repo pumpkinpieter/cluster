{
 "cells": [
  {
   "cell_type": "markdown",
   "id": "45f7e2e0",
   "metadata": {},
   "source": [
    "# View modes in current mode folder\n"
   ]
  },
  {
   "cell_type": "code",
   "execution_count": 1,
   "id": "36fdb4d2",
   "metadata": {},
   "outputs": [],
   "source": [
    "from fiberamp.fiber.microstruct.pbg import ARF2\n",
    "from ngsolve.webgui import Draw\n",
    "from ngsolve import Norm, Integrate\n",
    "# import netgen.gui\n",
    "import ngsolve as ng"
   ]
  },
  {
   "cell_type": "code",
   "execution_count": 8,
   "id": "edb92c49",
   "metadata": {},
   "outputs": [
    {
     "name": "stdout",
     "output_type": "stream",
     "text": [
      "ModeSolver: Checking if mesh has required regions\n",
      "Mesh has  7378  elements,  3707  points,  and  11084  edges.\n",
      "ModeSolver: Checking if mesh has required regions\n",
      "Mesh has  3928  elements,  1980  points,  and  5907  edges.\n"
     ]
    }
   ],
   "source": [
    "a = ARF2(glass_maxh=.1, poly_core=True)\n",
    "b = ARF2(poly_core=True)\n",
    "\n",
    "p = 3\n"
   ]
  },
  {
   "cell_type": "code",
   "execution_count": 9,
   "id": "8f1595a9",
   "metadata": {
    "scrolled": false
   },
   "outputs": [
    {
     "data": {
      "application/vnd.jupyter.widget-view+json": {
       "model_id": "bc4fb69123514abfaeabfa6903f8330a",
       "version_major": 2,
       "version_minor": 0
      },
      "text/plain": [
       "WebGuiWidget(layout=Layout(height='50vh', width='100%'), value={'gui_settings': {}, 'ngsolve_version': '6.2.23…"
      ]
     },
     "metadata": {},
     "output_type": "display_data"
    },
    {
     "data": {
      "text/plain": [
       "BaseWebGuiScene"
      ]
     },
     "execution_count": 9,
     "metadata": {},
     "output_type": "execute_result"
    }
   ],
   "source": [
    "Draw(a.mesh)"
   ]
  },
  {
   "cell_type": "code",
   "execution_count": 10,
   "id": "30ee6632",
   "metadata": {
    "scrolled": true
   },
   "outputs": [
    {
     "data": {
      "application/vnd.jupyter.widget-view+json": {
       "model_id": "b1377c5cb21b47daa398c6d5f88d7e90",
       "version_major": 2,
       "version_minor": 0
      },
      "text/plain": [
       "WebGuiWidget(layout=Layout(height='50vh', width='100%'), value={'gui_settings': {}, 'ngsolve_version': '6.2.23…"
      ]
     },
     "metadata": {},
     "output_type": "display_data"
    },
    {
     "data": {
      "text/plain": [
       "BaseWebGuiScene"
      ]
     },
     "execution_count": 10,
     "metadata": {},
     "output_type": "execute_result"
    }
   ],
   "source": [
    "Draw(b.mesh)"
   ]
  },
  {
   "cell_type": "markdown",
   "id": "35f6f59d",
   "metadata": {},
   "source": [
    "# Maxh 0 (coarse mesh)"
   ]
  },
  {
   "cell_type": "code",
   "execution_count": 3,
   "id": "8a6ba486",
   "metadata": {},
   "outputs": [],
   "source": [
    "maxh = 0.0\n",
    "mesh_path = 'modes/mesh_maxh_' + str(maxh) + 'p' + str(p) + '.pkl'\n",
    "Es_path = 'modes/Es_maxh' + str(maxh) + 'p' + str(p)\n",
    "phis_path = 'modes/phis_maxh' + str(maxh) + 'p' + str(p)"
   ]
  },
  {
   "cell_type": "code",
   "execution_count": 4,
   "id": "b47ac05c",
   "metadata": {},
   "outputs": [
    {
     "ename": "FileNotFoundError",
     "evalue": "[Errno 2] No such file or directory: 'modes/mesh_maxh_0.0p3.pkl'",
     "output_type": "error",
     "traceback": [
      "\u001b[0;31m---------------------------------------------------------------------------\u001b[0m",
      "\u001b[0;31mFileNotFoundError\u001b[0m                         Traceback (most recent call last)",
      "Cell \u001b[0;32mIn[4], line 1\u001b[0m\n\u001b[0;32m----> 1\u001b[0m mesh1 \u001b[38;5;241m=\u001b[39m \u001b[43ma\u001b[49m\u001b[38;5;241;43m.\u001b[39;49m\u001b[43mload_mesh\u001b[49m\u001b[43m(\u001b[49m\u001b[43mmesh_path\u001b[49m\u001b[43m)\u001b[49m\n\u001b[1;32m      2\u001b[0m mesh1\u001b[38;5;241m.\u001b[39mCurve(\u001b[38;5;28mmax\u001b[39m(p\u001b[38;5;241m+\u001b[39m\u001b[38;5;241m1\u001b[39m,\u001b[38;5;241m8\u001b[39m))\n\u001b[1;32m      3\u001b[0m \u001b[38;5;66;03m# Es1 = a.load_E_modes(mesh_path, Es_path, p=p)\u001b[39;00m\n",
      "File \u001b[0;32m~/local/fiberamp/fiber/microstruct/pbg/arf2.py:967\u001b[0m, in \u001b[0;36mARF2.load_mesh\u001b[0;34m(self, name)\u001b[0m\n\u001b[1;32m    965\u001b[0m \u001b[38;5;28;01mif\u001b[39;00m name[\u001b[38;5;241m-\u001b[39m\u001b[38;5;241m4\u001b[39m:] \u001b[38;5;241m!=\u001b[39m \u001b[38;5;124m'\u001b[39m\u001b[38;5;124m.pkl\u001b[39m\u001b[38;5;124m'\u001b[39m:\n\u001b[1;32m    966\u001b[0m     name \u001b[38;5;241m+\u001b[39m\u001b[38;5;241m=\u001b[39m \u001b[38;5;124m'\u001b[39m\u001b[38;5;124m.pkl\u001b[39m\u001b[38;5;124m'\u001b[39m\n\u001b[0;32m--> 967\u001b[0m \u001b[38;5;28;01mwith\u001b[39;00m \u001b[38;5;28;43mopen\u001b[39;49m\u001b[43m(\u001b[49m\u001b[43mname\u001b[49m\u001b[43m,\u001b[49m\u001b[43m \u001b[49m\u001b[38;5;124;43m'\u001b[39;49m\u001b[38;5;124;43mrb\u001b[39;49m\u001b[38;5;124;43m'\u001b[39;49m\u001b[43m)\u001b[49m \u001b[38;5;28;01mas\u001b[39;00m f:\n\u001b[1;32m    968\u001b[0m     pmesh \u001b[38;5;241m=\u001b[39m pickle\u001b[38;5;241m.\u001b[39mload(f)\n\u001b[1;32m    969\u001b[0m \u001b[38;5;28;01mreturn\u001b[39;00m pmesh\n",
      "\u001b[0;31mFileNotFoundError\u001b[0m: [Errno 2] No such file or directory: 'modes/mesh_maxh_0.0p3.pkl'"
     ]
    }
   ],
   "source": [
    "mesh1 = a.load_mesh(mesh_path)\n",
    "mesh1.Curve(max(p+1,8))\n",
    "# Es1 = a.load_E_modes(mesh_path, Es_path, p=p)\n",
    "phis1 = a.load_phi_modes(mesh_path, phis_path, p=p)"
   ]
  },
  {
   "cell_type": "code",
   "execution_count": 5,
   "id": "573dc77d",
   "metadata": {
    "scrolled": true
   },
   "outputs": [
    {
     "ename": "NameError",
     "evalue": "name 'mesh1' is not defined",
     "output_type": "error",
     "traceback": [
      "\u001b[0;31m---------------------------------------------------------------------------\u001b[0m",
      "\u001b[0;31mNameError\u001b[0m                                 Traceback (most recent call last)",
      "Cell \u001b[0;32mIn[5], line 1\u001b[0m\n\u001b[0;32m----> 1\u001b[0m \u001b[43mmesh1\u001b[49m\u001b[38;5;241m.\u001b[39mGetMaterials()\n",
      "\u001b[0;31mNameError\u001b[0m: name 'mesh1' is not defined"
     ]
    }
   ],
   "source": [
    "mesh1.GetMaterials()"
   ]
  },
  {
   "cell_type": "code",
   "execution_count": 6,
   "id": "18fb0543",
   "metadata": {},
   "outputs": [],
   "source": [
    "scale1 = Integrate(phis1[1].Norm(), mesh1, definedon=mesh1.Materials('core'))"
   ]
  },
  {
   "cell_type": "code",
   "execution_count": 9,
   "id": "8a8848fa",
   "metadata": {
    "scrolled": true
   },
   "outputs": [
    {
     "data": {
      "application/vnd.jupyter.widget-view+json": {
       "model_id": "074681d553794e4bbd2eb20015e64a7b",
       "version_major": 2,
       "version_minor": 0
      },
      "text/plain": [
       "WebGuiWidget(value={'ngsolve_version': '6.2.2203-56-g47f483033', 'mesh_dim': 2, 'order2d': 2, 'order3d': 2, 'd…"
      ]
     },
     "metadata": {},
     "output_type": "display_data"
    },
    {
     "data": {
      "text/plain": [
       "BaseWebGuiScene"
      ]
     },
     "execution_count": 9,
     "metadata": {},
     "output_type": "execute_result"
    }
   ],
   "source": [
    "Draw(10*phis1[1]/scale1, mesh1, '1')"
   ]
  },
  {
   "cell_type": "markdown",
   "id": "da071567",
   "metadata": {},
   "source": [
    "# Maxh 0.1"
   ]
  },
  {
   "cell_type": "code",
   "execution_count": 39,
   "id": "b5315443",
   "metadata": {},
   "outputs": [],
   "source": [
    "maxh = 0.1\n",
    "mesh_path = 'modes/mesh_maxh_' + str(maxh) + 'p' + str(p) + '.pkl'\n",
    "Es_path = 'modes/Es_maxh' + str(maxh) + 'p' + str(p)\n",
    "phis_path = 'modes/phis_maxh' + str(maxh) + 'p' + str(p)"
   ]
  },
  {
   "cell_type": "code",
   "execution_count": 40,
   "id": "13ded8aa",
   "metadata": {},
   "outputs": [],
   "source": [
    "mesh2 = a.load_mesh(mesh_path)\n",
    "mesh2.Curve(max(p+1,8))\n",
    "# Es2 = a.load_E_modes(mesh_path, Es_path, p=p)\n",
    "phis2 = a.load_phi_modes(mesh_path, phis_path, p=p)"
   ]
  },
  {
   "cell_type": "code",
   "execution_count": 56,
   "id": "ad3b7289",
   "metadata": {},
   "outputs": [],
   "source": [
    "scale2 = Integrate(phis2[2].Norm(), mesh2, definedon=mesh1.Materials('core'))"
   ]
  },
  {
   "cell_type": "code",
   "execution_count": 57,
   "id": "437fefea",
   "metadata": {
    "scrolled": false
   },
   "outputs": [
    {
     "data": {
      "application/vnd.jupyter.widget-view+json": {
       "model_id": "b02830348d3f40f68d2ebd03442b2c4e",
       "version_major": 2,
       "version_minor": 0
      },
      "text/plain": [
       "WebGuiWidget(value={'ngsolve_version': '6.2.2203-56-g47f483033', 'mesh_dim': 2, 'order2d': 2, 'order3d': 2, 'd…"
      ]
     },
     "metadata": {},
     "output_type": "display_data"
    },
    {
     "data": {
      "text/plain": [
       "BaseWebGuiScene"
      ]
     },
     "execution_count": 57,
     "metadata": {},
     "output_type": "execute_result"
    }
   ],
   "source": [
    "Draw(10*phis2[2]/scale2, mesh2)"
   ]
  },
  {
   "cell_type": "markdown",
   "id": "4c5f59cf",
   "metadata": {},
   "source": [
    "# Maxh 0.05"
   ]
  },
  {
   "cell_type": "code",
   "execution_count": 46,
   "id": "7e7aaac4",
   "metadata": {},
   "outputs": [],
   "source": [
    "maxh = 0.05\n",
    "mesh_path = 'modes/mesh_maxh_' + str(maxh) + 'p' + str(p) + '.pkl'\n",
    "Es_path = 'modes/Es_maxh' + str(maxh) + 'p' + str(p)\n",
    "phis_path = 'modes/phis_maxh' + str(maxh) + 'p' + str(p)"
   ]
  },
  {
   "cell_type": "code",
   "execution_count": 47,
   "id": "aa6f2a09",
   "metadata": {},
   "outputs": [],
   "source": [
    "mesh3 = a.load_mesh(mesh_path)\n",
    "mesh3.Curve(max(p+1,8))\n",
    "# Es2 = a.load_E_modes(mesh_path, Es_path, p=p)\n",
    "phis3 = a.load_phi_modes(mesh_path, phis_path, p=p)"
   ]
  },
  {
   "cell_type": "code",
   "execution_count": 48,
   "id": "f5563aac",
   "metadata": {},
   "outputs": [],
   "source": [
    "scale3 = Integrate(phis3[0].Norm(), mesh3, definedon=mesh1.Materials('core'))"
   ]
  },
  {
   "cell_type": "code",
   "execution_count": 50,
   "id": "08a510c8",
   "metadata": {
    "scrolled": false
   },
   "outputs": [
    {
     "data": {
      "application/vnd.jupyter.widget-view+json": {
       "model_id": "",
       "version_major": 2,
       "version_minor": 0
      },
      "text/plain": [
       "WebGuiWidget(value={'ngsolve_version': '6.2.2203-56-g47f483033', 'mesh_dim': 2, 'order2d': 2, 'order3d': 2, 'd…"
      ]
     },
     "metadata": {},
     "output_type": "display_data"
    },
    {
     "data": {
      "text/plain": [
       "BaseWebGuiScene"
      ]
     },
     "execution_count": 50,
     "metadata": {},
     "output_type": "execute_result"
    }
   ],
   "source": [
    "Draw(10*phis3[0]/scale3, mesh3)"
   ]
  },
  {
   "cell_type": "markdown",
   "id": "c0d2430b",
   "metadata": {},
   "source": [
    "# Maxh 0.025"
   ]
  },
  {
   "cell_type": "code",
   "execution_count": 51,
   "id": "fb81aa3a",
   "metadata": {},
   "outputs": [],
   "source": [
    "maxh = 0.025\n",
    "mesh_path = 'modes/mesh_maxh_' + str(maxh) + 'p' + str(p) + '.pkl'\n",
    "Es_path = 'modes/Es_maxh' + str(maxh) + 'p' + str(p)\n",
    "phis_path = 'modes/phis_maxh' + str(maxh) + 'p' + str(p)"
   ]
  },
  {
   "cell_type": "code",
   "execution_count": 52,
   "id": "6b38b292",
   "metadata": {},
   "outputs": [],
   "source": [
    "mesh4 = a.load_mesh(mesh_path)\n",
    "mesh4.Curve(max(p+1,8))\n",
    "# Es2 = a.load_E_modes(mesh_path, Es_path, p=p)\n",
    "phis4 = a.load_phi_modes(mesh_path, phis_path, p=p)"
   ]
  },
  {
   "cell_type": "code",
   "execution_count": 53,
   "id": "c7920df5",
   "metadata": {},
   "outputs": [],
   "source": [
    "scale4 = Integrate(phis4[0].Norm(), mesh4, definedon=mesh1.Materials('core'))"
   ]
  },
  {
   "cell_type": "code",
   "execution_count": 54,
   "id": "88d9d80f",
   "metadata": {
    "scrolled": false
   },
   "outputs": [
    {
     "data": {
      "application/vnd.jupyter.widget-view+json": {
       "model_id": "c7f2b430c3de45f399f2a197611e48fa",
       "version_major": 2,
       "version_minor": 0
      },
      "text/plain": [
       "WebGuiWidget(value={'ngsolve_version': '6.2.2203-56-g47f483033', 'mesh_dim': 2, 'order2d': 2, 'order3d': 2, 'd…"
      ]
     },
     "metadata": {},
     "output_type": "display_data"
    },
    {
     "data": {
      "text/plain": [
       "BaseWebGuiScene"
      ]
     },
     "execution_count": 54,
     "metadata": {},
     "output_type": "execute_result"
    }
   ],
   "source": [
    "Draw(10*phis4[0]/scale4, mesh4)"
   ]
  },
  {
   "cell_type": "code",
   "execution_count": 68,
   "id": "b1748550",
   "metadata": {},
   "outputs": [],
   "source": [
    "ng.Draw(10*phis4[0]/scale4, mesh4, '4')"
   ]
  },
  {
   "cell_type": "code",
   "execution_count": null,
   "id": "5ca489e2",
   "metadata": {},
   "outputs": [],
   "source": []
  }
 ],
 "metadata": {
  "kernelspec": {
   "display_name": "Python 3 (ipykernel)",
   "language": "python",
   "name": "python3"
  },
  "language_info": {
   "codemirror_mode": {
    "name": "ipython",
    "version": 3
   },
   "file_extension": ".py",
   "mimetype": "text/x-python",
   "name": "python",
   "nbconvert_exporter": "python",
   "pygments_lexer": "ipython3",
   "version": "3.10.6"
  }
 },
 "nbformat": 4,
 "nbformat_minor": 5
}
