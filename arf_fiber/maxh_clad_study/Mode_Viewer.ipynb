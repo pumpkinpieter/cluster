{
 "cells": [
  {
   "cell_type": "markdown",
   "id": "45f7e2e0",
   "metadata": {},
   "source": [
    "# View modes in current mode folder\n"
   ]
  },
  {
   "cell_type": "code",
   "execution_count": null,
   "id": "36fdb4d2",
   "metadata": {},
   "outputs": [],
   "source": [
    "from fiberamp.fiber.microstruct.pbg import ARF2\n",
    "from ngsolve.webgui import Draw\n",
    "from ngsolve import Norm, Integrate\n",
    "# import netgen.gui\n",
    "import ngsolve as ng"
   ]
  },
  {
   "cell_type": "code",
   "execution_count": null,
   "id": "edb92c49",
   "metadata": {},
   "outputs": [],
   "source": [
    "a = ARF2(glass_maxh=.1, poly_core=True)\n",
    "b = ARF2(poly_core=True)\n",
    "\n",
    "p = 3\n"
   ]
  },
  {
   "cell_type": "code",
   "execution_count": null,
   "id": "8f1595a9",
   "metadata": {},
   "outputs": [],
   "source": [
    "Draw(a.mesh)"
   ]
  },
  {
   "cell_type": "code",
   "execution_count": null,
   "id": "30ee6632",
   "metadata": {},
   "outputs": [],
   "source": [
    "Draw(b.mesh)"
   ]
  },
  {
   "cell_type": "markdown",
   "id": "35f6f59d",
   "metadata": {},
   "source": [
    "# Maxh 0 (coarse mesh)"
   ]
  },
  {
   "cell_type": "code",
   "execution_count": null,
   "id": "8a6ba486",
   "metadata": {},
   "outputs": [],
   "source": [
    "maxh = 0.0\n",
    "mesh_path = 'modes/mesh_maxh_' + str(maxh) + 'p' + str(p) + '.pkl'\n",
    "Es_path = 'modes/Es_maxh' + str(maxh) + 'p' + str(p)\n",
    "phis_path = 'modes/phis_maxh' + str(maxh) + 'p' + str(p)"
   ]
  },
  {
   "cell_type": "code",
   "execution_count": null,
   "id": "b47ac05c",
   "metadata": {},
   "outputs": [],
   "source": [
    "mesh1 = a.load_mesh(mesh_path)\n",
    "mesh1.Curve(max(p+1,8))\n",
    "# Es1 = a.load_E_modes(mesh_path, Es_path, p=p)\n",
    "phis1 = a.load_phi_modes(mesh_path, phis_path, p=p)"
   ]
  },
  {
   "cell_type": "code",
   "execution_count": null,
   "id": "573dc77d",
   "metadata": {},
   "outputs": [],
   "source": [
    "mesh1.GetMaterials()"
   ]
  },
  {
   "cell_type": "code",
   "execution_count": null,
   "id": "18fb0543",
   "metadata": {},
   "outputs": [],
   "source": [
    "scale1 = Integrate(phis1[1].Norm(), mesh1, definedon=mesh1.Materials('core'))"
   ]
  },
  {
   "cell_type": "code",
   "execution_count": null,
   "id": "8a8848fa",
   "metadata": {},
   "outputs": [],
   "source": [
    "Draw(10*phis1[1]/scale1, mesh1, '1')"
   ]
  },
  {
   "cell_type": "markdown",
   "id": "da071567",
   "metadata": {},
   "source": [
    "# Maxh 0.1"
   ]
  },
  {
   "cell_type": "code",
   "execution_count": null,
   "id": "b5315443",
   "metadata": {},
   "outputs": [],
   "source": [
    "maxh = 0.1\n",
    "mesh_path = 'modes/mesh_maxh_' + str(maxh) + 'p' + str(p) + '.pkl'\n",
    "Es_path = 'modes/Es_maxh' + str(maxh) + 'p' + str(p)\n",
    "phis_path = 'modes/phis_maxh' + str(maxh) + 'p' + str(p)"
   ]
  },
  {
   "cell_type": "code",
   "execution_count": null,
   "id": "13ded8aa",
   "metadata": {},
   "outputs": [],
   "source": [
    "mesh2 = a.load_mesh(mesh_path)\n",
    "mesh2.Curve(max(p+1,8))\n",
    "# Es2 = a.load_E_modes(mesh_path, Es_path, p=p)\n",
    "phis2 = a.load_phi_modes(mesh_path, phis_path, p=p)"
   ]
  },
  {
   "cell_type": "code",
   "execution_count": null,
   "id": "ad3b7289",
   "metadata": {},
   "outputs": [],
   "source": [
    "scale2 = Integrate(phis2[2].Norm(), mesh2, definedon=mesh1.Materials('core'))"
   ]
  },
  {
   "cell_type": "code",
   "execution_count": null,
   "id": "437fefea",
   "metadata": {},
   "outputs": [],
   "source": [
    "Draw(10*phis2[2]/scale2, mesh2)"
   ]
  },
  {
   "cell_type": "markdown",
   "id": "4c5f59cf",
   "metadata": {},
   "source": [
    "# Maxh 0.05"
   ]
  },
  {
   "cell_type": "code",
   "execution_count": null,
   "id": "7e7aaac4",
   "metadata": {},
   "outputs": [],
   "source": [
    "maxh = 0.05\n",
    "mesh_path = 'modes/mesh_maxh_' + str(maxh) + 'p' + str(p) + '.pkl'\n",
    "Es_path = 'modes/Es_maxh' + str(maxh) + 'p' + str(p)\n",
    "phis_path = 'modes/phis_maxh' + str(maxh) + 'p' + str(p)"
   ]
  },
  {
   "cell_type": "code",
   "execution_count": null,
   "id": "aa6f2a09",
   "metadata": {},
   "outputs": [],
   "source": [
    "mesh3 = a.load_mesh(mesh_path)\n",
    "mesh3.Curve(max(p+1,8))\n",
    "# Es2 = a.load_E_modes(mesh_path, Es_path, p=p)\n",
    "phis3 = a.load_phi_modes(mesh_path, phis_path, p=p)"
   ]
  },
  {
   "cell_type": "code",
   "execution_count": null,
   "id": "f5563aac",
   "metadata": {},
   "outputs": [],
   "source": [
    "scale3 = Integrate(phis3[0].Norm(), mesh3, definedon=mesh1.Materials('core'))"
   ]
  },
  {
   "cell_type": "code",
   "execution_count": null,
   "id": "08a510c8",
   "metadata": {},
   "outputs": [],
   "source": [
    "Draw(10*phis3[0]/scale3, mesh3)"
   ]
  },
  {
   "cell_type": "markdown",
   "id": "c0d2430b",
   "metadata": {},
   "source": [
    "# Maxh 0.025"
   ]
  },
  {
   "cell_type": "code",
   "execution_count": null,
   "id": "fb81aa3a",
   "metadata": {},
   "outputs": [],
   "source": [
    "maxh = 0.025\n",
    "mesh_path = 'modes/mesh_maxh_' + str(maxh) + 'p' + str(p) + '.pkl'\n",
    "Es_path = 'modes/Es_maxh' + str(maxh) + 'p' + str(p)\n",
    "phis_path = 'modes/phis_maxh' + str(maxh) + 'p' + str(p)"
   ]
  },
  {
   "cell_type": "code",
   "execution_count": null,
   "id": "6b38b292",
   "metadata": {},
   "outputs": [],
   "source": [
    "mesh4 = a.load_mesh(mesh_path)\n",
    "mesh4.Curve(max(p+1,8))\n",
    "# Es2 = a.load_E_modes(mesh_path, Es_path, p=p)\n",
    "phis4 = a.load_phi_modes(mesh_path, phis_path, p=p)"
   ]
  },
  {
   "cell_type": "code",
   "execution_count": null,
   "id": "c7920df5",
   "metadata": {},
   "outputs": [],
   "source": [
    "scale4 = Integrate(phis4[0].Norm(), mesh4, definedon=mesh1.Materials('core'))"
   ]
  },
  {
   "cell_type": "code",
   "execution_count": null,
   "id": "88d9d80f",
   "metadata": {},
   "outputs": [],
   "source": [
    "Draw(10*phis4[0]/scale4, mesh4)"
   ]
  },
  {
   "cell_type": "code",
   "execution_count": null,
   "id": "b1748550",
   "metadata": {},
   "outputs": [],
   "source": [
    "ng.Draw(10*phis4[0]/scale4, mesh4, '4')"
   ]
  },
  {
   "cell_type": "code",
   "execution_count": null,
   "id": "5ca489e2",
   "metadata": {},
   "outputs": [],
   "source": []
  }
 ],
 "metadata": {
  "kernelspec": {
   "display_name": "Python 3 (ipykernel)",
   "language": "python",
   "name": "python3"
  },
  "language_info": {
   "codemirror_mode": {
    "name": "ipython",
    "version": 3
   },
   "file_extension": ".py",
   "mimetype": "text/x-python",
   "name": "python",
   "nbconvert_exporter": "python",
   "pygments_lexer": "ipython3",
   "version": "3.10.6"
  }
 },
 "nbformat": 4,
 "nbformat_minor": 5
}
