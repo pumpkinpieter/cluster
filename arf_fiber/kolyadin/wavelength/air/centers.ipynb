{
 "cells": [
  {
   "cell_type": "markdown",
   "id": "6d9e52b6",
   "metadata": {},
   "source": [
    "# Interpolation or real part of propagation constant for wavelength study\n",
    "\n",
    "Real part changes significantly as we change wavelength, so we must shift our search center in the complex plane.  We want to sample a few points from our wavelengths of interest, find the search centers for those, then use polynomial interpolation to predict the rest.  The data here was found by running feast on the cluster."
   ]
  },
  {
   "cell_type": "code",
   "execution_count": 2,
   "id": "weekly-establishment",
   "metadata": {},
   "outputs": [],
   "source": [
    "import numpy as np\n",
    "import matplotlib.pyplot as plt"
   ]
  },
  {
   "cell_type": "code",
   "execution_count": 3,
   "id": "bored-moldova",
   "metadata": {},
   "outputs": [],
   "source": [
    "# Without sel\n",
    "wls = np.linspace(3.11, 3.6, 300) * 1e-6\n",
    "\n",
    "inds = [    85,    70,    60,    40,    20,    0,   100,  150,  175,   190,  230,   250,   275,   299]\n",
    "data = [5.0538, 5.022, 4.996, 4.925, 4.795, 4.45, 5.079, 5.14, 5.16, 5.177, 5.21, 5.226, 5.247, 5.267]\n",
    "\n",
    "p = 7\n",
    "coeffs = np.polyfit(wls[inds], data, p)\n",
    "centers = sum([coeffs[-i-1] * wls**i for i in range(0, p + 1)])"
   ]
  },
  {
   "cell_type": "code",
   "execution_count": 23,
   "id": "d968bfed",
   "metadata": {},
   "outputs": [],
   "source": [
    "# Using sellmeier\n",
    "wls = np.linspace(3.11, 3.6, 300) * 1e-6\n",
    "\n",
    "inds = [    85,   70,    60,    40,    20,    0,  100,  150,   175,   190,  230,   250,  275,   299]\n",
    "data = [5.148, 5.131, 5.118, 5.088, 5.05, 4.997, 5.16, 5.21, 5.236, 5.250, 5.29, 5.317, 5.35, 5.400]\n",
    "\n",
    "p = 7\n",
    "coeffs = np.polyfit(wls[inds], data, p)\n",
    "centers = sum([coeffs[-i-1] * wls**i for i in range(0, p + 1)])"
   ]
  },
  {
   "cell_type": "code",
   "execution_count": 24,
   "id": "israeli-personality",
   "metadata": {
    "scrolled": true
   },
   "outputs": [
    {
     "data": {
      "text/plain": [
       "[<matplotlib.lines.Line2D at 0x7f9bcd0c5e50>]"
      ]
     },
     "execution_count": 24,
     "metadata": {},
     "output_type": "execute_result"
    },
    {
     "data": {
      "image/png": "[encoded data removed]",
      "text/plain": [
       "<Figure size 432x288 with 1 Axes>"
      ]
     },
     "metadata": {
      "needs_background": "light"
     },
     "output_type": "display_data"
    }
   ],
   "source": [
    "plt.plot(wls[inds], data, 'go')\n",
    "plt.plot(wls, centers)"
   ]
  },
  {
   "cell_type": "code",
   "execution_count": null,
   "id": "d232a90f",
   "metadata": {},
   "outputs": [],
   "source": []
  }
 ],
 "metadata": {
  "kernelspec": {
   "display_name": "Python 3 (ipykernel)",
   "language": "python",
   "name": "python3"
  },
  "language_info": {
   "codemirror_mode": {
    "name": "ipython",
    "version": 3
   },
   "file_extension": ".py",
   "mimetype": "text/x-python",
   "name": "python",
   "nbconvert_exporter": "python",
   "pygments_lexer": "ipython3",
   "version": "3.8.10"
  }
 },
 "nbformat": 4,
 "nbformat_minor": 5
}
