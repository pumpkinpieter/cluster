{
 "cells": [
  {
   "cell_type": "markdown",
   "id": "45f7e2e0",
   "metadata": {},
   "source": [
    "# View modes\n"
   ]
  },
  {
   "cell_type": "code",
   "execution_count": null,
   "id": "36fdb4d2",
   "metadata": {},
   "outputs": [],
   "source": [
    "import numpy as np\n",
    "import ngsolve as ng\n",
    "import matplotlib.pyplot as plt\n",
    "\n",
    "from fiberamp.fiber.microstruct.pbg import ARF2\n",
    "from ngsolve.webgui import Draw\n"
   ]
  },
  {
   "cell_type": "markdown",
   "id": "e3b6dab5",
   "metadata": {},
   "source": [
    "## Build arf object"
   ]
  },
  {
   "cell_type": "code",
   "execution_count": null,
   "id": "e206f19e",
   "metadata": {},
   "outputs": [],
   "source": [
    "# Set outer materials\n",
    "scaling = 15\n",
    "n_glass = 1.4388164768221814\n",
    "n_air = 1.00027717\n",
    "\n",
    "T_outer = 10 / scaling\n",
    "n0 = n_glass  # Sets buffer and outer region refractive index.\n",
    "\n",
    "outer_materials = [\n",
    "\n",
    "    {'material': 'Outer',\n",
    "     'n': n0,\n",
    "     'T': T_outer,\n",
    "     'maxh': .1}\n",
    "]\n",
    "\n",
    "ref=0\n",
    "p=1\n",
    "i=199\n",
    "wls = np.linspace(1, 2, 200) * 1e-6\n"
   ]
  },
  {
   "cell_type": "code",
   "execution_count": null,
   "id": "edb92c49",
   "metadata": {
    "scrolled": true
   },
   "outputs": [],
   "source": [
    "a = ARF2(name='fine_cladding', poly_core=True, refine=ref,\n",
    "         curve=max(p+1, 8), shift_capillaries=False, wl=wls[i],\n",
    "         outer_materials=outer_materials)"
   ]
  },
  {
   "cell_type": "code",
   "execution_count": null,
   "id": "42a8dcd8",
   "metadata": {},
   "outputs": [],
   "source": [
    "Draw(a.mesh)"
   ]
  },
  {
   "cell_type": "markdown",
   "id": "bbb69ec5",
   "metadata": {},
   "source": [
    "# Load Modes\n",
    "\n",
    "Note that we need to know the polynomial degree p we used to find the mode "
   ]
  },
  {
   "cell_type": "code",
   "execution_count": null,
   "id": "b47ac05c",
   "metadata": {
    "scrolled": true
   },
   "outputs": [],
   "source": [
    "mesh_path = 'modes/mesh_e' + str(i)\n",
    "mode_path = 'modes/mode_e' + str(i)\n",
    "\n",
    "mesh = a.load_mesh(mesh_path)\n",
    "modes = a.load_E_modes(mesh_path, mode_path, p=p)"
   ]
  },
  {
   "cell_type": "code",
   "execution_count": null,
   "id": "8a8848fa",
   "metadata": {
    "scrolled": true
   },
   "outputs": [],
   "source": [
    "for e in modes:\n",
    "    Draw(1e2*e.real, mesh, vectors={'grid_size':200})"
   ]
  },
  {
   "cell_type": "code",
   "execution_count": null,
   "id": "cfbc7491",
   "metadata": {},
   "outputs": [],
   "source": []
  }
 ],
 "metadata": {
  "kernelspec": {
   "display_name": "Python 3 (ipykernel)",
   "language": "python",
   "name": "python3"
  },
  "language_info": {
   "codemirror_mode": {
    "name": "ipython",
    "version": 3
   },
   "file_extension": ".py",
   "mimetype": "text/x-python",
   "name": "python",
   "nbconvert_exporter": "python",
   "pygments_lexer": "ipython3",
   "version": "3.8.10"
  }
 },
 "nbformat": 4,
 "nbformat_minor": 5
}
