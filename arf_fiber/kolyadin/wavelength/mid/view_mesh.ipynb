{
 "cells": [
  {
   "cell_type": "markdown",
   "id": "45f7e2e0",
   "metadata": {},
   "source": [
    "# View mesh\n"
   ]
  },
  {
   "cell_type": "code",
   "execution_count": 1,
   "id": "36fdb4d2",
   "metadata": {},
   "outputs": [
    {
     "name": "stdout",
     "output_type": "stream",
     "text": [
      "importing NGSolve-6.2.2203-56-g47f483033\n"
     ]
    }
   ],
   "source": [
    "from fiberamp.fiber.microstruct.pbg import ARF2\n",
    "from ngsolve.webgui import Draw\n"
   ]
  },
  {
   "cell_type": "code",
   "execution_count": 11,
   "id": "e206f19e",
   "metadata": {},
   "outputs": [],
   "source": [
    "# Set outer materials\n",
    "scaling = 59.5\n",
    "\n",
    "n_glass = 1.4388164768221814\n",
    "n_air = 1.00027717\n",
    "\n",
    "T_outer = 1.2 * 25.5 / scaling\n",
    "n_mid = (n_glass + n_air) / 2\n",
    "n0 = n_mid\n",
    "\n",
    "outer_materials = [\n",
    "\n",
    "    {'material': 'buffer',\n",
    "     'n': n_mid,\n",
    "     'T': .75 * T_outer,\n",
    "     'maxh': .05},\n",
    "\n",
    "    {'material': 'Outer',\n",
    "     'n': n0,\n",
    "     'T': T_outer,\n",
    "     'maxh': .2}\n",
    "]\n"
   ]
  },
  {
   "cell_type": "code",
   "execution_count": 12,
   "id": "edb92c49",
   "metadata": {
    "scrolled": true
   },
   "outputs": [
    {
     "name": "stdout",
     "output_type": "stream",
     "text": [
      "ModeSolver: Checking if mesh has required regions\n",
      "Mesh has  39890  elements,  20000  points,  and  59889  edges.\n"
     ]
    }
   ],
   "source": [
    "a = ARF2(name='kolyadin', poly_core=True, curve=8, outer_materials=outer_materials)"
   ]
  },
  {
   "cell_type": "code",
   "execution_count": 13,
   "id": "42a8dcd8",
   "metadata": {},
   "outputs": [
    {
     "data": {
      "application/vnd.jupyter.widget-view+json": {
       "model_id": "8ca9e6dbdf974a64a1ba726f06a21fbf",
       "version_major": 2,
       "version_minor": 0
      },
      "text/plain": [
       "WebGuiWidget(value={'ngsolve_version': '6.2.2203-56-g47f483033', 'mesh_dim': 2, 'order2d': 2, 'order3d': 2, 'd…"
      ]
     },
     "metadata": {},
     "output_type": "display_data"
    },
    {
     "data": {
      "text/plain": [
       "BaseWebGuiScene"
      ]
     },
     "execution_count": 13,
     "metadata": {},
     "output_type": "execute_result"
    }
   ],
   "source": [
    "Draw(a.mesh)"
   ]
  },
  {
   "cell_type": "code",
   "execution_count": null,
   "id": "5e27b27b",
   "metadata": {},
   "outputs": [],
   "source": []
  }
 ],
 "metadata": {
  "kernelspec": {
   "display_name": "Python 3 (ipykernel)",
   "language": "python",
   "name": "python3"
  },
  "language_info": {
   "codemirror_mode": {
    "name": "ipython",
    "version": 3
   },
   "file_extension": ".py",
   "mimetype": "text/x-python",
   "name": "python",
   "nbconvert_exporter": "python",
   "pygments_lexer": "ipython3",
   "version": "3.8.10"
  }
 },
 "nbformat": 4,
 "nbformat_minor": 5
}
