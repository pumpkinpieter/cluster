{
 "cells": [
  {
   "cell_type": "markdown",
   "id": "45f7e2e0",
   "metadata": {},
   "source": [
    "# View modes in current mode folder\n"
   ]
  },
  {
   "cell_type": "code",
   "execution_count": 1,
   "id": "36fdb4d2",
   "metadata": {},
   "outputs": [
    {
     "name": "stdout",
     "output_type": "stream",
     "text": [
      "importing NGSolve-6.2.2203-56-g47f483033\n"
     ]
    }
   ],
   "source": [
    "from fiberamp.fiber.microstruct.pbg import ARF2\n",
    "from ngsolve.webgui import Draw\n",
    "import ngsolve as ng"
   ]
  },
  {
   "cell_type": "code",
   "execution_count": 2,
   "id": "edb92c49",
   "metadata": {},
   "outputs": [
    {
     "name": "stdout",
     "output_type": "stream",
     "text": [
      "ModeSolver: Checking if mesh has required regions\n",
      "Mesh has  34322  elements,  17191  points,  and  51512  edges.\n"
     ]
    }
   ],
   "source": [
    "ref = 0\n",
    "p = 2\n",
    "a = ARF2(name='kolyadin', refine=ref, curve=max(p+1,8), poly_core=True,\n",
    "        wl=3.25e-6)\n"
   ]
  },
  {
   "cell_type": "code",
   "execution_count": 4,
   "id": "5d169d72",
   "metadata": {
    "scrolled": true
   },
   "outputs": [
    {
     "data": {
      "application/vnd.jupyter.widget-view+json": {
       "model_id": "05bc19c0ee4d4bffbcf95d032d4ed46a",
       "version_major": 2,
       "version_minor": 0
      },
      "text/plain": [
       "WebGuiWidget(value={'ngsolve_version': '6.2.2203-56-g47f483033', 'mesh_dim': 2, 'order2d': 2, 'order3d': 2, 'd…"
      ]
     },
     "metadata": {},
     "output_type": "display_data"
    },
    {
     "data": {
      "text/plain": [
       "BaseWebGuiScene"
      ]
     },
     "execution_count": 4,
     "metadata": {},
     "output_type": "execute_result"
    }
   ],
   "source": [
    "Draw(a.index, a.mesh)"
   ]
  },
  {
   "cell_type": "code",
   "execution_count": 5,
   "id": "8a6ba486",
   "metadata": {},
   "outputs": [],
   "source": [
    "mesh_path = 'modes/mesh_ref' + str(ref) + 'p' + str(p) + '.pkl'\n",
    "Es_path = 'modes/Es_ref' + str(ref) + 'p' + str(p)\n",
    "phis_path = 'modes/phis_ref' + str(ref) + 'p' + str(p)"
   ]
  },
  {
   "cell_type": "code",
   "execution_count": 6,
   "id": "b47ac05c",
   "metadata": {},
   "outputs": [],
   "source": [
    "mesh = a.load_mesh(mesh_path)\n",
    "mesh.Curve(max(p+1,8))\n",
    "Es = a.load_E_modes(mesh_path, Es_path, p=p)\n",
    "phis = a.load_phi_modes(mesh_path, phis_path, p=p)"
   ]
  },
  {
   "cell_type": "code",
   "execution_count": 7,
   "id": "275e5f6e",
   "metadata": {
    "scrolled": false
   },
   "outputs": [
    {
     "data": {
      "application/vnd.jupyter.widget-view+json": {
       "model_id": "ee92b3b0839748d9bfbc733ffa29b162",
       "version_major": 2,
       "version_minor": 0
      },
      "text/plain": [
       "WebGuiWidget(value={'ngsolve_version': '6.2.2203-56-g47f483033', 'mesh_dim': 2, 'order2d': 2, 'order3d': 2, 'd…"
      ]
     },
     "metadata": {},
     "output_type": "display_data"
    },
    {
     "data": {
      "application/vnd.jupyter.widget-view+json": {
       "model_id": "5f88c0bc1763479daf803382f85fa940",
       "version_major": 2,
       "version_minor": 0
      },
      "text/plain": [
       "WebGuiWidget(value={'ngsolve_version': '6.2.2203-56-g47f483033', 'mesh_dim': 2, 'order2d': 2, 'order3d': 2, 'd…"
      ]
     },
     "metadata": {},
     "output_type": "display_data"
    }
   ],
   "source": [
    "for e in Es:\n",
    "    Draw(e.real,\n",
    "         mesh, \n",
    "#          vectors={'grid_size':500}\n",
    "        )"
   ]
  },
  {
   "cell_type": "code",
   "execution_count": 22,
   "id": "8a8848fa",
   "metadata": {
    "scrolled": false
   },
   "outputs": [
    {
     "data": {
      "application/vnd.jupyter.widget-view+json": {
       "model_id": "b56c404857a249eb98a073f425b5635a",
       "version_major": 2,
       "version_minor": 0
      },
      "text/plain": [
       "WebGuiWidget(value={'ngsolve_version': '6.2.2203-56-g47f483033', 'mesh_dim': 2, 'order2d': 2, 'order3d': 2, 'd…"
      ]
     },
     "metadata": {},
     "output_type": "display_data"
    },
    {
     "data": {
      "application/vnd.jupyter.widget-view+json": {
       "model_id": "e7114fc730f940a58a92b56b73b8889e",
       "version_major": 2,
       "version_minor": 0
      },
      "text/plain": [
       "WebGuiWidget(value={'ngsolve_version': '6.2.2203-56-g47f483033', 'mesh_dim': 2, 'order2d': 2, 'order3d': 2, 'd…"
      ]
     },
     "metadata": {},
     "output_type": "display_data"
    }
   ],
   "source": [
    "for ps in phis:\n",
    "    Draw(ps, mesh, min=0, max=.2)"
   ]
  },
  {
   "cell_type": "code",
   "execution_count": null,
   "id": "f9992d62",
   "metadata": {},
   "outputs": [],
   "source": []
  }
 ],
 "metadata": {
  "kernelspec": {
   "display_name": "Python 3 (ipykernel)",
   "language": "python",
   "name": "python3"
  },
  "language_info": {
   "codemirror_mode": {
    "name": "ipython",
    "version": 3
   },
   "file_extension": ".py",
   "mimetype": "text/x-python",
   "name": "python",
   "nbconvert_exporter": "python",
   "pygments_lexer": "ipython3",
   "version": "3.8.10"
  }
 },
 "nbformat": 4,
 "nbformat_minor": 5
}
