{
 "cells": [
  {
   "cell_type": "code",
   "execution_count": 2,
   "id": "76086311",
   "metadata": {},
   "outputs": [
    {
     "name": "stdout",
     "output_type": "stream",
     "text": [
      "importing NGSolve-6.2.2203-56-g47f483033\n"
     ]
    }
   ],
   "source": [
    "from fiberamp.fiber.microstruct.pbg import ARF2\n",
    "from ngsolve.webgui import Draw\n",
    "import ngsolve as ng"
   ]
  },
  {
   "cell_type": "code",
   "execution_count": 3,
   "id": "943a171a",
   "metadata": {},
   "outputs": [
    {
     "name": "stdout",
     "output_type": "stream",
     "text": [
      "ModeSolver: Checking if mesh has required regions\n",
      "Mesh has  19775  elements,  9918  points,  and  29692  edges.\n"
     ]
    }
   ],
   "source": [
    "A = ARF2(name='kolyadin', poly_core=True, refine=0, wl=3.25e-6)\n"
   ]
  },
  {
   "cell_type": "code",
   "execution_count": 4,
   "id": "295db014",
   "metadata": {
    "scrolled": false
   },
   "outputs": [
    {
     "data": {
      "application/vnd.jupyter.widget-view+json": {
       "model_id": "964950c94b1d4ed59162b5b5f33863fa",
       "version_major": 2,
       "version_minor": 0
      },
      "text/plain": [
       "WebGuiWidget(value={'ngsolve_version': '6.2.2203-56-g47f483033', 'mesh_dim': 2, 'order2d': 2, 'order3d': 2, 'd…"
      ]
     },
     "metadata": {},
     "output_type": "display_data"
    },
    {
     "data": {
      "text/plain": [
       "BaseWebGuiScene"
      ]
     },
     "execution_count": 4,
     "metadata": {},
     "output_type": "execute_result"
    }
   ],
   "source": [
    "Draw(A.mesh)"
   ]
  },
  {
   "cell_type": "markdown",
   "id": "890c55d5",
   "metadata": {},
   "source": [
    "# Fundamental Mode"
   ]
  },
  {
   "cell_type": "code",
   "execution_count": 7,
   "id": "18522452",
   "metadata": {},
   "outputs": [
    {
     "name": "stdout",
     "output_type": "stream",
     "text": [
      "Set NGSolve automatic PML with p= 0  alpha= 5 and thickness=0.514\n",
      "Using FEAST to search for vector leaky modes in\n",
      "circle of radius 0.1 centered at  5.25\n",
      "assuming not more than 4 modes in this interval\n",
      "System size: 29692  x  29692   Inverse type: umfpack\n",
      "\n",
      "SpectralProj: Setting shifted trapezoidal rule on elliptical contour\n",
      "SpectralProjNGR:   Making resolvent at z =  +5.321 +0.001j\n",
      "SpectralProjNGR:   Making resolvent at z =  +5.179 +0.001j\n",
      "SpectralProjNGR:   Making resolvent at z =  +5.179 -0.001j\n",
      "SpectralProjNGR:   Making resolvent at z =  +5.321 -0.001j\n",
      "\n",
      "=========== Starting FEAST iterations ===========\n",
      "Trying with 4 vectors:\n",
      "\n",
      " ITERATION 1 with 4 vectors and 4 left vectors\n",
      "   During kernel cleaning abs(g):\n",
      "   [2.4e-04 8.9e-05 3.3e-15 4.0e-05]\n",
      "   Real part of computed eigenvalues:\n",
      "   [3.46374132 5.23267876 5.26263538 5.32786662]\n",
      "   Imag part of computed eigenvalues:\n",
      "   [ 7.77160749e-03 -1.61901801e-05 -1.88359051e-05 -1.42595954e-02]\n",
      "   Relative Hausdorff distance from prior iterate: 1.905e+99\n",
      "\n",
      " ITERATION 2 with 4 vectors and 4 left vectors\n",
      "   During kernel cleaning abs(g):\n",
      "   [4.2e+00 5.5e-08 3.1e+00 1.2e+00]\n",
      "   Real part of computed eigenvalues:\n",
      "   [3.42136462 5.23267239 5.26263887 5.32786017]\n",
      "   Imag part of computed eigenvalues:\n",
      "   [-6.84777447e-03 -9.88803087e-06 -1.71340578e-05 -1.42697236e-02]\n",
      "   Relative Hausdorff distance from prior iterate: 8.539e-03\n",
      "\n",
      " ITERATION 3 with 4 vectors and 4 left vectors\n",
      "   During kernel cleaning abs(g):\n",
      "   [2.0e-04 2.5e-12 3.7e-04 1.7e-04]\n",
      "   Real part of computed eigenvalues:\n",
      "   [3.42403669 5.23267238 5.26263886 5.32785234]\n",
      "   Imag part of computed eigenvalues:\n",
      "   [-6.38236956e-03 -9.88226002e-06 -1.71311519e-05 -1.42660358e-02]\n",
      "   Relative Hausdorff distance from prior iterate: 5.166e-04\n",
      "\n",
      "   Removing ew#[0, 1] not enclosed by contour\n",
      " ITERATION 4 with 2 vectors and 2 left vectors\n",
      "   During kernel cleaning abs(g):\n",
      "   [1.2 3. ]\n",
      "   Real part of computed eigenvalues:\n",
      "   [5.23265338 5.26259873]\n",
      "   Imag part of computed eigenvalues:\n",
      "   [-2.79499222e-05 -1.19730029e-04]\n",
      "   Relative Hausdorff distance from prior iterate: 2.098e-05\n",
      "\n",
      " ITERATION 5 with 2 vectors and 2 left vectors\n",
      "   During kernel cleaning abs(g):\n",
      "   [0. 0.]\n",
      "   Real part of computed eigenvalues:\n",
      "   [5.23261737 5.26236133]\n",
      "   Imag part of computed eigenvalues:\n",
      "   [2.12083556e-05 1.53928009e-05]\n",
      "   Relative Hausdorff distance from prior iterate: 5.203e-05\n",
      "\n",
      " ITERATION 6 with 2 vectors and 2 left vectors\n",
      "   During kernel cleaning abs(g):\n",
      "   [1.2 3.1]\n",
      "   Real part of computed eigenvalues:\n",
      "   [5.23268152 5.26260634]\n",
      "   Imag part of computed eigenvalues:\n",
      "   [4.34432760e-05 2.37433546e-04]\n",
      "   Relative Hausdorff distance from prior iterate: 6.298e-05\n",
      "\n",
      " ITERATION 7 with 2 vectors and 2 left vectors\n",
      "   During kernel cleaning abs(g):\n",
      "   [0. 0.]\n",
      "   Real part of computed eigenvalues:\n",
      "   [5.23268632 5.26270925]\n",
      "   Imag part of computed eigenvalues:\n",
      "   [-3.89664704e-06  7.75391214e-06]\n",
      "   Relative Hausdorff distance from prior iterate: 4.794e-05\n",
      "\n",
      " ITERATION 8 with 2 vectors and 2 left vectors\n",
      "   During kernel cleaning abs(g):\n",
      "   [1.2 3.1]\n",
      "   Real part of computed eigenvalues:\n",
      "   [5.23267039 5.26264372]\n",
      "   Imag part of computed eigenvalues:\n",
      "   [-1.06051807e-05 -2.04861875e-05]\n",
      "   Relative Hausdorff distance from prior iterate: 1.359e-05\n",
      "\n",
      " ITERATION 9 with 2 vectors and 2 left vectors\n",
      "   During kernel cleaning abs(g):\n",
      "   [0. 0.]\n",
      "   Real part of computed eigenvalues:\n",
      "   [5.23264407 5.26254914]\n",
      "   Imag part of computed eigenvalues:\n",
      "   [-1.68916983e-05 -1.46394537e-04]\n",
      "   Relative Hausdorff distance from prior iterate: 2.999e-05\n",
      "\n",
      " ITERATION 10 with 2 vectors and 2 left vectors\n",
      "   During kernel cleaning abs(g):\n",
      "   [1.2 3.1]\n",
      "   Real part of computed eigenvalues:\n",
      "   [5.23263615 5.26235369]\n",
      "   Imag part of computed eigenvalues:\n",
      "   [2.87044432e-05 9.98411490e-05]\n",
      "   Relative Hausdorff distance from prior iterate: 5.988e-05\n",
      "\n",
      "\n",
      "***FEAST did not converge!\n",
      "\n",
      "============= FEAST iterations done =============\n",
      "Results:\n",
      " Z²: [5.26235369+9.98411490e-05j 5.23263615+2.87044432e-05j]\n",
      " beta: [1933439.27246509-0.00729315j 1933441.44325676-0.00209679j]\n",
      " CL dB/m: [-0.06334749 -0.01821245]\n"
     ]
    }
   ],
   "source": [
    "center = 5.25\n",
    "radius = .1        \n",
    "alpha = 5\n",
    "\n",
    "\n",
    "betas_fund, _, Es_fund, phis_fund, _ = A.leakyvecmodes(ctr=center, rad=radius, alpha=alpha,\n",
    "                                          nspan=4, npts=4, p=0, niterations=10,\n",
    "                                          rhoinv=.99, quadrule='ellipse_trapez_shift',\n",
    "                                          nrestarts=0, stop_tol=1e-9)"
   ]
  },
  {
   "cell_type": "code",
   "execution_count": 8,
   "id": "6044f147",
   "metadata": {
    "scrolled": true
   },
   "outputs": [
    {
     "data": {
      "application/vnd.jupyter.widget-view+json": {
       "model_id": "32f04d726f2e45c4a5db2ba74ec84067",
       "version_major": 2,
       "version_minor": 0
      },
      "text/plain": [
       "WebGuiWidget(value={'ngsolve_version': '6.2.2203-56-g47f483033', 'mesh_dim': 2, 'order2d': 2, 'order3d': 2, 'd…"
      ]
     },
     "metadata": {},
     "output_type": "display_data"
    },
    {
     "data": {
      "application/vnd.jupyter.widget-view+json": {
       "model_id": "31e372e8f0d14e2897cd4a77bcc72ad7",
       "version_major": 2,
       "version_minor": 0
      },
      "text/plain": [
       "WebGuiWidget(value={'ngsolve_version': '6.2.2203-56-g47f483033', 'mesh_dim': 2, 'order2d': 2, 'order3d': 2, 'd…"
      ]
     },
     "metadata": {},
     "output_type": "display_data"
    }
   ],
   "source": [
    "for e in Es_fund:\n",
    "    Draw(e.real, A.mesh, vectors={'grid_size':200})"
   ]
  },
  {
   "cell_type": "code",
   "execution_count": 9,
   "id": "5f116b81",
   "metadata": {},
   "outputs": [
    {
     "data": {
      "application/vnd.jupyter.widget-view+json": {
       "model_id": "43bd926026394525987a368ca40ef3f5",
       "version_major": 2,
       "version_minor": 0
      },
      "text/plain": [
       "WebGuiWidget(value={'ngsolve_version': '6.2.2203-56-g47f483033', 'mesh_dim': 2, 'order2d': 2, 'order3d': 2, 'd…"
      ]
     },
     "metadata": {},
     "output_type": "display_data"
    },
    {
     "data": {
      "application/vnd.jupyter.widget-view+json": {
       "model_id": "44faf8b6b07d42f8850e5f7d1b888ebc",
       "version_major": 2,
       "version_minor": 0
      },
      "text/plain": [
       "WebGuiWidget(value={'ngsolve_version': '6.2.2203-56-g47f483033', 'mesh_dim': 2, 'order2d': 2, 'order3d': 2, 'd…"
      ]
     },
     "metadata": {},
     "output_type": "display_data"
    }
   ],
   "source": [
    "for f in phis_fund:\n",
    "    Draw(f, A.mesh)"
   ]
  },
  {
   "cell_type": "markdown",
   "id": "7e23d307",
   "metadata": {},
   "source": [
    "# Higher Order Modes"
   ]
  },
  {
   "cell_type": "code",
   "execution_count": 6,
   "id": "f43aee7b",
   "metadata": {},
   "outputs": [
    {
     "name": "stdout",
     "output_type": "stream",
     "text": [
      "Set NGSolve automatic PML with p= 0  alpha= 5 and thickness=0.514\n",
      "Using FEAST to search for vector leaky modes in\n",
      "circle of radius 0.1 centered at  12.75\n",
      "assuming not more than 7 modes in this interval\n",
      "System size: 29692  x  29692   Inverse type: umfpack\n",
      "\n",
      "SpectralProj: Setting shifted trapezoidal rule on elliptical contour\n",
      "SpectralProjNGR:   Making resolvent at z = +12.821 +0.001j\n",
      "SpectralProjNGR:   Making resolvent at z = +12.679 +0.001j\n",
      "SpectralProjNGR:   Making resolvent at z = +12.679 -0.001j\n",
      "SpectralProjNGR:   Making resolvent at z = +12.821 -0.001j\n",
      "\n",
      "=========== Starting FEAST iterations ===========\n",
      "Trying with 7 vectors:\n",
      "\n",
      " ITERATION 1 with 7 vectors and 7 left vectors\n",
      "   During kernel cleaning abs(g):\n",
      "   [5.1e-10 4.6e-11 1.8e-11 4.4e-12 2.4e-18 1.3e-18 6.1e-19]\n",
      "   Removing ew#[4, 5, 6]\n",
      "   Real part of computed eigenvalues:\n",
      "   [13.22724845 13.24060841 13.33256379 13.37546164]\n",
      "   Imag part of computed eigenvalues:\n",
      "   [ 1.30260559e-09  1.35218155e-07 -9.50952374e-08  8.35501224e-09]\n",
      "   Relative Hausdorff distance from prior iterate: 7.843e+98\n",
      "\n",
      " ITERATION 2 with 4 vectors and 4 left vectors\n",
      "   During kernel cleaning abs(g):\n",
      "   [1.1e-11 2.0e-11 8.2e-11 1.0e-10]\n",
      "   Real part of computed eigenvalues:\n",
      "   [13.22724853 13.24060848 13.3325641  13.3754618 ]\n",
      "   Relative Hausdorff distance from prior iterate: 2.535e-08\n",
      "\n",
      " ITERATION 3 with 4 vectors and 4 left vectors\n",
      "   During kernel cleaning abs(g):\n",
      "   [1. 1. 1. 1.]\n",
      "   Real part of computed eigenvalues:\n",
      "   [13.22724853 13.24060848 13.3325641  13.3754618 ]\n",
      "   Relative Hausdorff distance from prior iterate: 8.917e-15\n",
      "\n",
      "\n",
      "***FEAST converged with:\n",
      "\tRelative Hausdorff distance = 8.917e-15\n",
      "\n",
      "============= FEAST iterations done =============\n",
      "Results:\n",
      " Z²: [13.3754618 +3.95745919e-16j 13.3325641 -1.00285287e-15j\n",
      " 13.24060848-5.72377693e-16j 13.22724853-7.16081083e-17j]\n",
      " beta: [3491084.94312738-1.60100284e-14j 3491086.67856722+4.05707150e-14j\n",
      " 3491090.39865746+2.31556874e-14j 3491090.93913791+2.89692407e-15j]\n",
      " CL dB/m: [-1.39061340e-13  3.52392753e-13  2.01127745e-13  2.51623627e-14]\n"
     ]
    }
   ],
   "source": [
    "center =12.75\n",
    "radius = .1    \n",
    "alpha = 5\n",
    "\n",
    "\n",
    "betas_hom, _, Es_hom, phis_hom, _ = A.leakyvecmodes(ctr=center, rad=radius, alpha=alpha,\n",
    "                                          nspan=7, npts=4, p=0, niterations=10,\n",
    "                                          rhoinv=.99, quadrule='ellipse_trapez_shift',\n",
    "                                          nrestarts=0, stop_tol=1e-9)"
   ]
  },
  {
   "cell_type": "code",
   "execution_count": 7,
   "id": "af8d2751",
   "metadata": {
    "scrolled": false
   },
   "outputs": [
    {
     "data": {
      "application/vnd.jupyter.widget-view+json": {
       "model_id": "7626798f146a47bd840cf1eb0829597e",
       "version_major": 2,
       "version_minor": 0
      },
      "text/plain": [
       "WebGuiWidget(value={'ngsolve_version': '6.2.2203-56-g47f483033', 'mesh_dim': 2, 'order2d': 2, 'order3d': 2, 'd…"
      ]
     },
     "metadata": {},
     "output_type": "display_data"
    },
    {
     "data": {
      "application/vnd.jupyter.widget-view+json": {
       "model_id": "fd8df91a1e9348e2972659e211d82f0c",
       "version_major": 2,
       "version_minor": 0
      },
      "text/plain": [
       "WebGuiWidget(value={'ngsolve_version': '6.2.2203-56-g47f483033', 'mesh_dim': 2, 'order2d': 2, 'order3d': 2, 'd…"
      ]
     },
     "metadata": {},
     "output_type": "display_data"
    },
    {
     "data": {
      "application/vnd.jupyter.widget-view+json": {
       "model_id": "6668ee56166b4fcf81c594b8b64982e1",
       "version_major": 2,
       "version_minor": 0
      },
      "text/plain": [
       "WebGuiWidget(value={'ngsolve_version': '6.2.2203-56-g47f483033', 'mesh_dim': 2, 'order2d': 2, 'order3d': 2, 'd…"
      ]
     },
     "metadata": {},
     "output_type": "display_data"
    },
    {
     "data": {
      "application/vnd.jupyter.widget-view+json": {
       "model_id": "a3a7ac13495a488899e7ed35da988567",
       "version_major": 2,
       "version_minor": 0
      },
      "text/plain": [
       "WebGuiWidget(value={'ngsolve_version': '6.2.2203-56-g47f483033', 'mesh_dim': 2, 'order2d': 2, 'order3d': 2, 'd…"
      ]
     },
     "metadata": {},
     "output_type": "display_data"
    }
   ],
   "source": [
    "for e in Es_hom:\n",
    "    Draw(e.real, A.mesh, vectors={'grid_size':200})"
   ]
  },
  {
   "cell_type": "markdown",
   "id": "948bb68a",
   "metadata": {},
   "source": [
    "# Refined search\n",
    "\n",
    "### Transverse Electric:"
   ]
  },
  {
   "cell_type": "code",
   "execution_count": null,
   "id": "fa400cbb",
   "metadata": {},
   "outputs": [],
   "source": [
    "center_te =12.744\n",
    "radius = .005   \n",
    "alpha = 5\n",
    "\n",
    "\n",
    "betas_te, _, Es_te, phis_te, _ = A.leakyvecmodes(ctr=center_te, rad=radius, alpha=alpha,\n",
    "                                          nspan=4, npts=4, p=2, niterations=10,\n",
    "                                          nrestarts=0, stop_tol=1e-9)"
   ]
  },
  {
   "cell_type": "code",
   "execution_count": null,
   "id": "967132e9",
   "metadata": {},
   "outputs": [],
   "source": [
    "for e in Es_te:\n",
    "    Draw(e.real, A.mesh, vectors={'grid_size':2000})"
   ]
  },
  {
   "cell_type": "markdown",
   "id": "d1a9e7d7",
   "metadata": {},
   "source": [
    "### HOM"
   ]
  },
  {
   "cell_type": "code",
   "execution_count": null,
   "id": "22b2faf8",
   "metadata": {},
   "outputs": [],
   "source": [
    "center_te =12.766\n",
    "radius = .005   \n",
    "alpha = 5\n",
    "\n",
    "\n",
    "betas_hom, _, Es_hom, phis_hom, _ = A.leakyvecmodes(ctr=center_te, rad=radius, alpha=alpha,\n",
    "                                          nspan=4, npts=4, p=2, niterations=10,\n",
    "                                          nrestarts=0, stop_tol=1e-9)"
   ]
  },
  {
   "cell_type": "code",
   "execution_count": null,
   "id": "c249cd55",
   "metadata": {},
   "outputs": [],
   "source": [
    "for e in Es_hom:\n",
    "    Draw(e.real, A.mesh, vectors={'grid_size':200})"
   ]
  },
  {
   "cell_type": "markdown",
   "id": "4fc741f5",
   "metadata": {},
   "source": [
    "# Orthogonality Check\n",
    "\n"
   ]
  },
  {
   "cell_type": "code",
   "execution_count": null,
   "id": "34bde670",
   "metadata": {},
   "outputs": [],
   "source": [
    "# Set choice for fundamental mode\n",
    "Etv_fund, phi_fund, beta_fund = Es_fund[0], phis_fund[0], betas_fund[0]\n",
    "\n",
    "# Get H field for fundamental mode\n",
    "Htv_fund, Hz_fund = A.HfromE(Etv_fund, phi_fund, beta_fund)\n",
    "\n",
    "# Find current modal power\n",
    "E_fund_power = A.power(Etv_fund, Htv_fund)\n",
    "E_fund_power"
   ]
  },
  {
   "cell_type": "code",
   "execution_count": null,
   "id": "a497fdb4",
   "metadata": {},
   "outputs": [],
   "source": [
    "# Set choice for higher order mode (here Transverse Electric type)\n",
    "Etv_TE, Ephi_TE, beta_TE = Es_hom[1], phis_hom[1], betas_hom[1]\n",
    "\n",
    "# Get H field for hom\n",
    "Htv_TE, Hz_TE = A.HfromE(Etv_TE, Ephi_TE, beta_TE)\n",
    "\n",
    "# Find current modal power\n",
    "E_hom_power = A.power(Etv_TE, Htv_TE)\n",
    "\n",
    "E_hom_power"
   ]
  },
  {
   "cell_type": "code",
   "execution_count": null,
   "id": "a027968b",
   "metadata": {},
   "outputs": [],
   "source": [
    "# Check orthogonality (for power (maxwell) inner product)\n",
    "A.power(Etv_fund, Htv_TE)"
   ]
  },
  {
   "cell_type": "code",
   "execution_count": null,
   "id": "92d9ae1a",
   "metadata": {},
   "outputs": [],
   "source": [
    "# Create full E field for fundamental\n",
    "Ez_fund = -1j/beta_fund * phi_fund\n",
    "E_fund_full = ng.CoefficientFunction((Etv_fund[0], Etv_fund[1], Ez_fund))\n",
    "\n",
    "# Create full H field for fundamental\n",
    "H_fund_full = ng.CoefficientFunction((Htv_fund[0], Htv_fund[1], Hz_fund))\n",
    "\n",
    "# Create full E field for higher order mode\n",
    "Ez_TE = -1j/beta_TE * Ephi_TE\n",
    "E_TE_full = ng.CoefficientFunction((Etv_TE[0], Etv_TE[1], Ez_TE))\n",
    "\n",
    "# Create full hom H field\n",
    "H_TE_full = ng.CoefficientFunction((Htv_TE[0], Htv_TE[1], Hz_TE))\n",
    "\n",
    "\n",
    "\n"
   ]
  },
  {
   "cell_type": "markdown",
   "id": "a5a9814b",
   "metadata": {},
   "source": [
    "# Full Field dot product Orthogonality"
   ]
  },
  {
   "cell_type": "code",
   "execution_count": null,
   "id": "48c6cc10",
   "metadata": {},
   "outputs": [],
   "source": [
    "t1 = ng.InnerProduct(E_fund_full, E_TE_full)\n",
    "t2 = ng.InnerProduct(H_fund_full, H_TE_full)\n",
    "ng.Integrate(t1 + t2, A.mesh)"
   ]
  },
  {
   "cell_type": "markdown",
   "id": "b994b729",
   "metadata": {},
   "source": [
    "# Component-wise Orthogonality"
   ]
  },
  {
   "cell_type": "code",
   "execution_count": null,
   "id": "b588ae07",
   "metadata": {},
   "outputs": [],
   "source": [
    "# E field componentwise \n",
    "\n",
    "for i in range(3):\n",
    "    print(ng.Integrate(ng.InnerProduct(E_fund_full[i], E_TE_full[i]), A.mesh))"
   ]
  },
  {
   "cell_type": "code",
   "execution_count": null,
   "id": "2edce0b5",
   "metadata": {},
   "outputs": [],
   "source": [
    "# H field componentwise \n",
    "\n",
    "for i in range(3):\n",
    "    print(ng.Integrate(ng.InnerProduct(H_fund_full[i], H_TE_full[i]), A.mesh))"
   ]
  },
  {
   "cell_type": "code",
   "execution_count": null,
   "id": "849cd320",
   "metadata": {},
   "outputs": [],
   "source": [
    "# E field componentwise \n",
    "\n",
    "for i in range(3):\n",
    "    print(ng.Integrate(ng.InnerProduct(E_fund_full[i], H_TE_full[i]), A.mesh))"
   ]
  }
 ],
 "metadata": {
  "kernelspec": {
   "display_name": "Python 3 (ipykernel)",
   "language": "python",
   "name": "python3"
  },
  "language_info": {
   "codemirror_mode": {
    "name": "ipython",
    "version": 3
   },
   "file_extension": ".py",
   "mimetype": "text/x-python",
   "name": "python",
   "nbconvert_exporter": "python",
   "pygments_lexer": "ipython3",
   "version": "3.8.10"
  }
 },
 "nbformat": 4,
 "nbformat_minor": 5
}
