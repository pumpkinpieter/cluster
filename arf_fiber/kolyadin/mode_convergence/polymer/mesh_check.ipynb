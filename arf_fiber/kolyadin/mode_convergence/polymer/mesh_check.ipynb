{
 "cells": [
  {
   "cell_type": "markdown",
   "id": "b321df23",
   "metadata": {},
   "source": [
    "# Mesh Check for Lossy Polymer Kolyadin\n",
    "\n",
    "See if things are set well"
   ]
  },
  {
   "cell_type": "code",
   "execution_count": null,
   "id": "d7644740",
   "metadata": {},
   "outputs": [],
   "source": [
    "#!/usr/bin/env python3\n",
    "# -*- coding: utf-8 -*-\n",
    "\n",
    "import numpy as np\n",
    "from fiberamp.fiber.microstruct.pbg import ARF2\n",
    "from ngsolve.webgui import Draw\n",
    "\n",
    "\n",
    "# Embedding parameter array\n",
    "wls = np.linspace(3.11, 3.6, 300) * 1e-6\n",
    "\n",
    "# Search centers\n",
    "inds = [85,   70,    60,    40,    20,    0,  100,  150,   175,   190,\n",
    "        230,   250,  275,   299]\n",
    "data = [5.148, 5.131, 5.118, 5.088, 5.05, 4.997, 5.16, 5.21, 5.236, 5.250,\n",
    "        5.29, 5.317, 5.35, 5.400]\n",
    "degree = 7\n",
    "coeffs = np.polyfit(wls[inds], data, degree)\n",
    "wls = np.linspace(3.11, 3.6, 800) * 1e-6\n",
    "centers = sum([coeffs[-i-1] * wls**i for i in range(0, degree + 1)])\n",
    "\n",
    "n_poly = 1.5 - .1j\n",
    "n_buffer = 1.00027717\n",
    "n0 = n_buffer\n",
    "\n",
    "scaling = 59.5\n",
    "T_cladding = 1.2 * 25.5 / scaling\n",
    "\n",
    "T_poly = .5 * T_cladding\n",
    "T_buffer = .5 * T_cladding\n",
    "T_outer = .75 * T_cladding\n",
    "\n",
    "ref, p, i = 0, 0, 0\n",
    "\n",
    "outer_materials = [\n",
    "\n",
    "    {'material': 'poly',\n",
    "     'n': n_poly,\n",
    "     'T': T_poly,\n",
    "     'maxh': .03},\n",
    "\n",
    "    {'material': 'buffer',\n",
    "     'n': n_buffer,\n",
    "     'T': T_buffer,\n",
    "     'maxh': .2},\n",
    "\n",
    "    {'material': 'Outer',\n",
    "     'n': n0,\n",
    "     'T': T_outer,\n",
    "     'maxh': .2}\n",
    "]\n",
    "\n",
    "a = ARF2(name='kolyadin', poly_core=True, refine=ref,\n",
    "         curve=max(p+1, 8), wl=wls[i],\n",
    "         outer_materials=outer_materials)"
   ]
  },
  {
   "cell_type": "code",
   "execution_count": null,
   "id": "39b39bf0",
   "metadata": {},
   "outputs": [],
   "source": [
    "Draw(a.mesh)"
   ]
  },
  {
   "cell_type": "code",
   "execution_count": null,
   "id": "46ca2c2c",
   "metadata": {},
   "outputs": [],
   "source": []
  }
 ],
 "metadata": {
  "kernelspec": {
   "display_name": "Python 3 (ipykernel)",
   "language": "python",
   "name": "python3"
  },
  "language_info": {
   "codemirror_mode": {
    "name": "ipython",
    "version": 3
   },
   "file_extension": ".py",
   "mimetype": "text/x-python",
   "name": "python",
   "nbconvert_exporter": "python",
   "pygments_lexer": "ipython3",
   "version": "3.8.10"
  }
 },
 "nbformat": 4,
 "nbformat_minor": 5
}
