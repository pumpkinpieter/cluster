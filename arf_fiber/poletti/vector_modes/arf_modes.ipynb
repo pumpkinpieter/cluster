{
 "cells": [
  {
   "cell_type": "code",
   "execution_count": 1,
   "id": "76086311",
   "metadata": {},
   "outputs": [
    {
     "name": "stdout",
     "output_type": "stream",
     "text": [
      "importing NGSolve-6.2.2203-56-g47f483033\n"
     ]
    }
   ],
   "source": [
    "from fiberamp.fiber.microstruct.pbg import ARF2\n",
    "from ngsolve.webgui import Draw\n",
    "import ngsolve as ng"
   ]
  },
  {
   "cell_type": "code",
   "execution_count": 2,
   "id": "943a171a",
   "metadata": {
    "scrolled": true
   },
   "outputs": [
    {
     "name": "stdout",
     "output_type": "stream",
     "text": [
      "ModeSolver: Checking if mesh has required regions\n",
      "Mesh has  3927  elements,  1979  points,  and  5905  edges.\n"
     ]
    }
   ],
   "source": [
    "A = ARF2(poly_core=True, refine=0)\n"
   ]
  },
  {
   "cell_type": "code",
   "execution_count": 3,
   "id": "295db014",
   "metadata": {
    "scrolled": false
   },
   "outputs": [
    {
     "data": {
      "application/vnd.jupyter.widget-view+json": {
       "model_id": "b4208568416b4388823e7c4c6efb4ba2",
       "version_major": 2,
       "version_minor": 0
      },
      "text/plain": [
       "WebGuiWidget(value={'ngsolve_version': '6.2.2203-56-g47f483033', 'mesh_dim': 2, 'order2d': 2, 'order3d': 2, 'd…"
      ]
     },
     "metadata": {},
     "output_type": "display_data"
    },
    {
     "data": {
      "text/plain": [
       "BaseWebGuiScene"
      ]
     },
     "execution_count": 3,
     "metadata": {},
     "output_type": "execute_result"
    }
   ],
   "source": [
    "Draw(A.mesh)"
   ]
  },
  {
   "cell_type": "markdown",
   "id": "890c55d5",
   "metadata": {},
   "source": [
    "# Fundamental Mode"
   ]
  },
  {
   "cell_type": "code",
   "execution_count": 4,
   "id": "18522452",
   "metadata": {},
   "outputs": [
    {
     "name": "stdout",
     "output_type": "stream",
     "text": [
      "Set NGSolve automatic PML with p= 1  alpha= 5 and thickness=2.000\n",
      "Using FEAST to search for vector leaky modes in\n",
      "circle of radius 0.005 centered at  5.066\n",
      "assuming not more than 4 modes in this interval\n",
      "System size: 19664  x  19664   Inverse type: umfpack\n",
      "\n",
      "SpectralProj: Setting shifted trapezoidal rule on elliptical contour\n",
      "SpectralProjNGR:   Making resolvent at z =  +5.070 +0.000j\n",
      "SpectralProjNGR:   Making resolvent at z =  +5.062 +0.000j\n",
      "SpectralProjNGR:   Making resolvent at z =  +5.062 -0.000j\n",
      "SpectralProjNGR:   Making resolvent at z =  +5.070 -0.000j\n",
      "\n",
      "=========== Starting FEAST iterations ===========\n",
      "Trying with 4 vectors:\n",
      "\n",
      " ITERATION 1 with 4 vectors and 4 left vectors\n",
      "   During kernel cleaning abs(g):\n",
      "   [1.7e+00 5.4e-03 1.6e-16 3.4e-17]\n",
      "   Removing ew#[3]\n",
      "   Real part of computed eigenvalues:\n",
      "   [5.06267039 5.06393135 5.47410985]\n",
      "   Imag part of computed eigenvalues:\n",
      "   [-1.56238596e-06 -7.06071369e-07  2.11517499e-02]\n",
      "   Relative Hausdorff distance from prior iterate: 1.974e+99\n",
      "\n",
      " ITERATION 2 with 3 vectors and 3 left vectors\n",
      "   During kernel cleaning abs(g):\n",
      "   [2.3e+00 2.2e-03 1.8e-21]\n",
      "   Removing ew#[2]\n",
      "   Real part of computed eigenvalues:\n",
      "   [5.06267039 5.06393135]\n",
      "   Imag part of computed eigenvalues:\n",
      "   [-1.56238597e-06 -7.06071367e-07]\n",
      "   Relative Hausdorff distance from prior iterate: 8.107e-02\n",
      "\n",
      " ITERATION 3 with 2 vectors and 2 left vectors\n",
      "   During kernel cleaning abs(g):\n",
      "   [2.3e+00 2.2e-03]\n",
      "   Real part of computed eigenvalues:\n",
      "   [5.06267039 5.06393135]\n",
      "   Imag part of computed eigenvalues:\n",
      "   [-1.56238596e-06 -7.06071367e-07]\n",
      "   Relative Hausdorff distance from prior iterate: 1.527e-14\n",
      "\n",
      "\n",
      "***FEAST converged with:\n",
      "\tRelative Hausdorff distance = 1.527e-14\n",
      "\n",
      "============= FEAST iterations done =============\n",
      "Results:\n",
      " Z²: [5.06267039-1.56238596e-06j 5.06393135-7.06071367e-07j]\n",
      " beta: [3488402.41874045+0.00099529j 3488401.61546623+0.00044979j]\n",
      " CL dB/m: [0.00864497 0.00390682]\n"
     ]
    }
   ],
   "source": [
    "center = 5.066\n",
    "radius = .005        \n",
    "alpha = 5\n",
    "\n",
    "\n",
    "betas_fund, _, Es_fund, phis_fund, _ = A.leakyvecmodes(ctr=center, rad=radius, alpha=alpha,\n",
    "                                          nspan=4, npts=4, p=1, niterations=10,\n",
    "                                          rhoinv=.99, quadrule='ellipse_trapez_shift',\n",
    "                                          nrestarts=0, stop_tol=1e-9)"
   ]
  },
  {
   "cell_type": "code",
   "execution_count": 5,
   "id": "6044f147",
   "metadata": {
    "scrolled": false
   },
   "outputs": [
    {
     "data": {
      "application/vnd.jupyter.widget-view+json": {
       "model_id": "d2a6290bb2434a1e8aee4b79c08e9cdb",
       "version_major": 2,
       "version_minor": 0
      },
      "text/plain": [
       "WebGuiWidget(value={'ngsolve_version': '6.2.2203-56-g47f483033', 'mesh_dim': 2, 'order2d': 2, 'order3d': 2, 'd…"
      ]
     },
     "metadata": {},
     "output_type": "display_data"
    },
    {
     "data": {
      "application/vnd.jupyter.widget-view+json": {
       "model_id": "769bd91b107f4f88954829d62d8b1693",
       "version_major": 2,
       "version_minor": 0
      },
      "text/plain": [
       "WebGuiWidget(value={'ngsolve_version': '6.2.2203-56-g47f483033', 'mesh_dim': 2, 'order2d': 2, 'order3d': 2, 'd…"
      ]
     },
     "metadata": {},
     "output_type": "display_data"
    }
   ],
   "source": [
    "for e in Es_fund:\n",
    "    Draw(e.real, A.mesh, vectors={'grid_size':200})"
   ]
  },
  {
   "cell_type": "markdown",
   "id": "7e23d307",
   "metadata": {},
   "source": [
    "# Higher Order Modes"
   ]
  },
  {
   "cell_type": "code",
   "execution_count": null,
   "id": "f43aee7b",
   "metadata": {},
   "outputs": [],
   "source": [
    "center =12.75\n",
    "radius = .1    \n",
    "alpha = 5\n",
    "\n",
    "\n",
    "betas_hom, _, Es_hom, phis_hom, _ = A.leakyvecmodes(ctr=center, rad=radius, alpha=alpha,\n",
    "                                          nspan=7, npts=4, p=2, niterations=10,\n",
    "                                          rhoinv=.99, quadrule='ellipse_trapez_shift',\n",
    "                                          nrestarts=0, stop_tol=1e-9)"
   ]
  },
  {
   "cell_type": "code",
   "execution_count": null,
   "id": "af8d2751",
   "metadata": {
    "scrolled": false
   },
   "outputs": [],
   "source": [
    "for e in Es_hom:\n",
    "    Draw(e.real, A.mesh, vectors={'grid_size':200})"
   ]
  },
  {
   "cell_type": "markdown",
   "id": "948bb68a",
   "metadata": {},
   "source": [
    "# Refined search\n",
    "\n",
    "### Transverse Electric:"
   ]
  },
  {
   "cell_type": "code",
   "execution_count": null,
   "id": "fa400cbb",
   "metadata": {},
   "outputs": [],
   "source": [
    "center_te =12.744\n",
    "radius = .005   \n",
    "alpha = 5\n",
    "\n",
    "\n",
    "betas_te, _, Es_te, phis_te, _ = A.leakyvecmodes(ctr=center_te, rad=radius, alpha=alpha,\n",
    "                                          nspan=4, npts=4, p=2, niterations=10,\n",
    "                                          nrestarts=0, stop_tol=1e-9)"
   ]
  },
  {
   "cell_type": "code",
   "execution_count": null,
   "id": "967132e9",
   "metadata": {
    "scrolled": false
   },
   "outputs": [],
   "source": [
    "for e in Es_te:\n",
    "    Draw(e.real, A.mesh, vectors={'grid_size':2000})"
   ]
  },
  {
   "cell_type": "markdown",
   "id": "d1a9e7d7",
   "metadata": {},
   "source": [
    "### HOM"
   ]
  },
  {
   "cell_type": "code",
   "execution_count": null,
   "id": "22b2faf8",
   "metadata": {
    "scrolled": true
   },
   "outputs": [],
   "source": [
    "center_te =12.766\n",
    "radius = .005   \n",
    "alpha = 5\n",
    "\n",
    "\n",
    "betas_hom, _, Es_hom, phis_hom, _ = A.leakyvecmodes(ctr=center_te, rad=radius, alpha=alpha,\n",
    "                                          nspan=4, npts=4, p=2, niterations=10,\n",
    "                                          nrestarts=0, stop_tol=1e-9)"
   ]
  },
  {
   "cell_type": "code",
   "execution_count": null,
   "id": "c249cd55",
   "metadata": {
    "scrolled": false
   },
   "outputs": [],
   "source": [
    "for e in Es_hom:\n",
    "    Draw(e.real, A.mesh, vectors={'grid_size':200})"
   ]
  },
  {
   "cell_type": "markdown",
   "id": "4fc741f5",
   "metadata": {},
   "source": [
    "# Orthogonality Check\n",
    "\n"
   ]
  },
  {
   "cell_type": "code",
   "execution_count": null,
   "id": "34bde670",
   "metadata": {},
   "outputs": [],
   "source": [
    "# Set choice for fundamental mode\n",
    "Etv_fund, phi_fund, beta_fund = Es_fund[0], phis_fund[0], betas_fund[0]\n",
    "\n",
    "# Get H field for fundamental mode\n",
    "Htv_fund, Hz_fund = A.HfromE(Etv_fund, phi_fund, beta_fund)\n",
    "\n",
    "# Find current modal power\n",
    "E_fund_power = A.power(Etv_fund, Htv_fund)\n",
    "E_fund_power"
   ]
  },
  {
   "cell_type": "code",
   "execution_count": null,
   "id": "a497fdb4",
   "metadata": {},
   "outputs": [],
   "source": [
    "# Set choice for higher order mode (here Transverse Electric type)\n",
    "Etv_TE, Ephi_TE, beta_TE = Es_hom[1], phis_hom[1], betas_hom[1]\n",
    "\n",
    "# Get H field for hom\n",
    "Htv_TE, Hz_TE = A.HfromE(Etv_TE, Ephi_TE, beta_TE)\n",
    "\n",
    "# Find current modal power\n",
    "E_hom_power = A.power(Etv_TE, Htv_TE)\n",
    "\n",
    "E_hom_power"
   ]
  },
  {
   "cell_type": "code",
   "execution_count": null,
   "id": "a027968b",
   "metadata": {},
   "outputs": [],
   "source": [
    "# Check orthogonality (for power (maxwell) inner product)\n",
    "A.power(Etv_fund, Htv_TE)"
   ]
  },
  {
   "cell_type": "code",
   "execution_count": null,
   "id": "92d9ae1a",
   "metadata": {},
   "outputs": [],
   "source": [
    "# Create full E field for fundamental\n",
    "Ez_fund = -1j/beta_fund * phi_fund\n",
    "E_fund_full = ng.CoefficientFunction((Etv_fund[0], Etv_fund[1], Ez_fund))\n",
    "\n",
    "# Create full H field for fundamental\n",
    "H_fund_full = ng.CoefficientFunction((Htv_fund[0], Htv_fund[1], Hz_fund))\n",
    "\n",
    "# Create full E field for higher order mode\n",
    "Ez_TE = -1j/beta_TE * Ephi_TE\n",
    "E_TE_full = ng.CoefficientFunction((Etv_TE[0], Etv_TE[1], Ez_TE))\n",
    "\n",
    "# Create full hom H field\n",
    "H_TE_full = ng.CoefficientFunction((Htv_TE[0], Htv_TE[1], Hz_TE))\n",
    "\n",
    "\n",
    "\n"
   ]
  },
  {
   "cell_type": "markdown",
   "id": "a5a9814b",
   "metadata": {},
   "source": [
    "# Full Field dot product Orthogonality"
   ]
  },
  {
   "cell_type": "code",
   "execution_count": null,
   "id": "48c6cc10",
   "metadata": {},
   "outputs": [],
   "source": [
    "t1 = ng.InnerProduct(E_fund_full, E_TE_full)\n",
    "t2 = ng.InnerProduct(H_fund_full, H_TE_full)\n",
    "ng.Integrate(t1 + t2, A.mesh)"
   ]
  },
  {
   "cell_type": "markdown",
   "id": "b994b729",
   "metadata": {},
   "source": [
    "# Component-wise Orthogonality"
   ]
  },
  {
   "cell_type": "code",
   "execution_count": null,
   "id": "b588ae07",
   "metadata": {},
   "outputs": [],
   "source": [
    "# E field componentwise \n",
    "\n",
    "for i in range(3):\n",
    "    print(ng.Integrate(ng.InnerProduct(E_fund_full[i], E_TE_full[i]), A.mesh))"
   ]
  },
  {
   "cell_type": "code",
   "execution_count": null,
   "id": "2edce0b5",
   "metadata": {},
   "outputs": [],
   "source": [
    "# H field componentwise \n",
    "\n",
    "for i in range(3):\n",
    "    print(ng.Integrate(ng.InnerProduct(H_fund_full[i], H_TE_full[i]), A.mesh))"
   ]
  },
  {
   "cell_type": "code",
   "execution_count": null,
   "id": "849cd320",
   "metadata": {},
   "outputs": [],
   "source": [
    "# E field componentwise \n",
    "\n",
    "for i in range(3):\n",
    "    print(ng.Integrate(ng.InnerProduct(E_fund_full[i], H_TE_full[i]), A.mesh))"
   ]
  }
 ],
 "metadata": {
  "kernelspec": {
   "display_name": "Python 3 (ipykernel)",
   "language": "python",
   "name": "python3"
  },
  "language_info": {
   "codemirror_mode": {
    "name": "ipython",
    "version": 3
   },
   "file_extension": ".py",
   "mimetype": "text/x-python",
   "name": "python",
   "nbconvert_exporter": "python",
   "pygments_lexer": "ipython3",
   "version": "3.8.10"
  }
 },
 "nbformat": 4,
 "nbformat_minor": 5
}
