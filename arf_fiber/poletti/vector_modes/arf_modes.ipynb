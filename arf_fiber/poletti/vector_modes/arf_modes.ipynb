{
 "cells": [
  {
   "cell_type": "code",
   "execution_count": 1,
   "id": "76086311",
   "metadata": {},
   "outputs": [],
   "source": [
    "from fiberamp.fiber.microstruct.pbg import ARF2\n",
    "from ngsolve.webgui import Draw\n",
    "import ngsolve as ng"
   ]
  },
  {
   "cell_type": "code",
   "execution_count": 2,
   "id": "943a171a",
   "metadata": {
    "scrolled": true
   },
   "outputs": [
    {
     "name": "stdout",
     "output_type": "stream",
     "text": [
      "ModeSolver: Checking if mesh has required regions\n",
      "Mesh has  3558  elements,  1794  points,  and  5351  edges.\n"
     ]
    }
   ],
   "source": [
    "A = ARF2(poly_core=True, refine=0)\n"
   ]
  },
  {
   "cell_type": "code",
   "execution_count": 3,
   "id": "295db014",
   "metadata": {
    "scrolled": false
   },
   "outputs": [
    {
     "data": {
      "application/vnd.jupyter.widget-view+json": {
       "model_id": "ee576bb4628f426ca6c90a43e57f5255",
       "version_major": 2,
       "version_minor": 0
      },
      "text/plain": [
       "WebGuiWidget(value={'ngsolve_version': '6.2.2203-55-ge6a1832fc', 'mesh_dim': 2, 'order2d': 2, 'order3d': 2, 'd…"
      ]
     },
     "metadata": {},
     "output_type": "display_data"
    },
    {
     "data": {
      "text/plain": [
       "BaseWebGuiScene"
      ]
     },
     "execution_count": 3,
     "metadata": {},
     "output_type": "execute_result"
    }
   ],
   "source": [
    "Draw(A.mesh)"
   ]
  },
  {
   "cell_type": "markdown",
   "id": "890c55d5",
   "metadata": {},
   "source": [
    "# Fundamental Mode"
   ]
  },
  {
   "cell_type": "code",
   "execution_count": 4,
   "id": "18522452",
   "metadata": {},
   "outputs": [
    {
     "name": "stdout",
     "output_type": "stream",
     "text": [
      "Set NGSolve automatic PML with p= 1  alpha= 5 and thickness=2.000\n",
      "Using FEAST to search for vector leaky modes in\n",
      "circle of radius 0.005 centered at  5.066\n",
      "assuming not more than 4 modes in this interval\n",
      "System size: 17818  x  17818   Inverse type: umfpack\n",
      "\n",
      "SpectralProj: Setting shifted trapezoidal rule on elliptical contour\n",
      "SpectralProjNGR:   Making resolvent at z =  +5.070 +0.000j\n",
      "SpectralProjNGR:   Making resolvent at z =  +5.062 +0.000j\n",
      "SpectralProjNGR:   Making resolvent at z =  +5.062 -0.000j\n",
      "SpectralProjNGR:   Making resolvent at z =  +5.070 -0.000j\n",
      "\n",
      "=========== Starting FEAST iterations ===========\n",
      "Trying with 4 vectors:\n",
      "\n",
      " ITERATION 1 with 4 vectors and 4 left vectors\n",
      "   During kernel cleaning abs(g):\n",
      "   [1.6e+00 3.8e-03 1.5e-16 2.4e-16]\n",
      "   Real part of computed eigenvalues:\n",
      "   [5.06238233 5.06406311 5.17821562 5.40383777]\n",
      "   Imag part of computed eigenvalues:\n",
      "   [-2.14002246e-04 -9.46276650e-07  3.24415783e-02  5.62882743e-03]\n",
      "   Relative Hausdorff distance from prior iterate: 1.974e+99\n",
      "\n",
      " ITERATION 2 with 4 vectors and 4 left vectors\n",
      "   During kernel cleaning abs(g):\n",
      "   [5.0e+03 4.4e-01 3.9e-14 6.1e-08]\n",
      "   Real part of computed eigenvalues:\n",
      "   [5.34852461 5.40602397 5.40712154 5.65850671]\n",
      "   Imag part of computed eigenvalues:\n",
      "   [-0.63437994 -0.00246849 -0.00130154 -0.01011169]\n",
      "   Relative Hausdorff distance from prior iterate: 1.268e-01\n",
      "\n",
      " ITERATION 3 with 4 vectors and 4 left vectors\n",
      "   During kernel cleaning abs(g):\n",
      "   [2.1e-03 6.5e-07 3.3e-15 2.9e-18]\n",
      "   Removing ew#[3]\n",
      "   Real part of computed eigenvalues:\n",
      "   [5.06226234 5.06406746 5.43221843]\n",
      "   Imag part of computed eigenvalues:\n",
      "   [-2.53136987e-06 -7.45933517e-07  1.56859481e-02]\n",
      "   Relative Hausdorff distance from prior iterate: 1.294e-01\n",
      "\n",
      "   Removing ew#[2] not enclosed by contour\n",
      " ITERATION 4 with 2 vectors and 2 left vectors\n",
      "   During kernel cleaning abs(g):\n",
      "   [1.7e+00 3.1e-04]\n",
      "   Real part of computed eigenvalues:\n",
      "   [5.06226234 5.06406746]\n",
      "   Imag part of computed eigenvalues:\n",
      "   [-2.53136986e-06 -7.45939636e-07]\n",
      "   Relative Hausdorff distance from prior iterate: 1.237e-12\n",
      "\n",
      "\n",
      "***FEAST converged with:\n",
      "\tRelative Hausdorff distance = 1.237e-12\n",
      "\n",
      "============= FEAST iterations done =============\n",
      "Results:\n",
      " Z²: [5.06226234-2.53136986e-06j 5.06406746-7.45939636e-07j]\n",
      " beta: [3488402.67867971+0.00161256j 3488401.52876235+0.00047519j]\n",
      " CL dB/m: [0.01400654 0.00412742]\n"
     ]
    }
   ],
   "source": [
    "center = 5.066\n",
    "radius = .005        \n",
    "alpha = 5\n",
    "\n",
    "\n",
    "betas_fund, _, Es_fund, phis_fund, _ = A.leakyvecmodes(ctr=center, rad=radius, alpha=alpha,\n",
    "                                          nspan=4, npts=4, p=1, niterations=10,\n",
    "                                          rhoinv=.99, quadrule='ellipse_trapez_shift',\n",
    "                                          nrestarts=0, stop_tol=1e-9)"
   ]
  },
  {
   "cell_type": "code",
   "execution_count": 5,
   "id": "6044f147",
   "metadata": {
    "scrolled": false
   },
   "outputs": [
    {
     "data": {
      "application/vnd.jupyter.widget-view+json": {
       "model_id": "bf75b559074743fb94d401937572f3df",
       "version_major": 2,
       "version_minor": 0
      },
      "text/plain": [
       "WebGuiWidget(value={'ngsolve_version': '6.2.2203-55-ge6a1832fc', 'mesh_dim': 2, 'order2d': 2, 'order3d': 2, 'd…"
      ]
     },
     "metadata": {},
     "output_type": "display_data"
    },
    {
     "data": {
      "application/vnd.jupyter.widget-view+json": {
       "model_id": "57bc293a336f46b3bc8067f6fa323946",
       "version_major": 2,
       "version_minor": 0
      },
      "text/plain": [
       "WebGuiWidget(value={'ngsolve_version': '6.2.2203-55-ge6a1832fc', 'mesh_dim': 2, 'order2d': 2, 'order3d': 2, 'd…"
      ]
     },
     "metadata": {},
     "output_type": "display_data"
    }
   ],
   "source": [
    "for e in Es_fund:\n",
    "    Draw(e.real, A.mesh, vectors={'grid_size':200})"
   ]
  },
  {
   "cell_type": "markdown",
   "id": "7e23d307",
   "metadata": {},
   "source": [
    "# Higher Order Modes"
   ]
  },
  {
   "cell_type": "code",
   "execution_count": 8,
   "id": "f43aee7b",
   "metadata": {},
   "outputs": [
    {
     "name": "stdout",
     "output_type": "stream",
     "text": [
      "Set NGSolve automatic PML with p= 2  alpha= 5 and thickness=2.000\n",
      "Using FEAST to search for vector leaky modes in\n",
      "circle of radius 0.1 centered at  12.75\n",
      "assuming not more than 7 modes in this interval\n",
      "System size: 37401  x  37401   Inverse type: umfpack\n",
      "\n",
      "SpectralProj: Setting shifted trapezoidal rule on elliptical contour\n",
      "SpectralProjNGR:   Making resolvent at z = +12.821 +0.001j\n",
      "SpectralProjNGR:   Making resolvent at z = +12.679 +0.001j\n",
      "SpectralProjNGR:   Making resolvent at z = +12.679 -0.001j\n",
      "SpectralProjNGR:   Making resolvent at z = +12.821 -0.001j\n",
      "\n",
      "=========== Starting FEAST iterations ===========\n",
      "Trying with 7 vectors:\n",
      "\n",
      " ITERATION 1 with 7 vectors and 7 left vectors\n",
      "   During kernel cleaning abs(g):\n",
      "   [9.0e-02 5.5e-04 3.2e-04 2.6e-05 1.6e-10 6.7e-12 1.1e-12]\n",
      "   Real part of computed eigenvalues:\n",
      "   [12.06048454 12.22526937 12.74419302 12.76540941 12.76597553 12.77241357\n",
      " 13.10679258]\n",
      "   Imag part of computed eigenvalues:\n",
      "   [-0.01066286 -0.39556221 -0.00055915 -0.00091151 -0.00087482 -0.00160078\n",
      " -0.30096246]\n",
      "   Relative Hausdorff distance from prior iterate: 7.843e+98\n",
      "\n",
      " ITERATION 2 with 7 vectors and 7 left vectors\n",
      "   During kernel cleaning abs(g):\n",
      "   [1.5e+02 5.8e+00 7.0e-01 3.6e-01 6.3e-02 2.0e-04 4.7e-07]\n",
      "   Real part of computed eigenvalues:\n",
      "   [11.99347891 12.74419303 12.76540948 12.76597527 12.77241555 12.85980037\n",
      " 13.10753844]\n",
      "   Imag part of computed eigenvalues:\n",
      "   [-2.22221718e-01 -5.59199951e-04 -9.11512018e-04 -8.74725444e-04\n",
      " -1.59777121e-03  1.07399209e+00 -3.06277035e-01]\n",
      "   Relative Hausdorff distance from prior iterate: 8.462e-02\n",
      "\n",
      " ITERATION 3 with 7 vectors and 7 left vectors\n",
      "   During kernel cleaning abs(g):\n",
      "   [2.5e-06 1.3e-06 5.8e-07 5.7e-07 6.3e-10 6.3e-12 1.9e-14]\n",
      "   Real part of computed eigenvalues:\n",
      "   [11.73536797 11.97854899 12.74419303 12.76540951 12.76597527 12.77241555\n",
      " 13.10802829]\n",
      "   Imag part of computed eigenvalues:\n",
      "   [ 0.23401575 -0.2334784  -0.00055921 -0.00091151 -0.00087473 -0.00159777\n",
      " -0.30583005]\n",
      "   Relative Hausdorff distance from prior iterate: 8.462e-02\n",
      "\n",
      "   Removing ew#[0, 1, 2, 3] not enclosed by contour\n",
      " ITERATION 4 with 3 vectors and 3 left vectors\n",
      "   During kernel cleaning abs(g):\n",
      "   [286.7 462.2 464. ]\n",
      "   Real part of computed eigenvalues:\n",
      "   [12.74419303 12.76540948 12.76597527]\n",
      "   Imag part of computed eigenvalues:\n",
      "   [-0.00055921 -0.00091151 -0.00087473]\n",
      "   Relative Hausdorff distance from prior iterate: 2.353e-09\n",
      "\n",
      " ITERATION 5 with 3 vectors and 3 left vectors\n",
      "   During kernel cleaning abs(g):\n",
      "   [1.4e-06 3.1e-07 3.1e-07]\n",
      "   Real part of computed eigenvalues:\n",
      "   [12.74419303 12.76540948 12.76597527]\n",
      "   Imag part of computed eigenvalues:\n",
      "   [-0.00055921 -0.00091151 -0.00087473]\n",
      "   Relative Hausdorff distance from prior iterate: 1.517e-12\n",
      "\n",
      "\n",
      "***FEAST converged with:\n",
      "\tRelative Hausdorff distance = 1.517e-12\n",
      "\n",
      "============= FEAST iterations done =============\n",
      "Results:\n",
      " Z²: [12.74419303-0.00055921j 12.76540948-0.00091151j 12.76597527-0.00087473j]\n",
      " beta: [3483505.60993731+0.35673551j 3483492.07536022+0.58148195j\n",
      " 3483491.71443111+0.55801318j]\n",
      " CL dB/m: [3.09856523 5.05068803 4.84684088]\n"
     ]
    }
   ],
   "source": [
    "center =12.75\n",
    "radius = .1    \n",
    "alpha = 5\n",
    "\n",
    "\n",
    "betas_hom, _, Es_hom, phis_hom, _ = A.leakyvecmodes(ctr=center, rad=radius, alpha=alpha,\n",
    "                                          nspan=7, npts=4, p=2, niterations=10,\n",
    "                                          rhoinv=.99, quadrule='ellipse_trapez_shift',\n",
    "                                          nrestarts=0, stop_tol=1e-9)"
   ]
  },
  {
   "cell_type": "code",
   "execution_count": 10,
   "id": "af8d2751",
   "metadata": {
    "scrolled": false
   },
   "outputs": [
    {
     "data": {
      "application/vnd.jupyter.widget-view+json": {
       "model_id": "7d3397d34965470ca2ce3d830272b566",
       "version_major": 2,
       "version_minor": 0
      },
      "text/plain": [
       "WebGuiWidget(value={'ngsolve_version': '6.2.2203-55-ge6a1832fc', 'mesh_dim': 2, 'order2d': 2, 'order3d': 2, 'd…"
      ]
     },
     "metadata": {},
     "output_type": "display_data"
    },
    {
     "data": {
      "application/vnd.jupyter.widget-view+json": {
       "model_id": "5497e036415647f296630d0a452519a8",
       "version_major": 2,
       "version_minor": 0
      },
      "text/plain": [
       "WebGuiWidget(value={'ngsolve_version': '6.2.2203-55-ge6a1832fc', 'mesh_dim': 2, 'order2d': 2, 'order3d': 2, 'd…"
      ]
     },
     "metadata": {},
     "output_type": "display_data"
    },
    {
     "data": {
      "application/vnd.jupyter.widget-view+json": {
       "model_id": "85f3d2bb61eb4638904eea7c9bc65407",
       "version_major": 2,
       "version_minor": 0
      },
      "text/plain": [
       "WebGuiWidget(value={'ngsolve_version': '6.2.2203-55-ge6a1832fc', 'mesh_dim': 2, 'order2d': 2, 'order3d': 2, 'd…"
      ]
     },
     "metadata": {},
     "output_type": "display_data"
    }
   ],
   "source": [
    "for e in Es_hom:\n",
    "    Draw(e.real, A.mesh, vectors={'grid_size':200})"
   ]
  },
  {
   "cell_type": "markdown",
   "id": "948bb68a",
   "metadata": {},
   "source": [
    "# Refined search\n",
    "\n",
    "### Transverse Electric:"
   ]
  },
  {
   "cell_type": "code",
   "execution_count": 16,
   "id": "fa400cbb",
   "metadata": {},
   "outputs": [
    {
     "name": "stdout",
     "output_type": "stream",
     "text": [
      "Set NGSolve automatic PML with p= 2  alpha= 5 and thickness=2.000\n",
      "Using FEAST to search for vector leaky modes in\n",
      "circle of radius 0.005 centered at  12.744\n",
      "assuming not more than 4 modes in this interval\n",
      "System size: 37401  x  37401   Inverse type: umfpack\n",
      "\n",
      "SpectralProj: Setting shifted trapezoidal rule quadrature on circular contour\n",
      "SpectralProj: Radius=0.005, Center=12.744+0j\n",
      "SpectralProjNGR:   Making resolvent at z = +12.748 +0.004j\n",
      "SpectralProjNGR:   Making resolvent at z = +12.740 +0.004j\n",
      "SpectralProjNGR:   Making resolvent at z = +12.740 -0.004j\n",
      "SpectralProjNGR:   Making resolvent at z = +12.748 -0.004j\n",
      "\n",
      "=========== Starting FEAST iterations ===========\n",
      "Trying with 4 vectors:\n",
      "\n",
      " ITERATION 1 with 4 vectors and 4 left vectors\n",
      "   During kernel cleaning abs(g):\n",
      "   [3.4e-01 8.5e-05 1.8e-07 5.2e-07]\n",
      "   Real part of computed eigenvalues:\n",
      "   [12.74419303 12.76540952 12.76597527 12.77241553]\n",
      "   Imag part of computed eigenvalues:\n",
      "   [-0.00055921 -0.00091146 -0.00087467 -0.00159777]\n",
      "   Relative Hausdorff distance from prior iterate: 7.847e+98\n",
      "\n",
      " ITERATION 2 with 4 vectors and 4 left vectors\n",
      "   During kernel cleaning abs(g):\n",
      "   [2.  0.3 0.1 0. ]\n",
      "   Real part of computed eigenvalues:\n",
      "   [12.74419303 12.76540948 12.76597527 12.77241555]\n",
      "   Imag part of computed eigenvalues:\n",
      "   [-0.00055921 -0.00091151 -0.00087473 -0.00159777]\n",
      "   Relative Hausdorff distance from prior iterate: 5.192e-09\n",
      "\n",
      " ITERATION 3 with 4 vectors and 4 left vectors\n",
      "   During kernel cleaning abs(g):\n",
      "   [4.9e-01 1.3e-04 9.4e-05 2.7e-05]\n",
      "   Real part of computed eigenvalues:\n",
      "   [12.74419303 12.76540948 12.76597527 12.77241555]\n",
      "   Imag part of computed eigenvalues:\n",
      "   [-0.00055921 -0.00091151 -0.00087473 -0.00159777]\n",
      "   Relative Hausdorff distance from prior iterate: 9.767e-16\n",
      "\n",
      "   Removing ew#[1, 2, 3] not enclosed by contour\n",
      "\n",
      "***FEAST converged with:\n",
      "\tRelative Hausdorff distance = 9.767e-16\n",
      "\n",
      "============= FEAST iterations done =============\n",
      "Results:\n",
      " Z²: [12.74419303-0.00055921j]\n",
      " beta: [3483505.60993731+0.35673551j]\n",
      " CL dB/m: [3.09856524]\n"
     ]
    }
   ],
   "source": [
    "center_te =12.744\n",
    "radius = .005   \n",
    "alpha = 5\n",
    "\n",
    "\n",
    "betas_te, _, Es_te, phis_te, _ = A.leakyvecmodes(ctr=center_te, rad=radius, alpha=alpha,\n",
    "                                          nspan=4, npts=4, p=2, niterations=10,\n",
    "                                          nrestarts=0, stop_tol=1e-9)"
   ]
  },
  {
   "cell_type": "code",
   "execution_count": 17,
   "id": "967132e9",
   "metadata": {
    "scrolled": false
   },
   "outputs": [
    {
     "data": {
      "application/vnd.jupyter.widget-view+json": {
       "model_id": "8d056f427e4c41c9a426221c64293765",
       "version_major": 2,
       "version_minor": 0
      },
      "text/plain": [
       "WebGuiWidget(value={'ngsolve_version': '6.2.2203-55-ge6a1832fc', 'mesh_dim': 2, 'order2d': 2, 'order3d': 2, 'd…"
      ]
     },
     "metadata": {},
     "output_type": "display_data"
    }
   ],
   "source": [
    "for e in Es_te:\n",
    "    Draw(e.real, A.mesh, vectors={'grid_size':200})"
   ]
  },
  {
   "cell_type": "markdown",
   "id": "d1a9e7d7",
   "metadata": {},
   "source": [
    "### HOM"
   ]
  },
  {
   "cell_type": "code",
   "execution_count": 22,
   "id": "22b2faf8",
   "metadata": {
    "scrolled": true
   },
   "outputs": [
    {
     "name": "stdout",
     "output_type": "stream",
     "text": [
      "Set NGSolve automatic PML with p= 2  alpha= 5 and thickness=2.000\n",
      "Using FEAST to search for vector leaky modes in\n",
      "circle of radius 0.005 centered at  12.766\n",
      "assuming not more than 4 modes in this interval\n",
      "System size: 37401  x  37401   Inverse type: umfpack\n",
      "\n",
      "SpectralProj: Setting shifted trapezoidal rule quadrature on circular contour\n",
      "SpectralProj: Radius=0.005, Center=12.766+0j\n",
      "SpectralProjNGR:   Making resolvent at z = +12.770 +0.004j\n",
      "SpectralProjNGR:   Making resolvent at z = +12.762 +0.004j\n",
      "SpectralProjNGR:   Making resolvent at z = +12.762 -0.004j\n",
      "SpectralProjNGR:   Making resolvent at z = +12.770 -0.004j\n",
      "\n",
      "=========== Starting FEAST iterations ===========\n",
      "Trying with 4 vectors:\n",
      "\n",
      " ITERATION 1 with 4 vectors and 4 left vectors\n",
      "   During kernel cleaning abs(g):\n",
      "   [1.1e+01 5.5e-01 1.4e-07 3.1e-02]\n",
      "   Real part of computed eigenvalues:\n",
      "   [12.74419308 12.76540948 12.76597527 12.77241555]\n",
      "   Imag part of computed eigenvalues:\n",
      "   [-0.00055913 -0.00091151 -0.0008747  -0.00159775]\n",
      "   Relative Hausdorff distance from prior iterate: 7.833e+98\n",
      "\n",
      " ITERATION 2 with 4 vectors and 4 left vectors\n",
      "   During kernel cleaning abs(g):\n",
      "   [2.  0.8 0.2 0. ]\n",
      "   Real part of computed eigenvalues:\n",
      "   [12.74419303 12.76540948 12.76597527 12.77241555]\n",
      "   Imag part of computed eigenvalues:\n",
      "   [-0.00055921 -0.00091151 -0.00087473 -0.00159777]\n",
      "   Relative Hausdorff distance from prior iterate: 7.688e-09\n",
      "\n",
      " ITERATION 3 with 4 vectors and 4 left vectors\n",
      "   During kernel cleaning abs(g):\n",
      "   [1.0e-06 1.7e+00 2.0e+00 1.8e-01]\n",
      "   Real part of computed eigenvalues:\n",
      "   [12.74419303 12.76540948 12.76597527 12.77241555]\n",
      "   Imag part of computed eigenvalues:\n",
      "   [-0.00055921 -0.00091151 -0.00087473 -0.00159777]\n",
      "   Relative Hausdorff distance from prior iterate: 1.085e-13\n",
      "\n",
      "   Removing ew#[0, 1] not enclosed by contour\n",
      "\n",
      "***FEAST converged with:\n",
      "\tRelative Hausdorff distance = 1.085e-13\n",
      "\n",
      "============= FEAST iterations done =============\n",
      "Results:\n",
      " Z²: [12.76540948-0.00091151j 12.76597527-0.00087473j]\n",
      " beta: [3483492.0753602 +0.58148193j 3483491.71443109+0.55801319j]\n",
      " CL dB/m: [5.05068789 4.84684094]\n"
     ]
    }
   ],
   "source": [
    "center_te =12.766\n",
    "radius = .005   \n",
    "alpha = 5\n",
    "\n",
    "\n",
    "betas_hom, _, Es_hom, phis_hom, _ = A.leakyvecmodes(ctr=center_te, rad=radius, alpha=alpha,\n",
    "                                          nspan=4, npts=4, p=2, niterations=10,\n",
    "                                          nrestarts=0, stop_tol=1e-9)"
   ]
  },
  {
   "cell_type": "code",
   "execution_count": 21,
   "id": "c249cd55",
   "metadata": {
    "scrolled": false
   },
   "outputs": [
    {
     "data": {
      "application/vnd.jupyter.widget-view+json": {
       "model_id": "647efab2b30042239a6b4d8884e676c0",
       "version_major": 2,
       "version_minor": 0
      },
      "text/plain": [
       "WebGuiWidget(value={'ngsolve_version': '6.2.2203-55-ge6a1832fc', 'mesh_dim': 2, 'order2d': 2, 'order3d': 2, 'd…"
      ]
     },
     "metadata": {},
     "output_type": "display_data"
    },
    {
     "data": {
      "application/vnd.jupyter.widget-view+json": {
       "model_id": "e5edd578bc7f41fda3b3b99b4b6b5f1f",
       "version_major": 2,
       "version_minor": 0
      },
      "text/plain": [
       "WebGuiWidget(value={'ngsolve_version': '6.2.2203-55-ge6a1832fc', 'mesh_dim': 2, 'order2d': 2, 'order3d': 2, 'd…"
      ]
     },
     "metadata": {},
     "output_type": "display_data"
    },
    {
     "data": {
      "application/vnd.jupyter.widget-view+json": {
       "model_id": "529e62a9906344cbb8038a71194ed194",
       "version_major": 2,
       "version_minor": 0
      },
      "text/plain": [
       "WebGuiWidget(value={'ngsolve_version': '6.2.2203-55-ge6a1832fc', 'mesh_dim': 2, 'order2d': 2, 'order3d': 2, 'd…"
      ]
     },
     "metadata": {},
     "output_type": "display_data"
    }
   ],
   "source": [
    "for e in Es_hom:\n",
    "    Draw(e.real, A.mesh, vectors={'grid_size':200})"
   ]
  },
  {
   "cell_type": "markdown",
   "id": "4fc741f5",
   "metadata": {},
   "source": [
    "# Orthogonality Check\n",
    "\n"
   ]
  },
  {
   "cell_type": "code",
   "execution_count": 11,
   "id": "34bde670",
   "metadata": {},
   "outputs": [
    {
     "data": {
      "text/plain": [
       "(0.01203267849644094-1.8891809112782526e-12j)"
      ]
     },
     "execution_count": 11,
     "metadata": {},
     "output_type": "execute_result"
    }
   ],
   "source": [
    "# Set choice for fundamental mode\n",
    "Etv_fund, phi_fund, beta_fund = Es_fund[0], phis_fund[0], betas_fund[0]\n",
    "\n",
    "# Get H field for fundamental mode\n",
    "Htv_fund, Hz_fund = A.HfromE(Etv_fund, phi_fund, beta_fund)\n",
    "\n",
    "# Find current modal power\n",
    "E_fund_power = A.power(Etv_fund, Htv_fund)\n",
    "E_fund_power"
   ]
  },
  {
   "cell_type": "code",
   "execution_count": 12,
   "id": "a497fdb4",
   "metadata": {},
   "outputs": [
    {
     "data": {
      "text/plain": [
       "(0.0917096511986571-1.4254766413984806e-08j)"
      ]
     },
     "execution_count": 12,
     "metadata": {},
     "output_type": "execute_result"
    }
   ],
   "source": [
    "# Set choice for higher order mode (here Transverse Electric type)\n",
    "Etv_TE, Ephi_TE, beta_TE = Es_hom[1], phis_hom[1], betas_hom[1]\n",
    "\n",
    "# Get H field for hom\n",
    "Htv_TE, Hz_TE = A.HfromE(Etv_TE, Ephi_TE, beta_TE)\n",
    "\n",
    "# Find current modal power\n",
    "E_hom_power = A.power(Etv_TE, Htv_TE)\n",
    "\n",
    "E_hom_power"
   ]
  },
  {
   "cell_type": "code",
   "execution_count": 13,
   "id": "a027968b",
   "metadata": {},
   "outputs": [
    {
     "data": {
      "text/plain": [
       "(-6.332943820038884e-08+9.601983581182522e-08j)"
      ]
     },
     "execution_count": 13,
     "metadata": {},
     "output_type": "execute_result"
    }
   ],
   "source": [
    "# Check orthogonality (for power (maxwell) inner product)\n",
    "A.power(Etv_fund, Htv_TE)"
   ]
  },
  {
   "cell_type": "code",
   "execution_count": 14,
   "id": "92d9ae1a",
   "metadata": {},
   "outputs": [],
   "source": [
    "# Create full E field for fundamental\n",
    "Ez_fund = -1j/beta_fund * phi_fund\n",
    "E_fund_full = ng.CoefficientFunction((Etv_fund[0], Etv_fund[1], Ez_fund))\n",
    "\n",
    "# Create full H field for fundamental\n",
    "H_fund_full = ng.CoefficientFunction((Htv_fund[0], Htv_fund[1], Hz_fund))\n",
    "\n",
    "# Create full E field for higher order mode\n",
    "Ez_TE = -1j/beta_TE * Ephi_TE\n",
    "E_TE_full = ng.CoefficientFunction((Etv_TE[0], Etv_TE[1], Ez_TE))\n",
    "\n",
    "# Create full hom H field\n",
    "H_TE_full = ng.CoefficientFunction((Htv_TE[0], Htv_TE[1], Hz_TE))\n",
    "\n",
    "\n",
    "\n"
   ]
  },
  {
   "cell_type": "markdown",
   "id": "a5a9814b",
   "metadata": {},
   "source": [
    "# Full Field dot product Orthogonality"
   ]
  },
  {
   "cell_type": "code",
   "execution_count": 16,
   "id": "48c6cc10",
   "metadata": {},
   "outputs": [
    {
     "data": {
      "text/plain": [
       "(-5.0170729662532586e-05+7.612293830944044e-05j)"
      ]
     },
     "execution_count": 16,
     "metadata": {},
     "output_type": "execute_result"
    }
   ],
   "source": [
    "t1 = ng.InnerProduct(E_fund_full, E_TE_full)\n",
    "t2 = ng.InnerProduct(H_fund_full, H_TE_full)\n",
    "ng.Integrate(t1 + t2, A.mesh)"
   ]
  },
  {
   "cell_type": "markdown",
   "id": "b994b729",
   "metadata": {},
   "source": [
    "# Component-wise Orthogonality"
   ]
  },
  {
   "cell_type": "code",
   "execution_count": 30,
   "id": "b588ae07",
   "metadata": {},
   "outputs": [
    {
     "name": "stdout",
     "output_type": "stream",
     "text": [
      "(0.0014905709414112375-0.002274950021806864j)\n",
      "(-0.001540743989453481+0.0023510764664003074j)\n",
      "(2.4759794596647735e-14-3.736012976638767e-14j)\n"
     ]
    }
   ],
   "source": [
    "# E field componentwise \n",
    "\n",
    "for i in range(3):\n",
    "    print(ng.Integrate(ng.InnerProduct(E_fund_full[i], E_TE_full[i]), A.mesh))"
   ]
  },
  {
   "cell_type": "code",
   "execution_count": 31,
   "id": "2edce0b5",
   "metadata": {},
   "outputs": [
    {
     "name": "stdout",
     "output_type": "stream",
     "text": [
      "(-1.0786673301174444e-08+1.6459452689543943e-08j)\n",
      "(1.1190435025634115e-08-1.7065943983594505e-08j)\n",
      "(1.9145934662877483e-09-2.8997557152927946e-09j)\n"
     ]
    }
   ],
   "source": [
    "# H field componentwise \n",
    "\n",
    "for i in range(3):\n",
    "    print(ng.Integrate(ng.InnerProduct(H_fund_full[i], H_TE_full[i]), A.mesh))"
   ]
  },
  {
   "cell_type": "code",
   "execution_count": 32,
   "id": "849cd320",
   "metadata": {},
   "outputs": [
    {
     "name": "stdout",
     "output_type": "stream",
     "text": [
      "(-6.649384153258813e-06+1.009331915785952e-05j)\n",
      "(-3.6304671608325234e-06+5.5396238351823175e-06j)\n",
      "(4.017680952642773e-13-6.147793609230448e-13j)\n"
     ]
    }
   ],
   "source": [
    "# E field componentwise \n",
    "\n",
    "for i in range(3):\n",
    "    print(ng.Integrate(ng.InnerProduct(E_fund_full[i], H_TE_full[i]), A.mesh))"
   ]
  }
 ],
 "metadata": {
  "kernelspec": {
   "display_name": "Python 3 (ipykernel)",
   "language": "python",
   "name": "python3"
  },
  "language_info": {
   "codemirror_mode": {
    "name": "ipython",
    "version": 3
   },
   "file_extension": ".py",
   "mimetype": "text/x-python",
   "name": "python",
   "nbconvert_exporter": "python",
   "pygments_lexer": "ipython3",
   "version": "3.8.10"
  }
 },
 "nbformat": 4,
 "nbformat_minor": 5
}
