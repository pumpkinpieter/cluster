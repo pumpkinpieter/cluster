{
 "cells": [
  {
   "cell_type": "markdown",
   "id": "45f7e2e0",
   "metadata": {},
   "source": [
    "# View modes\n"
   ]
  },
  {
   "cell_type": "markdown",
   "id": "fc3fb403",
   "metadata": {},
   "source": [
    "## First the graph"
   ]
  },
  {
   "cell_type": "code",
   "execution_count": 1,
   "id": "36fdb4d2",
   "metadata": {},
   "outputs": [],
   "source": [
    "# import numpy as np\n",
    "# import ngsolve as ng\n",
    "# import matplotlib.pyplot as plt\n",
    "\n",
    "from fiberamp.fiber.microstruct.pbg import ARF2\n",
    "from ngsolve.webgui import Draw\n"
   ]
  },
  {
   "cell_type": "code",
   "execution_count": 9,
   "id": "edb92c49",
   "metadata": {
    "scrolled": true
   },
   "outputs": [
    {
     "name": "stdout",
     "output_type": "stream",
     "text": [
      "ModeSolver: Checking if mesh has required regions\n",
      "Mesh has  3558  elements,  1794  points,  and  5351  edges.\n"
     ]
    }
   ],
   "source": [
    "ref = 0\n",
    "p = 1\n",
    "a = ARF2(refine=0, curve=max(p+1,3), poly_core=True)\n"
   ]
  },
  {
   "cell_type": "code",
   "execution_count": 10,
   "id": "42a8dcd8",
   "metadata": {},
   "outputs": [
    {
     "data": {
      "application/vnd.jupyter.widget-view+json": {
       "model_id": "122637c0be214c678c091a880622df30",
       "version_major": 2,
       "version_minor": 0
      },
      "text/plain": [
       "WebGuiWidget(value={'ngsolve_version': '6.2.2203-55-ge6a1832fc', 'mesh_dim': 2, 'order2d': 2, 'order3d': 2, 'd…"
      ]
     },
     "metadata": {},
     "output_type": "display_data"
    },
    {
     "data": {
      "text/plain": [
       "BaseWebGuiScene"
      ]
     },
     "execution_count": 10,
     "metadata": {},
     "output_type": "execute_result"
    }
   ],
   "source": [
    "Draw(a.mesh)"
   ]
  },
  {
   "cell_type": "code",
   "execution_count": null,
   "id": "75841605",
   "metadata": {},
   "outputs": [],
   "source": [
    "a.lo"
   ]
  },
  {
   "cell_type": "code",
   "execution_count": 6,
   "id": "b47ac05c",
   "metadata": {},
   "outputs": [],
   "source": [
    "\n",
    "mesh_path = 'modes/mesh_e_sub' + str(i)\n",
    "mode_path = 'modes/mode_e_sub' + str(i)\n",
    "\n",
    "mesh = a.load_mesh()\n",
    "Es = a.load_modes(mesh_path, mode_path)"
   ]
  },
  {
   "cell_type": "code",
   "execution_count": 7,
   "id": "275e5f6e",
   "metadata": {
    "scrolled": false
   },
   "outputs": [
    {
     "data": {
      "application/vnd.jupyter.widget-view+json": {
       "model_id": "44192606dc7d4d00b27db997b169d9d0",
       "version_major": 2,
       "version_minor": 0
      },
      "text/plain": [
       "WebGuiWidget(value={'ngsolve_version': '6.2.2202-18-gcd039cbb4', 'mesh_dim': 2, 'order2d': 2, 'order3d': 2, 'd…"
      ]
     },
     "metadata": {},
     "output_type": "display_data"
    },
    {
     "data": {
      "application/vnd.jupyter.widget-view+json": {
       "model_id": "d32575ac57f247acac63f09ca589fe01",
       "version_major": 2,
       "version_minor": 0
      },
      "text/plain": [
       "WebGuiWidget(value={'ngsolve_version': '6.2.2202-18-gcd039cbb4', 'mesh_dim': 2, 'order2d': 2, 'order3d': 2, 'd…"
      ]
     },
     "metadata": {},
     "output_type": "display_data"
    }
   ],
   "source": [
    "for e in modes:\n",
    "    Draw(e.real, mesh)"
   ]
  },
  {
   "cell_type": "code",
   "execution_count": 11,
   "id": "8a8848fa",
   "metadata": {},
   "outputs": [
    {
     "data": {
      "application/vnd.jupyter.widget-view+json": {
       "model_id": "909b3cde59b346b791942da57843f765",
       "version_major": 2,
       "version_minor": 0
      },
      "text/plain": [
       "WebGuiWidget(value={'ngsolve_version': '6.2.2202-18-gcd039cbb4', 'mesh_dim': 2, 'order2d': 2, 'order3d': 2, 'd…"
      ]
     },
     "metadata": {},
     "output_type": "display_data"
    },
    {
     "data": {
      "application/vnd.jupyter.widget-view+json": {
       "model_id": "6811817b857b4ec7af3753f1e7480b14",
       "version_major": 2,
       "version_minor": 0
      },
      "text/plain": [
       "WebGuiWidget(value={'ngsolve_version': '6.2.2202-18-gcd039cbb4', 'mesh_dim': 2, 'order2d': 2, 'order3d': 2, 'd…"
      ]
     },
     "metadata": {},
     "output_type": "display_data"
    }
   ],
   "source": [
    "for e in modes:\n",
    "    Draw(1e2*e.real[0], mesh)"
   ]
  },
  {
   "cell_type": "code",
   "execution_count": null,
   "id": "1fa68586",
   "metadata": {},
   "outputs": [],
   "source": []
  }
 ],
 "metadata": {
  "kernelspec": {
   "display_name": "Python 3 (ipykernel)",
   "language": "python",
   "name": "python3"
  },
  "language_info": {
   "codemirror_mode": {
    "name": "ipython",
    "version": 3
   },
   "file_extension": ".py",
   "mimetype": "text/x-python",
   "name": "python",
   "nbconvert_exporter": "python",
   "pygments_lexer": "ipython3",
   "version": "3.8.10"
  }
 },
 "nbformat": 4,
 "nbformat_minor": 5
}
