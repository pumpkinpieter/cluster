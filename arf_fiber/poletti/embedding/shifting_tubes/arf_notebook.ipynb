{
 "cells": [
  {
   "cell_type": "code",
   "execution_count": 16,
   "id": "76c32175",
   "metadata": {},
   "outputs": [],
   "source": [
    "import numpy as np\n",
    "import ngsolve as ng\n",
    "from fiberamp.fiber.microstruct.pbg import ARF2\n",
    "from ngsolve.webgui import Draw"
   ]
  },
  {
   "cell_type": "code",
   "execution_count": 17,
   "id": "9d4e1a2a",
   "metadata": {},
   "outputs": [],
   "source": [
    "es = np.linspace(.002, .9999, 240)"
   ]
  },
  {
   "cell_type": "code",
   "execution_count": 38,
   "id": "734c5749",
   "metadata": {},
   "outputs": [
    {
     "data": {
      "text/plain": [
       "0.0479284518828452"
      ]
     },
     "execution_count": 38,
     "metadata": {},
     "output_type": "execute_result"
    }
   ],
   "source": [
    "es[11]"
   ]
  },
  {
   "cell_type": "code",
   "execution_count": 53,
   "id": "f9a44363",
   "metadata": {},
   "outputs": [
    {
     "name": "stdout",
     "output_type": "stream",
     "text": [
      "ModeSolver: Checking if mesh has required regions\n",
      "Mesh has  21681  elements,  10859  points,  and  32539  edges.\n"
     ]
    }
   ],
   "source": [
    "A = ARF2(name='fine_cladding', poly_core=True, e=es[-50])"
   ]
  },
  {
   "cell_type": "code",
   "execution_count": 54,
   "id": "17d952bb",
   "metadata": {
    "scrolled": true
   },
   "outputs": [
    {
     "data": {
      "application/vnd.jupyter.widget-view+json": {
       "model_id": "8aad70b9472f4287849b22fcdb2dee87",
       "version_major": 2,
       "version_minor": 0
      },
      "text/plain": [
       "WebGuiWidget(value={'ngsolve_version': '6.2.2203-56-g47f483033', 'mesh_dim': 2, 'order2d': 2, 'order3d': 2, 'd…"
      ]
     },
     "metadata": {},
     "output_type": "display_data"
    },
    {
     "data": {
      "text/plain": [
       "BaseWebGuiScene"
      ]
     },
     "execution_count": 54,
     "metadata": {},
     "output_type": "execute_result"
    }
   ],
   "source": [
    "Draw(ng.CF([0]),A.mesh)"
   ]
  },
  {
   "cell_type": "code",
   "execution_count": 55,
   "id": "d8456b24",
   "metadata": {},
   "outputs": [],
   "source": [
    "center = 5.066\n",
    "radius = .1        \n",
    "alpha = 5\n"
   ]
  },
  {
   "cell_type": "code",
   "execution_count": 59,
   "id": "c9b6a5d4",
   "metadata": {
    "scrolled": true
   },
   "outputs": [
    {
     "name": "stdout",
     "output_type": "stream",
     "text": [
      "Set NGSolve automatic PML with p= 1  alpha= 5 and thickness=2.000\n",
      "Using FEAST to search for vector leaky modes in\n",
      "circle of radius 0.1 centered at  5.066\n",
      "assuming not more than 4 modes in this interval\n",
      "System size: 108440  x  108440   Inverse type: umfpack\n",
      "\n",
      "SpectralProj: Setting shifted trapezoidal rule on elliptical contour\n",
      "SpectralProjNGR:   Making resolvent at z =  +5.137 +0.001j\n",
      "SpectralProjNGR:   Making resolvent at z =  +4.995 +0.001j\n",
      "SpectralProjNGR:   Making resolvent at z =  +4.995 -0.001j\n",
      "SpectralProjNGR:   Making resolvent at z =  +5.137 -0.001j\n",
      "\n",
      "=========== Starting FEAST iterations ===========\n",
      "Trying with 4 vectors:\n",
      "\n",
      " ITERATION 1 with 4 vectors and 4 left vectors\n",
      "   During kernel cleaning abs(g):\n",
      "   [8.4e-04 6.1e-05 1.7e-14 1.4e-10]\n",
      "   Real part of computed eigenvalues:\n",
      "   [4.22068127 4.70366444 5.06726644 5.06728576]\n",
      "   Imag part of computed eigenvalues:\n",
      "   [-3.91768568e-02 -7.15408895e-03 -5.67855185e-06 -4.19055932e-06]\n",
      "   Relative Hausdorff distance from prior iterate: 1.974e+99\n",
      "\n",
      " ITERATION 2 with 4 vectors and 4 left vectors\n",
      "   During kernel cleaning abs(g):\n",
      "   [6.6 0.5 2.2 1.9]\n",
      "   Real part of computed eigenvalues:\n",
      "   [4.00255857 4.7036669  5.06726604 5.06727966]\n",
      "   Imag part of computed eigenvalues:\n",
      "   [-4.87493242e-04 -7.15693290e-03 -5.78662536e-06 -4.49974553e-06]\n",
      "   Relative Hausdorff distance from prior iterate: 4.373e-02\n",
      "\n",
      " ITERATION 3 with 4 vectors and 4 left vectors\n",
      "   During kernel cleaning abs(g):\n",
      "   [3.1e-04 5.6e-05 2.8e-14 2.6e-10]\n",
      "   Real part of computed eigenvalues:\n",
      "   [4.00186887 4.7036669  5.06726604 5.06727966]\n",
      "   Imag part of computed eigenvalues:\n",
      "   [-5.93715763e-04 -7.15693314e-03 -5.78662528e-06 -4.49974077e-06]\n",
      "   Relative Hausdorff distance from prior iterate: 1.377e-04\n",
      "\n",
      "   Removing ew#[1, 2] not enclosed by contour\n",
      " ITERATION 4 with 2 vectors and 2 left vectors\n",
      "   During kernel cleaning abs(g):\n",
      "   [1.3 7.2]\n",
      "   Real part of computed eigenvalues:\n",
      "   [5.06726604 5.06727966]\n",
      "   Imag part of computed eigenvalues:\n",
      "   [-5.78662536e-06 -4.49974553e-06]\n",
      "   Relative Hausdorff distance from prior iterate: 6.113e-12\n",
      "\n",
      "\n",
      "***FEAST converged with:\n",
      "\tRelative Hausdorff distance = 6.113e-12\n",
      "\n",
      "============= FEAST iterations done =============\n",
      "Results:\n",
      " Z²: [5.06727966-4.49974553e-06j 5.06726604-5.78662536e-06j]\n",
      " beta: [3488399.48248908+0.00286648j 3488399.49116254+0.00368627j]\n",
      " CL dB/m: [0.02489795 0.0320185 ]\n"
     ]
    }
   ],
   "source": [
    "betas, zsqrs, E, phi, _ = A.leakyvecmodes(ctr=center, rad=radius, alpha=alpha,\n",
    "                                          nspan=4, npts=4, p=1, niterations=10,\n",
    "                                          rhoinv=.99, quadrule='ellipse_trapez_shift',\n",
    "                                          nrestarts=0, stop_tol=1e-9)\n"
   ]
  },
  {
   "cell_type": "code",
   "execution_count": 60,
   "id": "3fe8e5a5",
   "metadata": {
    "scrolled": false
   },
   "outputs": [
    {
     "data": {
      "application/vnd.jupyter.widget-view+json": {
       "model_id": "9380a3257ce945fda3e93f8edbbf1298",
       "version_major": 2,
       "version_minor": 0
      },
      "text/plain": [
       "WebGuiWidget(value={'ngsolve_version': '6.2.2203-56-g47f483033', 'mesh_dim': 2, 'order2d': 2, 'order3d': 2, 'd…"
      ]
     },
     "metadata": {},
     "output_type": "display_data"
    },
    {
     "data": {
      "application/vnd.jupyter.widget-view+json": {
       "model_id": "e453833998514e3798e1d4d7f4c28374",
       "version_major": 2,
       "version_minor": 0
      },
      "text/plain": [
       "WebGuiWidget(value={'ngsolve_version': '6.2.2203-56-g47f483033', 'mesh_dim': 2, 'order2d': 2, 'order3d': 2, 'd…"
      ]
     },
     "metadata": {},
     "output_type": "display_data"
    }
   ],
   "source": [
    "for f in phi:\n",
    "    Draw(1e1*f, A.mesh, min=0, max=1)"
   ]
  },
  {
   "cell_type": "code",
   "execution_count": 63,
   "id": "6044f147",
   "metadata": {
    "scrolled": false
   },
   "outputs": [
    {
     "data": {
      "application/vnd.jupyter.widget-view+json": {
       "model_id": "7419efa5ade142d7a43b70ae1bb18aac",
       "version_major": 2,
       "version_minor": 0
      },
      "text/plain": [
       "WebGuiWidget(value={'ngsolve_version': '6.2.2203-56-g47f483033', 'mesh_dim': 2, 'order2d': 2, 'order3d': 2, 'd…"
      ]
     },
     "metadata": {},
     "output_type": "display_data"
    },
    {
     "data": {
      "application/vnd.jupyter.widget-view+json": {
       "model_id": "cc9623d9e416485e8d541c7417eff979",
       "version_major": 2,
       "version_minor": 0
      },
      "text/plain": [
       "WebGuiWidget(value={'ngsolve_version': '6.2.2203-56-g47f483033', 'mesh_dim': 2, 'order2d': 2, 'order3d': 2, 'd…"
      ]
     },
     "metadata": {},
     "output_type": "display_data"
    }
   ],
   "source": [
    "for e in E:\n",
    "    Draw(e.imag, A.mesh, vectors={'grid_size':200}, min=0, max=.1)"
   ]
  },
  {
   "cell_type": "code",
   "execution_count": null,
   "id": "76bccd08",
   "metadata": {},
   "outputs": [],
   "source": []
  }
 ],
 "metadata": {
  "kernelspec": {
   "display_name": "Python 3 (ipykernel)",
   "language": "python",
   "name": "python3"
  },
  "language_info": {
   "codemirror_mode": {
    "name": "ipython",
    "version": 3
   },
   "file_extension": ".py",
   "mimetype": "text/x-python",
   "name": "python",
   "nbconvert_exporter": "python",
   "pygments_lexer": "ipython3",
   "version": "3.8.10"
  }
 },
 "nbformat": 4,
 "nbformat_minor": 5
}
