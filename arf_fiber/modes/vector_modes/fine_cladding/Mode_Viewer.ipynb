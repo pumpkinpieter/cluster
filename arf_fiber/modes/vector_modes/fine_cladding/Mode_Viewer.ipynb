{
 "cells": [
  {
   "cell_type": "markdown",
   "id": "45f7e2e0",
   "metadata": {},
   "source": [
    "# View modes in current mode folder\n"
   ]
  },
  {
   "cell_type": "code",
   "execution_count": null,
   "id": "36fdb4d2",
   "metadata": {},
   "outputs": [],
   "source": [
    "from fiberamp.fiber.microstruct.pbg import ARF2\n",
    "from ngsolve.webgui import Draw\n",
    "from ngsolve import Norm\n",
    "import ngsolve as ng\n",
    "\n",
    "import netgen.gui"
   ]
  },
  {
   "cell_type": "code",
   "execution_count": null,
   "id": "edb92c49",
   "metadata": {
    "scrolled": true
   },
   "outputs": [],
   "source": [
    "ref = 0\n",
    "p = 3\n",
    "a = ARF2(refine=ref, curve=8, poly_core=True, name='fine_cladding')\n"
   ]
  },
  {
   "cell_type": "code",
   "execution_count": null,
   "id": "13b65400",
   "metadata": {},
   "outputs": [],
   "source": [
    "a.mesh.GetMaterials()"
   ]
  },
  {
   "cell_type": "code",
   "execution_count": null,
   "id": "fa47e703",
   "metadata": {},
   "outputs": [],
   "source": [
    "c=0.4"
   ]
  },
  {
   "cell_type": "code",
   "execution_count": null,
   "id": "cf2d065e",
   "metadata": {
    "scrolled": true
   },
   "outputs": [],
   "source": [
    "Draw(ng.CF([1+c*1j, 1+c*1j, 1+c*1j, 1+2j, 1+c*1j, 1+c*1j]), a.mesh)"
   ]
  },
  {
   "cell_type": "code",
   "execution_count": null,
   "id": "8a6ba486",
   "metadata": {},
   "outputs": [],
   "source": [
    "mesh_path = 'modes/mesh_ref' + str(ref) + 'p' + str(p) + '.pkl'\n",
    "Es_path = 'modes/Es_ref' + str(ref) + 'p' + str(p)\n",
    "phis_path = 'modes/phis_ref' + str(ref) + 'p' + str(p)"
   ]
  },
  {
   "cell_type": "code",
   "execution_count": null,
   "id": "b47ac05c",
   "metadata": {},
   "outputs": [],
   "source": [
    "mesh = a.load_mesh(mesh_path)\n",
    "mesh.Curve(max(p+1,3))\n",
    "Es = a.load_E_modes(mesh_path, Es_path, p=p)\n",
    "phis = a.load_phi_modes(mesh_path, phis_path, p=p)"
   ]
  },
  {
   "cell_type": "code",
   "execution_count": null,
   "id": "275e5f6e",
   "metadata": {},
   "outputs": [],
   "source": [
    "for e in Es:\n",
    "    Draw(1e1*e.real, mesh, vectors={'grid_size':200})"
   ]
  },
  {
   "cell_type": "code",
   "execution_count": null,
   "id": "8a8848fa",
   "metadata": {
    "scrolled": false
   },
   "outputs": [],
   "source": [
    "for ps in phis:\n",
    "    Draw(2e1*ps, mesh)"
   ]
  },
  {
   "cell_type": "code",
   "execution_count": null,
   "id": "ecc90543",
   "metadata": {},
   "outputs": [],
   "source": [
    "for e in Es:\n",
    "    Draw(1e3*Norm(e)**2, mesh)"
   ]
  },
  {
   "cell_type": "code",
   "execution_count": null,
   "id": "2f977edb",
   "metadata": {},
   "outputs": [],
   "source": [
    "a.T_cladding"
   ]
  },
  {
   "cell_type": "code",
   "execution_count": null,
   "id": "aaf2cd4b",
   "metadata": {},
   "outputs": [],
   "source": [
    "10/11"
   ]
  }
 ],
 "metadata": {
  "kernelspec": {
   "display_name": "Python 3 (ipykernel)",
   "language": "python",
   "name": "python3"
  },
  "language_info": {
   "codemirror_mode": {
    "name": "ipython",
    "version": 3
   },
   "file_extension": ".py",
   "mimetype": "text/x-python",
   "name": "python",
   "nbconvert_exporter": "python",
   "pygments_lexer": "ipython3",
   "version": "3.8.10"
  }
 },
 "nbformat": 4,
 "nbformat_minor": 5
}
