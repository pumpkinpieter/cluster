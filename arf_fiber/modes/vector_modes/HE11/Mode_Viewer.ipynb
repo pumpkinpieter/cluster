{
 "cells": [
  {
   "cell_type": "markdown",
   "id": "45f7e2e0",
   "metadata": {},
   "source": [
    "# View modes in current mode folder\n"
   ]
  },
  {
   "cell_type": "code",
   "execution_count": 1,
   "id": "36fdb4d2",
   "metadata": {},
   "outputs": [
    {
     "name": "stdout",
     "output_type": "stream",
     "text": [
      "importing NGSolve-6.2.2203-56-g47f483033\n"
     ]
    }
   ],
   "source": [
    "from fiberamp.fiber.microstruct.pbg import ARF2\n",
    "from ngsolve.webgui import Draw\n"
   ]
  },
  {
   "cell_type": "code",
   "execution_count": 2,
   "id": "edb92c49",
   "metadata": {},
   "outputs": [
    {
     "name": "stdout",
     "output_type": "stream",
     "text": [
      "ModeSolver: Checking if mesh has required regions\n",
      "Mesh has  3928  elements,  1980  points,  and  5907  edges.\n"
     ]
    }
   ],
   "source": [
    "ref = 0\n",
    "p = 14\n",
    "a = ARF2(refine=ref, curve=max(p+1,3), poly_core=True)\n"
   ]
  },
  {
   "cell_type": "code",
   "execution_count": 3,
   "id": "8a6ba486",
   "metadata": {},
   "outputs": [],
   "source": [
    "mesh_path = 'modes/mesh_ref' + str(ref) + 'p' + str(p) + '.pkl'\n",
    "Es_path = 'modes/Es_ref' + str(ref) + 'p' + str(p)\n",
    "phis_path = 'modes/phis_ref' + str(ref) + 'p' + str(p)"
   ]
  },
  {
   "cell_type": "code",
   "execution_count": 4,
   "id": "b47ac05c",
   "metadata": {},
   "outputs": [],
   "source": [
    "mesh = a.load_mesh(mesh_path)\n",
    "mesh.Curve(max(p+1,3))\n",
    "Es = a.load_E_modes(mesh_path, Es_path, p=p)\n",
    "phis = a.load_phi_modes(mesh_path, phis_path, p=p)"
   ]
  },
  {
   "cell_type": "code",
   "execution_count": 5,
   "id": "275e5f6e",
   "metadata": {},
   "outputs": [
    {
     "data": {
      "application/vnd.jupyter.widget-view+json": {
       "model_id": "4f3de0aaf2d347c0a7a3a48961f7ffc7",
       "version_major": 2,
       "version_minor": 0
      },
      "text/plain": [
       "WebGuiWidget(value={'ngsolve_version': '6.2.2203-56-g47f483033', 'mesh_dim': 2, 'order2d': 2, 'order3d': 2, 'd…"
      ]
     },
     "metadata": {},
     "output_type": "display_data"
    },
    {
     "data": {
      "application/vnd.jupyter.widget-view+json": {
       "model_id": "c4381c8cc6734133be57386e388b73ac",
       "version_major": 2,
       "version_minor": 0
      },
      "text/plain": [
       "WebGuiWidget(value={'ngsolve_version': '6.2.2203-56-g47f483033', 'mesh_dim': 2, 'order2d': 2, 'order3d': 2, 'd…"
      ]
     },
     "metadata": {},
     "output_type": "display_data"
    }
   ],
   "source": [
    "for e in Es:\n",
    "    Draw(e.real, mesh, vectors={'grid_size':500},)"
   ]
  },
  {
   "cell_type": "code",
   "execution_count": 6,
   "id": "8a8848fa",
   "metadata": {},
   "outputs": [
    {
     "data": {
      "application/vnd.jupyter.widget-view+json": {
       "model_id": "98dad686c3a54655b4448d5c93572a5d",
       "version_major": 2,
       "version_minor": 0
      },
      "text/plain": [
       "WebGuiWidget(value={'ngsolve_version': '6.2.2203-56-g47f483033', 'mesh_dim': 2, 'order2d': 2, 'order3d': 2, 'd…"
      ]
     },
     "metadata": {},
     "output_type": "display_data"
    },
    {
     "data": {
      "application/vnd.jupyter.widget-view+json": {
       "model_id": "5c225840ce584f0f85d6824db67ed524",
       "version_major": 2,
       "version_minor": 0
      },
      "text/plain": [
       "WebGuiWidget(value={'ngsolve_version': '6.2.2203-56-g47f483033', 'mesh_dim': 2, 'order2d': 2, 'order3d': 2, 'd…"
      ]
     },
     "metadata": {},
     "output_type": "display_data"
    }
   ],
   "source": [
    "for ps in phis:\n",
    "    Draw(ps, mesh)"
   ]
  },
  {
   "cell_type": "code",
   "execution_count": null,
   "id": "1fa68586",
   "metadata": {},
   "outputs": [],
   "source": []
  }
 ],
 "metadata": {
  "kernelspec": {
   "display_name": "Python 3 (ipykernel)",
   "language": "python",
   "name": "python3"
  },
  "language_info": {
   "codemirror_mode": {
    "name": "ipython",
    "version": 3
   },
   "file_extension": ".py",
   "mimetype": "text/x-python",
   "name": "python",
   "nbconvert_exporter": "python",
   "pygments_lexer": "ipython3",
   "version": "3.8.10"
  }
 },
 "nbformat": 4,
 "nbformat_minor": 5
}
