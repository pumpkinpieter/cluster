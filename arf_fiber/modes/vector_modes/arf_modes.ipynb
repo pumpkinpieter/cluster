{
 "cells": [
  {
   "cell_type": "code",
   "execution_count": 1,
   "id": "76086311",
   "metadata": {},
   "outputs": [
    {
     "name": "stdout",
     "output_type": "stream",
     "text": [
      "importing NGSolve-6.2.2203-56-g47f483033\n"
     ]
    }
   ],
   "source": [
    "from fiberamp.fiber.microstruct.pbg import ARF2\n",
    "from ngsolve.webgui import Draw\n",
    "import ngsolve as ng"
   ]
  },
  {
   "cell_type": "code",
   "execution_count": 2,
   "id": "943a171a",
   "metadata": {
    "scrolled": true
   },
   "outputs": [
    {
     "name": "stdout",
     "output_type": "stream",
     "text": [
      "ModeSolver: Checking if mesh has required regions\n",
      "Mesh has  21941  elements,  10989  points,  and  32929  edges.\n"
     ]
    }
   ],
   "source": [
    "A = ARF2(name='fine_cladding', poly_core=True, refine=0)\n"
   ]
  },
  {
   "cell_type": "code",
   "execution_count": 3,
   "id": "295db014",
   "metadata": {
    "scrolled": false
   },
   "outputs": [
    {
     "data": {
      "application/vnd.jupyter.widget-view+json": {
       "model_id": "8e575d96743149b9844d3f2c07662859",
       "version_major": 2,
       "version_minor": 0
      },
      "text/plain": [
       "WebGuiWidget(value={'ngsolve_version': '6.2.2203-56-g47f483033', 'mesh_dim': 2, 'order2d': 2, 'order3d': 2, 'd…"
      ]
     },
     "metadata": {},
     "output_type": "display_data"
    },
    {
     "data": {
      "text/plain": [
       "BaseWebGuiScene"
      ]
     },
     "execution_count": 3,
     "metadata": {},
     "output_type": "execute_result"
    }
   ],
   "source": [
    "Draw(A.mesh)"
   ]
  },
  {
   "cell_type": "markdown",
   "id": "890c55d5",
   "metadata": {},
   "source": [
    "# Fundamental Mode"
   ]
  },
  {
   "cell_type": "code",
   "execution_count": 5,
   "id": "18522452",
   "metadata": {},
   "outputs": [
    {
     "name": "stdout",
     "output_type": "stream",
     "text": [
      "Set NGSolve automatic PML with p= 3  alpha= 5 and thickness=2.000\n",
      "Using FEAST to search for vector leaky modes in\n",
      "circle of radius 0.005 centered at  5.066\n",
      "assuming not more than 4 modes in this interval\n",
      "System size: 395008  x  395008   Inverse type: umfpack\n",
      "\n",
      "SpectralProj: Setting shifted trapezoidal rule on elliptical contour\n",
      "SpectralProjNGR:   Making resolvent at z =  +5.070 +0.000j\n"
     ]
    },
    {
     "ename": "KeyboardInterrupt",
     "evalue": "",
     "output_type": "error",
     "traceback": [
      "\u001b[0;31m---------------------------------------------------------------------------\u001b[0m",
      "\u001b[0;31mKeyboardInterrupt\u001b[0m                         Traceback (most recent call last)",
      "\u001b[0;32m/tmp/ipykernel_7208/1914950644.py\u001b[0m in \u001b[0;36m<cell line: 6>\u001b[0;34m()\u001b[0m\n\u001b[1;32m      4\u001b[0m \u001b[0;34m\u001b[0m\u001b[0m\n\u001b[1;32m      5\u001b[0m \u001b[0;34m\u001b[0m\u001b[0m\n\u001b[0;32m----> 6\u001b[0;31m betas_fund, _, Es_fund, phis_fund, _ = A.leakyvecmodes(ctr=center, rad=radius, alpha=alpha,\n\u001b[0m\u001b[1;32m      7\u001b[0m                                           \u001b[0mnspan\u001b[0m\u001b[0;34m=\u001b[0m\u001b[0;36m4\u001b[0m\u001b[0;34m,\u001b[0m \u001b[0mnpts\u001b[0m\u001b[0;34m=\u001b[0m\u001b[0;36m4\u001b[0m\u001b[0;34m,\u001b[0m \u001b[0mp\u001b[0m\u001b[0;34m=\u001b[0m\u001b[0;36m3\u001b[0m\u001b[0;34m,\u001b[0m \u001b[0mniterations\u001b[0m\u001b[0;34m=\u001b[0m\u001b[0;36m10\u001b[0m\u001b[0;34m,\u001b[0m\u001b[0;34m\u001b[0m\u001b[0;34m\u001b[0m\u001b[0m\n\u001b[1;32m      8\u001b[0m                                           \u001b[0mrhoinv\u001b[0m\u001b[0;34m=\u001b[0m\u001b[0;36m.99\u001b[0m\u001b[0;34m,\u001b[0m \u001b[0mquadrule\u001b[0m\u001b[0;34m=\u001b[0m\u001b[0;34m'ellipse_trapez_shift'\u001b[0m\u001b[0;34m,\u001b[0m\u001b[0;34m\u001b[0m\u001b[0;34m\u001b[0m\u001b[0m\n",
      "\u001b[0;32m~/local/fiberamp/fiber/modesolver.py\u001b[0m in \u001b[0;36mleakyvecmodes\u001b[0;34m(self, rad, ctr, alpha, p, seed, npts, nspan, within, rhoinv, quadrule, verbose, inverse, **feastkwargs)\u001b[0m\n\u001b[1;32m    927\u001b[0m         \u001b[0mprint\u001b[0m\u001b[0;34m(\u001b[0m\u001b[0;34m'System size:'\u001b[0m\u001b[0;34m,\u001b[0m \u001b[0mE\u001b[0m\u001b[0;34m.\u001b[0m\u001b[0mn\u001b[0m\u001b[0;34m,\u001b[0m \u001b[0;34m' x '\u001b[0m\u001b[0;34m,\u001b[0m \u001b[0mE\u001b[0m\u001b[0;34m.\u001b[0m\u001b[0mn\u001b[0m\u001b[0;34m,\u001b[0m \u001b[0;34m'  Inverse type:'\u001b[0m\u001b[0;34m,\u001b[0m \u001b[0minverse\u001b[0m\u001b[0;34m)\u001b[0m\u001b[0;34m\u001b[0m\u001b[0;34m\u001b[0m\u001b[0m\n\u001b[1;32m    928\u001b[0m \u001b[0;34m\u001b[0m\u001b[0m\n\u001b[0;32m--> 929\u001b[0;31m         P = SpectralProjNGR(lambda z: R(z, self.V, self.index,\n\u001b[0m\u001b[1;32m    930\u001b[0m                                         inverse=inverse),\n\u001b[1;32m    931\u001b[0m                             \u001b[0mradius\u001b[0m\u001b[0;34m=\u001b[0m\u001b[0mrad\u001b[0m\u001b[0;34m,\u001b[0m \u001b[0mcenter\u001b[0m\u001b[0;34m=\u001b[0m\u001b[0mctr\u001b[0m\u001b[0;34m,\u001b[0m \u001b[0mnpts\u001b[0m\u001b[0;34m=\u001b[0m\u001b[0mnpts\u001b[0m\u001b[0;34m,\u001b[0m\u001b[0;34m\u001b[0m\u001b[0;34m\u001b[0m\u001b[0m\n",
      "\u001b[0;32m~/local/pyeigfeast/spectralproj/ngs/spectralprojngs.py\u001b[0m in \u001b[0;36m__init__\u001b[0;34m(self, makeresolvent, **kwargs)\u001b[0m\n\u001b[1;32m    752\u001b[0m                        \u001b[0;34m'Making resolvent at z = %+7.3f% + 7.3fj'\u001b[0m\u001b[0;34m\u001b[0m\u001b[0;34m\u001b[0m\u001b[0m\n\u001b[1;32m    753\u001b[0m                        % (z.real, z.imag))\n\u001b[0;32m--> 754\u001b[0;31m             \u001b[0mself\u001b[0m\u001b[0;34m.\u001b[0m\u001b[0mresolvents\u001b[0m\u001b[0;34m.\u001b[0m\u001b[0mappend\u001b[0m\u001b[0;34m(\u001b[0m\u001b[0mmakeresolvent\u001b[0m\u001b[0;34m(\u001b[0m\u001b[0mz\u001b[0m\u001b[0;34m)\u001b[0m\u001b[0;34m)\u001b[0m\u001b[0;34m\u001b[0m\u001b[0;34m\u001b[0m\u001b[0m\n\u001b[0m\u001b[1;32m    755\u001b[0m         \u001b[0mself\u001b[0m\u001b[0;34m.\u001b[0m\u001b[0mscratch\u001b[0m \u001b[0;34m=\u001b[0m \u001b[0;32mNone\u001b[0m\u001b[0;34m\u001b[0m\u001b[0;34m\u001b[0m\u001b[0m\n\u001b[1;32m    756\u001b[0m         \u001b[0mself\u001b[0m\u001b[0;34m.\u001b[0m\u001b[0mrscratch\u001b[0m \u001b[0;34m=\u001b[0m \u001b[0;32mNone\u001b[0m\u001b[0;34m\u001b[0m\u001b[0;34m\u001b[0m\u001b[0m\n",
      "\u001b[0;32m~/local/fiberamp/fiber/modesolver.py\u001b[0m in \u001b[0;36m<lambda>\u001b[0;34m(z)\u001b[0m\n\u001b[1;32m    927\u001b[0m         \u001b[0mprint\u001b[0m\u001b[0;34m(\u001b[0m\u001b[0;34m'System size:'\u001b[0m\u001b[0;34m,\u001b[0m \u001b[0mE\u001b[0m\u001b[0;34m.\u001b[0m\u001b[0mn\u001b[0m\u001b[0;34m,\u001b[0m \u001b[0;34m' x '\u001b[0m\u001b[0;34m,\u001b[0m \u001b[0mE\u001b[0m\u001b[0;34m.\u001b[0m\u001b[0mn\u001b[0m\u001b[0;34m,\u001b[0m \u001b[0;34m'  Inverse type:'\u001b[0m\u001b[0;34m,\u001b[0m \u001b[0minverse\u001b[0m\u001b[0;34m)\u001b[0m\u001b[0;34m\u001b[0m\u001b[0;34m\u001b[0m\u001b[0m\n\u001b[1;32m    928\u001b[0m \u001b[0;34m\u001b[0m\u001b[0m\n\u001b[0;32m--> 929\u001b[0;31m         P = SpectralProjNGR(lambda z: R(z, self.V, self.index,\n\u001b[0m\u001b[1;32m    930\u001b[0m                                         inverse=inverse),\n\u001b[1;32m    931\u001b[0m                             \u001b[0mradius\u001b[0m\u001b[0;34m=\u001b[0m\u001b[0mrad\u001b[0m\u001b[0;34m,\u001b[0m \u001b[0mcenter\u001b[0m\u001b[0;34m=\u001b[0m\u001b[0mctr\u001b[0m\u001b[0;34m,\u001b[0m \u001b[0mnpts\u001b[0m\u001b[0;34m=\u001b[0m\u001b[0mnpts\u001b[0m\u001b[0;34m,\u001b[0m\u001b[0;34m\u001b[0m\u001b[0;34m\u001b[0m\u001b[0m\n",
      "\u001b[0;32m~/local/fiberamp/fiber/modesolver.py\u001b[0m in \u001b[0;36m__init__\u001b[0;34m(selfr, z, V, n, inverse)\u001b[0m\n\u001b[1;32m    774\u001b[0m                         \u001b[0mselfr\u001b[0m\u001b[0;34m.\u001b[0m\u001b[0mZ\u001b[0m\u001b[0;34m.\u001b[0m\u001b[0mAssemble\u001b[0m\u001b[0;34m(\u001b[0m\u001b[0;34m)\u001b[0m\u001b[0;34m\u001b[0m\u001b[0;34m\u001b[0m\u001b[0m\n\u001b[1;32m    775\u001b[0m                         \u001b[0mselfr\u001b[0m\u001b[0;34m.\u001b[0m\u001b[0mZH\u001b[0m\u001b[0;34m.\u001b[0m\u001b[0mAssemble\u001b[0m\u001b[0;34m(\u001b[0m\u001b[0;34m)\u001b[0m\u001b[0;34m\u001b[0m\u001b[0;34m\u001b[0m\u001b[0m\n\u001b[0;32m--> 776\u001b[0;31m                     selfr.R_I = selfr.Z.mat.Inverse(XY.FreeDofs(coupling=True),\n\u001b[0m\u001b[1;32m    777\u001b[0m                                                     inverse=inverse)\n\u001b[1;32m    778\u001b[0m \u001b[0;34m\u001b[0m\u001b[0m\n",
      "\u001b[0;31mKeyboardInterrupt\u001b[0m: "
     ]
    }
   ],
   "source": [
    "center = 5.066\n",
    "radius = .005        \n",
    "alpha = 5\n",
    "\n",
    "\n",
    "betas_fund, _, Es_fund, phis_fund, _ = A.leakyvecmodes(ctr=center, rad=radius, alpha=alpha,\n",
    "                                          nspan=4, npts=4, p=3, niterations=10,\n",
    "                                          rhoinv=.99, quadrule='ellipse_trapez_shift',\n",
    "                                          nrestarts=0, stop_tol=1e-9)"
   ]
  },
  {
   "cell_type": "code",
   "execution_count": 5,
   "id": "6044f147",
   "metadata": {
    "scrolled": false
   },
   "outputs": [
    {
     "data": {
      "application/vnd.jupyter.widget-view+json": {
       "model_id": "d2a6290bb2434a1e8aee4b79c08e9cdb",
       "version_major": 2,
       "version_minor": 0
      },
      "text/plain": [
       "WebGuiWidget(value={'ngsolve_version': '6.2.2203-56-g47f483033', 'mesh_dim': 2, 'order2d': 2, 'order3d': 2, 'd…"
      ]
     },
     "metadata": {},
     "output_type": "display_data"
    },
    {
     "data": {
      "application/vnd.jupyter.widget-view+json": {
       "model_id": "769bd91b107f4f88954829d62d8b1693",
       "version_major": 2,
       "version_minor": 0
      },
      "text/plain": [
       "WebGuiWidget(value={'ngsolve_version': '6.2.2203-56-g47f483033', 'mesh_dim': 2, 'order2d': 2, 'order3d': 2, 'd…"
      ]
     },
     "metadata": {},
     "output_type": "display_data"
    }
   ],
   "source": [
    "for e in Es_fund:\n",
    "    Draw(e.real, A.mesh, vectors={'grid_size':200})"
   ]
  },
  {
   "cell_type": "markdown",
   "id": "7e23d307",
   "metadata": {},
   "source": [
    "# Higher Order Modes"
   ]
  },
  {
   "cell_type": "code",
   "execution_count": null,
   "id": "f43aee7b",
   "metadata": {},
   "outputs": [],
   "source": [
    "center =12.75\n",
    "radius = .1    \n",
    "alpha = 5\n",
    "\n",
    "\n",
    "betas_hom, _, Es_hom, phis_hom, _ = A.leakyvecmodes(ctr=center, rad=radius, alpha=alpha,\n",
    "                                          nspan=7, npts=4, p=2, niterations=10,\n",
    "                                          rhoinv=.99, quadrule='ellipse_trapez_shift',\n",
    "                                          nrestarts=0, stop_tol=1e-9)"
   ]
  },
  {
   "cell_type": "code",
   "execution_count": null,
   "id": "af8d2751",
   "metadata": {
    "scrolled": false
   },
   "outputs": [],
   "source": [
    "for e in Es_hom:\n",
    "    Draw(e.real, A.mesh, vectors={'grid_size':200})"
   ]
  },
  {
   "cell_type": "markdown",
   "id": "948bb68a",
   "metadata": {},
   "source": [
    "# Refined search\n",
    "\n",
    "### Transverse Electric:"
   ]
  },
  {
   "cell_type": "code",
   "execution_count": null,
   "id": "fa400cbb",
   "metadata": {},
   "outputs": [],
   "source": [
    "center_te =12.744\n",
    "radius = .005   \n",
    "alpha = 5\n",
    "\n",
    "\n",
    "betas_te, _, Es_te, phis_te, _ = A.leakyvecmodes(ctr=center_te, rad=radius, alpha=alpha,\n",
    "                                          nspan=4, npts=4, p=2, niterations=10,\n",
    "                                          nrestarts=0, stop_tol=1e-9)"
   ]
  },
  {
   "cell_type": "code",
   "execution_count": null,
   "id": "967132e9",
   "metadata": {
    "scrolled": false
   },
   "outputs": [],
   "source": [
    "for e in Es_te:\n",
    "    Draw(e.real, A.mesh, vectors={'grid_size':2000})"
   ]
  },
  {
   "cell_type": "markdown",
   "id": "d1a9e7d7",
   "metadata": {},
   "source": [
    "### HOM"
   ]
  },
  {
   "cell_type": "code",
   "execution_count": null,
   "id": "22b2faf8",
   "metadata": {
    "scrolled": true
   },
   "outputs": [],
   "source": [
    "center_te =12.766\n",
    "radius = .005   \n",
    "alpha = 5\n",
    "\n",
    "\n",
    "betas_hom, _, Es_hom, phis_hom, _ = A.leakyvecmodes(ctr=center_te, rad=radius, alpha=alpha,\n",
    "                                          nspan=4, npts=4, p=2, niterations=10,\n",
    "                                          nrestarts=0, stop_tol=1e-9)"
   ]
  },
  {
   "cell_type": "code",
   "execution_count": null,
   "id": "c249cd55",
   "metadata": {
    "scrolled": false
   },
   "outputs": [],
   "source": [
    "for e in Es_hom:\n",
    "    Draw(e.real, A.mesh, vectors={'grid_size':200})"
   ]
  },
  {
   "cell_type": "markdown",
   "id": "4fc741f5",
   "metadata": {},
   "source": [
    "# Orthogonality Check\n",
    "\n"
   ]
  },
  {
   "cell_type": "code",
   "execution_count": null,
   "id": "34bde670",
   "metadata": {},
   "outputs": [],
   "source": [
    "# Set choice for fundamental mode\n",
    "Etv_fund, phi_fund, beta_fund = Es_fund[0], phis_fund[0], betas_fund[0]\n",
    "\n",
    "# Get H field for fundamental mode\n",
    "Htv_fund, Hz_fund = A.HfromE(Etv_fund, phi_fund, beta_fund)\n",
    "\n",
    "# Find current modal power\n",
    "E_fund_power = A.power(Etv_fund, Htv_fund)\n",
    "E_fund_power"
   ]
  },
  {
   "cell_type": "code",
   "execution_count": null,
   "id": "a497fdb4",
   "metadata": {},
   "outputs": [],
   "source": [
    "# Set choice for higher order mode (here Transverse Electric type)\n",
    "Etv_TE, Ephi_TE, beta_TE = Es_hom[1], phis_hom[1], betas_hom[1]\n",
    "\n",
    "# Get H field for hom\n",
    "Htv_TE, Hz_TE = A.HfromE(Etv_TE, Ephi_TE, beta_TE)\n",
    "\n",
    "# Find current modal power\n",
    "E_hom_power = A.power(Etv_TE, Htv_TE)\n",
    "\n",
    "E_hom_power"
   ]
  },
  {
   "cell_type": "code",
   "execution_count": null,
   "id": "a027968b",
   "metadata": {},
   "outputs": [],
   "source": [
    "# Check orthogonality (for power (maxwell) inner product)\n",
    "A.power(Etv_fund, Htv_TE)"
   ]
  },
  {
   "cell_type": "code",
   "execution_count": null,
   "id": "92d9ae1a",
   "metadata": {},
   "outputs": [],
   "source": [
    "# Create full E field for fundamental\n",
    "Ez_fund = -1j/beta_fund * phi_fund\n",
    "E_fund_full = ng.CoefficientFunction((Etv_fund[0], Etv_fund[1], Ez_fund))\n",
    "\n",
    "# Create full H field for fundamental\n",
    "H_fund_full = ng.CoefficientFunction((Htv_fund[0], Htv_fund[1], Hz_fund))\n",
    "\n",
    "# Create full E field for higher order mode\n",
    "Ez_TE = -1j/beta_TE * Ephi_TE\n",
    "E_TE_full = ng.CoefficientFunction((Etv_TE[0], Etv_TE[1], Ez_TE))\n",
    "\n",
    "# Create full hom H field\n",
    "H_TE_full = ng.CoefficientFunction((Htv_TE[0], Htv_TE[1], Hz_TE))\n",
    "\n",
    "\n",
    "\n"
   ]
  },
  {
   "cell_type": "markdown",
   "id": "a5a9814b",
   "metadata": {},
   "source": [
    "# Full Field dot product Orthogonality"
   ]
  },
  {
   "cell_type": "code",
   "execution_count": null,
   "id": "48c6cc10",
   "metadata": {},
   "outputs": [],
   "source": [
    "t1 = ng.InnerProduct(E_fund_full, E_TE_full)\n",
    "t2 = ng.InnerProduct(H_fund_full, H_TE_full)\n",
    "ng.Integrate(t1 + t2, A.mesh)"
   ]
  },
  {
   "cell_type": "markdown",
   "id": "b994b729",
   "metadata": {},
   "source": [
    "# Component-wise Orthogonality"
   ]
  },
  {
   "cell_type": "code",
   "execution_count": null,
   "id": "b588ae07",
   "metadata": {},
   "outputs": [],
   "source": [
    "# E field componentwise \n",
    "\n",
    "for i in range(3):\n",
    "    print(ng.Integrate(ng.InnerProduct(E_fund_full[i], E_TE_full[i]), A.mesh))"
   ]
  },
  {
   "cell_type": "code",
   "execution_count": null,
   "id": "2edce0b5",
   "metadata": {},
   "outputs": [],
   "source": [
    "# H field componentwise \n",
    "\n",
    "for i in range(3):\n",
    "    print(ng.Integrate(ng.InnerProduct(H_fund_full[i], H_TE_full[i]), A.mesh))"
   ]
  },
  {
   "cell_type": "code",
   "execution_count": null,
   "id": "849cd320",
   "metadata": {},
   "outputs": [],
   "source": [
    "# E field componentwise \n",
    "\n",
    "for i in range(3):\n",
    "    print(ng.Integrate(ng.InnerProduct(E_fund_full[i], H_TE_full[i]), A.mesh))"
   ]
  }
 ],
 "metadata": {
  "kernelspec": {
   "display_name": "Python 3 (ipykernel)",
   "language": "python",
   "name": "python3"
  },
  "language_info": {
   "codemirror_mode": {
    "name": "ipython",
    "version": 3
   },
   "file_extension": ".py",
   "mimetype": "text/x-python",
   "name": "python",
   "nbconvert_exporter": "python",
   "pygments_lexer": "ipython3",
   "version": "3.8.10"
  }
 },
 "nbformat": 4,
 "nbformat_minor": 5
}
