{
 "cells": [
  {
   "cell_type": "code",
   "execution_count": null,
   "id": "4503f531",
   "metadata": {},
   "outputs": [],
   "source": [
    "import sys\n",
    "import ngsolve as ng\n",
    "from ngsolve.webgui import Draw\n",
    "from fiberamp.fiber.microstruct.arf import loadarfmode\n",
    "\n",
    "\n",
    "main = os.path.expanduser('~/local/convergence/arf_fiber')\n",
    "studyname = 'scalar_modes'\n",
    "path = main + '/' + studyname + '/modes'\n",
    "\n",
    "ref, p = 0, 2\n",
    "arffprefix = path + '/arf__p' + str(p) + '_ref' + str(ref)\n",
    "modenpzf = arffprefix + '_mde.npz'\n",
    "a, Y, betas, Zs, p, _, _, _ = loadarfmode(modenpzf, arffprefix)\n",
    "\n",
    "print(\"Betas: \", betas, \" Zs: \", Zs, \" p: \", p)\n",
    "\n",
    "a.curve(3)\n",
    "Draw(a.mesh)\n"
   ]
  },
  {
   "cell_type": "code",
   "execution_count": null,
   "id": "55ef4231",
   "metadata": {},
   "outputs": [],
   "source": [
    "Draw(Y[0], a.mesh)"
   ]
  },
  {
   "cell_type": "code",
   "execution_count": null,
   "id": "faccaa3c",
   "metadata": {},
   "outputs": [],
   "source": []
  }
 ],
 "metadata": {
  "kernelspec": {
   "display_name": "Python 3 (ipykernel)",
   "language": "python",
   "name": "python3"
  },
  "language_info": {
   "codemirror_mode": {
    "name": "ipython",
    "version": 3
   },
   "file_extension": ".py",
   "mimetype": "text/x-python",
   "name": "python",
   "nbconvert_exporter": "python",
   "pygments_lexer": "ipython3",
   "version": "3.8.10"
  }
 },
 "nbformat": 4,
 "nbformat_minor": 5
}
