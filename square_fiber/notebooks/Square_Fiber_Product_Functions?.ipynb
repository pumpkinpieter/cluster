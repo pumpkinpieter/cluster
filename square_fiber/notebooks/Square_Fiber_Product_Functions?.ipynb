{
 "cells": [
  {
   "cell_type": "code",
   "execution_count": null,
   "id": "bc6320c3",
   "metadata": {},
   "outputs": [],
   "source": [
    "import ngsolve as ng\n",
    "from numpy import pi\n",
    "from ngsolve.webgui import Draw\n",
    "from netgen.geom2d import SplineGeometry\n",
    "from fiberamp.fiber import ModeSolver"
   ]
  },
  {
   "cell_type": "code",
   "execution_count": null,
   "id": "3d2587ee",
   "metadata": {},
   "outputs": [],
   "source": [
    "class SquareFiber(ModeSolver):\n",
    "    \n",
    "    def __init__(self, Rsqr=.5, R=1.5, Rout=2.5, ref=0, curve=3):\n",
    "        \n",
    "        self.Rsqr = Rsqr\n",
    "        self.R = R\n",
    "        self.Rout = Rout\n",
    "        \n",
    "        geo = SplineGeometry()\n",
    "        geo.AddRectangle((-Rsqr,-Rsqr), ((Rsqr,Rsqr)), leftdomain=1, rightdomain=2, bc='square')\n",
    "        geo.AddCircle((0,0), r=self.R, leftdomain=2, rightdomain=3)\n",
    "        geo.AddCircle((0,0), r=self.Rout, leftdomain=3, bc='OuterCircle')\n",
    "        \n",
    "        geo.SetMaterial(1, 'core')\n",
    "        geo.SetMaterial(2, 'clad')\n",
    "        geo.SetMaterial(3, 'Outer')\n",
    "        \n",
    "        geo.SetDomainMaxH(1, .1)\n",
    "        geo.SetDomainMaxH(2, .2)\n",
    "        geo.SetDomainMaxH(3, 2)\n",
    "        \n",
    "        self.geo = geo\n",
    "        self.mesh = ng.Mesh(geo.GenerateMesh())\n",
    "        for r in range(ref):\n",
    "            self.mesh.ngmesh.Refine()\n",
    "        self.mesh.ngmesh.SetGeometry(self.geo)\n",
    "        self.mesh.Curve(curve)\n",
    "        \n",
    "        self.n0 = 1.45\n",
    "        self.n_core = 1.48\n",
    "        self.n_clad = 1.45\n",
    "        self.wavelength = .5e-6\n",
    "        self.k = 2*pi/self.wavelength\n",
    "        self.L = 1.2e-6\n",
    "\n",
    "        self.N = ng.CoefficientFunction([self.n_core, self.n_clad, self.n0])\n",
    "        self.V = (self.k * self.L)**2 * (self.n0**2 - self.N**2)\n",
    "        self.index = self.N\n",
    "\n",
    "        super().__init__(self.mesh, self.L, self.n0)"
   ]
  },
  {
   "cell_type": "code",
   "execution_count": null,
   "id": "53c9ba9a",
   "metadata": {},
   "outputs": [],
   "source": [
    "A = SquareFiber(ref=1, curve=10)"
   ]
  },
  {
   "cell_type": "code",
   "execution_count": null,
   "id": "3ed71a1d",
   "metadata": {},
   "outputs": [],
   "source": [
    "A.mesh.GetBoundaries()"
   ]
  },
  {
   "cell_type": "code",
   "execution_count": null,
   "id": "efd150d4",
   "metadata": {},
   "outputs": [],
   "source": [
    "Draw(A.V, A.mesh)"
   ]
  },
  {
   "cell_type": "code",
   "execution_count": null,
   "id": "6cd36bb6",
   "metadata": {},
   "outputs": [],
   "source": [
    "z, y, yl, betas, P, hist = A.leakymode(5, ctr=3.3j, rad = .1, alpha=10, npts=4, nspan=2, niterations=10,nrestarts=0 )"
   ]
  },
  {
   "cell_type": "code",
   "execution_count": null,
   "id": "21b6190f",
   "metadata": {},
   "outputs": [],
   "source": [
    "for f in y:\n",
    "    Draw(1e2*f, A.mesh)"
   ]
  },
  {
   "cell_type": "markdown",
   "id": "3bf71c14",
   "metadata": {},
   "source": [
    "# Product solution after removing interface information?"
   ]
  },
  {
   "cell_type": "code",
   "execution_count": null,
   "id": "3d7136cb",
   "metadata": {},
   "outputs": [],
   "source": [
    "f = y[0]"
   ]
  },
  {
   "cell_type": "code",
   "execution_count": null,
   "id": "b44fe476",
   "metadata": {},
   "outputs": [],
   "source": [
    "A.mesh.GetBoundaries()"
   ]
  },
  {
   "cell_type": "code",
   "execution_count": null,
   "id": "82b7dc20",
   "metadata": {},
   "outputs": [],
   "source": [
    "gfu = ng.GridFunction(P.fes)"
   ]
  },
  {
   "cell_type": "code",
   "execution_count": null,
   "id": "100cb83c",
   "metadata": {},
   "outputs": [],
   "source": [
    "gfu.Set(f, definedon=A.mesh.Boundaries('square'))"
   ]
  },
  {
   "cell_type": "code",
   "execution_count": null,
   "id": "5fcc49c1",
   "metadata": {},
   "outputs": [],
   "source": [
    "Draw(1e2*gfu, A.mesh)"
   ]
  },
  {
   "cell_type": "code",
   "execution_count": null,
   "id": "c63b00ba",
   "metadata": {},
   "outputs": [],
   "source": [
    "Draw(1e2*(f-gfu), A.mesh)"
   ]
  },
  {
   "cell_type": "markdown",
   "id": "5cbd518d",
   "metadata": {},
   "source": [
    "# Vector"
   ]
  },
  {
   "cell_type": "code",
   "execution_count": null,
   "id": "631c65aa",
   "metadata": {},
   "outputs": [],
   "source": [
    "a = A.sqrZfrom(A.k * A.n_core)"
   ]
  },
  {
   "cell_type": "code",
   "execution_count": null,
   "id": "24cb35b6",
   "metadata": {},
   "outputs": [],
   "source": [
    "betas, zs, E, phi, _ = A.leakyvecmodes(ctr=-10.889, rad=.1, p=3, npts=4, nspan=7, \n",
    "                                       niterations=20, nrestarts=0, stop_tol=1e-9)"
   ]
  },
  {
   "cell_type": "code",
   "execution_count": null,
   "id": "f6333370",
   "metadata": {},
   "outputs": [],
   "source": [
    "for f in E:\n",
    "    Draw(f.real, A.mesh)"
   ]
  },
  {
   "cell_type": "code",
   "execution_count": null,
   "id": "9ddda30a",
   "metadata": {},
   "outputs": [],
   "source": [
    "for p in phi:\n",
    "    Draw(1e2*p, A.mesh)"
   ]
  },
  {
   "cell_type": "code",
   "execution_count": null,
   "id": "2fc5102e",
   "metadata": {},
   "outputs": [],
   "source": [
    "\n"
   ]
  },
  {
   "cell_type": "code",
   "execution_count": null,
   "id": "2316f0bd",
   "metadata": {},
   "outputs": [],
   "source": []
  }
 ],
 "metadata": {
  "kernelspec": {
   "display_name": "Python 3 (ipykernel)",
   "language": "python",
   "name": "python3"
  },
  "language_info": {
   "codemirror_mode": {
    "name": "ipython",
    "version": 3
   },
   "file_extension": ".py",
   "mimetype": "text/x-python",
   "name": "python",
   "nbconvert_exporter": "python",
   "pygments_lexer": "ipython3",
   "version": "3.8.10"
  }
 },
 "nbformat": 4,
 "nbformat_minor": 5
}
