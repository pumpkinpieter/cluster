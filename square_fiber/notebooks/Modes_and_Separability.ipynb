{
 "cells": [
  {
   "cell_type": "markdown",
   "id": "9319699e",
   "metadata": {},
   "source": [
    "# Modes and Separability for the Square Core fiber\n",
    "\n",
    "Here we find the modes and check to see if they are product functions (ie the equal products of functions only of x and y individually)."
   ]
  },
  {
   "cell_type": "code",
   "execution_count": null,
   "id": "bc6320c3",
   "metadata": {},
   "outputs": [],
   "source": [
    "import ngsolve as ng\n",
    "import numpy as np\n",
    "import matplotlib.pyplot as plt\n",
    "from ngsolve.webgui import Draw\n",
    "from fiberamp.fiber.microstruct.pbg import SquareFiber"
   ]
  },
  {
   "cell_type": "code",
   "execution_count": null,
   "id": "53c9ba9a",
   "metadata": {},
   "outputs": [],
   "source": [
    "A = SquareFiber(refine=1, curve=5, corner_maxh=.01)"
   ]
  },
  {
   "cell_type": "code",
   "execution_count": null,
   "id": "efd150d4",
   "metadata": {},
   "outputs": [],
   "source": [
    "Draw(A.V, A.mesh)"
   ]
  },
  {
   "cell_type": "code",
   "execution_count": null,
   "id": "6cd36bb6",
   "metadata": {},
   "outputs": [],
   "source": [
    "z, yr, _, _, _, _ = A.leakymode(2, ctr=3.3j, rad = .1, alpha=10, npts=4, nspan=2, niterations=10,nrestarts=0 )"
   ]
  },
  {
   "cell_type": "code",
   "execution_count": null,
   "id": "21b6190f",
   "metadata": {},
   "outputs": [],
   "source": [
    "for f in yr:\n",
    "    Draw(1e2*f, A.mesh)\n"
   ]
  },
  {
   "cell_type": "markdown",
   "id": "f5d51d61",
   "metadata": {},
   "source": [
    "# Plot cross sections of core "
   ]
  },
  {
   "cell_type": "code",
   "execution_count": null,
   "id": "33fd92b9",
   "metadata": {},
   "outputs": [],
   "source": [
    "S = np.linspace(-A.Rsqr_in, A.Rsqr_in, 301)"
   ]
  },
  {
   "cell_type": "code",
   "execution_count": null,
   "id": "657998de",
   "metadata": {},
   "outputs": [],
   "source": [
    "x0, y0 = 0,0\n",
    "f = yr[0]\n",
    "xs, ys = [A.mesh(s, y0) for s in S], [A.mesh(x0, s) for s in S]\n",
    "fxs = np.array([f(xpt) for xpt in xs])\n",
    "fys = np.array([f(ypt) for ypt in ys])"
   ]
  },
  {
   "cell_type": "code",
   "execution_count": null,
   "id": "9a706d3d",
   "metadata": {},
   "outputs": [],
   "source": [
    "%matplotlib inline\n",
    "plt.plot(S, fxs.real)\n",
    "# plt.plot(S, fxs.imag)\n",
    "\n"
   ]
  },
  {
   "cell_type": "code",
   "execution_count": null,
   "id": "0b813bc0",
   "metadata": {},
   "outputs": [],
   "source": [
    "plt.plot(S, fys.real)\n",
    "# plt.plot(S, fys.imag)"
   ]
  },
  {
   "cell_type": "markdown",
   "id": "eec5f092",
   "metadata": {},
   "source": [
    "That's extremely symmetric"
   ]
  },
  {
   "cell_type": "markdown",
   "id": "87e8eef1",
   "metadata": {},
   "source": [
    "# Let's look at the z component of the vector mode"
   ]
  },
  {
   "cell_type": "code",
   "execution_count": null,
   "id": "24cb35b6",
   "metadata": {},
   "outputs": [],
   "source": [
    "betas, zs, E, phi, _ = A.leakyvecmodes(ctr=-10.889, rad=.1, p=2, npts=4, nspan=3, \n",
    "                                       niterations=20, nrestarts=0, stop_tol=1e-9)"
   ]
  },
  {
   "cell_type": "code",
   "execution_count": null,
   "id": "9ddda30a",
   "metadata": {},
   "outputs": [],
   "source": [
    "for p in E:\n",
    "    Draw(p.real, A.mesh)"
   ]
  },
  {
   "cell_type": "markdown",
   "id": "bc5902fe",
   "metadata": {},
   "source": [
    "# Cross section"
   ]
  },
  {
   "cell_type": "code",
   "execution_count": null,
   "id": "305ee9da",
   "metadata": {},
   "outputs": [],
   "source": [
    "x0, y0 = .2,0\n",
    "F = phi[0]\n",
    "xs, ys = [A.mesh(s, y0) for s in S], [A.mesh(x0, s) for s in S]\n",
    "Fxs = np.array([F(x) for x in xs], dtype=complex)\n",
    "Fys = np.array([F(y) for y in ys], dtype=complex)"
   ]
  },
  {
   "cell_type": "code",
   "execution_count": null,
   "id": "3d8a10a9",
   "metadata": {},
   "outputs": [],
   "source": [
    "%matplotlib inline\n",
    "plt.plot(S, Fxs.real)\n",
    "plt.plot(S, Fxs.imag)\n"
   ]
  },
  {
   "cell_type": "code",
   "execution_count": null,
   "id": "0b8aecb0",
   "metadata": {},
   "outputs": [],
   "source": [
    "plt.plot(S, Fys.real)\n",
    "plt.plot(S, Fys.imag)"
   ]
  },
  {
   "cell_type": "markdown",
   "id": "c3dee53a",
   "metadata": {},
   "source": [
    "# Create product function\n",
    "\n",
    "To see if the above really are product functions, we should be able to recreate them using the two cross sections we have"
   ]
  },
  {
   "cell_type": "code",
   "execution_count": null,
   "id": "5c67563b",
   "metadata": {},
   "outputs": [],
   "source": [
    "from mpl_toolkits import mplot3d"
   ]
  },
  {
   "cell_type": "code",
   "execution_count": null,
   "id": "1bd31319",
   "metadata": {},
   "outputs": [],
   "source": [
    "u_0 = F(A.mesh(x0,y0))"
   ]
  },
  {
   "cell_type": "code",
   "execution_count": null,
   "id": "33a4299a",
   "metadata": {},
   "outputs": [],
   "source": [
    "u_0"
   ]
  },
  {
   "cell_type": "code",
   "execution_count": null,
   "id": "60d6c498",
   "metadata": {},
   "outputs": [],
   "source": [
    "X, Y = np.meshgrid(S,S)\n",
    "Z = np.outer(Fxs, Fys)"
   ]
  },
  {
   "cell_type": "code",
   "execution_count": null,
   "id": "b1f0a08a",
   "metadata": {},
   "outputs": [],
   "source": [
    "%matplotlib notebook\n",
    "fig = plt.figure(figsize=(12,8))\n",
    "ax = plt.axes(projection='3d')\n",
    "ax.plot_surface(X, Y, Z, cmap='viridis');\n",
    "# ax.plot_surface(X, Y, Z.imag, cmap='viridis')"
   ]
  },
  {
   "cell_type": "code",
   "execution_count": null,
   "id": "4ed7a153",
   "metadata": {},
   "outputs": [],
   "source": [
    "Z_true = np.zeros_like(X, dtype=complex)"
   ]
  },
  {
   "cell_type": "code",
   "execution_count": null,
   "id": "a361bd03",
   "metadata": {},
   "outputs": [],
   "source": [
    "for i,x in enumerate(X):\n",
    "    for j, y in enumerate(Y):\n",
    "        Z_true[i,j] = F(A.mesh(x[i],y[j]))"
   ]
  },
  {
   "cell_type": "code",
   "execution_count": null,
   "id": "66b7f8bd",
   "metadata": {},
   "outputs": [],
   "source": [
    "%matplotlib notebook\n",
    "fig = plt.figure()\n",
    "ax = plt.axes(projection='3d')\n",
    "ax.plot_surface(X, Y, Z_true.real, cmap='viridis')\n",
    "ax.plot_surface(X, Y, Z.real, cmap='turbo')"
   ]
  },
  {
   "cell_type": "code",
   "execution_count": null,
   "id": "fec655f7",
   "metadata": {},
   "outputs": [],
   "source": [
    "%matplotlib notebook\n",
    "fig = plt.figure()\n",
    "ax = plt.axes(projection='3d')\n",
    "ax.plot_surface(X, Y, (Z-Z_true).real, cmap='viridis')"
   ]
  },
  {
   "cell_type": "markdown",
   "id": "7b627234",
   "metadata": {},
   "source": [
    "# Does seem likely that this is a product function\n",
    "\n",
    "We are having troubles getting it in the corners, but this isn't necessarily because it's not a product but because corners are hard to capture using finite elements.\n",
    "\n",
    "It's also good that the imaginary part of the ratio of the two is near machine zero."
   ]
  },
  {
   "cell_type": "markdown",
   "id": "d0839e10",
   "metadata": {},
   "source": [
    "# Improve the finite element approach\n",
    "\n",
    "If we made our outer boundary square, we expect that we know the radial derivative, it would be related to exponential decay and our eigenvalue (in some way).  We could try to implement that, or also we could just do Neumann conditions on a square outer boundary far from the core.  We could also use CSG 2D and up the precision at the corners using point info and decreasing the maxh there.  \n",
    "\n",
    "All worth doing, but also it seems likely that we can go ahead theoretically and try to figure out the product function theory.  We'd have to line up regions etc.  We could try to get a sense of what the constants of separation are on each region using the numerics from this notebook (especially after implementing some of the above fixes)."
   ]
  }
 ],
 "metadata": {
  "kernelspec": {
   "display_name": "Python 3 (ipykernel)",
   "language": "python",
   "name": "python3"
  },
  "language_info": {
   "codemirror_mode": {
    "name": "ipython",
    "version": 3
   },
   "file_extension": ".py",
   "mimetype": "text/x-python",
   "name": "python",
   "nbconvert_exporter": "python",
   "pygments_lexer": "ipython3",
   "version": "3.8.10"
  }
 },
 "nbformat": 4,
 "nbformat_minor": 5
}
