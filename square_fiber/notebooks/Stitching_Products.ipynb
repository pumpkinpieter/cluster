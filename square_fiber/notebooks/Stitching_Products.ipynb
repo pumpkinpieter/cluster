{
 "cells": [
  {
   "cell_type": "markdown",
   "id": "7c48a5d7",
   "metadata": {},
   "source": [
    "# Stitching together product solutions on regions\n",
    "\n",
    "Can we do this?"
   ]
  },
  {
   "cell_type": "code",
   "execution_count": null,
   "id": "318bc224",
   "metadata": {},
   "outputs": [],
   "source": [
    "import ngsolve as ng\n",
    "import numpy as np\n",
    "\n",
    "from pyeigfeast.spectralproj.ngs import SpectralProjNG, NGvecs\n",
    "from ngsolve.webgui import Draw\n",
    "from netgen.geom2d import CSG2d, Rectangle\n",
    "from numpy import pi"
   ]
  },
  {
   "cell_type": "code",
   "execution_count": null,
   "id": "72983ad7",
   "metadata": {},
   "outputs": [],
   "source": [
    "\n",
    "geo = CSG2d()\n",
    "\n",
    "# rectA = Rectangle(pmin=(-pi,0), pmax=(0,pi), mat=\"mat3\", bc=\"outer\")\n",
    "rectB = Rectangle(pmin=(-pi,-pi), pmax=(0,0), mat=\"left\", bc='outer', right='center')\n",
    "rectC = Rectangle(pmin=(0,-pi), pmax=(pi,0), mat=\"right\", bc='outer', left='center')\n",
    "\n",
    "# geo.Add(rectA)\n",
    "geo.Add(rectB)\n",
    "geo.Add(rectC)\n",
    "\n",
    "mesh = ng.Mesh(geo.GenerateMesh(maxh=0.3))\n",
    "\n",
    "Draw(mesh)"
   ]
  },
  {
   "cell_type": "markdown",
   "id": "c4c882c2",
   "metadata": {},
   "source": [
    "# PDE to solve is $-\\Delta u + V u = Z^2 u$\n",
    "\n",
    "The eigenvalue is Z, V is our potential function which we define below"
   ]
  },
  {
   "cell_type": "code",
   "execution_count": null,
   "id": "2f02aee7",
   "metadata": {},
   "outputs": [],
   "source": [
    "n_core = 1.48\n",
    "n_clad = 1.45\n",
    "wavelength = 1.8e-6\n",
    "L = .2e-5\n",
    "k0 = 2 * pi / wavelength\n",
    "\n",
    "N = ng.CoefficientFunction([n_core, n_clad])\n",
    "\n",
    "n0 = n_clad\n",
    "V = (k0*L)**2 * (n0**2-N**2)"
   ]
  },
  {
   "cell_type": "code",
   "execution_count": null,
   "id": "166eb97d",
   "metadata": {},
   "outputs": [],
   "source": [
    "Draw(V,mesh)"
   ]
  },
  {
   "cell_type": "code",
   "execution_count": null,
   "id": "76aeb9ef",
   "metadata": {},
   "outputs": [],
   "source": [
    "fes = ng.H1(mesh, order=3, complex=True, dirichlet='outer')\n",
    "\n",
    "u, v = fes.TnT()\n",
    "\n",
    "a = ng.BilinearForm(fes)\n",
    "a += (ng.grad(u) * ng.grad(v) + V * u * v) * ng.dx\n",
    "\n",
    "b = ng.BilinearForm(fes)\n",
    "b += u * v * ng.dx\n",
    "\n",
    "with ng.TaskManager():\n",
    "    a.Assemble()\n",
    "    b.Assemble()"
   ]
  },
  {
   "cell_type": "code",
   "execution_count": null,
   "id": "f09bd430",
   "metadata": {},
   "outputs": [],
   "source": [
    "beta_l, beta_r = k0 * n_clad, k0 * n_core\n",
    "betas = np.array([beta_l, beta_r])\n",
    "right, left = (L * k0 * n0)**2 - (L * betas)**2"
   ]
  },
  {
   "cell_type": "code",
   "execution_count": null,
   "id": "0825717a",
   "metadata": {},
   "outputs": [],
   "source": [
    "left, right"
   ]
  },
  {
   "cell_type": "code",
   "execution_count": null,
   "id": "130111f1",
   "metadata": {},
   "outputs": [],
   "source": [
    "nspan=6\n",
    "\n",
    "ctr = (right+left)/2\n",
    "rad = (right-left)/2\n",
    "\n",
    "P = SpectralProjNG(fes, a.mat, b.mat, radius=rad, center=ctr, npts=6)\n",
    "\n",
    "Y = NGvecs(fes, nspan, M=b.mat)\n",
    "Y.setrandom(seed=1)\n",
    "\n",
    "Zsqrs, Y, history, _ = P.feast(Y, hermitian=True, niterations=100, nrestarts=0, stop_tol=1e-9)\n"
   ]
  },
  {
   "cell_type": "code",
   "execution_count": null,
   "id": "7ea767d6",
   "metadata": {},
   "outputs": [],
   "source": [
    "for i, y in enumerate(Y):\n",
    "    if i <5:\n",
    "        Draw(1e1*y, mesh)\n",
    "    else:\n",
    "        pass"
   ]
  },
  {
   "cell_type": "markdown",
   "id": "6f4ad1d5",
   "metadata": {},
   "source": [
    "# Can we get these solutions by stitching together product solutions on each of the two regions?\n",
    "\n",
    "We know that we can solve this universally using separation of variables, but can we do it on each region and then stitch them together to get an (equivalent) eigenvalue equation?\n"
   ]
  },
  {
   "cell_type": "markdown",
   "id": "c88509e8",
   "metadata": {},
   "source": [
    "# Are these product solutions?\n",
    "\n",
    "We've been checking on this for other things, worth seeing it here where we (nearly) know these are product solutions."
   ]
  },
  {
   "cell_type": "code",
   "execution_count": null,
   "id": "64d8a69e",
   "metadata": {},
   "outputs": [],
   "source": [
    "import matplotlib.pyplot as plt"
   ]
  },
  {
   "cell_type": "code",
   "execution_count": null,
   "id": "33fd92b9",
   "metadata": {},
   "outputs": [],
   "source": [
    "Sx = np.linspace(0, pi, 301)\n",
    "Sy = np.linspace(-pi, 0, 301)"
   ]
  },
  {
   "cell_type": "code",
   "execution_count": null,
   "id": "657998de",
   "metadata": {},
   "outputs": [],
   "source": [
    "x0, y0 = pi/2,-pi/2\n",
    "f = Y[0]\n",
    "xs, ys = [mesh(sx, y0) for sx in Sx], [mesh(x0, sy) for sy in Sy]\n",
    "fxs = np.array([f(xpt) for xpt in xs])\n",
    "fys = np.array([f(ypt) for ypt in ys])"
   ]
  },
  {
   "cell_type": "code",
   "execution_count": null,
   "id": "9a706d3d",
   "metadata": {},
   "outputs": [],
   "source": [
    "%matplotlib inline\n",
    "plt.plot(S, fxs.real)\n",
    "# plt.plot(S, fxs.imag)\n",
    "\n"
   ]
  },
  {
   "cell_type": "code",
   "execution_count": null,
   "id": "0b813bc0",
   "metadata": {},
   "outputs": [],
   "source": [
    "plt.plot(S, fys.real)\n",
    "# plt.plot(S, fys.imag)"
   ]
  },
  {
   "cell_type": "markdown",
   "id": "c3dee53a",
   "metadata": {},
   "source": [
    "# Create product function\n",
    "\n",
    "To see if the above really are product functions, we should be able to recreate them using the two cross sections we have"
   ]
  },
  {
   "cell_type": "code",
   "execution_count": null,
   "id": "5c67563b",
   "metadata": {},
   "outputs": [],
   "source": [
    "from mpl_toolkits import mplot3d"
   ]
  },
  {
   "cell_type": "code",
   "execution_count": null,
   "id": "1bd31319",
   "metadata": {},
   "outputs": [],
   "source": [
    "u_0 = f(mesh(x0,y0))"
   ]
  },
  {
   "cell_type": "code",
   "execution_count": null,
   "id": "33a4299a",
   "metadata": {},
   "outputs": [],
   "source": [
    "u_0"
   ]
  },
  {
   "cell_type": "code",
   "execution_count": null,
   "id": "60d6c498",
   "metadata": {},
   "outputs": [],
   "source": [
    "Xs, Ys = np.meshgrid(S,S)\n",
    "Z = np.outer(fxs, fys) / u_0"
   ]
  },
  {
   "cell_type": "code",
   "execution_count": null,
   "id": "b1f0a08a",
   "metadata": {},
   "outputs": [],
   "source": [
    "%matplotlib notebook\n",
    "fig = plt.figure(figsize=(12,8))\n",
    "ax = plt.axes(projection='3d')\n",
    "ax.plot_surface(Xs, Ys, Z.real, cmap='viridis');\n",
    "# ax.plot_surface(Xs, Ys, Z.imag, cmap='viridis')"
   ]
  },
  {
   "cell_type": "code",
   "execution_count": null,
   "id": "4ed7a153",
   "metadata": {},
   "outputs": [],
   "source": [
    "Z_true = np.zeros_like(Xs, dtype=complex)"
   ]
  },
  {
   "cell_type": "code",
   "execution_count": null,
   "id": "a361bd03",
   "metadata": {},
   "outputs": [],
   "source": [
    "for i,x in enumerate(Xs):\n",
    "    for j, y in enumerate(Ys):\n",
    "        Z_true[i,j] = f(mesh(x[i],y[j]))"
   ]
  },
  {
   "cell_type": "code",
   "execution_count": null,
   "id": "66b7f8bd",
   "metadata": {},
   "outputs": [],
   "source": [
    "%matplotlib notebook\n",
    "fig = plt.figure()\n",
    "ax = plt.axes(projection='3d')\n",
    "ax.plot_surface(Xs, Ys, Z_true.imag, cmap='viridis')\n",
    "ax.plot_surface(Xs, Ys, Z.imag, cmap='turbo')"
   ]
  },
  {
   "cell_type": "code",
   "execution_count": null,
   "id": "fec655f7",
   "metadata": {},
   "outputs": [],
   "source": [
    "%matplotlib notebook\n",
    "fig = plt.figure()\n",
    "ax = plt.axes(projection='3d')\n",
    "ax.plot_surface(Xs, Ys, (Z/Z_true).real, cmap='viridis')"
   ]
  },
  {
   "cell_type": "markdown",
   "id": "bd7834ac",
   "metadata": {},
   "source": [
    "## The solution on the left region is unequivocally a product function.\n",
    "\n",
    "We can probably back out the parameters for the sin functions that form the product.  But underlying question is how can we find this solution by stitching together product solutions on each region?  Let's also do this for the L shape and see if these are also product solutions"
   ]
  },
  {
   "cell_type": "code",
   "execution_count": null,
   "id": "0a678a0b",
   "metadata": {},
   "outputs": [],
   "source": [
    "\n",
    "geo = CSG2d()\n",
    "\n",
    "rectA = Rectangle(pmin=(-pi,0), pmax=(0,pi), mat=\"top\", bc=\"outer\", bottom='center')\n",
    "rectB = Rectangle(pmin=(-pi,-pi), pmax=(0,0), mat=\"left\", bc='outer', right='center', top='center')\n",
    "rectC = Rectangle(pmin=(0,-pi), pmax=(pi,0), mat=\"right\", bc='outer', left='center')\n",
    "\n",
    "geo.Add(rectA)\n",
    "geo.Add(rectB)\n",
    "geo.Add(rectC)\n",
    "\n",
    "mesh = ng.Mesh(geo.GenerateMesh(maxh=0.3))\n",
    "\n",
    "Draw(mesh)"
   ]
  },
  {
   "cell_type": "code",
   "execution_count": null,
   "id": "e585d143",
   "metadata": {},
   "outputs": [],
   "source": [
    "n_core = 1.48\n",
    "n_clad = 1.45\n",
    "wavelength = 1.8e-6\n",
    "L = .2e-5\n",
    "k0 = 2 * pi / wavelength\n",
    "\n",
    "N = ng.CoefficientFunction([n_clad, n_core, n_clad])\n",
    "\n",
    "n0 = n_clad\n",
    "V = (k0*L)**2 * (n0**2-N**2)"
   ]
  },
  {
   "cell_type": "code",
   "execution_count": null,
   "id": "d959a6ff",
   "metadata": {},
   "outputs": [],
   "source": [
    "Draw(V,mesh)"
   ]
  },
  {
   "cell_type": "code",
   "execution_count": null,
   "id": "16fbae07",
   "metadata": {},
   "outputs": [],
   "source": [
    "fes = ng.H1(mesh, order=2, complex=True, dirichlet='outer')\n",
    "\n",
    "u, v = fes.TnT()\n",
    "\n",
    "a = ng.BilinearForm(fes)\n",
    "a += (ng.grad(u) * ng.grad(v) + V * u * v) * ng.dx\n",
    "\n",
    "b = ng.BilinearForm(fes)\n",
    "b += u * v * ng.dx\n",
    "\n",
    "with ng.TaskManager():\n",
    "    a.Assemble()\n",
    "    b.Assemble()"
   ]
  },
  {
   "cell_type": "code",
   "execution_count": null,
   "id": "0e698e5f",
   "metadata": {},
   "outputs": [],
   "source": [
    "beta_l, beta_r = k0 * n_clad, k0 * n_core\n",
    "betas = np.array([beta_l, beta_r])\n",
    "right, left = (L * k0 * n0)**2 - (L * betas)**2"
   ]
  },
  {
   "cell_type": "code",
   "execution_count": null,
   "id": "396ee81e",
   "metadata": {},
   "outputs": [],
   "source": [
    "left, right"
   ]
  },
  {
   "cell_type": "code",
   "execution_count": null,
   "id": "a59c8717",
   "metadata": {},
   "outputs": [],
   "source": [
    "nspan=15\n",
    "\n",
    "ctr = (right+left)/2\n",
    "rad = (right-left)/2\n",
    "\n",
    "P = SpectralProjNG(fes, a.mat, b.mat, radius=rad, center=ctr, npts=8)\n",
    "\n",
    "Y = NGvecs(fes, nspan, M=b.mat)\n",
    "Y.setrandom(seed=1)\n",
    "\n",
    "Zsqrs, Y, history, _ = P.feast(Y, hermitian=True, niterations=100, nrestarts=0, stop_tol=1e-9)\n"
   ]
  },
  {
   "cell_type": "code",
   "execution_count": null,
   "id": "a940ce89",
   "metadata": {},
   "outputs": [],
   "source": [
    "for i, y in enumerate(Y):\n",
    "    if i <5:\n",
    "        Draw(1e1*y, mesh)\n",
    "    else:\n",
    "        pass"
   ]
  },
  {
   "cell_type": "markdown",
   "id": "4f3e37ac",
   "metadata": {},
   "source": [
    "### Form the product again"
   ]
  },
  {
   "cell_type": "code",
   "execution_count": null,
   "id": "b2274ec9",
   "metadata": {},
   "outputs": [],
   "source": [
    "Sx = np.linspace(0, pi, 301)\n",
    "Sy = np.linspace(-pi, 0, 301)"
   ]
  },
  {
   "cell_type": "code",
   "execution_count": null,
   "id": "5b61254b",
   "metadata": {},
   "outputs": [],
   "source": [
    "x0, y0 = 0,-pi/2\n",
    "f = Y[0]\n",
    "xs, ys = [mesh(sx, y0) for sx in Sx], [mesh(x0, sy) for sy in Sy]\n",
    "fxs = np.array([f(xpt) for xpt in xs])\n",
    "fys = np.array([f(ypt) for ypt in ys])"
   ]
  },
  {
   "cell_type": "code",
   "execution_count": null,
   "id": "34bf5114",
   "metadata": {},
   "outputs": [],
   "source": [
    "%matplotlib inline\n",
    "plt.plot(S, fxs.real)\n",
    "# plt.plot(S, fxs.imag)\n",
    "\n"
   ]
  },
  {
   "cell_type": "code",
   "execution_count": null,
   "id": "d670f8c4",
   "metadata": {},
   "outputs": [],
   "source": [
    "plt.plot(S, fys.real)\n",
    "# plt.plot(S, fys.imag)"
   ]
  },
  {
   "cell_type": "code",
   "execution_count": null,
   "id": "cdbb5fb7",
   "metadata": {},
   "outputs": [],
   "source": [
    "u_0 = f(mesh(x0,y0))"
   ]
  },
  {
   "cell_type": "code",
   "execution_count": null,
   "id": "446efa76",
   "metadata": {},
   "outputs": [],
   "source": [
    "Xs, Ys = np.meshgrid(Sx,Sy)\n",
    "Z = np.outer(fxs, fys) / u_0\n"
   ]
  },
  {
   "cell_type": "code",
   "execution_count": null,
   "id": "8a7441a4",
   "metadata": {},
   "outputs": [],
   "source": [
    "%matplotlib notebook\n",
    "fig = plt.figure(figsize=(12,8))\n",
    "ax = plt.axes(projection='3d')\n",
    "ax.plot_surface(Xs, Ys, Z.real, cmap='viridis');\n"
   ]
  },
  {
   "cell_type": "code",
   "execution_count": null,
   "id": "95a3dde9",
   "metadata": {},
   "outputs": [],
   "source": [
    "\n",
    "Z_true = np.zeros_like(Xs, dtype=complex)\n",
    "\n",
    "for i,x in enumerate(Xs):\n",
    "    for j, y in enumerate(Ys):\n",
    "        Z_true[i,j] = f(mesh(x[i],y[j]))\n"
   ]
  },
  {
   "cell_type": "code",
   "execution_count": null,
   "id": "cbe5bb62",
   "metadata": {},
   "outputs": [],
   "source": [
    "\n",
    "%matplotlib notebook\n",
    "fig = plt.figure()\n",
    "ax = plt.axes(projection='3d')\n",
    "ax.plot_surface(Xs, Ys, Z_true.real, cmap='viridis')\n",
    "ax.plot_surface(Xs, Ys, Z.real, cmap='turbo')"
   ]
  },
  {
   "cell_type": "code",
   "execution_count": null,
   "id": "1e8bb21b",
   "metadata": {},
   "outputs": [],
   "source": [
    "%matplotlib notebook\n",
    "fig = plt.figure()\n",
    "ax = plt.axes(projection='3d')\n",
    "ax.plot_surface(Xs, Ys, (Z-Z_true).real, cmap='turbo')"
   ]
  },
  {
   "cell_type": "markdown",
   "id": "d32fd423",
   "metadata": {},
   "source": [
    "# One more time with 4 regions"
   ]
  },
  {
   "cell_type": "code",
   "execution_count": null,
   "id": "1f0df920",
   "metadata": {},
   "outputs": [],
   "source": [
    "\n",
    "geo = CSG2d()\n",
    "\n",
    "rectA = Rectangle(pmin=(-pi,0), pmax=(0,pi), mat=\"top_left\", bc=\"outer\", bottom='center', right='center')\n",
    "rectB = Rectangle(pmin=(0,0), pmax=(pi,pi), mat=\"top_right\", bc=\"outer\", bottom='center', left='center')\n",
    "rectC = Rectangle(pmin=(-pi,-pi), pmax=(0,0), mat=\"bottom_left\", bc='outer', right='center', top='center')\n",
    "rectD = Rectangle(pmin=(0,-pi), pmax=(pi,0), mat=\"bottom_right\", bc='outer', left='center', top='center')\n",
    "\n",
    "geo.Add(rectA)\n",
    "geo.Add(rectB)\n",
    "geo.Add(rectC)\n",
    "geo.Add(rectD)\n",
    "\n",
    "mesh = ng.Mesh(geo.GenerateMesh(maxh=0.3))\n",
    "\n",
    "Draw(mesh)"
   ]
  },
  {
   "cell_type": "code",
   "execution_count": null,
   "id": "5e25ec92",
   "metadata": {},
   "outputs": [],
   "source": [
    "n_core = 1.48\n",
    "n_clad = 1.45\n",
    "wavelength = 1.8e-6\n",
    "L = .2e-5\n",
    "k0 = 2 * pi / wavelength\n",
    "\n",
    "N = ng.CoefficientFunction([n_clad, n_clad, n_core, n_clad])\n",
    "\n",
    "n0 = n_clad\n",
    "V = (k0*L)**2 * (n0**2-N**2)"
   ]
  },
  {
   "cell_type": "code",
   "execution_count": null,
   "id": "9ee5b49f",
   "metadata": {},
   "outputs": [],
   "source": [
    "Draw(V,mesh)"
   ]
  },
  {
   "cell_type": "code",
   "execution_count": null,
   "id": "ed64ace9",
   "metadata": {},
   "outputs": [],
   "source": [
    "fes = ng.H1(mesh, order=2, complex=True, dirichlet='outer')\n",
    "\n",
    "u, v = fes.TnT()\n",
    "\n",
    "a = ng.BilinearForm(fes)\n",
    "a += (ng.grad(u) * ng.grad(v) + V * u * v) * ng.dx\n",
    "\n",
    "b = ng.BilinearForm(fes)\n",
    "b += u * v * ng.dx\n",
    "\n",
    "with ng.TaskManager():\n",
    "    a.Assemble()\n",
    "    b.Assemble()"
   ]
  },
  {
   "cell_type": "code",
   "execution_count": null,
   "id": "4f64c553",
   "metadata": {},
   "outputs": [],
   "source": [
    "beta_l, beta_r = k0 * n_clad, k0 * n_core\n",
    "betas = np.array([beta_l, beta_r])\n",
    "right, left = (L * k0 * n0)**2 - (L * betas)**2"
   ]
  },
  {
   "cell_type": "code",
   "execution_count": null,
   "id": "36e8f151",
   "metadata": {},
   "outputs": [],
   "source": [
    "left, right"
   ]
  },
  {
   "cell_type": "code",
   "execution_count": null,
   "id": "976ab54e",
   "metadata": {},
   "outputs": [],
   "source": [
    "nspan=3\n",
    "\n",
    "ctr = (right+left)/2\n",
    "rad = (right-left)/2\n",
    "\n",
    "P = SpectralProjNG(fes, a.mat, b.mat, radius=rad, center=ctr, npts=8)\n",
    "\n",
    "Y = NGvecs(fes, nspan, M=b.mat)\n",
    "Y.setrandom(seed=1)\n",
    "\n",
    "Zsqrs, Y, history, _ = P.feast(Y, hermitian=True, niterations=100, nrestarts=0, stop_tol=1e-9)\n"
   ]
  },
  {
   "cell_type": "code",
   "execution_count": null,
   "id": "d4333c43",
   "metadata": {},
   "outputs": [],
   "source": [
    "for i, y in enumerate(Y):\n",
    "    if i <5:\n",
    "        Draw(1e1*y, mesh)\n",
    "    else:\n",
    "        pass"
   ]
  },
  {
   "cell_type": "markdown",
   "id": "3a083cce",
   "metadata": {},
   "source": [
    "### Form the product again"
   ]
  },
  {
   "cell_type": "code",
   "execution_count": null,
   "id": "64358a3a",
   "metadata": {},
   "outputs": [],
   "source": [
    "Sx = np.linspace(-pi, 0, 301)\n",
    "Sy = np.linspace(-pi, 0, 301)"
   ]
  },
  {
   "cell_type": "code",
   "execution_count": null,
   "id": "d4a52051",
   "metadata": {},
   "outputs": [],
   "source": [
    "x0, y0 = -pi/2,-pi/2\n",
    "f = Y[0]\n",
    "xs, ys = [mesh(sx, y0) for sx in Sx], [mesh(x0, sy) for sy in Sy]\n",
    "fxs = np.array([f(xpt) for xpt in xs])\n",
    "fys = np.array([f(ypt) for ypt in ys])"
   ]
  },
  {
   "cell_type": "code",
   "execution_count": null,
   "id": "2f5e766e",
   "metadata": {},
   "outputs": [],
   "source": [
    "%matplotlib inline\n",
    "plt.plot(Sx, fxs.real)\n",
    "# plt.plot(S, fxs.imag)\n",
    "\n"
   ]
  },
  {
   "cell_type": "code",
   "execution_count": null,
   "id": "f08cdcb3",
   "metadata": {},
   "outputs": [],
   "source": [
    "plt.plot(Sy, fys.real)\n",
    "# plt.plot(S, fys.imag)"
   ]
  },
  {
   "cell_type": "code",
   "execution_count": null,
   "id": "75357760",
   "metadata": {},
   "outputs": [],
   "source": [
    "u_0 = f(mesh(x0,y0))"
   ]
  },
  {
   "cell_type": "code",
   "execution_count": null,
   "id": "47fdc824",
   "metadata": {},
   "outputs": [],
   "source": [
    "Xs, Ys = np.meshgrid(Sx,Sy)\n",
    "Z = np.outer(fxs, fys) / u_0\n"
   ]
  },
  {
   "cell_type": "code",
   "execution_count": null,
   "id": "b66a4936",
   "metadata": {},
   "outputs": [],
   "source": [
    "%matplotlib notebook\n",
    "fig = plt.figure(figsize=(12,8))\n",
    "ax = plt.axes(projection='3d')\n",
    "ax.plot_surface(Xs, Ys, Z.real, cmap='viridis');\n"
   ]
  },
  {
   "cell_type": "code",
   "execution_count": null,
   "id": "40f95ea8",
   "metadata": {},
   "outputs": [],
   "source": [
    "\n",
    "Z_true = np.zeros_like(Xs, dtype=complex)\n",
    "\n",
    "for i,x in enumerate(Xs):\n",
    "    for j, y in enumerate(Ys):\n",
    "        Z_true[i,j] = f(mesh(x[i],y[j]))\n"
   ]
  },
  {
   "cell_type": "code",
   "execution_count": null,
   "id": "2124cd6a",
   "metadata": {},
   "outputs": [],
   "source": [
    "\n",
    "%matplotlib notebook\n",
    "fig = plt.figure()\n",
    "ax = plt.axes(projection='3d')\n",
    "ax.plot_surface(Xs, Ys, Z_true.imag, cmap='viridis')\n",
    "ax.plot_surface(Xs, Ys, Z.imag, cmap='turbo')"
   ]
  },
  {
   "cell_type": "code",
   "execution_count": null,
   "id": "760b751e",
   "metadata": {},
   "outputs": [],
   "source": [
    "%matplotlib notebook\n",
    "fig = plt.figure()\n",
    "ax = plt.axes(projection='3d')\n",
    "ax.plot_surface(Xs, Ys, -(Z-Z_true).real, cmap='turbo')"
   ]
  },
  {
   "cell_type": "markdown",
   "id": "bf437998",
   "metadata": {},
   "source": [
    "# Observations\n",
    "\n",
    "In the L shape, it doesn't look like the core area is a product. Yeah, it isn't, at least by this way of checking, which seems to be totally correct."
   ]
  }
 ],
 "metadata": {
  "kernelspec": {
   "display_name": "Python 3 (ipykernel)",
   "language": "python",
   "name": "python3"
  },
  "language_info": {
   "codemirror_mode": {
    "name": "ipython",
    "version": 3
   },
   "file_extension": ".py",
   "mimetype": "text/x-python",
   "name": "python",
   "nbconvert_exporter": "python",
   "pygments_lexer": "ipython3",
   "version": "3.8.10"
  }
 },
 "nbformat": 4,
 "nbformat_minor": 5
}
