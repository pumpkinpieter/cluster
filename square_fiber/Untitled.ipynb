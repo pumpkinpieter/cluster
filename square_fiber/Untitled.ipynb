{
 "cells": [
  {
   "cell_type": "code",
   "execution_count": null,
   "id": "bc6320c3",
   "metadata": {},
   "outputs": [],
   "source": [
    "import ngsolve as ng\n",
    "import numpy as np\n",
    "import matplotlib.pyplot as plt\n",
    "from ngsolve.webgui import Draw\n",
    "from square_fiber import SquareFiber\n"
   ]
  },
  {
   "cell_type": "code",
   "execution_count": null,
   "id": "53c9ba9a",
   "metadata": {},
   "outputs": [],
   "source": [
    "A = SquareFiber(ts=[1e-6, 1e-6, 1e-6], wl=.25e-6, scale = 1e-6,\n",
    "                maxhs=[1, 1, 1], mats=['air', 'glass', 'Outer']\n",
    "               )"
   ]
  },
  {
   "cell_type": "code",
   "execution_count": null,
   "id": "5c6a0cbd",
   "metadata": {},
   "outputs": [],
   "source": [
    "A.R\n",
    "cart = ng.pml.Cartesian((-A.R, -A.R), (A.R, A.R), 2j)"
   ]
  },
  {
   "cell_type": "code",
   "execution_count": null,
   "id": "eac1078a",
   "metadata": {},
   "outputs": [],
   "source": [
    "A.R"
   ]
  },
  {
   "cell_type": "code",
   "execution_count": null,
   "id": "d067f1fa",
   "metadata": {},
   "outputs": [],
   "source": [
    "Draw(cart.PML_CF[0], A.mesh)"
   ]
  },
  {
   "cell_type": "code",
   "execution_count": null,
   "id": "1ed5eeb6",
   "metadata": {},
   "outputs": [],
   "source": []
  }
 ],
 "metadata": {
  "kernelspec": {
   "display_name": "Python 3 (ipykernel)",
   "language": "python",
   "name": "python3"
  },
  "language_info": {
   "codemirror_mode": {
    "name": "ipython",
    "version": 3
   },
   "file_extension": ".py",
   "mimetype": "text/x-python",
   "name": "python",
   "nbconvert_exporter": "python",
   "pygments_lexer": "ipython3",
   "version": "3.8.10"
  }
 },
 "nbformat": 4,
 "nbformat_minor": 5
}
