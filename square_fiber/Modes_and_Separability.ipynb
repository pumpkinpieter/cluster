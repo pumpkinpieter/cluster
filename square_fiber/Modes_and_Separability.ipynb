{
 "cells": [
  {
   "cell_type": "markdown",
   "id": "9319699e",
   "metadata": {},
   "source": [
    "# Modes and Separability for the Square Core fiber\n",
    "\n",
    "Here we find the modes and check to see if they are product functions (ie the equal products of functions only of x and y individually)."
   ]
  },
  {
   "cell_type": "code",
   "execution_count": null,
   "id": "bc6320c3",
   "metadata": {},
   "outputs": [],
   "source": [
    "import ngsolve as ng\n",
    "import numpy as np\n",
    "import matplotlib.pyplot as plt\n",
    "from ngsolve.webgui import Draw\n",
    "from square_fiber import SquareFiber\n"
   ]
  },
  {
   "cell_type": "code",
   "execution_count": null,
   "id": "53c9ba9a",
   "metadata": {},
   "outputs": [],
   "source": [
    "A = SquareFiber(ts=[.8e-6, .2e-6, .5e-6], wl=.25e-6,\n",
    "                maxhs=[.1, .05, .1], mats=['air', 'glass', 'Outer']\n",
    "               )"
   ]
  },
  {
   "cell_type": "code",
   "execution_count": null,
   "id": "efd150d4",
   "metadata": {},
   "outputs": [],
   "source": [
    "Draw(A.index, A.mesh)"
   ]
  },
  {
   "cell_type": "code",
   "execution_count": null,
   "id": "4353ca0e",
   "metadata": {},
   "outputs": [],
   "source": [
    "beta_guess = .999 * A.k * A.ns[0]"
   ]
  },
  {
   "cell_type": "code",
   "execution_count": null,
   "id": "45c367c7",
   "metadata": {},
   "outputs": [],
   "source": [
    "z_guess = A.sqrZfrom(beta_guess)\n"
   ]
  },
  {
   "cell_type": "code",
   "execution_count": null,
   "id": "d186a201",
   "metadata": {},
   "outputs": [],
   "source": [
    "z_guess"
   ]
  },
  {
   "cell_type": "code",
   "execution_count": null,
   "id": "6cd36bb6",
   "metadata": {},
   "outputs": [],
   "source": [
    "z, yr, _, _, _, _ = A.leakymode(p=2, ctr= 2.22253527-0.00748612j, \n",
    "                                rad=.01,\n",
    "#                                 quadrule='ellipse_trapez_shift',\n",
    "#                                 rhoinv=.99,\n",
    "                                alpha=0, \n",
    "                                npts=4, \n",
    "                                nspan=2, \n",
    "                                niterations=5,\n",
    "                                nrestarts=0,\n",
    "                                stop_tol=1e-8)"
   ]
  },
  {
   "cell_type": "code",
   "execution_count": null,
   "id": "21b6190f",
   "metadata": {},
   "outputs": [],
   "source": [
    "for f in yr:\n",
    "    Draw(1e-3*f, A.mesh)\n"
   ]
  },
  {
   "cell_type": "markdown",
   "id": "f5d51d61",
   "metadata": {},
   "source": [
    "# Plot cross sections of core "
   ]
  },
  {
   "cell_type": "code",
   "execution_count": null,
   "id": "33fd92b9",
   "metadata": {},
   "outputs": [],
   "source": [
    "S = np.linspace(-A.Rout, A.Rout, 10001)"
   ]
  },
  {
   "cell_type": "code",
   "execution_count": null,
   "id": "657998de",
   "metadata": {},
   "outputs": [],
   "source": [
    "x0, y0 = 0,0\n",
    "f = yr[0]\n",
    "xs, ys = [A.mesh(s, y0) for s in S], [A.mesh(x0, s) for s in S]\n",
    "fxs = np.array([f(xpt) for xpt in xs])\n",
    "fys = np.array([f(ypt) for ypt in ys])"
   ]
  },
  {
   "cell_type": "code",
   "execution_count": null,
   "id": "9a706d3d",
   "metadata": {},
   "outputs": [],
   "source": [
    "%matplotlib inline\n",
    "plt.plot(S, fxs.real)\n",
    "# plt.plot(S, fxs.imag)\n",
    "\n"
   ]
  },
  {
   "cell_type": "code",
   "execution_count": null,
   "id": "0b813bc0",
   "metadata": {},
   "outputs": [],
   "source": [
    "plt.plot(S, fys.real)\n",
    "# plt.plot(S, fys.imag)"
   ]
  },
  {
   "cell_type": "markdown",
   "id": "eec5f092",
   "metadata": {},
   "source": [
    "That's extremely symmetric"
   ]
  },
  {
   "cell_type": "markdown",
   "id": "87e8eef1",
   "metadata": {},
   "source": [
    "# Let's look at the z component of the vector mode"
   ]
  },
  {
   "cell_type": "code",
   "execution_count": null,
   "id": "e337a61f",
   "metadata": {},
   "outputs": [],
   "source": [
    "A = SquareFiber(ts=[.8e-6, .2e-6, .5e-6], wl=.25e-6,\n",
    "                maxhs=[.1, .02, .05], mats=['air', 'glass', 'Outer']\n",
    "               )"
   ]
  },
  {
   "cell_type": "code",
   "execution_count": null,
   "id": "c88e448c",
   "metadata": {},
   "outputs": [],
   "source": [
    "Draw(A.mesh)"
   ]
  },
  {
   "cell_type": "code",
   "execution_count": null,
   "id": "24cb35b6",
   "metadata": {},
   "outputs": [],
   "source": [
    "betas, zs, E, phi, _ = A.leakyvecmodes(ctr=7.605, rad=.01, p=2, npts=2, nspan=2, alpha=0,\n",
    "                                       niterations=4, nrestarts=0, stop_tol=1e-8, sqpml=True,\n",
    "#                                       rhoinv=.95, quadrule='ellipse_trapez_shift',\n",
    "                                      )\n"
   ]
  },
  {
   "cell_type": "code",
   "execution_count": null,
   "id": "9ddda30a",
   "metadata": {},
   "outputs": [],
   "source": [
    "for p in phi:\n",
    "    Draw(1e0*p, A.mesh)"
   ]
  },
  {
   "cell_type": "code",
   "execution_count": null,
   "id": "41e38d05",
   "metadata": {},
   "outputs": [],
   "source": [
    "for e in E:\n",
    "    Draw(e.real, A.mesh, vectors={'grid_size':500})"
   ]
  },
  {
   "cell_type": "code",
   "execution_count": null,
   "id": "127dc2cd",
   "metadata": {},
   "outputs": [],
   "source": [
    "((betas*A.scale)**2).imag"
   ]
  },
  {
   "cell_type": "code",
   "execution_count": null,
   "id": "7251f829",
   "metadata": {},
   "outputs": [],
   "source": [
    "for beta, p,e in zip(betas, phi, E):\n",
    "#     beta *= A.scale\n",
    "#     frac = -1/(2 * ng.Integrate(e.Norm()**2, A.mesh))\n",
    "#     print(frac*ng.Integrate(beta*ng.grad(p)*ng.Conj(e) + beta.conj()*ng.Conj(ng.grad(p))*e, A.mesh))\n",
    "    Draw((ng.grad(p)*ng.Conj(e)).imag, A.mesh)"
   ]
  },
  {
   "cell_type": "markdown",
   "id": "b8e0e92c",
   "metadata": {},
   "source": [
    "# Even simpler geometry"
   ]
  },
  {
   "cell_type": "code",
   "execution_count": null,
   "id": "dbdadef8",
   "metadata": {},
   "outputs": [],
   "source": [
    "A = SquareFiber(ts=[.8e-6,.5e-6], wl=.25e-6,\n",
    "                maxhs=[.5,  .08], mats=['air', 'Outer']\n",
    "               )"
   ]
  },
  {
   "cell_type": "code",
   "execution_count": null,
   "id": "b89c5a21",
   "metadata": {},
   "outputs": [],
   "source": [
    "Draw(A.mesh)"
   ]
  },
  {
   "cell_type": "code",
   "execution_count": null,
   "id": "09739ede",
   "metadata": {},
   "outputs": [],
   "source": [
    "betas, zs, E, phi, _ = A.leakyvecmodes(ctr=3.85, rad=.02, p=3, npts=2, nspan=2, alpha=None,\n",
    "                                       niterations=7, nrestarts=0, stop_tol=1e-8)\n"
   ]
  },
  {
   "cell_type": "code",
   "execution_count": null,
   "id": "7b6a2611",
   "metadata": {},
   "outputs": [],
   "source": [
    "for p in phi:\n",
    "    Draw(1e0*p, A.mesh)"
   ]
  },
  {
   "cell_type": "code",
   "execution_count": null,
   "id": "76418c50",
   "metadata": {},
   "outputs": [],
   "source": [
    "for e in E:\n",
    "    Draw(1e0*e.Norm(), A.mesh)"
   ]
  },
  {
   "cell_type": "code",
   "execution_count": null,
   "id": "5d04add3",
   "metadata": {},
   "outputs": [],
   "source": [
    "((betas*A.scale)**2).imag"
   ]
  },
  {
   "cell_type": "code",
   "execution_count": null,
   "id": "75a53962",
   "metadata": {},
   "outputs": [],
   "source": [
    "for beta, p,e in zip(betas, phi, E):\n",
    "    beta *= A.scale\n",
    "#     frac = -1/(2j * ng.Integrate(e.Norm()**2, A.mesh))\n",
    "#     print(frac*ng.Integrate(beta*ng.grad(p)*ng.Conj(e) - beta.conj()*ng.Conj(ng.grad(p))*e, A.mesh))\n",
    "    Draw(1j * beta * ng.grad(p)*ng.Conj(e), A.mesh)"
   ]
  },
  {
   "cell_type": "markdown",
   "id": "b208cfeb",
   "metadata": {},
   "source": [
    "# Cross sections"
   ]
  },
  {
   "cell_type": "code",
   "execution_count": null,
   "id": "305ee9da",
   "metadata": {},
   "outputs": [],
   "source": [
    "x0, y0 = .2,0\n",
    "F = (E[0]).Norm()\n",
    "xs, ys = [A.mesh(s, y0) for s in S], [A.mesh(x0, s) for s in S]\n",
    "Fxs = np.array([F(x) for x in xs], dtype=complex)\n",
    "Fys = np.array([F(y) for y in ys], dtype=complex)"
   ]
  },
  {
   "cell_type": "code",
   "execution_count": null,
   "id": "3d8a10a9",
   "metadata": {},
   "outputs": [],
   "source": [
    "%matplotlib inline\n",
    "plt.plot(S, Fxs.real)\n",
    "# plt.plot(S, Fxs.imag)\n"
   ]
  },
  {
   "cell_type": "code",
   "execution_count": null,
   "id": "0b8aecb0",
   "metadata": {},
   "outputs": [],
   "source": [
    "plt.plot(S, Fys.real)\n",
    "plt.plot(S, Fys.imag)"
   ]
  },
  {
   "cell_type": "markdown",
   "id": "c3dee53a",
   "metadata": {},
   "source": [
    "# Create product function\n",
    "\n",
    "To see if the above really are product functions, we should be able to recreate them using the two cross sections we have"
   ]
  },
  {
   "cell_type": "code",
   "execution_count": null,
   "id": "5c67563b",
   "metadata": {},
   "outputs": [],
   "source": [
    "from mpl_toolkits import mplot3d"
   ]
  },
  {
   "cell_type": "code",
   "execution_count": null,
   "id": "1bd31319",
   "metadata": {},
   "outputs": [],
   "source": [
    "u_0 = F(A.mesh(x0,y0))"
   ]
  },
  {
   "cell_type": "code",
   "execution_count": null,
   "id": "33a4299a",
   "metadata": {},
   "outputs": [],
   "source": [
    "u_0"
   ]
  },
  {
   "cell_type": "code",
   "execution_count": null,
   "id": "60d6c498",
   "metadata": {},
   "outputs": [],
   "source": [
    "X, Y = np.meshgrid(S,S)\n",
    "Z = np.outer(Fxs, Fys)"
   ]
  },
  {
   "cell_type": "code",
   "execution_count": null,
   "id": "b1f0a08a",
   "metadata": {},
   "outputs": [],
   "source": [
    "%matplotlib notebook\n",
    "fig = plt.figure(figsize=(12,8))\n",
    "ax = plt.axes(projection='3d')\n",
    "ax.plot_surface(X, Y, Z, cmap='viridis');\n",
    "# ax.plot_surface(X, Y, Z.imag, cmap='viridis')"
   ]
  },
  {
   "cell_type": "code",
   "execution_count": null,
   "id": "4ed7a153",
   "metadata": {},
   "outputs": [],
   "source": [
    "Z_true = np.zeros_like(X, dtype=complex)"
   ]
  },
  {
   "cell_type": "code",
   "execution_count": null,
   "id": "a361bd03",
   "metadata": {},
   "outputs": [],
   "source": [
    "for i,x in enumerate(X):\n",
    "    for j, y in enumerate(Y):\n",
    "        Z_true[i,j] = F(A.mesh(x[i],y[j]))"
   ]
  },
  {
   "cell_type": "code",
   "execution_count": null,
   "id": "66b7f8bd",
   "metadata": {},
   "outputs": [],
   "source": [
    "%matplotlib notebook\n",
    "fig = plt.figure()\n",
    "ax = plt.axes(projection='3d')\n",
    "ax.plot_surface(X, Y, Z_true.real, cmap='viridis')\n",
    "ax.plot_surface(X, Y, Z.real, cmap='turbo')"
   ]
  },
  {
   "cell_type": "code",
   "execution_count": null,
   "id": "fec655f7",
   "metadata": {},
   "outputs": [],
   "source": [
    "%matplotlib notebook\n",
    "fig = plt.figure()\n",
    "ax = plt.axes(projection='3d')\n",
    "ax.plot_surface(X, Y, (Z-Z_true).real, cmap='viridis')"
   ]
  },
  {
   "cell_type": "markdown",
   "id": "7b627234",
   "metadata": {},
   "source": [
    "# Does seem likely that this is a product function\n",
    "\n",
    "We are having troubles getting it in the corners, but this isn't necessarily because it's not a product but because corners are hard to capture using finite elements.\n",
    "\n",
    "It's also good that the imaginary part of the ratio of the two is near machine zero."
   ]
  },
  {
   "cell_type": "markdown",
   "id": "d0839e10",
   "metadata": {},
   "source": [
    "# Improve the finite element approach\n",
    "\n",
    "If we made our outer boundary square, we expect that we know the radial derivative, it would be related to exponential decay and our eigenvalue (in some way).  We could try to implement that, or also we could just do Neumann conditions on a square outer boundary far from the core.  We could also use CSG 2D and up the precision at the corners using point info and decreasing the maxh there.  \n",
    "\n",
    "All worth doing, but also it seems likely that we can go ahead theoretically and try to figure out the product function theory.  We'd have to line up regions etc.  We could try to get a sense of what the constants of separation are on each region using the numerics from this notebook (especially after implementing some of the above fixes)."
   ]
  }
 ],
 "metadata": {
  "kernelspec": {
   "display_name": "Python 3 (ipykernel)",
   "language": "python",
   "name": "python3"
  },
  "language_info": {
   "codemirror_mode": {
    "name": "ipython",
    "version": 3
   },
   "file_extension": ".py",
   "mimetype": "text/x-python",
   "name": "python",
   "nbconvert_exporter": "python",
   "pygments_lexer": "ipython3",
   "version": "3.8.10"
  }
 },
 "nbformat": 4,
 "nbformat_minor": 5
}
